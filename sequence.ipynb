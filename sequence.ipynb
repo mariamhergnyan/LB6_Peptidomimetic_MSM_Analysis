{
  "nbformat": 4,
  "nbformat_minor": 0,
  "metadata": {
    "colab": {
      "provenance": [],
      "authorship_tag": "ABX9TyNianSPzkrKbhRqtPnX7Lg+",
      "include_colab_link": true
    },
    "kernelspec": {
      "name": "python3",
      "display_name": "Python 3"
    },
    "language_info": {
      "name": "python"
    }
  },
  "cells": [
    {
      "cell_type": "markdown",
      "metadata": {
        "id": "view-in-github",
        "colab_type": "text"
      },
      "source": [
        "<a href=\"https://colab.research.google.com/github/mariamhergnyan/Molecular_Simulations_exam/blob/main/sequence.ipynb\" target=\"_parent\"><img src=\"https://colab.research.google.com/assets/colab-badge.svg\" alt=\"Open In Colab\"/></a>"
      ]
    },
    {
      "cell_type": "code",
      "execution_count": 1,
      "metadata": {
        "colab": {
          "base_uri": "https://localhost:8080/"
        },
        "id": "k8uMJZ-teFc7",
        "outputId": "6cfa3fbd-1271-41a8-df70-f7aee5cc38e6"
      },
      "outputs": [
        {
          "output_type": "stream",
          "name": "stdout",
          "text": [
            "Collecting biopython\n",
            "  Downloading biopython-1.83-cp310-cp310-manylinux_2_17_x86_64.manylinux2014_x86_64.whl (3.1 MB)\n",
            "\u001b[2K     \u001b[90m━━━━━━━━━━━━━━━━━━━━━━━━━━━━━━━━━━━━━━━━\u001b[0m \u001b[32m3.1/3.1 MB\u001b[0m \u001b[31m9.0 MB/s\u001b[0m eta \u001b[36m0:00:00\u001b[0m\n",
            "\u001b[?25hRequirement already satisfied: numpy in /usr/local/lib/python3.10/dist-packages (from biopython) (1.25.2)\n",
            "Installing collected packages: biopython\n",
            "Successfully installed biopython-1.83\n"
          ]
        }
      ],
      "source": [
        "pip install biopython"
      ]
    },
    {
      "cell_type": "code",
      "source": [
        "from Bio.PDB import PDBParser\n",
        "\n",
        "def extract_sequence_from_pdb(pdb_file):\n",
        "\n",
        "    sequence = \"\"\n",
        "    parser = PDBParser()\n",
        "\n",
        "    structure = parser.get_structure('structure', pdb_file)\n",
        "\n",
        "\n",
        "    for model in structure:\n",
        "        for chain in model:\n",
        "            for residue in chain:\n",
        "                residue_name = residue.get_resname()\n",
        "                sequence += residue_name\n",
        "\n",
        "    return sequence\n",
        "\n",
        "pdb_file = '/content/lb6-filtered.pdb'\n",
        "\n",
        "\n",
        "sequence_string = extract_sequence_from_pdb(pdb_file)\n",
        "\n",
        "\n",
        "print(\"Sequence String:\", sequence_string)\n"
      ],
      "metadata": {
        "colab": {
          "base_uri": "https://localhost:8080/"
        },
        "id": "HuHRGeZFeHnX",
        "outputId": "c2e8fe27-193d-4f45-b104-8afa0f4245da"
      },
      "execution_count": 3,
      "outputs": [
        {
          "output_type": "stream",
          "name": "stdout",
          "text": [
            "Sequence String: ASNGLYASPCYSPHEILELEUMOLHISGLNTRPCYSGLYSERASNNHE\n"
          ]
        }
      ]
    },
    {
      "cell_type": "code",
      "source": [],
      "metadata": {
        "id": "-mlPJbkp79dy"
      },
      "execution_count": null,
      "outputs": []
    }
  ]
}