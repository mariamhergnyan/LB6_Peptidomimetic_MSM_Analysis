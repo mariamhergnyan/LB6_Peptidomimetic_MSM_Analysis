{
  "nbformat": 4,
  "nbformat_minor": 0,
  "metadata": {
    "colab": {
      "provenance": [],
      "gpuType": "T4",
      "authorship_tag": "ABX9TyMTtTTVzmju9FlH7nMZ6fav",
      "include_colab_link": true
    },
    "kernelspec": {
      "name": "python3",
      "display_name": "Python 3"
    },
    "language_info": {
      "name": "python"
    },
    "widgets": {
      "application/vnd.jupyter.widget-state+json": {
        "629ad7ac225e4bdcbe6247bba2934ea0": {
          "model_module": "nglview-js-widgets",
          "model_name": "NGLModel",
          "model_module_version": "3.1.0",
          "state": {
            "_camera_orientation": [],
            "_camera_str": "orthographic",
            "_dom_classes": [],
            "_gui_theme": null,
            "_ibtn_fullscreen": "IPY_MODEL_fe9c6a11f8564c33b2b49be09f6241c9",
            "_igui": null,
            "_iplayer": "IPY_MODEL_938ecf95c3c34f9ba123632884fdab07",
            "_model_module": "nglview-js-widgets",
            "_model_module_version": "3.1.0",
            "_model_name": "NGLModel",
            "_ngl_color_dict": {},
            "_ngl_coordinate_resource": {},
            "_ngl_full_stage_parameters": {},
            "_ngl_msg_archive": [
              {
                "target": "Stage",
                "type": "call_method",
                "methodName": "loadFile",
                "reconstruc_color_scheme": false,
                "args": [
                  {
                    "type": "blob",
                    "data": "REMARK   1 CREATED WITH MDTraj 1.9.9, 2024-02-05\nCRYST1   80.172   80.678   80.378  90.00  90.00  90.00 P 1           1 \nMODEL        0\nATOM      1  N   ASN A   1      -1.674  48.889  80.614  1.00  0.00           N  \nATOM      2  H   ASN A   1      -2.489  49.240  81.095  1.00  0.00           H  \nATOM      3  H2  ASN A   1      -1.731  47.883  80.685  1.00  0.00           H  \nATOM      4  H3  ASN A   1      -1.722  49.102  79.628  1.00  0.00           H  \nATOM      5  CA  ASN A   1      -0.373  49.376  81.139  1.00  0.00           C  \nATOM      6  HA  ASN A   1       0.385  49.059  80.422  1.00  0.00           H  \nATOM      7  CB  ASN A   1      -0.332  50.876  81.416  1.00  0.00           C  \nATOM      8  HB2 ASN A   1      -0.859  50.980  82.365  1.00  0.00           H  \nATOM      9  HB3 ASN A   1       0.724  51.122  81.527  1.00  0.00           H  \nATOM     10  CG  ASN A   1      -0.924  51.781  80.424  1.00  0.00           C  \nATOM     11  OD1 ASN A   1      -0.672  51.678  79.204  1.00  0.00           O  \nATOM     12  ND2 ASN A   1      -1.757  52.695  80.835  1.00  0.00           N  \nATOM     13 HD21 ASN A   1      -2.291  53.224  80.161  1.00  0.00           H  \nATOM     14 HD22 ASN A   1      -1.869  52.774  81.836  1.00  0.00           H  \nATOM     15  C   ASN A   1      -0.129  48.631  82.452  1.00  0.00           C  \nATOM     16  O   ASN A   1      -1.110  48.094  83.001  1.00  0.00           O  \nATOM     17  N   GLY A   2       1.072  48.518  83.089  1.00  0.00           N  \nATOM     18  H   GLY A   2       1.901  48.806  82.589  1.00  0.00           H  \nATOM     19  CA  GLY A   2       1.259  48.074  84.509  1.00  0.00           C  \nATOM     20  HA2 GLY A   2       2.340  48.102  84.644  1.00  0.00           H  \nATOM     21  HA3 GLY A   2       0.739  48.696  85.239  1.00  0.00           H  \nATOM     22  C   GLY A   2       0.843  46.590  84.642  1.00  0.00           C  \nATOM     23  O   GLY A   2       1.427  45.686  84.056  1.00  0.00           O  \nATOM     24  N   ASP A   3      -0.208  46.325  85.320  1.00  0.00           N  \nATOM     25  H   ASP A   3      -0.727  47.137  85.623  1.00  0.00           H  \nATOM     26  CA  ASP A   3      -0.681  45.004  85.573  1.00  0.00           C  \nATOM     27  HA  ASP A   3      -0.038  44.335  86.146  1.00  0.00           H  \nATOM     28  CB  ASP A   3      -1.871  45.167  86.473  1.00  0.00           C  \nATOM     29  HB2 ASP A   3      -2.210  44.209  86.868  1.00  0.00           H  \nATOM     30  HB3 ASP A   3      -1.632  45.749  87.363  1.00  0.00           H  \nATOM     31  CG  ASP A   3      -2.975  45.958  85.743  1.00  0.00           C  \nATOM     32  OD1 ASP A   3      -3.659  45.440  84.840  1.00  0.00           O  \nATOM     33  OD2 ASP A   3      -3.144  47.175  86.017  1.00  0.00           O  \nATOM     34  C   ASP A   3      -1.075  44.135  84.382  1.00  0.00           C  \nATOM     35  O   ASP A   3      -0.988  42.933  84.371  1.00  0.00           O  \nATOM     36  N   CYS A   4      -1.470  44.791  83.240  1.00  0.00           N  \nATOM     37  H   CYS A   4      -1.568  45.796  83.270  1.00  0.00           H  \nATOM     38  CA  CYS A   4      -1.694  44.091  81.983  1.00  0.00           C  \nATOM     39  HA  CYS A   4      -0.906  43.343  81.903  1.00  0.00           H  \nATOM     40  CB  CYS A   4      -3.094  43.490  82.097  1.00  0.00           C  \nATOM     41  HB2 CYS A   4      -3.137  42.725  82.872  1.00  0.00           H  \nATOM     42  HB3 CYS A   4      -3.815  44.304  82.170  1.00  0.00           H  \nATOM     43  SG  CYS A   4      -3.416  42.612  80.521  1.00  0.00           S  \nATOM     44  HG  CYS A   4      -4.730  42.569  80.756  1.00  0.00           H  \nATOM     45  C   CYS A   4      -1.522  45.016  80.733  1.00  0.00           C  \nATOM     46  O   CYS A   4      -1.989  46.141  80.744  1.00  0.00           O  \nATOM     47  N   PHE A   5      -0.741  44.588  79.717  1.00  0.00           N  \nATOM     48  H   PHE A   5      -0.312  43.687  79.871  1.00  0.00           H  \nATOM     49  CA  PHE A   5      -0.043  45.386  78.654  1.00  0.00           C  \nATOM     50  HA  PHE A   5       0.507  44.699  78.010  1.00  0.00           H  \nATOM     51  CB  PHE A   5      -1.180  45.957  77.738  1.00  0.00           C  \nATOM     52  HB2 PHE A   5      -1.779  46.702  78.263  1.00  0.00           H  \nATOM     53  HB3 PHE A   5      -0.613  46.419  76.930  1.00  0.00           H  \nATOM     54  CG  PHE A   5      -2.126  44.942  77.093  1.00  0.00           C  \nATOM     55  CD1 PHE A   5      -3.488  44.744  77.538  1.00  0.00           C  \nATOM     56  HD1 PHE A   5      -3.833  45.327  78.379  1.00  0.00           H  \nATOM     57  CE1 PHE A   5      -4.234  43.809  76.950  1.00  0.00           C  \nATOM     58  HE1 PHE A   5      -5.231  43.605  77.313  1.00  0.00           H  \nATOM     59  CZ  PHE A   5      -3.799  43.014  75.901  1.00  0.00           C  \nATOM     60  HZ  PHE A   5      -4.350  42.220  75.420  1.00  0.00           H  \nATOM     61  CE2 PHE A   5      -2.480  43.253  75.430  1.00  0.00           C  \nATOM     62  HE2 PHE A   5      -2.056  42.639  74.649  1.00  0.00           H  \nATOM     63  CD2 PHE A   5      -1.593  44.168  75.989  1.00  0.00           C  \nATOM     64  HD2 PHE A   5      -0.558  44.239  75.687  1.00  0.00           H  \nATOM     65  C   PHE A   5       1.006  46.445  79.123  1.00  0.00           C  \nATOM     66  O   PHE A   5       1.078  46.844  80.275  1.00  0.00           O  \nATOM     67  N   ILE A   6       1.834  46.813  78.104  1.00  0.00           N  \nATOM     68  H   ILE A   6       1.584  46.502  77.177  1.00  0.00           H  \nATOM     69  CA  ILE A   6       2.924  47.702  78.148  1.00  0.00           C  \nATOM     70  HA  ILE A   6       3.129  47.943  79.191  1.00  0.00           H  \nATOM     71  CB  ILE A   6       4.164  47.044  77.531  1.00  0.00           C  \nATOM     72  HB  ILE A   6       3.991  46.675  76.520  1.00  0.00           H  \nATOM     73  CG2 ILE A   6       5.333  48.065  77.360  1.00  0.00           C  \nATOM     74 HG21 ILE A   6       5.525  48.687  78.234  1.00  0.00           H  \nATOM     75 HG22 ILE A   6       6.293  47.596  77.144  1.00  0.00           H  \nATOM     76 HG23 ILE A   6       5.067  48.709  76.522  1.00  0.00           H  \nATOM     77  CG1 ILE A   6       4.680  45.936  78.427  1.00  0.00           C  \nATOM     78 HG12 ILE A   6       5.698  45.658  78.151  1.00  0.00           H  \nATOM     79 HG13 ILE A   6       4.747  46.264  79.464  1.00  0.00           H  \nATOM     80  CD1 ILE A   6       3.893  44.600  78.403  1.00  0.00           C  \nATOM     81 HD11 ILE A   6       3.107  44.727  79.148  1.00  0.00           H  \nATOM     82 HD12 ILE A   6       3.427  44.498  77.423  1.00  0.00           H  \nATOM     83 HD13 ILE A   6       4.550  43.802  78.749  1.00  0.00           H  \nATOM     84  C   ILE A   6       2.532  49.010  77.434  1.00  0.00           C  \nATOM     85  O   ILE A   6       1.995  48.938  76.370  1.00  0.00           O  \nATOM     86  N   LEU A   7       2.715  50.192  78.021  1.00  0.00           N  \nATOM     87  H   LEU A   7       3.071  50.181  78.966  1.00  0.00           H  \nATOM     88  CA  LEU A   7       2.353  51.520  77.414  1.00  0.00           C  \nATOM     89  HA  LEU A   7       1.324  51.413  77.069  1.00  0.00           H  \nATOM     90  CB  LEU A   7       2.473  52.624  78.522  1.00  0.00           C  \nATOM     91  HB2 LEU A   7       1.818  52.337  79.344  1.00  0.00           H  \nATOM     92  HB3 LEU A   7       3.460  52.638  78.984  1.00  0.00           H  \nATOM     93  CG  LEU A   7       2.154  54.151  78.186  1.00  0.00           C  \nATOM     94  HG  LEU A   7       2.741  54.370  77.294  1.00  0.00           H  \nATOM     95  CD1 LEU A   7       2.533  55.295  79.128  1.00  0.00           C  \nATOM     96 HD11 LEU A   7       2.290  56.234  78.629  1.00  0.00           H  \nATOM     97 HD12 LEU A   7       2.109  55.263  80.132  1.00  0.00           H  \nATOM     98 HD13 LEU A   7       3.613  55.217  79.254  1.00  0.00           H  \nATOM     99  CD2 LEU A   7       0.725  54.387  77.786  1.00  0.00           C  \nATOM    100 HD21 LEU A   7       0.086  54.379  78.670  1.00  0.00           H  \nATOM    101 HD22 LEU A   7       0.752  55.347  77.270  1.00  0.00           H  \nATOM    102 HD23 LEU A   7       0.372  53.634  77.081  1.00  0.00           H  \nATOM    103  C   LEU A   7       3.383  51.866  76.309  1.00  0.00           C  \nATOM    104  O   LEU A   7       4.579  51.727  76.481  1.00  0.00           O  \nATOM    105  N1  MOL A   8       2.979  52.264  75.112  1.00  0.00           N  \nATOM    106  C2  MOL A   8       1.624  52.671  74.660  1.00  0.00           C  \nATOM    107  C3  MOL A   8       1.616  54.113  74.247  1.00  0.00           C  \nATOM    108  C4  MOL A   8       2.697  54.467  73.182  1.00  0.00           C  \nATOM    109  N3  MOL A   8       2.632  55.902  72.944  1.00  0.00           N  \nATOM    110  S1  MOL A   8       3.383  56.545  71.666  1.00  0.00           S  \nATOM    111  O2  MOL A   8       3.058  55.693  70.596  1.00  0.00           O  \nATOM    112  O4  MOL A   8       4.670  56.931  72.095  1.00  0.00           O  \nATOM    113  C11 MOL A   8       2.439  57.998  71.338  1.00  0.00           C  \nATOM    114  C15 MOL A   8       1.279  58.072  70.545  1.00  0.00           C  \nATOM    115  C14 MOL A   8       0.498  59.265  70.409  1.00  0.00           C  \nATOM    116  C13 MOL A   8       0.920  60.394  71.097  1.00  0.00           C  \nATOM    117  C12 MOL A   8       2.139  60.392  71.817  1.00  0.00           C  \nATOM    118  C16 MOL A   8       2.833  59.166  72.038  1.00  0.00           C  \nATOM    119  H22 MOL A   8       3.776  59.107  72.561  1.00  0.00           H  \nATOM    120  H19 MOL A   8       2.544  61.294  72.252  1.00  0.00           H  \nATOM    121  C17 MOL A   8       0.234  61.687  70.902  1.00  0.00           C  \nATOM    122  H23 MOL A   8       0.653  62.295  70.100  1.00  0.00           H  \nATOM    123  H24 MOL A   8       0.321  62.262  71.823  1.00  0.00           H  \nATOM    124  H25 MOL A   8      -0.800  61.488  70.619  1.00  0.00           H  \nATOM    125  H20 MOL A   8      -0.396  59.270  69.804  1.00  0.00           H  \nATOM    126  H21 MOL A   8       0.887  57.228  69.995  1.00  0.00           H  \nATOM    127  H9  MOL A   8       3.309  56.306  73.575  1.00  0.00           H  \nATOM    128  H10 MOL A   8       2.283  54.008  72.284  1.00  0.00           H  \nATOM    129  H7  MOL A   8       1.699  54.912  74.984  1.00  0.00           H  \nATOM    130  H8  MOL A   8       0.687  54.264  73.698  1.00  0.00           H  \nATOM    131  H5  MOL A   8       1.443  52.069  73.770  1.00  0.00           H  \nATOM    132  H6  MOL A   8       0.833  52.365  75.346  1.00  0.00           H  \nATOM    133  C1  MOL A   8       3.896  52.441  73.990  1.00  0.00           C  \nATOM    134  H1  MOL A   8       4.856  51.979  74.222  1.00  0.00           H  \nATOM    135  H2  MOL A   8       3.476  52.002  73.085  1.00  0.00           H  \nATOM    136  C5  MOL A   8       4.145  53.880  73.593  1.00  0.00           C  \nATOM    137  H11 MOL A   8       4.376  54.407  74.518  1.00  0.00           H  \nATOM    138  N2  MOL A   8       5.231  54.028  72.541  1.00  0.00           N  \nATOM    139  C6  MOL A   8       5.178  53.227  71.282  1.00  0.00           C  \nATOM    140  C7  MOL A   8       6.456  53.509  70.616  1.00  0.00           C  \nATOM    141  C8  MOL A   8       7.423  54.089  71.645  1.00  0.00           C  \nATOM    142  H16 MOL A   8       8.298  53.456  71.790  1.00  0.00           H  \nATOM    143  H17 MOL A   8       7.613  55.155  71.514  1.00  0.00           H  \nATOM    144  H14 MOL A   8       6.322  54.124  69.726  1.00  0.00           H  \nATOM    145  H15 MOL A   8       6.775  52.516  70.301  1.00  0.00           H  \nATOM    146  H12 MOL A   8       4.274  53.441  70.712  1.00  0.00           H  \nATOM    147  H13 MOL A   8       5.159  52.156  71.484  1.00  0.00           H  \nATOM    148  C9  MOL A   8       6.648  53.820  72.988  1.00  0.00           C  \nATOM    149  H18 MOL A   8       6.769  52.810  73.379  1.00  0.00           H  \nATOM    150  C10 MOL A   8       7.089  54.820  74.107  1.00  0.00           C  \nATOM    151  O1  MOL A   8       7.885  54.515  75.028  1.00  0.00           O  \nATOM    152  N   HIS A   9       6.577  56.088  74.006  1.00  0.00           N  \nATOM    153  H   HIS A   9       6.140  56.184  73.100  1.00  0.00           H  \nATOM    154  CA  HIS A   9       6.592  57.159  75.009  1.00  0.00           C  \nATOM    155  HA  HIS A   9       7.116  56.745  75.870  1.00  0.00           H  \nATOM    156  CB  HIS A   9       7.421  58.338  74.525  1.00  0.00           C  \nATOM    157  HB2 HIS A   9       8.464  58.046  74.399  1.00  0.00           H  \nATOM    158  HB3 HIS A   9       7.053  58.797  73.608  1.00  0.00           H  \nATOM    159  CG  HIS A   9       7.534  59.526  75.422  1.00  0.00           C  \nATOM    160  ND1 HIS A   9       6.753  60.684  75.266  1.00  0.00           N  \nATOM    161  CE1 HIS A   9       6.924  61.457  76.396  1.00  0.00           C  \nATOM    162  HE1 HIS A   9       6.528  62.439  76.612  1.00  0.00           H  \nATOM    163  NE2 HIS A   9       7.857  60.811  77.139  1.00  0.00           N  \nATOM    164  HE2 HIS A   9       7.867  61.073  78.114  1.00  0.00           H  \nATOM    165  CD2 HIS A   9       8.196  59.660  76.600  1.00  0.00           C  \nATOM    166  HD2 HIS A   9       8.789  58.905  77.096  1.00  0.00           H  \nATOM    167  C   HIS A   9       5.209  57.468  75.652  1.00  0.00           C  \nATOM    168  O   HIS A   9       4.186  57.044  75.129  1.00  0.00           O  \nATOM    169  N   GLN A  10       5.215  58.292  76.743  1.00  0.00           N  \nATOM    170  H   GLN A  10       6.112  58.704  76.957  1.00  0.00           H  \nATOM    171  CA  GLN A  10       4.043  58.474  77.555  1.00  0.00           C  \nATOM    172  HA  GLN A  10       3.715  57.452  77.742  1.00  0.00           H  \nATOM    173  CB  GLN A  10       4.361  59.163  78.904  1.00  0.00           C  \nATOM    174  HB2 GLN A  10       5.239  58.662  79.312  1.00  0.00           H  \nATOM    175  HB3 GLN A  10       4.640  60.187  78.653  1.00  0.00           H  \nATOM    176  CG  GLN A  10       3.285  59.168  80.045  1.00  0.00           C  \nATOM    177  HG2 GLN A  10       2.783  58.201  80.088  1.00  0.00           H  \nATOM    178  HG3 GLN A  10       3.820  59.398  80.966  1.00  0.00           H  \nATOM    179  CD  GLN A  10       2.166  60.124  79.981  1.00  0.00           C  \nATOM    180  OE1 GLN A  10       2.130  61.042  79.182  1.00  0.00           O  \nATOM    181  NE2 GLN A  10       1.214  59.923  80.803  1.00  0.00           N  \nATOM    182 HE21 GLN A  10       0.577  60.704  80.878  1.00  0.00           H  \nATOM    183 HE22 GLN A  10       1.290  59.166  81.466  1.00  0.00           H  \nATOM    184  C   GLN A  10       2.934  59.215  76.773  1.00  0.00           C  \nATOM    185  O   GLN A  10       3.111  60.301  76.176  1.00  0.00           O  \nATOM    186  N   TRP A  11       1.725  58.675  76.768  1.00  0.00           N  \nATOM    187  H   TRP A  11       1.730  57.719  77.093  1.00  0.00           H  \nATOM    188  CA  TRP A  11       0.483  59.204  76.128  1.00  0.00           C  \nATOM    189  HA  TRP A  11       0.402  60.291  76.118  1.00  0.00           H  \nATOM    190  CB  TRP A  11       0.411  58.626  74.699  1.00  0.00           C  \nATOM    191  HB2 TRP A  11       1.287  58.992  74.164  1.00  0.00           H  \nATOM    192  HB3 TRP A  11       0.457  57.537  74.726  1.00  0.00           H  \nATOM    193  CG  TRP A  11      -0.740  58.932  73.883  1.00  0.00           C  \nATOM    194  CD1 TRP A  11      -1.282  60.096  73.689  1.00  0.00           C  \nATOM    195  HD1 TRP A  11      -0.832  61.008  74.053  1.00  0.00           H  \nATOM    196  NE1 TRP A  11      -2.354  60.070  72.834  1.00  0.00           N  \nATOM    197  HE1 TRP A  11      -2.958  60.854  72.633  1.00  0.00           H  \nATOM    198  CE2 TRP A  11      -2.455  58.786  72.329  1.00  0.00           C  \nATOM    199  CZ2 TRP A  11      -3.310  58.160  71.391  1.00  0.00           C  \nATOM    200  HZ2 TRP A  11      -4.095  58.763  70.960  1.00  0.00           H  \nATOM    201  CH2 TRP A  11      -3.320  56.785  71.170  1.00  0.00           C  \nATOM    202  HH2 TRP A  11      -4.134  56.361  70.602  1.00  0.00           H  \nATOM    203  CZ3 TRP A  11      -2.413  55.994  71.950  1.00  0.00           C  \nATOM    204  HZ3 TRP A  11      -2.431  54.915  71.900  1.00  0.00           H  \nATOM    205  CE3 TRP A  11      -1.401  56.630  72.719  1.00  0.00           C  \nATOM    206  HE3 TRP A  11      -0.601  56.058  73.164  1.00  0.00           H  \nATOM    207  CD2 TRP A  11      -1.488  58.010  73.006  1.00  0.00           C  \nATOM    208  C   TRP A  11      -0.822  58.818  76.910  1.00  0.00           C  \nATOM    209  O   TRP A  11      -0.938  57.684  77.403  1.00  0.00           O  \nATOM    210  N   CYS A  12      -1.777  59.674  77.089  1.00  0.00           N  \nATOM    211  H   CYS A  12      -1.562  60.586  76.711  1.00  0.00           H  \nATOM    212  CA  CYS A  12      -3.074  59.462  77.643  1.00  0.00           C  \nATOM    213  HA  CYS A  12      -3.028  58.487  78.128  1.00  0.00           H  \nATOM    214  CB  CYS A  12      -3.374  60.507  78.733  1.00  0.00           C  \nATOM    215  HB2 CYS A  12      -3.459  61.473  78.235  1.00  0.00           H  \nATOM    216  HB3 CYS A  12      -4.343  60.210  79.134  1.00  0.00           H  \nATOM    217  SG  CYS A  12      -2.129  60.769  79.977  1.00  0.00           S  \nATOM    218  HG  CYS A  12      -1.223  61.331  79.173  1.00  0.00           H  \nATOM    219  C   CYS A  12      -4.174  59.400  76.577  1.00  0.00           C  \nATOM    220  O   CYS A  12      -4.143  60.081  75.571  1.00  0.00           O  \nATOM    221  N   GLY A  13      -5.240  58.688  76.903  1.00  0.00           N  \nATOM    222  H   GLY A  13      -5.112  58.044  77.670  1.00  0.00           H  \nATOM    223  CA  GLY A  13      -6.548  58.683  76.219  1.00  0.00           C  \nATOM    224  HA2 GLY A  13      -6.846  59.716  76.045  1.00  0.00           H  \nATOM    225  HA3 GLY A  13      -6.306  58.181  75.282  1.00  0.00           H  \nATOM    226  C   GLY A  13      -7.704  58.046  76.961  1.00  0.00           C  \nATOM    227  O   GLY A  13      -7.669  57.745  78.144  1.00  0.00           O  \nATOM    228  N   SER A  14      -8.814  57.860  76.252  1.00  0.00           N  \nATOM    229  H   SER A  14      -8.769  58.052  75.261  1.00  0.00           H  \nATOM    230  CA  SER A  14     -10.037  57.178  76.770  1.00  0.00           C  \nATOM    231  HA  SER A  14     -10.472  57.797  77.555  1.00  0.00           H  \nATOM    232  CB  SER A  14     -11.157  57.156  75.747  1.00  0.00           C  \nATOM    233  HB2 SER A  14     -10.877  56.590  74.858  1.00  0.00           H  \nATOM    234  HB3 SER A  14     -11.997  56.685  76.258  1.00  0.00           H  \nATOM    235  OG  SER A  14     -11.548  58.440  75.278  1.00  0.00           O  \nATOM    236  HG  SER A  14     -12.429  58.624  75.612  1.00  0.00           H  \nATOM    237  C   SER A  14      -9.826  55.701  77.172  1.00  0.00           C  \nATOM    238  O   SER A  14     -10.696  55.157  77.888  1.00  0.00           O  \nATOM    239  N   ASN A  15      -8.699  55.089  76.693  1.00  0.00           N  \nATOM    240  H   ASN A  15      -8.017  55.671  76.229  1.00  0.00           H  \nATOM    241  CA  ASN A  15      -8.339  53.751  77.202  1.00  0.00           C  \nATOM    242  HA  ASN A  15      -8.756  53.625  78.201  1.00  0.00           H  \nATOM    243  CB  ASN A  15      -8.871  52.633  76.312  1.00  0.00           C  \nATOM    244  HB2 ASN A  15      -8.791  52.841  75.245  1.00  0.00           H  \nATOM    245  HB3 ASN A  15      -8.266  51.741  76.475  1.00  0.00           H  \nATOM    246  CG  ASN A  15     -10.299  52.308  76.564  1.00  0.00           C  \nATOM    247  OD1 ASN A  15     -11.167  52.715  75.792  1.00  0.00           O  \nATOM    248  ND2 ASN A  15     -10.573  51.478  77.533  1.00  0.00           N  \nATOM    249 HD21 ASN A  15     -11.542  51.292  77.750  1.00  0.00           H  \nATOM    250 HD22 ASN A  15      -9.866  51.006  78.079  1.00  0.00           H  \nATOM    251  C   ASN A  15      -6.792  53.700  77.416  1.00  0.00           C  \nATOM    252  O   ASN A  15      -6.115  52.729  77.149  1.00  0.00           O  \nATOM    253  N   NHE A  16      -6.187  54.802  77.851  1.00  0.00           N  \nATOM    254  HN1 NHE A  16      -6.677  55.652  78.088  1.00  0.00           H  \nATOM    255  HN2 NHE A  16      -5.179  54.865  77.828  1.00  0.00           H  \nTER     256      NHE A  16\nENDMDL\nCONECT  103  105\nCONECT  105  103  106  133\nCONECT  106  105  131  132  107\nCONECT  107  106  129  130  108\nCONECT  108  107  128  109  136\nCONECT  109  108  127  110\nCONECT  110  109  111  112  113\nCONECT  111  110\nCONECT  112  110\nCONECT  113  110  114  118\nCONECT  114  113  126  115\nCONECT  115  114  125  116\nCONECT  116  115  117  121\nCONECT  117  116  120  118\nCONECT  118  113  117  119\nCONECT  119  118\nCONECT  120  117\nCONECT  121  116  122  123  124\nCONECT  122  121\nCONECT  123  121\nCONECT  124  121\nCONECT  125  115\nCONECT  126  114\nCONECT  127  109\nCONECT  128  108\nCONECT  129  107\nCONECT  130  107\nCONECT  131  106\nCONECT  132  106\nCONECT  133  105  134  135  136\nCONECT  134  133\nCONECT  135  133\nCONECT  136  108  133  137  138\nCONECT  137  136\nCONECT  138  136  139  148\nCONECT  139  138  146  147  140\nCONECT  140  139  144  145  141\nCONECT  141  140  142  143  148\nCONECT  142  141\nCONECT  143  141\nCONECT  144  140\nCONECT  145  140\nCONECT  146  139\nCONECT  147  139\nCONECT  148  138  141  149  150\nCONECT  149  148\nCONECT  150  148  152  151\nCONECT  151  150\nCONECT  152  150\nCONECT  251  253\nCONECT  253  251  254  255\nCONECT  254  253\nCONECT  255  253\nEND\n",
                    "binary": false
                  }
                ],
                "kwargs": {
                  "name": "nglview.adaptor.MDTrajTrajectory",
                  "defaultRepresentation": true,
                  "ext": "pdb"
                }
              },
              {
                "component_index": 0,
                "target": "compList",
                "type": "call_method",
                "methodName": "addRepresentation",
                "reconstruc_color_scheme": false,
                "args": [
                  "ball+stick"
                ],
                "kwargs": {
                  "sele": "all"
                }
              }
            ],
            "_ngl_original_stage_parameters": {},
            "_ngl_repr_dict": {},
            "_ngl_serialize": false,
            "_ngl_version": "",
            "_ngl_view_id": [],
            "_player_dict": {},
            "_scene_position": {},
            "_scene_rotation": {},
            "_synced_model_ids": [],
            "_synced_repr_model_ids": [],
            "_view_count": null,
            "_view_height": "",
            "_view_module": "nglview-js-widgets",
            "_view_module_version": "3.1.0",
            "_view_name": "NGLView",
            "_view_width": "",
            "background": "white",
            "frame": 0,
            "gui_style": null,
            "layout": "IPY_MODEL_34f1443476c54c6b89c7116df2b5f2ff",
            "max_frame": 0,
            "n_components": 0,
            "picked": {},
            "tabbable": null,
            "tooltip": null
          }
        },
        "e78a4e18570b4a22a46221f39f8a1c2e": {
          "model_module": "@jupyter-widgets/base",
          "model_name": "LayoutModel",
          "model_module_version": "2.0.0",
          "state": {
            "_model_module": "@jupyter-widgets/base",
            "_model_module_version": "2.0.0",
            "_model_name": "LayoutModel",
            "_view_count": null,
            "_view_module": "@jupyter-widgets/base",
            "_view_module_version": "2.0.0",
            "_view_name": "LayoutView",
            "align_content": null,
            "align_items": null,
            "align_self": null,
            "border_bottom": null,
            "border_left": null,
            "border_right": null,
            "border_top": null,
            "bottom": null,
            "display": null,
            "flex": null,
            "flex_flow": null,
            "grid_area": null,
            "grid_auto_columns": null,
            "grid_auto_flow": null,
            "grid_auto_rows": null,
            "grid_column": null,
            "grid_gap": null,
            "grid_row": null,
            "grid_template_areas": null,
            "grid_template_columns": null,
            "grid_template_rows": null,
            "height": null,
            "justify_content": null,
            "justify_items": null,
            "left": null,
            "margin": null,
            "max_height": null,
            "max_width": null,
            "min_height": null,
            "min_width": null,
            "object_fit": null,
            "object_position": null,
            "order": null,
            "overflow": null,
            "padding": null,
            "right": null,
            "top": null,
            "visibility": null,
            "width": null
          }
        },
        "22c76843fbd2448a84438b78e98da57a": {
          "model_module": "@jupyter-widgets/controls",
          "model_name": "DescriptionStyleModel",
          "model_module_version": "2.0.0",
          "state": {
            "_model_module": "@jupyter-widgets/controls",
            "_model_module_version": "2.0.0",
            "_model_name": "DescriptionStyleModel",
            "_view_count": null,
            "_view_module": "@jupyter-widgets/base",
            "_view_module_version": "2.0.0",
            "_view_name": "StyleView",
            "description_width": ""
          }
        },
        "9df9c111a8a84994828c59558f859267": {
          "model_module": "@jupyter-widgets/base",
          "model_name": "LayoutModel",
          "model_module_version": "2.0.0",
          "state": {
            "_model_module": "@jupyter-widgets/base",
            "_model_module_version": "2.0.0",
            "_model_name": "LayoutModel",
            "_view_count": null,
            "_view_module": "@jupyter-widgets/base",
            "_view_module_version": "2.0.0",
            "_view_name": "LayoutView",
            "align_content": null,
            "align_items": null,
            "align_self": null,
            "border_bottom": null,
            "border_left": null,
            "border_right": null,
            "border_top": null,
            "bottom": null,
            "display": null,
            "flex": null,
            "flex_flow": null,
            "grid_area": null,
            "grid_auto_columns": null,
            "grid_auto_flow": null,
            "grid_auto_rows": null,
            "grid_column": null,
            "grid_gap": null,
            "grid_row": null,
            "grid_template_areas": null,
            "grid_template_columns": null,
            "grid_template_rows": null,
            "height": null,
            "justify_content": null,
            "justify_items": null,
            "left": null,
            "margin": null,
            "max_height": null,
            "max_width": null,
            "min_height": null,
            "min_width": null,
            "object_fit": null,
            "object_position": null,
            "order": null,
            "overflow": null,
            "padding": null,
            "right": null,
            "top": null,
            "visibility": null,
            "width": null
          }
        },
        "5b5a9cfb34534f14b3efed009b60f848": {
          "model_module": "@jupyter-widgets/controls",
          "model_name": "SliderStyleModel",
          "model_module_version": "2.0.0",
          "state": {
            "_model_module": "@jupyter-widgets/controls",
            "_model_module_version": "2.0.0",
            "_model_name": "SliderStyleModel",
            "_view_count": null,
            "_view_module": "@jupyter-widgets/base",
            "_view_module_version": "2.0.0",
            "_view_name": "StyleView",
            "description_width": "",
            "handle_color": null
          }
        },
        "b15d929c036c401194d8c439a27f32ca": {
          "model_module": "@jupyter-widgets/controls",
          "model_name": "PlayModel",
          "model_module_version": "2.0.0",
          "state": {
            "_dom_classes": [],
            "_model_module": "@jupyter-widgets/controls",
            "_model_module_version": "2.0.0",
            "_model_name": "PlayModel",
            "_view_count": null,
            "_view_module": "@jupyter-widgets/controls",
            "_view_module_version": "2.0.0",
            "_view_name": "PlayView",
            "description": "",
            "description_allow_html": false,
            "disabled": false,
            "interval": 100,
            "layout": "IPY_MODEL_e78a4e18570b4a22a46221f39f8a1c2e",
            "max": 0,
            "min": 0,
            "playing": false,
            "repeat": false,
            "show_repeat": true,
            "step": 1,
            "style": "IPY_MODEL_22c76843fbd2448a84438b78e98da57a",
            "tabbable": null,
            "tooltip": null,
            "value": 0
          }
        },
        "f60116325f9243319c5fd03065170561": {
          "model_module": "@jupyter-widgets/controls",
          "model_name": "IntSliderModel",
          "model_module_version": "2.0.0",
          "state": {
            "_dom_classes": [],
            "_model_module": "@jupyter-widgets/controls",
            "_model_module_version": "2.0.0",
            "_model_name": "IntSliderModel",
            "_view_count": null,
            "_view_module": "@jupyter-widgets/controls",
            "_view_module_version": "2.0.0",
            "_view_name": "IntSliderView",
            "behavior": "drag-tap",
            "continuous_update": true,
            "description": "",
            "description_allow_html": false,
            "disabled": false,
            "layout": "IPY_MODEL_9df9c111a8a84994828c59558f859267",
            "max": 0,
            "min": 0,
            "orientation": "horizontal",
            "readout": true,
            "readout_format": "d",
            "step": 1,
            "style": "IPY_MODEL_5b5a9cfb34534f14b3efed009b60f848",
            "tabbable": null,
            "tooltip": null,
            "value": 0
          }
        },
        "67e500c521c2430aa504548b207dff74": {
          "model_module": "@jupyter-widgets/base",
          "model_name": "LayoutModel",
          "model_module_version": "2.0.0",
          "state": {
            "_model_module": "@jupyter-widgets/base",
            "_model_module_version": "2.0.0",
            "_model_name": "LayoutModel",
            "_view_count": null,
            "_view_module": "@jupyter-widgets/base",
            "_view_module_version": "2.0.0",
            "_view_name": "LayoutView",
            "align_content": null,
            "align_items": null,
            "align_self": null,
            "border_bottom": null,
            "border_left": null,
            "border_right": null,
            "border_top": null,
            "bottom": null,
            "display": null,
            "flex": null,
            "flex_flow": null,
            "grid_area": null,
            "grid_auto_columns": null,
            "grid_auto_flow": null,
            "grid_auto_rows": null,
            "grid_column": null,
            "grid_gap": null,
            "grid_row": null,
            "grid_template_areas": null,
            "grid_template_columns": null,
            "grid_template_rows": null,
            "height": null,
            "justify_content": null,
            "justify_items": null,
            "left": null,
            "margin": null,
            "max_height": null,
            "max_width": null,
            "min_height": null,
            "min_width": null,
            "object_fit": null,
            "object_position": null,
            "order": null,
            "overflow": null,
            "padding": null,
            "right": null,
            "top": null,
            "visibility": null,
            "width": null
          }
        },
        "cd73c2598ec046bf860b846c095f5a06": {
          "model_module": "@jupyter-widgets/base",
          "model_name": "LayoutModel",
          "model_module_version": "2.0.0",
          "state": {
            "_model_module": "@jupyter-widgets/base",
            "_model_module_version": "2.0.0",
            "_model_name": "LayoutModel",
            "_view_count": null,
            "_view_module": "@jupyter-widgets/base",
            "_view_module_version": "2.0.0",
            "_view_name": "LayoutView",
            "align_content": null,
            "align_items": null,
            "align_self": null,
            "border_bottom": null,
            "border_left": null,
            "border_right": null,
            "border_top": null,
            "bottom": null,
            "display": null,
            "flex": null,
            "flex_flow": null,
            "grid_area": null,
            "grid_auto_columns": null,
            "grid_auto_flow": null,
            "grid_auto_rows": null,
            "grid_column": null,
            "grid_gap": null,
            "grid_row": null,
            "grid_template_areas": null,
            "grid_template_columns": null,
            "grid_template_rows": null,
            "height": null,
            "justify_content": null,
            "justify_items": null,
            "left": null,
            "margin": null,
            "max_height": null,
            "max_width": null,
            "min_height": null,
            "min_width": null,
            "object_fit": null,
            "object_position": null,
            "order": null,
            "overflow": null,
            "padding": null,
            "right": null,
            "top": null,
            "visibility": null,
            "width": "34px"
          }
        },
        "0495b13f290f49cc9ed00ca2e93e87ae": {
          "model_module": "@jupyter-widgets/controls",
          "model_name": "ButtonStyleModel",
          "model_module_version": "2.0.0",
          "state": {
            "_model_module": "@jupyter-widgets/controls",
            "_model_module_version": "2.0.0",
            "_model_name": "ButtonStyleModel",
            "_view_count": null,
            "_view_module": "@jupyter-widgets/base",
            "_view_module_version": "2.0.0",
            "_view_name": "StyleView",
            "button_color": null,
            "font_family": null,
            "font_size": null,
            "font_style": null,
            "font_variant": null,
            "font_weight": null,
            "text_color": null,
            "text_decoration": null
          }
        }
      }
    },
    "accelerator": "GPU"
  },
  "cells": [
    {
      "cell_type": "markdown",
      "metadata": {
        "id": "view-in-github",
        "colab_type": "text"
      },
      "source": [
        "<a href=\"https://colab.research.google.com/github/mariamhergnyan/Molecular_Simulations_exam/blob/main/Analysis.ipynb\" target=\"_parent\"><img src=\"https://colab.research.google.com/assets/colab-badge.svg\" alt=\"Open In Colab\"/></a>"
      ]
    },
    {
      "cell_type": "markdown",
      "source": [
        "Run these before working."
      ],
      "metadata": {
        "id": "3bnRk1fiW9K_"
      }
    },
    {
      "cell_type": "code",
      "source": [
        "!pip install notebook==6.5.5  > /dev/null"
      ],
      "metadata": {
        "id": "OWShMQgLXbJC"
      },
      "execution_count": 1,
      "outputs": []
    },
    {
      "cell_type": "code",
      "source": [
        "!pip install ipywidgets > /dev/null"
      ],
      "metadata": {
        "id": "kJ7CeW35bpRE"
      },
      "execution_count": 2,
      "outputs": []
    },
    {
      "cell_type": "code",
      "execution_count": 3,
      "metadata": {
        "id": "7Xr2aOSET3a-"
      },
      "outputs": [],
      "source": [
        "!pip install pyemma > /dev/null\n",
        "!pip install mdshare > /dev/null\n",
        "#4 minutes"
      ]
    },
    {
      "cell_type": "code",
      "source": [
        "!pip install nglview > /dev/null"
      ],
      "metadata": {
        "colab": {
          "base_uri": "https://localhost:8080/"
        },
        "id": "LjGvxuqlQosW",
        "outputId": "5d85c124-8f07-46b8-b91c-08de51f0f655"
      },
      "execution_count": 4,
      "outputs": [
        {
          "output_type": "stream",
          "name": "stdout",
          "text": [
            "\u001b[31mERROR: pip's dependency resolver does not currently take into account all the packages that are installed. This behaviour is the source of the following dependency conflicts.\n",
            "google-colab 1.0.0 requires notebook==6.5.5, but you have notebook 7.0.7 which is incompatible.\u001b[0m\u001b[31m\n",
            "\u001b[0m"
          ]
        }
      ]
    },
    {
      "cell_type": "code",
      "source": [
        "!pip install biopython > /dev/null"
      ],
      "metadata": {
        "id": "xT6n8TKxUJc8"
      },
      "execution_count": 5,
      "outputs": []
    },
    {
      "cell_type": "code",
      "source": [
        "from google.colab import output\n",
        "output.enable_custom_widget_manager()"
      ],
      "metadata": {
        "id": "gm9f1qi45n3L"
      },
      "execution_count": 6,
      "outputs": []
    },
    {
      "cell_type": "markdown",
      "source": [
        "Support for third party widgets will remain active for the duration of the session. To disable support:"
      ],
      "metadata": {
        "id": "qN46Iuya5n3P"
      }
    },
    {
      "cell_type": "code",
      "source": [
        "%matplotlib inline\n",
        "import matplotlib.pyplot as plt\n",
        "import numpy as np\n",
        "import mdshare\n",
        "import pyemma\n",
        "# for visualization of molecular structures:\n",
        "import nglview\n",
        "import mdtraj\n",
        "from threading import Timer\n",
        "from nglview.player import TrajectoryPlayer\n",
        "from Bio.PDB import PDBParser\n",
        "import pyemma.util.contexts as contexts\n",
        "\n",
        "from IPython.display import display\n",
        "from threading import Timer\n",
        "from google.colab import widgets\n",
        "import ipywidgets\n",
        "import warnings\n",
        "\n",
        "# Suppress all warnings\n",
        "warnings.filterwarnings(\"ignore\")"
      ],
      "metadata": {
        "id": "6ByLxILgT7dC"
      },
      "execution_count": null,
      "outputs": []
    },
    {
      "cell_type": "code",
      "source": [
        "#mdshare.fetch is used for fetching from their server.\n",
        "#In my case I have it locally, so it just should be the path"
      ],
      "metadata": {
        "id": "gMEx2mBddICp"
      },
      "execution_count": 8,
      "outputs": []
    },
    {
      "cell_type": "code",
      "source": [
        "pdb = '/content/lb6-filtered.pdb'\n",
        "files = '/content/lb6-filtered.xtc'\n"
      ],
      "metadata": {
        "id": "NckKgkWRR5gZ"
      },
      "execution_count": 9,
      "outputs": []
    },
    {
      "cell_type": "markdown",
      "source": [
        "#Feature selection\n",
        "Since we don't know which features describe the best the molecule, we do feature selecting with VAMP(Variational Approach for Markov Proceess). We utilize the VAMP2 score which shows the kinetic variance. The minimum VAMP2 score is 1. The higher the score, the better the given feature describes the molecule. Here we only do the selection based on the features of the backbone and not the side chains."
      ],
      "metadata": {
        "id": "wEOp_yEvMrGz"
      }
    },
    {
      "cell_type": "code",
      "source": [
        "torsions_feat = pyemma.coordinates.featurizer(pdb)\n",
        "torsions_feat.add_backbone_torsions(cossin=True, periodic=False)\n",
        "torsions_data = pyemma.coordinates.load(files, features=torsions_feat)\n",
        "labels = ['backbone\\ntorsions']\n",
        "\n",
        "positions_feat = pyemma.coordinates.featurizer(pdb)\n",
        "positions_feat.add_selection(positions_feat.select_Backbone())\n",
        "positions_data = pyemma.coordinates.load(files, features=positions_feat)\n",
        "labels += ['backbone atom\\npositions']\n",
        "\n",
        "distances_feat = pyemma.coordinates.featurizer(pdb)\n",
        "distances_feat.add_distances(\n",
        "    distances_feat.pairs(distances_feat.select_Backbone(), excluded_neighbors=2), periodic=False)\n",
        "distances_data = pyemma.coordinates.load(files, features=distances_feat)\n",
        "labels += ['backbone atom\\ndistances']"
      ],
      "metadata": {
        "id": "3TKKtjAO6bSo"
      },
      "execution_count": 10,
      "outputs": []
    },
    {
      "cell_type": "code",
      "source": [
        "def score_cv(data, dim, lag, number_of_splits=10, validation_fraction=0.5):\n",
        "#compute a cross validated vamp 2 score\n",
        "    # we temporarily suppress very short-lived progress bars\n",
        "    with contexts.settings(show_progress_bars=False):\n",
        "        nval = int(len(data) * validation_fraction)\n",
        "        scores = np.zeros(number_of_splits)\n",
        "        for n in range(number_of_splits):\n",
        "            ival = np.random.choice(len(data), size=nval, replace=False)\n",
        "            vamp = pyemma.coordinates.vamp(\n",
        "                [d for i, d in enumerate(data) if i not in ival], lag=lag, dim=dim)\n",
        "            scores[n] = vamp.score([d for i, d in enumerate(data) if i in ival])\n",
        "    return scores"
      ],
      "metadata": {
        "id": "hsUvzUT8ZI1q"
      },
      "execution_count": 11,
      "outputs": []
    },
    {
      "cell_type": "code",
      "source": [
        "dim = 1 #used to be 10 in the tutorial\n",
        "\n",
        "fig, axes = plt.subplots(1, 3, figsize=(12, 3), sharey=True)\n",
        "for ax, lag in zip(axes.flat, [5, 10, 20]):\n",
        "    torsions_scores = score_cv(torsions_data, lag=lag, dim=dim)\n",
        "    scores = [torsions_scores.mean()]\n",
        "    errors = [torsions_scores.std()]\n",
        "    positions_scores = score_cv(positions_data, lag=lag, dim=dim)\n",
        "    scores += [positions_scores.mean()]\n",
        "    errors += [positions_scores.std()]\n",
        "    distances_scores = score_cv(distances_data, lag=lag, dim=dim)\n",
        "    scores += [distances_scores.mean()]\n",
        "    errors += [distances_scores.std()]\n",
        "    ax.bar(labels, scores, yerr=errors, color=['C0', 'C1', 'C2'])\n",
        "    ax.set_title(r'lag time $\\tau$={:.1f}ns'.format(lag * 0.1))\n",
        "    if lag == 5:\n",
        "        # save for later\n",
        "        vamp_bars_plot = dict(\n",
        "            labels=labels, scores=scores, errors=errors, dim=dim, lag=lag)\n",
        "axes[0].set_ylabel('VAMP2 score')\n",
        "fig.tight_layout()"
      ],
      "metadata": {
        "id": "fCX65OF4AdPb",
        "outputId": "dc07caa2-1520-4fe6-dd35-6229c24c9ba6",
        "colab": {
          "base_uri": "https://localhost:8080/",
          "height": 1000
        }
      },
      "execution_count": 12,
      "outputs": [
        {
          "output_type": "stream",
          "name": "stderr",
          "text": [
            "<ipython-input-11-d16244e13510>:9: PyEMMA_DeprecationWarning: Call to deprecated function \"vamp\". Called from <ipython-input-11-d16244e13510> line 9. Use deeptime.decomposition.VAMP instead.\n",
            "  vamp = pyemma.coordinates.vamp(\n",
            "<ipython-input-11-d16244e13510>:9: PyEMMA_DeprecationWarning: Call to deprecated function \"vamp\". Called from <ipython-input-11-d16244e13510> line 9. Use deeptime.decomposition.VAMP instead.\n",
            "  vamp = pyemma.coordinates.vamp(\n",
            "<ipython-input-11-d16244e13510>:9: PyEMMA_DeprecationWarning: Call to deprecated function \"vamp\". Called from <ipython-input-11-d16244e13510> line 9. Use deeptime.decomposition.VAMP instead.\n",
            "  vamp = pyemma.coordinates.vamp(\n",
            "<ipython-input-11-d16244e13510>:9: PyEMMA_DeprecationWarning: Call to deprecated function \"vamp\". Called from <ipython-input-11-d16244e13510> line 9. Use deeptime.decomposition.VAMP instead.\n",
            "  vamp = pyemma.coordinates.vamp(\n",
            "<ipython-input-11-d16244e13510>:9: PyEMMA_DeprecationWarning: Call to deprecated function \"vamp\". Called from <ipython-input-11-d16244e13510> line 9. Use deeptime.decomposition.VAMP instead.\n",
            "  vamp = pyemma.coordinates.vamp(\n",
            "<ipython-input-11-d16244e13510>:9: PyEMMA_DeprecationWarning: Call to deprecated function \"vamp\". Called from <ipython-input-11-d16244e13510> line 9. Use deeptime.decomposition.VAMP instead.\n",
            "  vamp = pyemma.coordinates.vamp(\n",
            "<ipython-input-11-d16244e13510>:9: PyEMMA_DeprecationWarning: Call to deprecated function \"vamp\". Called from <ipython-input-11-d16244e13510> line 9. Use deeptime.decomposition.VAMP instead.\n",
            "  vamp = pyemma.coordinates.vamp(\n",
            "<ipython-input-11-d16244e13510>:9: PyEMMA_DeprecationWarning: Call to deprecated function \"vamp\". Called from <ipython-input-11-d16244e13510> line 9. Use deeptime.decomposition.VAMP instead.\n",
            "  vamp = pyemma.coordinates.vamp(\n",
            "<ipython-input-11-d16244e13510>:9: PyEMMA_DeprecationWarning: Call to deprecated function \"vamp\". Called from <ipython-input-11-d16244e13510> line 9. Use deeptime.decomposition.VAMP instead.\n",
            "  vamp = pyemma.coordinates.vamp(\n",
            "<ipython-input-11-d16244e13510>:9: PyEMMA_DeprecationWarning: Call to deprecated function \"vamp\". Called from <ipython-input-11-d16244e13510> line 9. Use deeptime.decomposition.VAMP instead.\n",
            "  vamp = pyemma.coordinates.vamp(\n",
            "<ipython-input-11-d16244e13510>:9: PyEMMA_DeprecationWarning: Call to deprecated function \"vamp\". Called from <ipython-input-11-d16244e13510> line 9. Use deeptime.decomposition.VAMP instead.\n",
            "  vamp = pyemma.coordinates.vamp(\n",
            "<ipython-input-11-d16244e13510>:9: PyEMMA_DeprecationWarning: Call to deprecated function \"vamp\". Called from <ipython-input-11-d16244e13510> line 9. Use deeptime.decomposition.VAMP instead.\n",
            "  vamp = pyemma.coordinates.vamp(\n",
            "<ipython-input-11-d16244e13510>:9: PyEMMA_DeprecationWarning: Call to deprecated function \"vamp\". Called from <ipython-input-11-d16244e13510> line 9. Use deeptime.decomposition.VAMP instead.\n",
            "  vamp = pyemma.coordinates.vamp(\n",
            "<ipython-input-11-d16244e13510>:9: PyEMMA_DeprecationWarning: Call to deprecated function \"vamp\". Called from <ipython-input-11-d16244e13510> line 9. Use deeptime.decomposition.VAMP instead.\n",
            "  vamp = pyemma.coordinates.vamp(\n",
            "<ipython-input-11-d16244e13510>:9: PyEMMA_DeprecationWarning: Call to deprecated function \"vamp\". Called from <ipython-input-11-d16244e13510> line 9. Use deeptime.decomposition.VAMP instead.\n",
            "  vamp = pyemma.coordinates.vamp(\n",
            "<ipython-input-11-d16244e13510>:9: PyEMMA_DeprecationWarning: Call to deprecated function \"vamp\". Called from <ipython-input-11-d16244e13510> line 9. Use deeptime.decomposition.VAMP instead.\n",
            "  vamp = pyemma.coordinates.vamp(\n",
            "<ipython-input-11-d16244e13510>:9: PyEMMA_DeprecationWarning: Call to deprecated function \"vamp\". Called from <ipython-input-11-d16244e13510> line 9. Use deeptime.decomposition.VAMP instead.\n",
            "  vamp = pyemma.coordinates.vamp(\n",
            "<ipython-input-11-d16244e13510>:9: PyEMMA_DeprecationWarning: Call to deprecated function \"vamp\". Called from <ipython-input-11-d16244e13510> line 9. Use deeptime.decomposition.VAMP instead.\n",
            "  vamp = pyemma.coordinates.vamp(\n",
            "<ipython-input-11-d16244e13510>:9: PyEMMA_DeprecationWarning: Call to deprecated function \"vamp\". Called from <ipython-input-11-d16244e13510> line 9. Use deeptime.decomposition.VAMP instead.\n",
            "  vamp = pyemma.coordinates.vamp(\n",
            "<ipython-input-11-d16244e13510>:9: PyEMMA_DeprecationWarning: Call to deprecated function \"vamp\". Called from <ipython-input-11-d16244e13510> line 9. Use deeptime.decomposition.VAMP instead.\n",
            "  vamp = pyemma.coordinates.vamp(\n",
            "<ipython-input-11-d16244e13510>:9: PyEMMA_DeprecationWarning: Call to deprecated function \"vamp\". Called from <ipython-input-11-d16244e13510> line 9. Use deeptime.decomposition.VAMP instead.\n",
            "  vamp = pyemma.coordinates.vamp(\n",
            "<ipython-input-11-d16244e13510>:9: PyEMMA_DeprecationWarning: Call to deprecated function \"vamp\". Called from <ipython-input-11-d16244e13510> line 9. Use deeptime.decomposition.VAMP instead.\n",
            "  vamp = pyemma.coordinates.vamp(\n",
            "<ipython-input-11-d16244e13510>:9: PyEMMA_DeprecationWarning: Call to deprecated function \"vamp\". Called from <ipython-input-11-d16244e13510> line 9. Use deeptime.decomposition.VAMP instead.\n",
            "  vamp = pyemma.coordinates.vamp(\n",
            "<ipython-input-11-d16244e13510>:9: PyEMMA_DeprecationWarning: Call to deprecated function \"vamp\". Called from <ipython-input-11-d16244e13510> line 9. Use deeptime.decomposition.VAMP instead.\n",
            "  vamp = pyemma.coordinates.vamp(\n",
            "<ipython-input-11-d16244e13510>:9: PyEMMA_DeprecationWarning: Call to deprecated function \"vamp\". Called from <ipython-input-11-d16244e13510> line 9. Use deeptime.decomposition.VAMP instead.\n",
            "  vamp = pyemma.coordinates.vamp(\n",
            "<ipython-input-11-d16244e13510>:9: PyEMMA_DeprecationWarning: Call to deprecated function \"vamp\". Called from <ipython-input-11-d16244e13510> line 9. Use deeptime.decomposition.VAMP instead.\n",
            "  vamp = pyemma.coordinates.vamp(\n",
            "<ipython-input-11-d16244e13510>:9: PyEMMA_DeprecationWarning: Call to deprecated function \"vamp\". Called from <ipython-input-11-d16244e13510> line 9. Use deeptime.decomposition.VAMP instead.\n",
            "  vamp = pyemma.coordinates.vamp(\n",
            "<ipython-input-11-d16244e13510>:9: PyEMMA_DeprecationWarning: Call to deprecated function \"vamp\". Called from <ipython-input-11-d16244e13510> line 9. Use deeptime.decomposition.VAMP instead.\n",
            "  vamp = pyemma.coordinates.vamp(\n",
            "<ipython-input-11-d16244e13510>:9: PyEMMA_DeprecationWarning: Call to deprecated function \"vamp\". Called from <ipython-input-11-d16244e13510> line 9. Use deeptime.decomposition.VAMP instead.\n",
            "  vamp = pyemma.coordinates.vamp(\n",
            "<ipython-input-11-d16244e13510>:9: PyEMMA_DeprecationWarning: Call to deprecated function \"vamp\". Called from <ipython-input-11-d16244e13510> line 9. Use deeptime.decomposition.VAMP instead.\n",
            "  vamp = pyemma.coordinates.vamp(\n",
            "<ipython-input-11-d16244e13510>:9: PyEMMA_DeprecationWarning: Call to deprecated function \"vamp\". Called from <ipython-input-11-d16244e13510> line 9. Use deeptime.decomposition.VAMP instead.\n",
            "  vamp = pyemma.coordinates.vamp(\n",
            "<ipython-input-11-d16244e13510>:9: PyEMMA_DeprecationWarning: Call to deprecated function \"vamp\". Called from <ipython-input-11-d16244e13510> line 9. Use deeptime.decomposition.VAMP instead.\n",
            "  vamp = pyemma.coordinates.vamp(\n",
            "<ipython-input-11-d16244e13510>:9: PyEMMA_DeprecationWarning: Call to deprecated function \"vamp\". Called from <ipython-input-11-d16244e13510> line 9. Use deeptime.decomposition.VAMP instead.\n",
            "  vamp = pyemma.coordinates.vamp(\n",
            "<ipython-input-11-d16244e13510>:9: PyEMMA_DeprecationWarning: Call to deprecated function \"vamp\". Called from <ipython-input-11-d16244e13510> line 9. Use deeptime.decomposition.VAMP instead.\n",
            "  vamp = pyemma.coordinates.vamp(\n",
            "<ipython-input-11-d16244e13510>:9: PyEMMA_DeprecationWarning: Call to deprecated function \"vamp\". Called from <ipython-input-11-d16244e13510> line 9. Use deeptime.decomposition.VAMP instead.\n",
            "  vamp = pyemma.coordinates.vamp(\n",
            "<ipython-input-11-d16244e13510>:9: PyEMMA_DeprecationWarning: Call to deprecated function \"vamp\". Called from <ipython-input-11-d16244e13510> line 9. Use deeptime.decomposition.VAMP instead.\n",
            "  vamp = pyemma.coordinates.vamp(\n",
            "<ipython-input-11-d16244e13510>:9: PyEMMA_DeprecationWarning: Call to deprecated function \"vamp\". Called from <ipython-input-11-d16244e13510> line 9. Use deeptime.decomposition.VAMP instead.\n",
            "  vamp = pyemma.coordinates.vamp(\n",
            "<ipython-input-11-d16244e13510>:9: PyEMMA_DeprecationWarning: Call to deprecated function \"vamp\". Called from <ipython-input-11-d16244e13510> line 9. Use deeptime.decomposition.VAMP instead.\n",
            "  vamp = pyemma.coordinates.vamp(\n",
            "<ipython-input-11-d16244e13510>:9: PyEMMA_DeprecationWarning: Call to deprecated function \"vamp\". Called from <ipython-input-11-d16244e13510> line 9. Use deeptime.decomposition.VAMP instead.\n",
            "  vamp = pyemma.coordinates.vamp(\n",
            "<ipython-input-11-d16244e13510>:9: PyEMMA_DeprecationWarning: Call to deprecated function \"vamp\". Called from <ipython-input-11-d16244e13510> line 9. Use deeptime.decomposition.VAMP instead.\n",
            "  vamp = pyemma.coordinates.vamp(\n",
            "<ipython-input-11-d16244e13510>:9: PyEMMA_DeprecationWarning: Call to deprecated function \"vamp\". Called from <ipython-input-11-d16244e13510> line 9. Use deeptime.decomposition.VAMP instead.\n",
            "  vamp = pyemma.coordinates.vamp(\n",
            "<ipython-input-11-d16244e13510>:9: PyEMMA_DeprecationWarning: Call to deprecated function \"vamp\". Called from <ipython-input-11-d16244e13510> line 9. Use deeptime.decomposition.VAMP instead.\n",
            "  vamp = pyemma.coordinates.vamp(\n",
            "<ipython-input-11-d16244e13510>:9: PyEMMA_DeprecationWarning: Call to deprecated function \"vamp\". Called from <ipython-input-11-d16244e13510> line 9. Use deeptime.decomposition.VAMP instead.\n",
            "  vamp = pyemma.coordinates.vamp(\n",
            "<ipython-input-11-d16244e13510>:9: PyEMMA_DeprecationWarning: Call to deprecated function \"vamp\". Called from <ipython-input-11-d16244e13510> line 9. Use deeptime.decomposition.VAMP instead.\n",
            "  vamp = pyemma.coordinates.vamp(\n",
            "<ipython-input-11-d16244e13510>:9: PyEMMA_DeprecationWarning: Call to deprecated function \"vamp\". Called from <ipython-input-11-d16244e13510> line 9. Use deeptime.decomposition.VAMP instead.\n",
            "  vamp = pyemma.coordinates.vamp(\n",
            "<ipython-input-11-d16244e13510>:9: PyEMMA_DeprecationWarning: Call to deprecated function \"vamp\". Called from <ipython-input-11-d16244e13510> line 9. Use deeptime.decomposition.VAMP instead.\n",
            "  vamp = pyemma.coordinates.vamp(\n",
            "<ipython-input-11-d16244e13510>:9: PyEMMA_DeprecationWarning: Call to deprecated function \"vamp\". Called from <ipython-input-11-d16244e13510> line 9. Use deeptime.decomposition.VAMP instead.\n",
            "  vamp = pyemma.coordinates.vamp(\n",
            "<ipython-input-11-d16244e13510>:9: PyEMMA_DeprecationWarning: Call to deprecated function \"vamp\". Called from <ipython-input-11-d16244e13510> line 9. Use deeptime.decomposition.VAMP instead.\n",
            "  vamp = pyemma.coordinates.vamp(\n",
            "<ipython-input-11-d16244e13510>:9: PyEMMA_DeprecationWarning: Call to deprecated function \"vamp\". Called from <ipython-input-11-d16244e13510> line 9. Use deeptime.decomposition.VAMP instead.\n",
            "  vamp = pyemma.coordinates.vamp(\n",
            "<ipython-input-11-d16244e13510>:9: PyEMMA_DeprecationWarning: Call to deprecated function \"vamp\". Called from <ipython-input-11-d16244e13510> line 9. Use deeptime.decomposition.VAMP instead.\n",
            "  vamp = pyemma.coordinates.vamp(\n",
            "<ipython-input-11-d16244e13510>:9: PyEMMA_DeprecationWarning: Call to deprecated function \"vamp\". Called from <ipython-input-11-d16244e13510> line 9. Use deeptime.decomposition.VAMP instead.\n",
            "  vamp = pyemma.coordinates.vamp(\n",
            "<ipython-input-11-d16244e13510>:9: PyEMMA_DeprecationWarning: Call to deprecated function \"vamp\". Called from <ipython-input-11-d16244e13510> line 9. Use deeptime.decomposition.VAMP instead.\n",
            "  vamp = pyemma.coordinates.vamp(\n",
            "<ipython-input-11-d16244e13510>:9: PyEMMA_DeprecationWarning: Call to deprecated function \"vamp\". Called from <ipython-input-11-d16244e13510> line 9. Use deeptime.decomposition.VAMP instead.\n",
            "  vamp = pyemma.coordinates.vamp(\n",
            "<ipython-input-11-d16244e13510>:9: PyEMMA_DeprecationWarning: Call to deprecated function \"vamp\". Called from <ipython-input-11-d16244e13510> line 9. Use deeptime.decomposition.VAMP instead.\n",
            "  vamp = pyemma.coordinates.vamp(\n",
            "<ipython-input-11-d16244e13510>:9: PyEMMA_DeprecationWarning: Call to deprecated function \"vamp\". Called from <ipython-input-11-d16244e13510> line 9. Use deeptime.decomposition.VAMP instead.\n",
            "  vamp = pyemma.coordinates.vamp(\n",
            "<ipython-input-11-d16244e13510>:9: PyEMMA_DeprecationWarning: Call to deprecated function \"vamp\". Called from <ipython-input-11-d16244e13510> line 9. Use deeptime.decomposition.VAMP instead.\n",
            "  vamp = pyemma.coordinates.vamp(\n",
            "<ipython-input-11-d16244e13510>:9: PyEMMA_DeprecationWarning: Call to deprecated function \"vamp\". Called from <ipython-input-11-d16244e13510> line 9. Use deeptime.decomposition.VAMP instead.\n",
            "  vamp = pyemma.coordinates.vamp(\n",
            "<ipython-input-11-d16244e13510>:9: PyEMMA_DeprecationWarning: Call to deprecated function \"vamp\". Called from <ipython-input-11-d16244e13510> line 9. Use deeptime.decomposition.VAMP instead.\n",
            "  vamp = pyemma.coordinates.vamp(\n",
            "<ipython-input-11-d16244e13510>:9: PyEMMA_DeprecationWarning: Call to deprecated function \"vamp\". Called from <ipython-input-11-d16244e13510> line 9. Use deeptime.decomposition.VAMP instead.\n",
            "  vamp = pyemma.coordinates.vamp(\n",
            "<ipython-input-11-d16244e13510>:9: PyEMMA_DeprecationWarning: Call to deprecated function \"vamp\". Called from <ipython-input-11-d16244e13510> line 9. Use deeptime.decomposition.VAMP instead.\n",
            "  vamp = pyemma.coordinates.vamp(\n",
            "<ipython-input-11-d16244e13510>:9: PyEMMA_DeprecationWarning: Call to deprecated function \"vamp\". Called from <ipython-input-11-d16244e13510> line 9. Use deeptime.decomposition.VAMP instead.\n",
            "  vamp = pyemma.coordinates.vamp(\n",
            "<ipython-input-11-d16244e13510>:9: PyEMMA_DeprecationWarning: Call to deprecated function \"vamp\". Called from <ipython-input-11-d16244e13510> line 9. Use deeptime.decomposition.VAMP instead.\n",
            "  vamp = pyemma.coordinates.vamp(\n",
            "<ipython-input-11-d16244e13510>:9: PyEMMA_DeprecationWarning: Call to deprecated function \"vamp\". Called from <ipython-input-11-d16244e13510> line 9. Use deeptime.decomposition.VAMP instead.\n",
            "  vamp = pyemma.coordinates.vamp(\n",
            "<ipython-input-11-d16244e13510>:9: PyEMMA_DeprecationWarning: Call to deprecated function \"vamp\". Called from <ipython-input-11-d16244e13510> line 9. Use deeptime.decomposition.VAMP instead.\n",
            "  vamp = pyemma.coordinates.vamp(\n",
            "<ipython-input-11-d16244e13510>:9: PyEMMA_DeprecationWarning: Call to deprecated function \"vamp\". Called from <ipython-input-11-d16244e13510> line 9. Use deeptime.decomposition.VAMP instead.\n",
            "  vamp = pyemma.coordinates.vamp(\n",
            "<ipython-input-11-d16244e13510>:9: PyEMMA_DeprecationWarning: Call to deprecated function \"vamp\". Called from <ipython-input-11-d16244e13510> line 9. Use deeptime.decomposition.VAMP instead.\n",
            "  vamp = pyemma.coordinates.vamp(\n",
            "<ipython-input-11-d16244e13510>:9: PyEMMA_DeprecationWarning: Call to deprecated function \"vamp\". Called from <ipython-input-11-d16244e13510> line 9. Use deeptime.decomposition.VAMP instead.\n",
            "  vamp = pyemma.coordinates.vamp(\n",
            "<ipython-input-11-d16244e13510>:9: PyEMMA_DeprecationWarning: Call to deprecated function \"vamp\". Called from <ipython-input-11-d16244e13510> line 9. Use deeptime.decomposition.VAMP instead.\n",
            "  vamp = pyemma.coordinates.vamp(\n",
            "<ipython-input-11-d16244e13510>:9: PyEMMA_DeprecationWarning: Call to deprecated function \"vamp\". Called from <ipython-input-11-d16244e13510> line 9. Use deeptime.decomposition.VAMP instead.\n",
            "  vamp = pyemma.coordinates.vamp(\n",
            "<ipython-input-11-d16244e13510>:9: PyEMMA_DeprecationWarning: Call to deprecated function \"vamp\". Called from <ipython-input-11-d16244e13510> line 9. Use deeptime.decomposition.VAMP instead.\n",
            "  vamp = pyemma.coordinates.vamp(\n",
            "<ipython-input-11-d16244e13510>:9: PyEMMA_DeprecationWarning: Call to deprecated function \"vamp\". Called from <ipython-input-11-d16244e13510> line 9. Use deeptime.decomposition.VAMP instead.\n",
            "  vamp = pyemma.coordinates.vamp(\n",
            "<ipython-input-11-d16244e13510>:9: PyEMMA_DeprecationWarning: Call to deprecated function \"vamp\". Called from <ipython-input-11-d16244e13510> line 9. Use deeptime.decomposition.VAMP instead.\n",
            "  vamp = pyemma.coordinates.vamp(\n",
            "<ipython-input-11-d16244e13510>:9: PyEMMA_DeprecationWarning: Call to deprecated function \"vamp\". Called from <ipython-input-11-d16244e13510> line 9. Use deeptime.decomposition.VAMP instead.\n",
            "  vamp = pyemma.coordinates.vamp(\n",
            "<ipython-input-11-d16244e13510>:9: PyEMMA_DeprecationWarning: Call to deprecated function \"vamp\". Called from <ipython-input-11-d16244e13510> line 9. Use deeptime.decomposition.VAMP instead.\n",
            "  vamp = pyemma.coordinates.vamp(\n",
            "<ipython-input-11-d16244e13510>:9: PyEMMA_DeprecationWarning: Call to deprecated function \"vamp\". Called from <ipython-input-11-d16244e13510> line 9. Use deeptime.decomposition.VAMP instead.\n",
            "  vamp = pyemma.coordinates.vamp(\n",
            "<ipython-input-11-d16244e13510>:9: PyEMMA_DeprecationWarning: Call to deprecated function \"vamp\". Called from <ipython-input-11-d16244e13510> line 9. Use deeptime.decomposition.VAMP instead.\n",
            "  vamp = pyemma.coordinates.vamp(\n",
            "<ipython-input-11-d16244e13510>:9: PyEMMA_DeprecationWarning: Call to deprecated function \"vamp\". Called from <ipython-input-11-d16244e13510> line 9. Use deeptime.decomposition.VAMP instead.\n",
            "  vamp = pyemma.coordinates.vamp(\n",
            "<ipython-input-11-d16244e13510>:9: PyEMMA_DeprecationWarning: Call to deprecated function \"vamp\". Called from <ipython-input-11-d16244e13510> line 9. Use deeptime.decomposition.VAMP instead.\n",
            "  vamp = pyemma.coordinates.vamp(\n",
            "<ipython-input-11-d16244e13510>:9: PyEMMA_DeprecationWarning: Call to deprecated function \"vamp\". Called from <ipython-input-11-d16244e13510> line 9. Use deeptime.decomposition.VAMP instead.\n",
            "  vamp = pyemma.coordinates.vamp(\n",
            "<ipython-input-11-d16244e13510>:9: PyEMMA_DeprecationWarning: Call to deprecated function \"vamp\". Called from <ipython-input-11-d16244e13510> line 9. Use deeptime.decomposition.VAMP instead.\n",
            "  vamp = pyemma.coordinates.vamp(\n",
            "<ipython-input-11-d16244e13510>:9: PyEMMA_DeprecationWarning: Call to deprecated function \"vamp\". Called from <ipython-input-11-d16244e13510> line 9. Use deeptime.decomposition.VAMP instead.\n",
            "  vamp = pyemma.coordinates.vamp(\n",
            "<ipython-input-11-d16244e13510>:9: PyEMMA_DeprecationWarning: Call to deprecated function \"vamp\". Called from <ipython-input-11-d16244e13510> line 9. Use deeptime.decomposition.VAMP instead.\n",
            "  vamp = pyemma.coordinates.vamp(\n",
            "<ipython-input-11-d16244e13510>:9: PyEMMA_DeprecationWarning: Call to deprecated function \"vamp\". Called from <ipython-input-11-d16244e13510> line 9. Use deeptime.decomposition.VAMP instead.\n",
            "  vamp = pyemma.coordinates.vamp(\n",
            "<ipython-input-11-d16244e13510>:9: PyEMMA_DeprecationWarning: Call to deprecated function \"vamp\". Called from <ipython-input-11-d16244e13510> line 9. Use deeptime.decomposition.VAMP instead.\n",
            "  vamp = pyemma.coordinates.vamp(\n",
            "<ipython-input-11-d16244e13510>:9: PyEMMA_DeprecationWarning: Call to deprecated function \"vamp\". Called from <ipython-input-11-d16244e13510> line 9. Use deeptime.decomposition.VAMP instead.\n",
            "  vamp = pyemma.coordinates.vamp(\n",
            "<ipython-input-11-d16244e13510>:9: PyEMMA_DeprecationWarning: Call to deprecated function \"vamp\". Called from <ipython-input-11-d16244e13510> line 9. Use deeptime.decomposition.VAMP instead.\n",
            "  vamp = pyemma.coordinates.vamp(\n",
            "<ipython-input-11-d16244e13510>:9: PyEMMA_DeprecationWarning: Call to deprecated function \"vamp\". Called from <ipython-input-11-d16244e13510> line 9. Use deeptime.decomposition.VAMP instead.\n",
            "  vamp = pyemma.coordinates.vamp(\n",
            "<ipython-input-11-d16244e13510>:9: PyEMMA_DeprecationWarning: Call to deprecated function \"vamp\". Called from <ipython-input-11-d16244e13510> line 9. Use deeptime.decomposition.VAMP instead.\n",
            "  vamp = pyemma.coordinates.vamp(\n",
            "<ipython-input-11-d16244e13510>:9: PyEMMA_DeprecationWarning: Call to deprecated function \"vamp\". Called from <ipython-input-11-d16244e13510> line 9. Use deeptime.decomposition.VAMP instead.\n",
            "  vamp = pyemma.coordinates.vamp(\n",
            "<ipython-input-11-d16244e13510>:9: PyEMMA_DeprecationWarning: Call to deprecated function \"vamp\". Called from <ipython-input-11-d16244e13510> line 9. Use deeptime.decomposition.VAMP instead.\n",
            "  vamp = pyemma.coordinates.vamp(\n"
          ]
        },
        {
          "output_type": "display_data",
          "data": {
            "text/plain": [
              "<Figure size 1200x300 with 3 Axes>"
            ],
            "image/png": "[encoded data removed]"
          },
          "metadata": {}
        }
      ]
    },
    {
      "cell_type": "markdown",
      "source": [
        "Trying with different lag times and dimensions"
      ],
      "metadata": {
        "id": "51vc6zTYN4Vc"
      }
    },
    {
      "cell_type": "code",
      "source": [
        "lags = [1, 2, 5, 10, 20]\n",
        "dims = [i + 1 for i in range(10)]\n",
        "\n",
        "fig, ax = plt.subplots()\n",
        "for i, lag in enumerate(lags):\n",
        "    scores_ = np.array([score_cv(torsions_data, dim, lag)\n",
        "                        for dim in dims])\n",
        "    scores = np.mean(scores_, axis=1)\n",
        "    errors = np.std(scores_, axis=1, ddof=1)\n",
        "    color = 'C{}'.format(i)\n",
        "    ax.fill_between(dims, scores - errors, scores + errors, alpha=0.3, facecolor=color)\n",
        "    ax.plot(dims, scores, '--o', color=color, label='lag={:.1f}ns'.format(lag * 0.1))\n",
        "ax.legend()\n",
        "ax.set_xlabel('number of dimensions')\n",
        "ax.set_ylabel('VAMP2 score')\n",
        "fig.tight_layout()\n"
      ],
      "metadata": {
        "id": "4zHJAFz3Ntg1",
        "outputId": "cbe9dd70-d660-4723-8266-239ee0f3a64e",
        "colab": {
          "base_uri": "https://localhost:8080/",
          "height": 1000
        }
      },
      "execution_count": 18,
      "outputs": [
        {
          "output_type": "stream",
          "name": "stderr",
          "text": [
            "<ipython-input-11-d16244e13510>:9: PyEMMA_DeprecationWarning: Call to deprecated function \"vamp\". Called from <ipython-input-11-d16244e13510> line 9. Use deeptime.decomposition.VAMP instead.\n",
            "  vamp = pyemma.coordinates.vamp(\n",
            "<ipython-input-11-d16244e13510>:9: PyEMMA_DeprecationWarning: Call to deprecated function \"vamp\". Called from <ipython-input-11-d16244e13510> line 9. Use deeptime.decomposition.VAMP instead.\n",
            "  vamp = pyemma.coordinates.vamp(\n",
            "<ipython-input-11-d16244e13510>:9: PyEMMA_DeprecationWarning: Call to deprecated function \"vamp\". Called from <ipython-input-11-d16244e13510> line 9. Use deeptime.decomposition.VAMP instead.\n",
            "  vamp = pyemma.coordinates.vamp(\n",
            "<ipython-input-11-d16244e13510>:9: PyEMMA_DeprecationWarning: Call to deprecated function \"vamp\". Called from <ipython-input-11-d16244e13510> line 9. Use deeptime.decomposition.VAMP instead.\n",
            "  vamp = pyemma.coordinates.vamp(\n",
            "<ipython-input-11-d16244e13510>:9: PyEMMA_DeprecationWarning: Call to deprecated function \"vamp\". Called from <ipython-input-11-d16244e13510> line 9. Use deeptime.decomposition.VAMP instead.\n",
            "  vamp = pyemma.coordinates.vamp(\n",
            "<ipython-input-11-d16244e13510>:9: PyEMMA_DeprecationWarning: Call to deprecated function \"vamp\". Called from <ipython-input-11-d16244e13510> line 9. Use deeptime.decomposition.VAMP instead.\n",
            "  vamp = pyemma.coordinates.vamp(\n",
            "<ipython-input-11-d16244e13510>:9: PyEMMA_DeprecationWarning: Call to deprecated function \"vamp\". Called from <ipython-input-11-d16244e13510> line 9. Use deeptime.decomposition.VAMP instead.\n",
            "  vamp = pyemma.coordinates.vamp(\n",
            "<ipython-input-11-d16244e13510>:9: PyEMMA_DeprecationWarning: Call to deprecated function \"vamp\". Called from <ipython-input-11-d16244e13510> line 9. Use deeptime.decomposition.VAMP instead.\n",
            "  vamp = pyemma.coordinates.vamp(\n",
            "<ipython-input-11-d16244e13510>:9: PyEMMA_DeprecationWarning: Call to deprecated function \"vamp\". Called from <ipython-input-11-d16244e13510> line 9. Use deeptime.decomposition.VAMP instead.\n",
            "  vamp = pyemma.coordinates.vamp(\n",
            "<ipython-input-11-d16244e13510>:9: PyEMMA_DeprecationWarning: Call to deprecated function \"vamp\". Called from <ipython-input-11-d16244e13510> line 9. Use deeptime.decomposition.VAMP instead.\n",
            "  vamp = pyemma.coordinates.vamp(\n",
            "<ipython-input-11-d16244e13510>:9: PyEMMA_DeprecationWarning: Call to deprecated function \"vamp\". Called from <ipython-input-11-d16244e13510> line 9. Use deeptime.decomposition.VAMP instead.\n",
            "  vamp = pyemma.coordinates.vamp(\n"
          ]
        },
        {
          "output_type": "error",
          "ename": "RuntimeError",
          "evalue": "requested more output dimensions (2) than dimension of input data (1)",
          "traceback": [
            "\u001b[0;31m---------------------------------------------------------------------------\u001b[0m",
            "\u001b[0;31mRuntimeError\u001b[0m                              Traceback (most recent call last)",
            "\u001b[0;32m<ipython-input-18-894ed1858c52>\u001b[0m in \u001b[0;36m<cell line: 5>\u001b[0;34m()\u001b[0m\n\u001b[1;32m      4\u001b[0m \u001b[0mfig\u001b[0m\u001b[0;34m,\u001b[0m \u001b[0max\u001b[0m \u001b[0;34m=\u001b[0m \u001b[0mplt\u001b[0m\u001b[0;34m.\u001b[0m\u001b[0msubplots\u001b[0m\u001b[0;34m(\u001b[0m\u001b[0;34m)\u001b[0m\u001b[0;34m\u001b[0m\u001b[0;34m\u001b[0m\u001b[0m\n\u001b[1;32m      5\u001b[0m \u001b[0;32mfor\u001b[0m \u001b[0mi\u001b[0m\u001b[0;34m,\u001b[0m \u001b[0mlag\u001b[0m \u001b[0;32min\u001b[0m \u001b[0menumerate\u001b[0m\u001b[0;34m(\u001b[0m\u001b[0mlags\u001b[0m\u001b[0;34m)\u001b[0m\u001b[0;34m:\u001b[0m\u001b[0;34m\u001b[0m\u001b[0;34m\u001b[0m\u001b[0m\n\u001b[0;32m----> 6\u001b[0;31m     scores_ = np.array([score_cv(torsions_data, dim, lag)\n\u001b[0m\u001b[1;32m      7\u001b[0m                         for dim in dims])\n\u001b[1;32m      8\u001b[0m     \u001b[0mscores\u001b[0m \u001b[0;34m=\u001b[0m \u001b[0mnp\u001b[0m\u001b[0;34m.\u001b[0m\u001b[0mmean\u001b[0m\u001b[0;34m(\u001b[0m\u001b[0mscores_\u001b[0m\u001b[0;34m,\u001b[0m \u001b[0maxis\u001b[0m\u001b[0;34m=\u001b[0m\u001b[0;36m1\u001b[0m\u001b[0;34m)\u001b[0m\u001b[0;34m\u001b[0m\u001b[0;34m\u001b[0m\u001b[0m\n",
            "\u001b[0;32m<ipython-input-18-894ed1858c52>\u001b[0m in \u001b[0;36m<listcomp>\u001b[0;34m(.0)\u001b[0m\n\u001b[1;32m      4\u001b[0m \u001b[0mfig\u001b[0m\u001b[0;34m,\u001b[0m \u001b[0max\u001b[0m \u001b[0;34m=\u001b[0m \u001b[0mplt\u001b[0m\u001b[0;34m.\u001b[0m\u001b[0msubplots\u001b[0m\u001b[0;34m(\u001b[0m\u001b[0;34m)\u001b[0m\u001b[0;34m\u001b[0m\u001b[0;34m\u001b[0m\u001b[0m\n\u001b[1;32m      5\u001b[0m \u001b[0;32mfor\u001b[0m \u001b[0mi\u001b[0m\u001b[0;34m,\u001b[0m \u001b[0mlag\u001b[0m \u001b[0;32min\u001b[0m \u001b[0menumerate\u001b[0m\u001b[0;34m(\u001b[0m\u001b[0mlags\u001b[0m\u001b[0;34m)\u001b[0m\u001b[0;34m:\u001b[0m\u001b[0;34m\u001b[0m\u001b[0;34m\u001b[0m\u001b[0m\n\u001b[0;32m----> 6\u001b[0;31m     scores_ = np.array([score_cv(torsions_data, dim, lag)\n\u001b[0m\u001b[1;32m      7\u001b[0m                         for dim in dims])\n\u001b[1;32m      8\u001b[0m     \u001b[0mscores\u001b[0m \u001b[0;34m=\u001b[0m \u001b[0mnp\u001b[0m\u001b[0;34m.\u001b[0m\u001b[0mmean\u001b[0m\u001b[0;34m(\u001b[0m\u001b[0mscores_\u001b[0m\u001b[0;34m,\u001b[0m \u001b[0maxis\u001b[0m\u001b[0;34m=\u001b[0m\u001b[0;36m1\u001b[0m\u001b[0;34m)\u001b[0m\u001b[0;34m\u001b[0m\u001b[0;34m\u001b[0m\u001b[0m\n",
            "\u001b[0;32m<ipython-input-11-d16244e13510>\u001b[0m in \u001b[0;36mscore_cv\u001b[0;34m(data, dim, lag, number_of_splits, validation_fraction)\u001b[0m\n\u001b[1;32m      7\u001b[0m         \u001b[0;32mfor\u001b[0m \u001b[0mn\u001b[0m \u001b[0;32min\u001b[0m \u001b[0mrange\u001b[0m\u001b[0;34m(\u001b[0m\u001b[0mnumber_of_splits\u001b[0m\u001b[0;34m)\u001b[0m\u001b[0;34m:\u001b[0m\u001b[0;34m\u001b[0m\u001b[0;34m\u001b[0m\u001b[0m\n\u001b[1;32m      8\u001b[0m             \u001b[0mival\u001b[0m \u001b[0;34m=\u001b[0m \u001b[0mnp\u001b[0m\u001b[0;34m.\u001b[0m\u001b[0mrandom\u001b[0m\u001b[0;34m.\u001b[0m\u001b[0mchoice\u001b[0m\u001b[0;34m(\u001b[0m\u001b[0mlen\u001b[0m\u001b[0;34m(\u001b[0m\u001b[0mdata\u001b[0m\u001b[0;34m)\u001b[0m\u001b[0;34m,\u001b[0m \u001b[0msize\u001b[0m\u001b[0;34m=\u001b[0m\u001b[0mnval\u001b[0m\u001b[0;34m,\u001b[0m \u001b[0mreplace\u001b[0m\u001b[0;34m=\u001b[0m\u001b[0;32mFalse\u001b[0m\u001b[0;34m)\u001b[0m\u001b[0;34m\u001b[0m\u001b[0;34m\u001b[0m\u001b[0m\n\u001b[0;32m----> 9\u001b[0;31m             vamp = pyemma.coordinates.vamp(\n\u001b[0m\u001b[1;32m     10\u001b[0m                 [d for i, d in enumerate(data) if i not in ival], lag=lag, dim=dim)\n\u001b[1;32m     11\u001b[0m             \u001b[0mscores\u001b[0m\u001b[0;34m[\u001b[0m\u001b[0mn\u001b[0m\u001b[0;34m]\u001b[0m \u001b[0;34m=\u001b[0m \u001b[0mvamp\u001b[0m\u001b[0;34m.\u001b[0m\u001b[0mscore\u001b[0m\u001b[0;34m(\u001b[0m\u001b[0;34m[\u001b[0m\u001b[0md\u001b[0m \u001b[0;32mfor\u001b[0m \u001b[0mi\u001b[0m\u001b[0;34m,\u001b[0m \u001b[0md\u001b[0m \u001b[0;32min\u001b[0m \u001b[0menumerate\u001b[0m\u001b[0;34m(\u001b[0m\u001b[0mdata\u001b[0m\u001b[0;34m)\u001b[0m \u001b[0;32mif\u001b[0m \u001b[0mi\u001b[0m \u001b[0;32min\u001b[0m \u001b[0mival\u001b[0m\u001b[0;34m]\u001b[0m\u001b[0;34m)\u001b[0m\u001b[0;34m\u001b[0m\u001b[0;34m\u001b[0m\u001b[0m\n",
            "\u001b[0;32m<decorator-gen-129>\u001b[0m in \u001b[0;36mvamp\u001b[0;34m(data, lag, dim, scaling, right, ncov_max, stride, skip, chunksize)\u001b[0m\n",
            "\u001b[0;32m/usr/local/lib/python3.10/dist-packages/pyemma/util/annotators.py\u001b[0m in \u001b[0;36m_deprecated\u001b[0;34m(func, *args, **kw)\u001b[0m\n\u001b[1;32m    216\u001b[0m             \u001b[0mlineno\u001b[0m\u001b[0;34m=\u001b[0m\u001b[0mlineno\u001b[0m\u001b[0;34m\u001b[0m\u001b[0;34m\u001b[0m\u001b[0m\n\u001b[1;32m    217\u001b[0m         )\n\u001b[0;32m--> 218\u001b[0;31m         \u001b[0;32mreturn\u001b[0m \u001b[0mfunc\u001b[0m\u001b[0;34m(\u001b[0m\u001b[0;34m*\u001b[0m\u001b[0margs\u001b[0m\u001b[0;34m,\u001b[0m \u001b[0;34m**\u001b[0m\u001b[0mkw\u001b[0m\u001b[0;34m)\u001b[0m\u001b[0;34m\u001b[0m\u001b[0;34m\u001b[0m\u001b[0m\n\u001b[0m\u001b[1;32m    219\u001b[0m \u001b[0;34m\u001b[0m\u001b[0m\n\u001b[1;32m    220\u001b[0m     \u001b[0;31m# add deprecation notice to func docstring:\u001b[0m\u001b[0;34m\u001b[0m\u001b[0;34m\u001b[0m\u001b[0m\n",
            "\u001b[0;32m/usr/local/lib/python3.10/dist-packages/pyemma/coordinates/api.py\u001b[0m in \u001b[0;36mvamp\u001b[0;34m(data, lag, dim, scaling, right, ncov_max, stride, skip, chunksize)\u001b[0m\n\u001b[1;32m   1438\u001b[0m     \u001b[0mres\u001b[0m \u001b[0;34m=\u001b[0m \u001b[0mVAMP\u001b[0m\u001b[0;34m(\u001b[0m\u001b[0mlag\u001b[0m\u001b[0;34m,\u001b[0m \u001b[0mdim\u001b[0m\u001b[0;34m=\u001b[0m\u001b[0mdim\u001b[0m\u001b[0;34m,\u001b[0m \u001b[0mscaling\u001b[0m\u001b[0;34m=\u001b[0m\u001b[0mscaling\u001b[0m\u001b[0;34m,\u001b[0m \u001b[0mright\u001b[0m\u001b[0;34m=\u001b[0m\u001b[0mright\u001b[0m\u001b[0;34m,\u001b[0m \u001b[0mskip\u001b[0m\u001b[0;34m=\u001b[0m\u001b[0mskip\u001b[0m\u001b[0;34m,\u001b[0m \u001b[0mncov_max\u001b[0m\u001b[0;34m=\u001b[0m\u001b[0mncov_max\u001b[0m\u001b[0;34m)\u001b[0m\u001b[0;34m\u001b[0m\u001b[0;34m\u001b[0m\u001b[0m\n\u001b[1;32m   1439\u001b[0m     \u001b[0;32mif\u001b[0m \u001b[0mdata\u001b[0m \u001b[0;32mis\u001b[0m \u001b[0;32mnot\u001b[0m \u001b[0;32mNone\u001b[0m\u001b[0;34m:\u001b[0m\u001b[0;34m\u001b[0m\u001b[0;34m\u001b[0m\u001b[0m\n\u001b[0;32m-> 1440\u001b[0;31m         \u001b[0mres\u001b[0m\u001b[0;34m.\u001b[0m\u001b[0mestimate\u001b[0m\u001b[0;34m(\u001b[0m\u001b[0mdata\u001b[0m\u001b[0;34m,\u001b[0m \u001b[0mstride\u001b[0m\u001b[0;34m=\u001b[0m\u001b[0mstride\u001b[0m\u001b[0;34m,\u001b[0m \u001b[0mchunksize\u001b[0m\u001b[0;34m=\u001b[0m\u001b[0mchunksize\u001b[0m\u001b[0;34m)\u001b[0m\u001b[0;34m\u001b[0m\u001b[0;34m\u001b[0m\u001b[0m\n\u001b[0m\u001b[1;32m   1441\u001b[0m     \u001b[0;32melse\u001b[0m\u001b[0;34m:\u001b[0m\u001b[0;34m\u001b[0m\u001b[0;34m\u001b[0m\u001b[0m\n\u001b[1;32m   1442\u001b[0m         \u001b[0mres\u001b[0m\u001b[0;34m.\u001b[0m\u001b[0mchunksize\u001b[0m \u001b[0;34m=\u001b[0m \u001b[0mchunksize\u001b[0m\u001b[0;34m\u001b[0m\u001b[0;34m\u001b[0m\u001b[0m\n",
            "\u001b[0;32m/usr/local/lib/python3.10/dist-packages/pyemma/coordinates/data/_base/transformer.py\u001b[0m in \u001b[0;36mestimate\u001b[0;34m(self, X, **kwargs)\u001b[0m\n\u001b[1;32m    213\u001b[0m     \u001b[0;34m\"\"\" Basis class for pipelined Transformers, which perform also estimation. \"\"\"\u001b[0m\u001b[0;34m\u001b[0m\u001b[0;34m\u001b[0m\u001b[0m\n\u001b[1;32m    214\u001b[0m     \u001b[0;32mdef\u001b[0m \u001b[0mestimate\u001b[0m\u001b[0;34m(\u001b[0m\u001b[0mself\u001b[0m\u001b[0;34m,\u001b[0m \u001b[0mX\u001b[0m\u001b[0;34m,\u001b[0m \u001b[0;34m**\u001b[0m\u001b[0mkwargs\u001b[0m\u001b[0;34m)\u001b[0m\u001b[0;34m:\u001b[0m\u001b[0;34m\u001b[0m\u001b[0;34m\u001b[0m\u001b[0m\n\u001b[0;32m--> 215\u001b[0;31m         \u001b[0msuper\u001b[0m\u001b[0;34m(\u001b[0m\u001b[0mStreamingEstimationTransformer\u001b[0m\u001b[0;34m,\u001b[0m \u001b[0mself\u001b[0m\u001b[0;34m)\u001b[0m\u001b[0;34m.\u001b[0m\u001b[0mestimate\u001b[0m\u001b[0;34m(\u001b[0m\u001b[0mX\u001b[0m\u001b[0;34m,\u001b[0m \u001b[0;34m**\u001b[0m\u001b[0mkwargs\u001b[0m\u001b[0;34m)\u001b[0m\u001b[0;34m\u001b[0m\u001b[0;34m\u001b[0m\u001b[0m\n\u001b[0m\u001b[1;32m    216\u001b[0m         \u001b[0;31m# we perform the mapping to memory exactly here, because a StreamingEstimator on its own\u001b[0m\u001b[0;34m\u001b[0m\u001b[0;34m\u001b[0m\u001b[0m\n\u001b[1;32m    217\u001b[0m         \u001b[0;31m# has not output to be mapped. Only the combination of Estimation/Transforming has this feature.\u001b[0m\u001b[0;34m\u001b[0m\u001b[0;34m\u001b[0m\u001b[0m\n",
            "\u001b[0;32m/usr/local/lib/python3.10/dist-packages/pyemma/coordinates/data/_base/streaming_estimator.py\u001b[0m in \u001b[0;36mestimate\u001b[0;34m(self, X, chunksize, **kwargs)\u001b[0m\n\u001b[1;32m     42\u001b[0m         \u001b[0;31m# run estimation\u001b[0m\u001b[0;34m\u001b[0m\u001b[0;34m\u001b[0m\u001b[0m\n\u001b[1;32m     43\u001b[0m         \u001b[0;32mtry\u001b[0m\u001b[0;34m:\u001b[0m\u001b[0;34m\u001b[0m\u001b[0;34m\u001b[0m\u001b[0m\n\u001b[0;32m---> 44\u001b[0;31m             \u001b[0msuper\u001b[0m\u001b[0;34m(\u001b[0m\u001b[0mStreamingEstimator\u001b[0m\u001b[0;34m,\u001b[0m \u001b[0mself\u001b[0m\u001b[0;34m)\u001b[0m\u001b[0;34m.\u001b[0m\u001b[0mestimate\u001b[0m\u001b[0;34m(\u001b[0m\u001b[0mX\u001b[0m\u001b[0;34m,\u001b[0m \u001b[0;34m**\u001b[0m\u001b[0mkwargs\u001b[0m\u001b[0;34m)\u001b[0m\u001b[0;34m\u001b[0m\u001b[0;34m\u001b[0m\u001b[0m\n\u001b[0m\u001b[1;32m     45\u001b[0m         \u001b[0;32mexcept\u001b[0m \u001b[0mNotConvergedWarning\u001b[0m \u001b[0;32mas\u001b[0m \u001b[0mncw\u001b[0m\u001b[0;34m:\u001b[0m\u001b[0;34m\u001b[0m\u001b[0;34m\u001b[0m\u001b[0m\n\u001b[1;32m     46\u001b[0m             self.logger.info(\n",
            "\u001b[0;32m/usr/local/lib/python3.10/dist-packages/pyemma/_base/estimator.py\u001b[0m in \u001b[0;36mestimate\u001b[0;34m(self, X, **params)\u001b[0m\n\u001b[1;32m    416\u001b[0m         \u001b[0;32mif\u001b[0m \u001b[0mparams\u001b[0m\u001b[0;34m:\u001b[0m\u001b[0;34m\u001b[0m\u001b[0;34m\u001b[0m\u001b[0m\n\u001b[1;32m    417\u001b[0m             \u001b[0mself\u001b[0m\u001b[0;34m.\u001b[0m\u001b[0mset_params\u001b[0m\u001b[0;34m(\u001b[0m\u001b[0;34m**\u001b[0m\u001b[0mparams\u001b[0m\u001b[0;34m)\u001b[0m\u001b[0;34m\u001b[0m\u001b[0;34m\u001b[0m\u001b[0m\n\u001b[0;32m--> 418\u001b[0;31m         \u001b[0mself\u001b[0m\u001b[0;34m.\u001b[0m\u001b[0m_model\u001b[0m \u001b[0;34m=\u001b[0m \u001b[0mself\u001b[0m\u001b[0;34m.\u001b[0m\u001b[0m_estimate\u001b[0m\u001b[0;34m(\u001b[0m\u001b[0mX\u001b[0m\u001b[0;34m)\u001b[0m\u001b[0;34m\u001b[0m\u001b[0;34m\u001b[0m\u001b[0m\n\u001b[0m\u001b[1;32m    419\u001b[0m         \u001b[0;31m# ensure _estimate returned something\u001b[0m\u001b[0;34m\u001b[0m\u001b[0;34m\u001b[0m\u001b[0m\n\u001b[1;32m    420\u001b[0m         \u001b[0;32massert\u001b[0m \u001b[0mself\u001b[0m\u001b[0;34m.\u001b[0m\u001b[0m_model\u001b[0m \u001b[0;32mis\u001b[0m \u001b[0;32mnot\u001b[0m \u001b[0;32mNone\u001b[0m\u001b[0;34m\u001b[0m\u001b[0;34m\u001b[0m\u001b[0m\n",
            "\u001b[0;32m/usr/local/lib/python3.10/dist-packages/pyemma/coordinates/transform/vamp.py\u001b[0m in \u001b[0;36m_estimate\u001b[0;34m(self, iterable, **kw)\u001b[0m\n\u001b[1;32m    607\u001b[0m \u001b[0;34m\u001b[0m\u001b[0m\n\u001b[1;32m    608\u001b[0m         \u001b[0;32mif\u001b[0m \u001b[0misinstance\u001b[0m\u001b[0;34m(\u001b[0m\u001b[0mself\u001b[0m\u001b[0;34m.\u001b[0m\u001b[0mdim\u001b[0m\u001b[0;34m,\u001b[0m \u001b[0mint\u001b[0m\u001b[0;34m)\u001b[0m \u001b[0;32mand\u001b[0m \u001b[0;32mnot\u001b[0m \u001b[0mself\u001b[0m\u001b[0;34m.\u001b[0m\u001b[0mdim\u001b[0m \u001b[0;34m<=\u001b[0m \u001b[0mindim\u001b[0m\u001b[0;34m:\u001b[0m\u001b[0;34m\u001b[0m\u001b[0;34m\u001b[0m\u001b[0m\n\u001b[0;32m--> 609\u001b[0;31m             raise RuntimeError(\"requested more output dimensions (%i) than dimension\"\n\u001b[0m\u001b[1;32m    610\u001b[0m                                \" of input data (%i)\" % (self.dim, indim))\n\u001b[1;32m    611\u001b[0m \u001b[0;34m\u001b[0m\u001b[0m\n",
            "\u001b[0;31mRuntimeError\u001b[0m: requested more output dimensions (2) than dimension of input data (1)"
          ]
        },
        {
          "output_type": "display_data",
          "data": {
            "text/plain": [
              "<Figure size 640x480 with 1 Axes>"
            ],
            "image/png": "[encoded data removed]"
          },
          "metadata": {}
        }
      ]
    },
    {
      "cell_type": "code",
      "source": [
        "warnings.resetwarnings()\n",
        "#widgets don't work on google colab"
      ],
      "metadata": {
        "id": "jRftxBG_0w03"
      },
      "execution_count": 13,
      "outputs": []
    },
    {
      "cell_type": "code",
      "source": [
        "# Create an NGLview widget to display the PDB file - should tis display here? cuz it's not doing it\n",
        "view = nglview.show_file(pdb)\n",
        "#view.add_representation('cartoon')\n",
        "#view.center()\n",
        "#view\n",
        "\n",
        "view = nglview.NGLWidget()\n",
        "view.add_pdbid(pdb)\n",
        "view.add_representation('cartoon')\n",
        "view.center()\n",
        "view\n",
        "\n",
        "# 2nd cell\n",
        "view._js(\"console.log(this.model.views)\")"
      ],
      "metadata": {
        "id": "IdLmRDNY5_z5"
      },
      "execution_count": 14,
      "outputs": []
    },
    {
      "cell_type": "code",
      "source": [
        "traj = mdtraj.load(pdb)\n",
        "\n",
        "# Create the widget\n",
        "widget = nglview.show_mdtraj(traj)\n",
        "widget.add_ball_and_stick()\n",
        "\n",
        "# Display the widget\n",
        "display(widget)\n",
        "\n",
        "# Define a function to stop spinning and close the widget\n",
        "def stop_spin():\n",
        "    widget.player.spin = False\n",
        "    widget.close()\n",
        "\n",
        "# Set a timer to stop spinning and close the widget after 30 seconds\n",
        "Timer(30, stop_spin).start()\n"
      ],
      "metadata": {
        "id": "FJ1fRF4_WgrC",
        "outputId": "1e1b95e5-c580-477c-f73b-ed114d2f74df",
        "colab": {
          "base_uri": "https://localhost:8080/",
          "height": 17,
          "referenced_widgets": [
            "629ad7ac225e4bdcbe6247bba2934ea0",
            "e78a4e18570b4a22a46221f39f8a1c2e",
            "22c76843fbd2448a84438b78e98da57a",
            "9df9c111a8a84994828c59558f859267",
            "5b5a9cfb34534f14b3efed009b60f848",
            "b15d929c036c401194d8c439a27f32ca",
            "f60116325f9243319c5fd03065170561",
            "67e500c521c2430aa504548b207dff74",
            "cd73c2598ec046bf860b846c095f5a06",
            "0495b13f290f49cc9ed00ca2e93e87ae"
          ]
        }
      },
      "execution_count": 15,
      "outputs": [
        {
          "output_type": "display_data",
          "data": {
            "text/plain": [
              "NGLWidget()"
            ],
            "application/vnd.jupyter.widget-view+json": {
              "version_major": 2,
              "version_minor": 0,
              "model_id": "629ad7ac225e4bdcbe6247bba2934ea0"
            }
          },
          "metadata": {
            "application/vnd.jupyter.widget-view+json": {
              "colab": {
                "custom_widget_manager": {
                  "url": "https://ssl.gstatic.com/colaboratory-static/widgets/colab-cdn-widget-manager/2b70e893a8ba7c0f/manager.min.js"
                }
              }
            }
          }
        }
      ]
    },
    {
      "cell_type": "code",
      "source": [
        "# # Parse the PDB file using BioPython's PDBParser\n",
        "# parser = PDBParser()\n",
        "# structure = parser.get_structure('my_structure', '/content/lb6-filtered.pdb')\n",
        "\n",
        "# # Prepare coordinates for PyEmma\n",
        "# coordinates = []\n",
        "# for model in structure:\n",
        "#     for chain in model:\n",
        "#         for residue in chain:\n",
        "#             for atom in residue:\n",
        "#                 coordinates.append(atom.get_coord())\n",
        "\n",
        "# # Convert coordinates to PyEmma's format (assuming 3D coordinates)\n",
        "# coordinates = [list(atom_coord) for atom_coord in coordinates]\n",
        "\n",
        "\n",
        "# # Perform PyEmma analysis (example: PCA)\n",
        "# #pca = pyemma.coordinates.pca(coordinates)\n"
      ],
      "metadata": {
        "id": "fLUY1Nz-UFGL"
      },
      "execution_count": 16,
      "outputs": []
    },
    {
      "cell_type": "code",
      "source": [
        "# # Define the file path for saving the coordinates\n",
        "# txt_file = '/content/coordinates.txt'\n",
        "\n",
        "\n",
        "# # Write coordinates to a text file\n",
        "# with open(txt_file, 'w') as file:\n",
        "#     for coord in coordinates:\n",
        "#         file.write(','.join(map(str, coord)) + '\\n')\n"
      ],
      "metadata": {
        "id": "cqvPfn9rSN6Q"
      },
      "execution_count": 17,
      "outputs": []
    },
    {
      "cell_type": "code",
      "source": [],
      "metadata": {
        "id": "8NP3ekd3jhBT"
      },
      "execution_count": 17,
      "outputs": []
    }
  ]
}