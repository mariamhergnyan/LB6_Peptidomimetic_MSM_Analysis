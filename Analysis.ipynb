{
  "nbformat": 4,
  "nbformat_minor": 0,
  "metadata": {
    "colab": {
      "provenance": [],
      "authorship_tag": "ABX9TyPkl/9h3No8FbU8dllCn9sK",
      "include_colab_link": true
    },
    "kernelspec": {
      "name": "python3",
      "display_name": "Python 3"
    },
    "language_info": {
      "name": "python"
    },
    "widgets": {
      "application/vnd.jupyter.widget-state+json": {
        "1cd6c403adb04be89fabed1878dbd186": {
          "model_module": "nglview-js-widgets",
          "model_name": "ColormakerRegistryModel",
          "model_module_version": "3.1.0",
          "state": {
            "_dom_classes": [],
            "_model_module": "nglview-js-widgets",
            "_model_module_version": "3.1.0",
            "_model_name": "ColormakerRegistryModel",
            "_msg_ar": [],
            "_msg_q": [],
            "_ready": false,
            "_view_count": null,
            "_view_module": "nglview-js-widgets",
            "_view_module_version": "3.1.0",
            "_view_name": "ColormakerRegistryView",
            "layout": "IPY_MODEL_1d71ef898a3e42c8a2c3bb9ee0065045",
            "tabbable": null,
            "tooltip": null
          }
        },
        "9c925fd4c74a4eaba23e7c6d46128179": {
          "model_module": "@jupyter-widgets/controls",
          "model_name": "HBoxModel",
          "model_module_version": "2.0.0",
          "state": {
            "_dom_classes": [],
            "_model_module": "@jupyter-widgets/controls",
            "_model_module_version": "2.0.0",
            "_model_name": "HBoxModel",
            "_view_count": null,
            "_view_module": "@jupyter-widgets/controls",
            "_view_module_version": "2.0.0",
            "_view_name": "HBoxView",
            "box_style": "",
            "children": [
              "IPY_MODEL_95a1846e811f472c978b9818441a1300",
              "IPY_MODEL_f0d48b5c6de8468fb78506e4795d9a2a",
              "IPY_MODEL_5ca73d52c9be4102a9f6be147812f400"
            ],
            "layout": "IPY_MODEL_eadc4f0f62ab4097a5f9132b94898d30",
            "tabbable": null,
            "tooltip": null
          }
        },
        "95a1846e811f472c978b9818441a1300": {
          "model_module": "@jupyter-widgets/controls",
          "model_name": "HTMLModel",
          "model_module_version": "2.0.0",
          "state": {
            "_dom_classes": [],
            "_model_module": "@jupyter-widgets/controls",
            "_model_module_version": "2.0.0",
            "_model_name": "HTMLModel",
            "_view_count": null,
            "_view_module": "@jupyter-widgets/controls",
            "_view_module_version": "2.0.0",
            "_view_name": "HTMLView",
            "description": "",
            "description_allow_html": false,
            "layout": "IPY_MODEL_5fc7da50065848739a06390ec84e0a45",
            "placeholder": "​",
            "style": "IPY_MODEL_4323a0c2b1ad46a6829c31d6102d8ba3",
            "tabbable": null,
            "tooltip": null,
            "value": "100%"
          }
        },
        "f0d48b5c6de8468fb78506e4795d9a2a": {
          "model_module": "@jupyter-widgets/controls",
          "model_name": "FloatProgressModel",
          "model_module_version": "2.0.0",
          "state": {
            "_dom_classes": [],
            "_model_module": "@jupyter-widgets/controls",
            "_model_module_version": "2.0.0",
            "_model_name": "FloatProgressModel",
            "_view_count": null,
            "_view_module": "@jupyter-widgets/controls",
            "_view_module_version": "2.0.0",
            "_view_name": "ProgressView",
            "bar_style": "",
            "description": "",
            "description_allow_html": false,
            "layout": "IPY_MODEL_6d23bd02870448a19d4709ced9658ad2",
            "max": 12,
            "min": 0,
            "orientation": "horizontal",
            "style": "IPY_MODEL_519d3679feb24ead815418b623d0ac10",
            "tabbable": null,
            "tooltip": null,
            "value": 12
          }
        },
        "5ca73d52c9be4102a9f6be147812f400": {
          "model_module": "@jupyter-widgets/controls",
          "model_name": "HTMLModel",
          "model_module_version": "2.0.0",
          "state": {
            "_dom_classes": [],
            "_model_module": "@jupyter-widgets/controls",
            "_model_module_version": "2.0.0",
            "_model_name": "HTMLModel",
            "_view_count": null,
            "_view_module": "@jupyter-widgets/controls",
            "_view_module_version": "2.0.0",
            "_view_name": "HTMLView",
            "description": "",
            "description_allow_html": false,
            "layout": "IPY_MODEL_925de4dcfd0f441fa1bb3c7f1d5837fe",
            "placeholder": "​",
            "style": "IPY_MODEL_822ade3f5be747f1941acef9793cab0f",
            "tabbable": null,
            "tooltip": null,
            "value": " 12/12 [00:00&lt;00:00, 410.76it/s]"
          }
        },
        "eadc4f0f62ab4097a5f9132b94898d30": {
          "model_module": "@jupyter-widgets/base",
          "model_name": "LayoutModel",
          "model_module_version": "2.0.0",
          "state": {
            "_model_module": "@jupyter-widgets/base",
            "_model_module_version": "2.0.0",
            "_model_name": "LayoutModel",
            "_view_count": null,
            "_view_module": "@jupyter-widgets/base",
            "_view_module_version": "2.0.0",
            "_view_name": "LayoutView",
            "align_content": null,
            "align_items": null,
            "align_self": null,
            "border_bottom": null,
            "border_left": null,
            "border_right": null,
            "border_top": null,
            "bottom": null,
            "display": "inline-flex",
            "flex": null,
            "flex_flow": "row wrap",
            "grid_area": null,
            "grid_auto_columns": null,
            "grid_auto_flow": null,
            "grid_auto_rows": null,
            "grid_column": null,
            "grid_gap": null,
            "grid_row": null,
            "grid_template_areas": null,
            "grid_template_columns": null,
            "grid_template_rows": null,
            "height": null,
            "justify_content": null,
            "justify_items": null,
            "left": null,
            "margin": null,
            "max_height": null,
            "max_width": null,
            "min_height": null,
            "min_width": null,
            "object_fit": null,
            "object_position": null,
            "order": null,
            "overflow": null,
            "padding": null,
            "right": null,
            "top": null,
            "visibility": "hidden",
            "width": "100%"
          }
        },
        "5fc7da50065848739a06390ec84e0a45": {
          "model_module": "@jupyter-widgets/base",
          "model_name": "LayoutModel",
          "model_module_version": "2.0.0",
          "state": {
            "_model_module": "@jupyter-widgets/base",
            "_model_module_version": "2.0.0",
            "_model_name": "LayoutModel",
            "_view_count": null,
            "_view_module": "@jupyter-widgets/base",
            "_view_module_version": "2.0.0",
            "_view_name": "LayoutView",
            "align_content": null,
            "align_items": null,
            "align_self": null,
            "border_bottom": null,
            "border_left": null,
            "border_right": null,
            "border_top": null,
            "bottom": null,
            "display": null,
            "flex": null,
            "flex_flow": null,
            "grid_area": null,
            "grid_auto_columns": null,
            "grid_auto_flow": null,
            "grid_auto_rows": null,
            "grid_column": null,
            "grid_gap": null,
            "grid_row": null,
            "grid_template_areas": null,
            "grid_template_columns": null,
            "grid_template_rows": null,
            "height": null,
            "justify_content": null,
            "justify_items": null,
            "left": null,
            "margin": null,
            "max_height": null,
            "max_width": null,
            "min_height": null,
            "min_width": null,
            "object_fit": null,
            "object_position": null,
            "order": null,
            "overflow": null,
            "padding": null,
            "right": null,
            "top": null,
            "visibility": null,
            "width": null
          }
        },
        "4323a0c2b1ad46a6829c31d6102d8ba3": {
          "model_module": "@jupyter-widgets/controls",
          "model_name": "HTMLStyleModel",
          "model_module_version": "2.0.0",
          "state": {
            "_model_module": "@jupyter-widgets/controls",
            "_model_module_version": "2.0.0",
            "_model_name": "HTMLStyleModel",
            "_view_count": null,
            "_view_module": "@jupyter-widgets/base",
            "_view_module_version": "2.0.0",
            "_view_name": "StyleView",
            "background": null,
            "description_width": "",
            "font_size": null,
            "text_color": null
          }
        },
        "6d23bd02870448a19d4709ced9658ad2": {
          "model_module": "@jupyter-widgets/base",
          "model_name": "LayoutModel",
          "model_module_version": "2.0.0",
          "state": {
            "_model_module": "@jupyter-widgets/base",
            "_model_module_version": "2.0.0",
            "_model_name": "LayoutModel",
            "_view_count": null,
            "_view_module": "@jupyter-widgets/base",
            "_view_module_version": "2.0.0",
            "_view_name": "LayoutView",
            "align_content": null,
            "align_items": null,
            "align_self": null,
            "border_bottom": null,
            "border_left": null,
            "border_right": null,
            "border_top": null,
            "bottom": null,
            "display": null,
            "flex": "2",
            "flex_flow": null,
            "grid_area": null,
            "grid_auto_columns": null,
            "grid_auto_flow": null,
            "grid_auto_rows": null,
            "grid_column": null,
            "grid_gap": null,
            "grid_row": null,
            "grid_template_areas": null,
            "grid_template_columns": null,
            "grid_template_rows": null,
            "height": null,
            "justify_content": null,
            "justify_items": null,
            "left": null,
            "margin": null,
            "max_height": null,
            "max_width": null,
            "min_height": null,
            "min_width": null,
            "object_fit": null,
            "object_position": null,
            "order": null,
            "overflow": null,
            "padding": null,
            "right": null,
            "top": null,
            "visibility": null,
            "width": null
          }
        },
        "519d3679feb24ead815418b623d0ac10": {
          "model_module": "@jupyter-widgets/controls",
          "model_name": "ProgressStyleModel",
          "model_module_version": "2.0.0",
          "state": {
            "_model_module": "@jupyter-widgets/controls",
            "_model_module_version": "2.0.0",
            "_model_name": "ProgressStyleModel",
            "_view_count": null,
            "_view_module": "@jupyter-widgets/base",
            "_view_module_version": "2.0.0",
            "_view_name": "StyleView",
            "bar_color": null,
            "description_width": ""
          }
        },
        "925de4dcfd0f441fa1bb3c7f1d5837fe": {
          "model_module": "@jupyter-widgets/base",
          "model_name": "LayoutModel",
          "model_module_version": "2.0.0",
          "state": {
            "_model_module": "@jupyter-widgets/base",
            "_model_module_version": "2.0.0",
            "_model_name": "LayoutModel",
            "_view_count": null,
            "_view_module": "@jupyter-widgets/base",
            "_view_module_version": "2.0.0",
            "_view_name": "LayoutView",
            "align_content": null,
            "align_items": null,
            "align_self": null,
            "border_bottom": null,
            "border_left": null,
            "border_right": null,
            "border_top": null,
            "bottom": null,
            "display": null,
            "flex": null,
            "flex_flow": null,
            "grid_area": null,
            "grid_auto_columns": null,
            "grid_auto_flow": null,
            "grid_auto_rows": null,
            "grid_column": null,
            "grid_gap": null,
            "grid_row": null,
            "grid_template_areas": null,
            "grid_template_columns": null,
            "grid_template_rows": null,
            "height": null,
            "justify_content": null,
            "justify_items": null,
            "left": null,
            "margin": null,
            "max_height": null,
            "max_width": null,
            "min_height": null,
            "min_width": null,
            "object_fit": null,
            "object_position": null,
            "order": null,
            "overflow": null,
            "padding": null,
            "right": null,
            "top": null,
            "visibility": null,
            "width": null
          }
        },
        "822ade3f5be747f1941acef9793cab0f": {
          "model_module": "@jupyter-widgets/controls",
          "model_name": "HTMLStyleModel",
          "model_module_version": "2.0.0",
          "state": {
            "_model_module": "@jupyter-widgets/controls",
            "_model_module_version": "2.0.0",
            "_model_name": "HTMLStyleModel",
            "_view_count": null,
            "_view_module": "@jupyter-widgets/base",
            "_view_module_version": "2.0.0",
            "_view_name": "StyleView",
            "background": null,
            "description_width": "",
            "font_size": null,
            "text_color": null
          }
        },
        "1b9c7002297c47b9845f3fb20d813b8e": {
          "model_module": "@jupyter-widgets/base",
          "model_name": "LayoutModel",
          "model_module_version": "2.0.0",
          "state": {
            "_model_module": "@jupyter-widgets/base",
            "_model_module_version": "2.0.0",
            "_model_name": "LayoutModel",
            "_view_count": null,
            "_view_module": "@jupyter-widgets/base",
            "_view_module_version": "2.0.0",
            "_view_name": "LayoutView",
            "align_content": null,
            "align_items": null,
            "align_self": null,
            "border_bottom": null,
            "border_left": null,
            "border_right": null,
            "border_top": null,
            "bottom": null,
            "display": null,
            "flex": "2",
            "flex_flow": null,
            "grid_area": null,
            "grid_auto_columns": null,
            "grid_auto_flow": null,
            "grid_auto_rows": null,
            "grid_column": null,
            "grid_gap": null,
            "grid_row": null,
            "grid_template_areas": null,
            "grid_template_columns": null,
            "grid_template_rows": null,
            "height": null,
            "justify_content": null,
            "justify_items": null,
            "left": null,
            "margin": null,
            "max_height": null,
            "max_width": null,
            "min_height": null,
            "min_width": null,
            "object_fit": null,
            "object_position": null,
            "order": null,
            "overflow": null,
            "padding": null,
            "right": null,
            "top": null,
            "visibility": null,
            "width": null
          }
        },
        "25a354518d004ad5834e922f654f4d56": {
          "model_module": "@jupyter-widgets/controls",
          "model_name": "ProgressStyleModel",
          "model_module_version": "2.0.0",
          "state": {
            "_model_module": "@jupyter-widgets/controls",
            "_model_module_version": "2.0.0",
            "_model_name": "ProgressStyleModel",
            "_view_count": null,
            "_view_module": "@jupyter-widgets/base",
            "_view_module_version": "2.0.0",
            "_view_name": "StyleView",
            "bar_color": null,
            "description_width": ""
          }
        },
        "cb921f7756ca479bba990c1cb85a86bc": {
          "model_module": "@jupyter-widgets/base",
          "model_name": "LayoutModel",
          "model_module_version": "2.0.0",
          "state": {
            "_model_module": "@jupyter-widgets/base",
            "_model_module_version": "2.0.0",
            "_model_name": "LayoutModel",
            "_view_count": null,
            "_view_module": "@jupyter-widgets/base",
            "_view_module_version": "2.0.0",
            "_view_name": "LayoutView",
            "align_content": null,
            "align_items": null,
            "align_self": null,
            "border_bottom": null,
            "border_left": null,
            "border_right": null,
            "border_top": null,
            "bottom": null,
            "display": null,
            "flex": null,
            "flex_flow": null,
            "grid_area": null,
            "grid_auto_columns": null,
            "grid_auto_flow": null,
            "grid_auto_rows": null,
            "grid_column": null,
            "grid_gap": null,
            "grid_row": null,
            "grid_template_areas": null,
            "grid_template_columns": null,
            "grid_template_rows": null,
            "height": null,
            "justify_content": null,
            "justify_items": null,
            "left": null,
            "margin": null,
            "max_height": null,
            "max_width": null,
            "min_height": null,
            "min_width": null,
            "object_fit": null,
            "object_position": null,
            "order": null,
            "overflow": null,
            "padding": null,
            "right": null,
            "top": null,
            "visibility": null,
            "width": null
          }
        },
        "a2a632f0c8ba42cc96a0ecf33275926d": {
          "model_module": "@jupyter-widgets/controls",
          "model_name": "HTMLStyleModel",
          "model_module_version": "2.0.0",
          "state": {
            "_model_module": "@jupyter-widgets/controls",
            "_model_module_version": "2.0.0",
            "_model_name": "HTMLStyleModel",
            "_view_count": null,
            "_view_module": "@jupyter-widgets/base",
            "_view_module_version": "2.0.0",
            "_view_name": "StyleView",
            "background": null,
            "description_width": "",
            "font_size": null,
            "text_color": null
          }
        },
        "4e94900a3d434b1793aeb59502dd415c": {
          "model_module": "@jupyter-widgets/base",
          "model_name": "LayoutModel",
          "model_module_version": "2.0.0",
          "state": {
            "_model_module": "@jupyter-widgets/base",
            "_model_module_version": "2.0.0",
            "_model_name": "LayoutModel",
            "_view_count": null,
            "_view_module": "@jupyter-widgets/base",
            "_view_module_version": "2.0.0",
            "_view_name": "LayoutView",
            "align_content": null,
            "align_items": null,
            "align_self": null,
            "border_bottom": null,
            "border_left": null,
            "border_right": null,
            "border_top": null,
            "bottom": null,
            "display": null,
            "flex": null,
            "flex_flow": null,
            "grid_area": null,
            "grid_auto_columns": null,
            "grid_auto_flow": null,
            "grid_auto_rows": null,
            "grid_column": null,
            "grid_gap": null,
            "grid_row": null,
            "grid_template_areas": null,
            "grid_template_columns": null,
            "grid_template_rows": null,
            "height": null,
            "justify_content": null,
            "justify_items": null,
            "left": null,
            "margin": null,
            "max_height": null,
            "max_width": null,
            "min_height": null,
            "min_width": null,
            "object_fit": null,
            "object_position": null,
            "order": null,
            "overflow": null,
            "padding": null,
            "right": null,
            "top": null,
            "visibility": null,
            "width": null
          }
        },
        "b5c2c9a8fe2b4f7f9341d78742bb22e1": {
          "model_module": "@jupyter-widgets/controls",
          "model_name": "HTMLStyleModel",
          "model_module_version": "2.0.0",
          "state": {
            "_model_module": "@jupyter-widgets/controls",
            "_model_module_version": "2.0.0",
            "_model_name": "HTMLStyleModel",
            "_view_count": null,
            "_view_module": "@jupyter-widgets/base",
            "_view_module_version": "2.0.0",
            "_view_name": "StyleView",
            "background": null,
            "description_width": "",
            "font_size": null,
            "text_color": null
          }
        },
        "0e9b831b76ce4939b27f6739a200e4ed": {
          "model_module": "@jupyter-widgets/controls",
          "model_name": "HTMLModel",
          "model_module_version": "2.0.0",
          "state": {
            "_dom_classes": [],
            "_model_module": "@jupyter-widgets/controls",
            "_model_module_version": "2.0.0",
            "_model_name": "HTMLModel",
            "_view_count": null,
            "_view_module": "@jupyter-widgets/controls",
            "_view_module_version": "2.0.0",
            "_view_name": "HTMLView",
            "description": "",
            "description_allow_html": false,
            "layout": "IPY_MODEL_cb921f7756ca479bba990c1cb85a86bc",
            "placeholder": "​",
            "style": "IPY_MODEL_a2a632f0c8ba42cc96a0ecf33275926d",
            "tabbable": null,
            "tooltip": null,
            "value": "100%"
          }
        },
        "d2e966ae5c8e4cb3bdfa0afa49e5ebfa": {
          "model_module": "@jupyter-widgets/controls",
          "model_name": "FloatProgressModel",
          "model_module_version": "2.0.0",
          "state": {
            "_dom_classes": [],
            "_model_module": "@jupyter-widgets/controls",
            "_model_module_version": "2.0.0",
            "_model_name": "FloatProgressModel",
            "_view_count": null,
            "_view_module": "@jupyter-widgets/controls",
            "_view_module_version": "2.0.0",
            "_view_name": "ProgressView",
            "bar_style": "",
            "description": "",
            "description_allow_html": false,
            "layout": "IPY_MODEL_1b9c7002297c47b9845f3fb20d813b8e",
            "max": 12,
            "min": 0,
            "orientation": "horizontal",
            "style": "IPY_MODEL_25a354518d004ad5834e922f654f4d56",
            "tabbable": null,
            "tooltip": null,
            "value": 12
          }
        },
        "3569208e008c4fe5821f035817cd8e23": {
          "model_module": "@jupyter-widgets/controls",
          "model_name": "HTMLModel",
          "model_module_version": "2.0.0",
          "state": {
            "_dom_classes": [],
            "_model_module": "@jupyter-widgets/controls",
            "_model_module_version": "2.0.0",
            "_model_name": "HTMLModel",
            "_view_count": null,
            "_view_module": "@jupyter-widgets/controls",
            "_view_module_version": "2.0.0",
            "_view_name": "HTMLView",
            "description": "",
            "description_allow_html": false,
            "layout": "IPY_MODEL_4e94900a3d434b1793aeb59502dd415c",
            "placeholder": "​",
            "style": "IPY_MODEL_b5c2c9a8fe2b4f7f9341d78742bb22e1",
            "tabbable": null,
            "tooltip": null,
            "value": " 12/12 [00:00&lt;00:00, 194.30it/s]"
          }
        },
        "5add075902724870b96dbdeeeda04aff": {
          "model_module": "@jupyter-widgets/base",
          "model_name": "LayoutModel",
          "model_module_version": "2.0.0",
          "state": {
            "_model_module": "@jupyter-widgets/base",
            "_model_module_version": "2.0.0",
            "_model_name": "LayoutModel",
            "_view_count": null,
            "_view_module": "@jupyter-widgets/base",
            "_view_module_version": "2.0.0",
            "_view_name": "LayoutView",
            "align_content": null,
            "align_items": null,
            "align_self": null,
            "border_bottom": null,
            "border_left": null,
            "border_right": null,
            "border_top": null,
            "bottom": null,
            "display": "inline-flex",
            "flex": null,
            "flex_flow": "row wrap",
            "grid_area": null,
            "grid_auto_columns": null,
            "grid_auto_flow": null,
            "grid_auto_rows": null,
            "grid_column": null,
            "grid_gap": null,
            "grid_row": null,
            "grid_template_areas": null,
            "grid_template_columns": null,
            "grid_template_rows": null,
            "height": null,
            "justify_content": null,
            "justify_items": null,
            "left": null,
            "margin": null,
            "max_height": null,
            "max_width": null,
            "min_height": null,
            "min_width": null,
            "object_fit": null,
            "object_position": null,
            "order": null,
            "overflow": null,
            "padding": null,
            "right": null,
            "top": null,
            "visibility": "hidden",
            "width": "100%"
          }
        },
        "43372ea1e819403aacc64b0c901d0f5b": {
          "model_module": "@jupyter-widgets/controls",
          "model_name": "HBoxModel",
          "model_module_version": "2.0.0",
          "state": {
            "_dom_classes": [],
            "_model_module": "@jupyter-widgets/controls",
            "_model_module_version": "2.0.0",
            "_model_name": "HBoxModel",
            "_view_count": null,
            "_view_module": "@jupyter-widgets/controls",
            "_view_module_version": "2.0.0",
            "_view_name": "HBoxView",
            "box_style": "",
            "children": [
              "IPY_MODEL_0e9b831b76ce4939b27f6739a200e4ed",
              "IPY_MODEL_d2e966ae5c8e4cb3bdfa0afa49e5ebfa",
              "IPY_MODEL_3569208e008c4fe5821f035817cd8e23"
            ],
            "layout": "IPY_MODEL_5add075902724870b96dbdeeeda04aff",
            "tabbable": null,
            "tooltip": null
          }
        },
        "207891b4413544debc3c186c4ee0bc48": {
          "model_module": "@jupyter-widgets/controls",
          "model_name": "HBoxModel",
          "model_module_version": "2.0.0",
          "state": {
            "_dom_classes": [],
            "_model_module": "@jupyter-widgets/controls",
            "_model_module_version": "2.0.0",
            "_model_name": "HBoxModel",
            "_view_count": null,
            "_view_module": "@jupyter-widgets/controls",
            "_view_module_version": "2.0.0",
            "_view_name": "HBoxView",
            "box_style": "",
            "children": [
              "IPY_MODEL_38f01b64d7fe48b68c7995125f651e1d",
              "IPY_MODEL_dad22161d5434405a164def47fb08bb7",
              "IPY_MODEL_c6f0a4e70ff04f1d87fb0be49f88f049"
            ],
            "layout": "IPY_MODEL_27fc7240423e436e8db9004570c675fc",
            "tabbable": null,
            "tooltip": null
          }
        },
        "38f01b64d7fe48b68c7995125f651e1d": {
          "model_module": "@jupyter-widgets/controls",
          "model_name": "HTMLModel",
          "model_module_version": "2.0.0",
          "state": {
            "_dom_classes": [],
            "_model_module": "@jupyter-widgets/controls",
            "_model_module_version": "2.0.0",
            "_model_name": "HTMLModel",
            "_view_count": null,
            "_view_module": "@jupyter-widgets/controls",
            "_view_module_version": "2.0.0",
            "_view_name": "HTMLView",
            "description": "",
            "description_allow_html": false,
            "layout": "IPY_MODEL_c5a51cb4f7e949c186d77271dbb23e6a",
            "placeholder": "​",
            "style": "IPY_MODEL_69b0a431a41c48ccb410d5bce1923d32",
            "tabbable": null,
            "tooltip": null,
            "value": "100%"
          }
        },
        "dad22161d5434405a164def47fb08bb7": {
          "model_module": "@jupyter-widgets/controls",
          "model_name": "FloatProgressModel",
          "model_module_version": "2.0.0",
          "state": {
            "_dom_classes": [],
            "_model_module": "@jupyter-widgets/controls",
            "_model_module_version": "2.0.0",
            "_model_name": "FloatProgressModel",
            "_view_count": null,
            "_view_module": "@jupyter-widgets/controls",
            "_view_module_version": "2.0.0",
            "_view_name": "ProgressView",
            "bar_style": "",
            "description": "",
            "description_allow_html": false,
            "layout": "IPY_MODEL_6e745d00827d4cbdaafae9a3a5709c17",
            "max": 100,
            "min": 0,
            "orientation": "horizontal",
            "style": "IPY_MODEL_1ae6e933ad7c4abaabe21bdd18d71e49",
            "tabbable": null,
            "tooltip": null,
            "value": 100
          }
        },
        "c6f0a4e70ff04f1d87fb0be49f88f049": {
          "model_module": "@jupyter-widgets/controls",
          "model_name": "HTMLModel",
          "model_module_version": "2.0.0",
          "state": {
            "_dom_classes": [],
            "_model_module": "@jupyter-widgets/controls",
            "_model_module_version": "2.0.0",
            "_model_name": "HTMLModel",
            "_view_count": null,
            "_view_module": "@jupyter-widgets/controls",
            "_view_module_version": "2.0.0",
            "_view_name": "HTMLView",
            "description": "",
            "description_allow_html": false,
            "layout": "IPY_MODEL_343aebaa92fa41df97f48698d02b78f3",
            "placeholder": "​",
            "style": "IPY_MODEL_c2c3486d197d42a492530ff3eb0c7d0c",
            "tabbable": null,
            "tooltip": null,
            "value": " 100/100 [00:00&lt;00:00, 1480.39it/s]"
          }
        },
        "27fc7240423e436e8db9004570c675fc": {
          "model_module": "@jupyter-widgets/base",
          "model_name": "LayoutModel",
          "model_module_version": "2.0.0",
          "state": {
            "_model_module": "@jupyter-widgets/base",
            "_model_module_version": "2.0.0",
            "_model_name": "LayoutModel",
            "_view_count": null,
            "_view_module": "@jupyter-widgets/base",
            "_view_module_version": "2.0.0",
            "_view_name": "LayoutView",
            "align_content": null,
            "align_items": null,
            "align_self": null,
            "border_bottom": null,
            "border_left": null,
            "border_right": null,
            "border_top": null,
            "bottom": null,
            "display": "inline-flex",
            "flex": null,
            "flex_flow": "row wrap",
            "grid_area": null,
            "grid_auto_columns": null,
            "grid_auto_flow": null,
            "grid_auto_rows": null,
            "grid_column": null,
            "grid_gap": null,
            "grid_row": null,
            "grid_template_areas": null,
            "grid_template_columns": null,
            "grid_template_rows": null,
            "height": null,
            "justify_content": null,
            "justify_items": null,
            "left": null,
            "margin": null,
            "max_height": null,
            "max_width": null,
            "min_height": null,
            "min_width": null,
            "object_fit": null,
            "object_position": null,
            "order": null,
            "overflow": null,
            "padding": null,
            "right": null,
            "top": null,
            "visibility": "hidden",
            "width": "100%"
          }
        },
        "c5a51cb4f7e949c186d77271dbb23e6a": {
          "model_module": "@jupyter-widgets/base",
          "model_name": "LayoutModel",
          "model_module_version": "2.0.0",
          "state": {
            "_model_module": "@jupyter-widgets/base",
            "_model_module_version": "2.0.0",
            "_model_name": "LayoutModel",
            "_view_count": null,
            "_view_module": "@jupyter-widgets/base",
            "_view_module_version": "2.0.0",
            "_view_name": "LayoutView",
            "align_content": null,
            "align_items": null,
            "align_self": null,
            "border_bottom": null,
            "border_left": null,
            "border_right": null,
            "border_top": null,
            "bottom": null,
            "display": null,
            "flex": null,
            "flex_flow": null,
            "grid_area": null,
            "grid_auto_columns": null,
            "grid_auto_flow": null,
            "grid_auto_rows": null,
            "grid_column": null,
            "grid_gap": null,
            "grid_row": null,
            "grid_template_areas": null,
            "grid_template_columns": null,
            "grid_template_rows": null,
            "height": null,
            "justify_content": null,
            "justify_items": null,
            "left": null,
            "margin": null,
            "max_height": null,
            "max_width": null,
            "min_height": null,
            "min_width": null,
            "object_fit": null,
            "object_position": null,
            "order": null,
            "overflow": null,
            "padding": null,
            "right": null,
            "top": null,
            "visibility": null,
            "width": null
          }
        },
        "69b0a431a41c48ccb410d5bce1923d32": {
          "model_module": "@jupyter-widgets/controls",
          "model_name": "HTMLStyleModel",
          "model_module_version": "2.0.0",
          "state": {
            "_model_module": "@jupyter-widgets/controls",
            "_model_module_version": "2.0.0",
            "_model_name": "HTMLStyleModel",
            "_view_count": null,
            "_view_module": "@jupyter-widgets/base",
            "_view_module_version": "2.0.0",
            "_view_name": "StyleView",
            "background": null,
            "description_width": "",
            "font_size": null,
            "text_color": null
          }
        },
        "6e745d00827d4cbdaafae9a3a5709c17": {
          "model_module": "@jupyter-widgets/base",
          "model_name": "LayoutModel",
          "model_module_version": "2.0.0",
          "state": {
            "_model_module": "@jupyter-widgets/base",
            "_model_module_version": "2.0.0",
            "_model_name": "LayoutModel",
            "_view_count": null,
            "_view_module": "@jupyter-widgets/base",
            "_view_module_version": "2.0.0",
            "_view_name": "LayoutView",
            "align_content": null,
            "align_items": null,
            "align_self": null,
            "border_bottom": null,
            "border_left": null,
            "border_right": null,
            "border_top": null,
            "bottom": null,
            "display": null,
            "flex": "2",
            "flex_flow": null,
            "grid_area": null,
            "grid_auto_columns": null,
            "grid_auto_flow": null,
            "grid_auto_rows": null,
            "grid_column": null,
            "grid_gap": null,
            "grid_row": null,
            "grid_template_areas": null,
            "grid_template_columns": null,
            "grid_template_rows": null,
            "height": null,
            "justify_content": null,
            "justify_items": null,
            "left": null,
            "margin": null,
            "max_height": null,
            "max_width": null,
            "min_height": null,
            "min_width": null,
            "object_fit": null,
            "object_position": null,
            "order": null,
            "overflow": null,
            "padding": null,
            "right": null,
            "top": null,
            "visibility": null,
            "width": null
          }
        },
        "1ae6e933ad7c4abaabe21bdd18d71e49": {
          "model_module": "@jupyter-widgets/controls",
          "model_name": "ProgressStyleModel",
          "model_module_version": "2.0.0",
          "state": {
            "_model_module": "@jupyter-widgets/controls",
            "_model_module_version": "2.0.0",
            "_model_name": "ProgressStyleModel",
            "_view_count": null,
            "_view_module": "@jupyter-widgets/base",
            "_view_module_version": "2.0.0",
            "_view_name": "StyleView",
            "bar_color": null,
            "description_width": ""
          }
        },
        "343aebaa92fa41df97f48698d02b78f3": {
          "model_module": "@jupyter-widgets/base",
          "model_name": "LayoutModel",
          "model_module_version": "2.0.0",
          "state": {
            "_model_module": "@jupyter-widgets/base",
            "_model_module_version": "2.0.0",
            "_model_name": "LayoutModel",
            "_view_count": null,
            "_view_module": "@jupyter-widgets/base",
            "_view_module_version": "2.0.0",
            "_view_name": "LayoutView",
            "align_content": null,
            "align_items": null,
            "align_self": null,
            "border_bottom": null,
            "border_left": null,
            "border_right": null,
            "border_top": null,
            "bottom": null,
            "display": null,
            "flex": null,
            "flex_flow": null,
            "grid_area": null,
            "grid_auto_columns": null,
            "grid_auto_flow": null,
            "grid_auto_rows": null,
            "grid_column": null,
            "grid_gap": null,
            "grid_row": null,
            "grid_template_areas": null,
            "grid_template_columns": null,
            "grid_template_rows": null,
            "height": null,
            "justify_content": null,
            "justify_items": null,
            "left": null,
            "margin": null,
            "max_height": null,
            "max_width": null,
            "min_height": null,
            "min_width": null,
            "object_fit": null,
            "object_position": null,
            "order": null,
            "overflow": null,
            "padding": null,
            "right": null,
            "top": null,
            "visibility": null,
            "width": null
          }
        },
        "c2c3486d197d42a492530ff3eb0c7d0c": {
          "model_module": "@jupyter-widgets/controls",
          "model_name": "HTMLStyleModel",
          "model_module_version": "2.0.0",
          "state": {
            "_model_module": "@jupyter-widgets/controls",
            "_model_module_version": "2.0.0",
            "_model_name": "HTMLStyleModel",
            "_view_count": null,
            "_view_module": "@jupyter-widgets/base",
            "_view_module_version": "2.0.0",
            "_view_name": "StyleView",
            "background": null,
            "description_width": "",
            "font_size": null,
            "text_color": null
          }
        },
        "54b44b931ec54b66b0ae8125dce551e5": {
          "model_module": "@jupyter-widgets/controls",
          "model_name": "HBoxModel",
          "model_module_version": "2.0.0",
          "state": {
            "_dom_classes": [],
            "_model_module": "@jupyter-widgets/controls",
            "_model_module_version": "2.0.0",
            "_model_name": "HBoxModel",
            "_view_count": null,
            "_view_module": "@jupyter-widgets/controls",
            "_view_module_version": "2.0.0",
            "_view_name": "HBoxView",
            "box_style": "",
            "children": [
              "IPY_MODEL_3a1d7a88e96743b4bcc5ba286f7665bb",
              "IPY_MODEL_cc87d1e9ce4344b7b2135f3c5cbaebef",
              "IPY_MODEL_09fa8a0393914443bdbac82314c0dc87"
            ],
            "layout": "IPY_MODEL_76461a694efb4ad2bff684e7f1bf2004",
            "tabbable": null,
            "tooltip": null
          }
        },
        "3a1d7a88e96743b4bcc5ba286f7665bb": {
          "model_module": "@jupyter-widgets/controls",
          "model_name": "HTMLModel",
          "model_module_version": "2.0.0",
          "state": {
            "_dom_classes": [],
            "_model_module": "@jupyter-widgets/controls",
            "_model_module_version": "2.0.0",
            "_model_name": "HTMLModel",
            "_view_count": null,
            "_view_module": "@jupyter-widgets/controls",
            "_view_module_version": "2.0.0",
            "_view_name": "HTMLView",
            "description": "",
            "description_allow_html": false,
            "layout": "IPY_MODEL_175186ecc7d0432e8ba8c160eb52ef28",
            "placeholder": "​",
            "style": "IPY_MODEL_f4cc684efa934daa8bb1d77de1728ad8",
            "tabbable": null,
            "tooltip": null,
            "value": "100%"
          }
        },
        "cc87d1e9ce4344b7b2135f3c5cbaebef": {
          "model_module": "@jupyter-widgets/controls",
          "model_name": "FloatProgressModel",
          "model_module_version": "2.0.0",
          "state": {
            "_dom_classes": [],
            "_model_module": "@jupyter-widgets/controls",
            "_model_module_version": "2.0.0",
            "_model_name": "FloatProgressModel",
            "_view_count": null,
            "_view_module": "@jupyter-widgets/controls",
            "_view_module_version": "2.0.0",
            "_view_name": "ProgressView",
            "bar_style": "",
            "description": "",
            "description_allow_html": false,
            "layout": "IPY_MODEL_44f33f5104754e5995bf99f7e40eb8a2",
            "max": 50,
            "min": 0,
            "orientation": "horizontal",
            "style": "IPY_MODEL_40a835ec352b4417824de5854a502dd3",
            "tabbable": null,
            "tooltip": null,
            "value": 50
          }
        },
        "09fa8a0393914443bdbac82314c0dc87": {
          "model_module": "@jupyter-widgets/controls",
          "model_name": "HTMLModel",
          "model_module_version": "2.0.0",
          "state": {
            "_dom_classes": [],
            "_model_module": "@jupyter-widgets/controls",
            "_model_module_version": "2.0.0",
            "_model_name": "HTMLModel",
            "_view_count": null,
            "_view_module": "@jupyter-widgets/controls",
            "_view_module_version": "2.0.0",
            "_view_name": "HTMLView",
            "description": "",
            "description_allow_html": false,
            "layout": "IPY_MODEL_c3d577f0055a48b6bcb987d0ecc9b093",
            "placeholder": "​",
            "style": "IPY_MODEL_f22646e572ee4b1c971f4d21e847e2a2",
            "tabbable": null,
            "tooltip": null,
            "value": " 50/50 [00:00&lt;00:00, 1159.80it/s]"
          }
        },
        "76461a694efb4ad2bff684e7f1bf2004": {
          "model_module": "@jupyter-widgets/base",
          "model_name": "LayoutModel",
          "model_module_version": "2.0.0",
          "state": {
            "_model_module": "@jupyter-widgets/base",
            "_model_module_version": "2.0.0",
            "_model_name": "LayoutModel",
            "_view_count": null,
            "_view_module": "@jupyter-widgets/base",
            "_view_module_version": "2.0.0",
            "_view_name": "LayoutView",
            "align_content": null,
            "align_items": null,
            "align_self": null,
            "border_bottom": null,
            "border_left": null,
            "border_right": null,
            "border_top": null,
            "bottom": null,
            "display": "inline-flex",
            "flex": null,
            "flex_flow": "row wrap",
            "grid_area": null,
            "grid_auto_columns": null,
            "grid_auto_flow": null,
            "grid_auto_rows": null,
            "grid_column": null,
            "grid_gap": null,
            "grid_row": null,
            "grid_template_areas": null,
            "grid_template_columns": null,
            "grid_template_rows": null,
            "height": null,
            "justify_content": null,
            "justify_items": null,
            "left": null,
            "margin": null,
            "max_height": null,
            "max_width": null,
            "min_height": null,
            "min_width": null,
            "object_fit": null,
            "object_position": null,
            "order": null,
            "overflow": null,
            "padding": null,
            "right": null,
            "top": null,
            "visibility": "hidden",
            "width": "100%"
          }
        },
        "175186ecc7d0432e8ba8c160eb52ef28": {
          "model_module": "@jupyter-widgets/base",
          "model_name": "LayoutModel",
          "model_module_version": "2.0.0",
          "state": {
            "_model_module": "@jupyter-widgets/base",
            "_model_module_version": "2.0.0",
            "_model_name": "LayoutModel",
            "_view_count": null,
            "_view_module": "@jupyter-widgets/base",
            "_view_module_version": "2.0.0",
            "_view_name": "LayoutView",
            "align_content": null,
            "align_items": null,
            "align_self": null,
            "border_bottom": null,
            "border_left": null,
            "border_right": null,
            "border_top": null,
            "bottom": null,
            "display": null,
            "flex": null,
            "flex_flow": null,
            "grid_area": null,
            "grid_auto_columns": null,
            "grid_auto_flow": null,
            "grid_auto_rows": null,
            "grid_column": null,
            "grid_gap": null,
            "grid_row": null,
            "grid_template_areas": null,
            "grid_template_columns": null,
            "grid_template_rows": null,
            "height": null,
            "justify_content": null,
            "justify_items": null,
            "left": null,
            "margin": null,
            "max_height": null,
            "max_width": null,
            "min_height": null,
            "min_width": null,
            "object_fit": null,
            "object_position": null,
            "order": null,
            "overflow": null,
            "padding": null,
            "right": null,
            "top": null,
            "visibility": null,
            "width": null
          }
        },
        "f4cc684efa934daa8bb1d77de1728ad8": {
          "model_module": "@jupyter-widgets/controls",
          "model_name": "HTMLStyleModel",
          "model_module_version": "2.0.0",
          "state": {
            "_model_module": "@jupyter-widgets/controls",
            "_model_module_version": "2.0.0",
            "_model_name": "HTMLStyleModel",
            "_view_count": null,
            "_view_module": "@jupyter-widgets/base",
            "_view_module_version": "2.0.0",
            "_view_name": "StyleView",
            "background": null,
            "description_width": "",
            "font_size": null,
            "text_color": null
          }
        },
        "44f33f5104754e5995bf99f7e40eb8a2": {
          "model_module": "@jupyter-widgets/base",
          "model_name": "LayoutModel",
          "model_module_version": "2.0.0",
          "state": {
            "_model_module": "@jupyter-widgets/base",
            "_model_module_version": "2.0.0",
            "_model_name": "LayoutModel",
            "_view_count": null,
            "_view_module": "@jupyter-widgets/base",
            "_view_module_version": "2.0.0",
            "_view_name": "LayoutView",
            "align_content": null,
            "align_items": null,
            "align_self": null,
            "border_bottom": null,
            "border_left": null,
            "border_right": null,
            "border_top": null,
            "bottom": null,
            "display": null,
            "flex": "2",
            "flex_flow": null,
            "grid_area": null,
            "grid_auto_columns": null,
            "grid_auto_flow": null,
            "grid_auto_rows": null,
            "grid_column": null,
            "grid_gap": null,
            "grid_row": null,
            "grid_template_areas": null,
            "grid_template_columns": null,
            "grid_template_rows": null,
            "height": null,
            "justify_content": null,
            "justify_items": null,
            "left": null,
            "margin": null,
            "max_height": null,
            "max_width": null,
            "min_height": null,
            "min_width": null,
            "object_fit": null,
            "object_position": null,
            "order": null,
            "overflow": null,
            "padding": null,
            "right": null,
            "top": null,
            "visibility": null,
            "width": null
          }
        },
        "40a835ec352b4417824de5854a502dd3": {
          "model_module": "@jupyter-widgets/controls",
          "model_name": "ProgressStyleModel",
          "model_module_version": "2.0.0",
          "state": {
            "_model_module": "@jupyter-widgets/controls",
            "_model_module_version": "2.0.0",
            "_model_name": "ProgressStyleModel",
            "_view_count": null,
            "_view_module": "@jupyter-widgets/base",
            "_view_module_version": "2.0.0",
            "_view_name": "StyleView",
            "bar_color": null,
            "description_width": ""
          }
        },
        "c3d577f0055a48b6bcb987d0ecc9b093": {
          "model_module": "@jupyter-widgets/base",
          "model_name": "LayoutModel",
          "model_module_version": "2.0.0",
          "state": {
            "_model_module": "@jupyter-widgets/base",
            "_model_module_version": "2.0.0",
            "_model_name": "LayoutModel",
            "_view_count": null,
            "_view_module": "@jupyter-widgets/base",
            "_view_module_version": "2.0.0",
            "_view_name": "LayoutView",
            "align_content": null,
            "align_items": null,
            "align_self": null,
            "border_bottom": null,
            "border_left": null,
            "border_right": null,
            "border_top": null,
            "bottom": null,
            "display": null,
            "flex": null,
            "flex_flow": null,
            "grid_area": null,
            "grid_auto_columns": null,
            "grid_auto_flow": null,
            "grid_auto_rows": null,
            "grid_column": null,
            "grid_gap": null,
            "grid_row": null,
            "grid_template_areas": null,
            "grid_template_columns": null,
            "grid_template_rows": null,
            "height": null,
            "justify_content": null,
            "justify_items": null,
            "left": null,
            "margin": null,
            "max_height": null,
            "max_width": null,
            "min_height": null,
            "min_width": null,
            "object_fit": null,
            "object_position": null,
            "order": null,
            "overflow": null,
            "padding": null,
            "right": null,
            "top": null,
            "visibility": null,
            "width": null
          }
        },
        "f22646e572ee4b1c971f4d21e847e2a2": {
          "model_module": "@jupyter-widgets/controls",
          "model_name": "HTMLStyleModel",
          "model_module_version": "2.0.0",
          "state": {
            "_model_module": "@jupyter-widgets/controls",
            "_model_module_version": "2.0.0",
            "_model_name": "HTMLStyleModel",
            "_view_count": null,
            "_view_module": "@jupyter-widgets/base",
            "_view_module_version": "2.0.0",
            "_view_name": "StyleView",
            "background": null,
            "description_width": "",
            "font_size": null,
            "text_color": null
          }
        },
        "c2dc218b4f1e40eeb596e7d4da53e7bb": {
          "model_module": "@jupyter-widgets/controls",
          "model_name": "HBoxModel",
          "model_module_version": "2.0.0",
          "state": {
            "_dom_classes": [],
            "_model_module": "@jupyter-widgets/controls",
            "_model_module_version": "2.0.0",
            "_model_name": "HBoxModel",
            "_view_count": null,
            "_view_module": "@jupyter-widgets/controls",
            "_view_module_version": "2.0.0",
            "_view_name": "HBoxView",
            "box_style": "",
            "children": [
              "IPY_MODEL_a97999a6ee404602989530871b239158",
              "IPY_MODEL_db92d42e75ba4fba8f6c09cac29fc50c",
              "IPY_MODEL_7f3c78750095410e8672e7aab72048e3"
            ],
            "layout": "IPY_MODEL_44e4138b683c494db939c0d6876c3d24",
            "tabbable": null,
            "tooltip": null
          }
        },
        "a97999a6ee404602989530871b239158": {
          "model_module": "@jupyter-widgets/controls",
          "model_name": "HTMLModel",
          "model_module_version": "2.0.0",
          "state": {
            "_dom_classes": [],
            "_model_module": "@jupyter-widgets/controls",
            "_model_module_version": "2.0.0",
            "_model_name": "HTMLModel",
            "_view_count": null,
            "_view_module": "@jupyter-widgets/controls",
            "_view_module_version": "2.0.0",
            "_view_name": "HTMLView",
            "description": "",
            "description_allow_html": false,
            "layout": "IPY_MODEL_77dd75270357479f9f484bd109cb4c7a",
            "placeholder": "​",
            "style": "IPY_MODEL_0f148674c06d4d65badc2b1dd2ff6356",
            "tabbable": null,
            "tooltip": null,
            "value": "100%"
          }
        },
        "db92d42e75ba4fba8f6c09cac29fc50c": {
          "model_module": "@jupyter-widgets/controls",
          "model_name": "FloatProgressModel",
          "model_module_version": "2.0.0",
          "state": {
            "_dom_classes": [],
            "_model_module": "@jupyter-widgets/controls",
            "_model_module_version": "2.0.0",
            "_model_name": "FloatProgressModel",
            "_view_count": null,
            "_view_module": "@jupyter-widgets/controls",
            "_view_module_version": "2.0.0",
            "_view_name": "ProgressView",
            "bar_style": "",
            "description": "",
            "description_allow_html": false,
            "layout": "IPY_MODEL_fa43690f1b3b48eebbba5df32354fb19",
            "max": 6,
            "min": 0,
            "orientation": "horizontal",
            "style": "IPY_MODEL_961cda4a741b4ac081b5b00b35771fec",
            "tabbable": null,
            "tooltip": null,
            "value": 6
          }
        },
        "7f3c78750095410e8672e7aab72048e3": {
          "model_module": "@jupyter-widgets/controls",
          "model_name": "HTMLModel",
          "model_module_version": "2.0.0",
          "state": {
            "_dom_classes": [],
            "_model_module": "@jupyter-widgets/controls",
            "_model_module_version": "2.0.0",
            "_model_name": "HTMLModel",
            "_view_count": null,
            "_view_module": "@jupyter-widgets/controls",
            "_view_module_version": "2.0.0",
            "_view_name": "HTMLView",
            "description": "",
            "description_allow_html": false,
            "layout": "IPY_MODEL_3b04d3d449d74d108d5f84622cc22b84",
            "placeholder": "​",
            "style": "IPY_MODEL_071a24e6333f4191a3b0174861f78da9",
            "tabbable": null,
            "tooltip": null,
            "value": " 6/6 [00:07&lt;00:00,  1.39it/s]"
          }
        },
        "44e4138b683c494db939c0d6876c3d24": {
          "model_module": "@jupyter-widgets/base",
          "model_name": "LayoutModel",
          "model_module_version": "2.0.0",
          "state": {
            "_model_module": "@jupyter-widgets/base",
            "_model_module_version": "2.0.0",
            "_model_name": "LayoutModel",
            "_view_count": null,
            "_view_module": "@jupyter-widgets/base",
            "_view_module_version": "2.0.0",
            "_view_name": "LayoutView",
            "align_content": null,
            "align_items": null,
            "align_self": null,
            "border_bottom": null,
            "border_left": null,
            "border_right": null,
            "border_top": null,
            "bottom": null,
            "display": "inline-flex",
            "flex": null,
            "flex_flow": "row wrap",
            "grid_area": null,
            "grid_auto_columns": null,
            "grid_auto_flow": null,
            "grid_auto_rows": null,
            "grid_column": null,
            "grid_gap": null,
            "grid_row": null,
            "grid_template_areas": null,
            "grid_template_columns": null,
            "grid_template_rows": null,
            "height": null,
            "justify_content": null,
            "justify_items": null,
            "left": null,
            "margin": null,
            "max_height": null,
            "max_width": null,
            "min_height": null,
            "min_width": null,
            "object_fit": null,
            "object_position": null,
            "order": null,
            "overflow": null,
            "padding": null,
            "right": null,
            "top": null,
            "visibility": "hidden",
            "width": "100%"
          }
        },
        "77dd75270357479f9f484bd109cb4c7a": {
          "model_module": "@jupyter-widgets/base",
          "model_name": "LayoutModel",
          "model_module_version": "2.0.0",
          "state": {
            "_model_module": "@jupyter-widgets/base",
            "_model_module_version": "2.0.0",
            "_model_name": "LayoutModel",
            "_view_count": null,
            "_view_module": "@jupyter-widgets/base",
            "_view_module_version": "2.0.0",
            "_view_name": "LayoutView",
            "align_content": null,
            "align_items": null,
            "align_self": null,
            "border_bottom": null,
            "border_left": null,
            "border_right": null,
            "border_top": null,
            "bottom": null,
            "display": null,
            "flex": null,
            "flex_flow": null,
            "grid_area": null,
            "grid_auto_columns": null,
            "grid_auto_flow": null,
            "grid_auto_rows": null,
            "grid_column": null,
            "grid_gap": null,
            "grid_row": null,
            "grid_template_areas": null,
            "grid_template_columns": null,
            "grid_template_rows": null,
            "height": null,
            "justify_content": null,
            "justify_items": null,
            "left": null,
            "margin": null,
            "max_height": null,
            "max_width": null,
            "min_height": null,
            "min_width": null,
            "object_fit": null,
            "object_position": null,
            "order": null,
            "overflow": null,
            "padding": null,
            "right": null,
            "top": null,
            "visibility": null,
            "width": null
          }
        },
        "0f148674c06d4d65badc2b1dd2ff6356": {
          "model_module": "@jupyter-widgets/controls",
          "model_name": "HTMLStyleModel",
          "model_module_version": "2.0.0",
          "state": {
            "_model_module": "@jupyter-widgets/controls",
            "_model_module_version": "2.0.0",
            "_model_name": "HTMLStyleModel",
            "_view_count": null,
            "_view_module": "@jupyter-widgets/base",
            "_view_module_version": "2.0.0",
            "_view_name": "StyleView",
            "background": null,
            "description_width": "",
            "font_size": null,
            "text_color": null
          }
        },
        "fa43690f1b3b48eebbba5df32354fb19": {
          "model_module": "@jupyter-widgets/base",
          "model_name": "LayoutModel",
          "model_module_version": "2.0.0",
          "state": {
            "_model_module": "@jupyter-widgets/base",
            "_model_module_version": "2.0.0",
            "_model_name": "LayoutModel",
            "_view_count": null,
            "_view_module": "@jupyter-widgets/base",
            "_view_module_version": "2.0.0",
            "_view_name": "LayoutView",
            "align_content": null,
            "align_items": null,
            "align_self": null,
            "border_bottom": null,
            "border_left": null,
            "border_right": null,
            "border_top": null,
            "bottom": null,
            "display": null,
            "flex": "2",
            "flex_flow": null,
            "grid_area": null,
            "grid_auto_columns": null,
            "grid_auto_flow": null,
            "grid_auto_rows": null,
            "grid_column": null,
            "grid_gap": null,
            "grid_row": null,
            "grid_template_areas": null,
            "grid_template_columns": null,
            "grid_template_rows": null,
            "height": null,
            "justify_content": null,
            "justify_items": null,
            "left": null,
            "margin": null,
            "max_height": null,
            "max_width": null,
            "min_height": null,
            "min_width": null,
            "object_fit": null,
            "object_position": null,
            "order": null,
            "overflow": null,
            "padding": null,
            "right": null,
            "top": null,
            "visibility": null,
            "width": null
          }
        },
        "961cda4a741b4ac081b5b00b35771fec": {
          "model_module": "@jupyter-widgets/controls",
          "model_name": "ProgressStyleModel",
          "model_module_version": "2.0.0",
          "state": {
            "_model_module": "@jupyter-widgets/controls",
            "_model_module_version": "2.0.0",
            "_model_name": "ProgressStyleModel",
            "_view_count": null,
            "_view_module": "@jupyter-widgets/base",
            "_view_module_version": "2.0.0",
            "_view_name": "StyleView",
            "bar_color": null,
            "description_width": ""
          }
        },
        "3b04d3d449d74d108d5f84622cc22b84": {
          "model_module": "@jupyter-widgets/base",
          "model_name": "LayoutModel",
          "model_module_version": "2.0.0",
          "state": {
            "_model_module": "@jupyter-widgets/base",
            "_model_module_version": "2.0.0",
            "_model_name": "LayoutModel",
            "_view_count": null,
            "_view_module": "@jupyter-widgets/base",
            "_view_module_version": "2.0.0",
            "_view_name": "LayoutView",
            "align_content": null,
            "align_items": null,
            "align_self": null,
            "border_bottom": null,
            "border_left": null,
            "border_right": null,
            "border_top": null,
            "bottom": null,
            "display": null,
            "flex": null,
            "flex_flow": null,
            "grid_area": null,
            "grid_auto_columns": null,
            "grid_auto_flow": null,
            "grid_auto_rows": null,
            "grid_column": null,
            "grid_gap": null,
            "grid_row": null,
            "grid_template_areas": null,
            "grid_template_columns": null,
            "grid_template_rows": null,
            "height": null,
            "justify_content": null,
            "justify_items": null,
            "left": null,
            "margin": null,
            "max_height": null,
            "max_width": null,
            "min_height": null,
            "min_width": null,
            "object_fit": null,
            "object_position": null,
            "order": null,
            "overflow": null,
            "padding": null,
            "right": null,
            "top": null,
            "visibility": null,
            "width": null
          }
        },
        "071a24e6333f4191a3b0174861f78da9": {
          "model_module": "@jupyter-widgets/controls",
          "model_name": "HTMLStyleModel",
          "model_module_version": "2.0.0",
          "state": {
            "_model_module": "@jupyter-widgets/controls",
            "_model_module_version": "2.0.0",
            "_model_name": "HTMLStyleModel",
            "_view_count": null,
            "_view_module": "@jupyter-widgets/base",
            "_view_module_version": "2.0.0",
            "_view_name": "StyleView",
            "background": null,
            "description_width": "",
            "font_size": null,
            "text_color": null
          }
        }
      }
    }
  },
  "cells": [
    {
      "cell_type": "markdown",
      "metadata": {
        "id": "view-in-github",
        "colab_type": "text"
      },
      "source": [
        "<a href=\"https://colab.research.google.com/github/mariamhergnyan/Molecular_Simulations_exam/blob/main/Analysis.ipynb\" target=\"_parent\"><img src=\"https://colab.research.google.com/assets/colab-badge.svg\" alt=\"Open In Colab\"/></a>"
      ]
    },
    {
      "cell_type": "markdown",
      "source": [
        "Run these before working."
      ],
      "metadata": {
        "id": "3bnRk1fiW9K_"
      }
    },
    {
      "cell_type": "code",
      "source": [
        "!pip install notebook==6.5.5  > /dev/null"
      ],
      "metadata": {
        "id": "OWShMQgLXbJC"
      },
      "execution_count": 1,
      "outputs": []
    },
    {
      "cell_type": "code",
      "source": [
        "!pip install ipywidgets > /dev/null"
      ],
      "metadata": {
        "id": "kJ7CeW35bpRE"
      },
      "execution_count": 2,
      "outputs": []
    },
    {
      "cell_type": "code",
      "execution_count": 3,
      "metadata": {
        "id": "7Xr2aOSET3a-"
      },
      "outputs": [],
      "source": [
        "!pip install pyemma > /dev/null\n",
        "!pip install mdshare > /dev/null\n",
        "#4 minutes"
      ]
    },
    {
      "cell_type": "code",
      "source": [
        "!pip install nglview > /dev/null"
      ],
      "metadata": {
        "colab": {
          "base_uri": "https://localhost:8080/"
        },
        "id": "LjGvxuqlQosW",
        "outputId": "f6624efc-1f34-471d-9167-3ed8b01622b6"
      },
      "execution_count": 4,
      "outputs": [
        {
          "output_type": "stream",
          "name": "stdout",
          "text": [
            "\u001b[31mERROR: pip's dependency resolver does not currently take into account all the packages that are installed. This behaviour is the source of the following dependency conflicts.\n",
            "google-colab 1.0.0 requires notebook==6.5.5, but you have notebook 7.0.8 which is incompatible.\u001b[0m\u001b[31m\n",
            "\u001b[0m"
          ]
        }
      ]
    },
    {
      "cell_type": "code",
      "source": [
        "!pip install biopython > /dev/null"
      ],
      "metadata": {
        "id": "xT6n8TKxUJc8"
      },
      "execution_count": 5,
      "outputs": []
    },
    {
      "cell_type": "code",
      "source": [
        "from google.colab import output\n",
        "output.enable_custom_widget_manager()"
      ],
      "metadata": {
        "id": "gm9f1qi45n3L"
      },
      "execution_count": 6,
      "outputs": []
    },
    {
      "cell_type": "markdown",
      "source": [
        "Support for third party widgets will remain active for the duration of the session. To disable support:"
      ],
      "metadata": {
        "id": "qN46Iuya5n3P"
      }
    },
    {
      "cell_type": "code",
      "source": [
        "%matplotlib inline\n",
        "import os\n",
        "import shutil\n",
        "import matplotlib.pyplot as plt\n",
        "import numpy as np\n",
        "import mdshare\n",
        "import pyemma\n",
        "# for visualization of molecular structures:\n",
        "import nglview\n",
        "import mdtraj\n",
        "from threading import Timer\n",
        "from nglview.player import TrajectoryPlayer\n",
        "from Bio.PDB import PDBParser\n",
        "import pyemma.util.contexts as contexts\n",
        "\n",
        "from IPython.display import display\n",
        "from threading import Timer\n",
        "from google.colab import widgets\n",
        "import ipywidgets\n",
        "import warnings\n",
        "\n",
        "# Suppress all warnings\n",
        "warnings.filterwarnings(\"ignore\")"
      ],
      "metadata": {
        "id": "6ByLxILgT7dC",
        "colab": {
          "base_uri": "https://localhost:8080/",
          "height": 17,
          "referenced_widgets": [
            "1cd6c403adb04be89fabed1878dbd186"
          ]
        },
        "outputId": "ebfb30e3-dc9a-4eeb-8c12-821eccaab770"
      },
      "execution_count": 7,
      "outputs": [
        {
          "output_type": "display_data",
          "data": {
            "text/plain": [],
            "application/vnd.jupyter.widget-view+json": {
              "version_major": 2,
              "version_minor": 0,
              "model_id": "1cd6c403adb04be89fabed1878dbd186"
            }
          },
          "metadata": {
            "application/vnd.jupyter.widget-view+json": {
              "colab": {
                "custom_widget_manager": {
                  "url": "https://ssl.gstatic.com/colaboratory-static/widgets/colab-cdn-widget-manager/2b70e893a8ba7c0f/manager.min.js"
                }
              }
            }
          }
        }
      ]
    },
    {
      "cell_type": "code",
      "source": [
        "#mdshare.fetch is used for fetching from their server.\n",
        "#In my case I have it locally, so it just should be the path"
      ],
      "metadata": {
        "id": "gMEx2mBddICp"
      },
      "execution_count": 8,
      "outputs": []
    },
    {
      "cell_type": "code",
      "source": [
        "pdb = '/content/lb6-filtered.pdb'\n",
        "#traj\n",
        "#files = '/content/lb6-filtered.xtc'\n",
        "folder_path = '/content/New_timestamped'\n",
        "\n",
        "files_and_dirs = os.listdir(folder_path)\n",
        "\n",
        "#Remove the checkpoint directory if it exists\n",
        "for item in files_and_dirs:\n",
        "    if item == '.ipynb_checkpoints':\n",
        "        checkpoint_path = os.path.join(folder_path, item)\n",
        "        shutil.rmtree(checkpoint_path)\n",
        "\n",
        "files = os.listdir(folder_path)\n",
        "#final paths to the files\n",
        "files = [os.path.join(folder_path, file) for file in os.listdir(folder_path)]"
      ],
      "metadata": {
        "id": "NckKgkWRR5gZ"
      },
      "execution_count": 26,
      "outputs": []
    },
    {
      "cell_type": "code",
      "source": [
        "files"
      ],
      "metadata": {
        "id": "dlnO1XRY11rq",
        "outputId": "2e0283fc-fcf6-4f65-ffcb-a99f01001ec7",
        "colab": {
          "base_uri": "https://localhost:8080/"
        }
      },
      "execution_count": 27,
      "outputs": [
        {
          "output_type": "execute_result",
          "data": {
            "text/plain": [
              "['/content/New_timestamped/10_strd.lammpstrj',\n",
              " '/content/New_timestamped/15_strd.lammpstrj']"
            ]
          },
          "metadata": {},
          "execution_count": 27
        }
      ]
    },
    {
      "cell_type": "markdown",
      "source": [
        "#Feature selection\n",
        "Since we don't know which features describe the best the molecule, we do feature selecting with VAMP(Variational Approach for Markov Proceess). We utilize the VAMP2 score which shows the kinetic variance. The minimum VAMP2 score is 1. The higher the score, the better the given feature describes the molecule. Here we only do the selection based on the features of the backbone and not the side chains."
      ],
      "metadata": {
        "id": "wEOp_yEvMrGz"
      }
    },
    {
      "cell_type": "code",
      "source": [
        "torsions_feat = pyemma.coordinates.featurizer(pdb)\n",
        "torsions_feat.add_backbone_torsions(cossin=True, periodic=False)\n",
        "torsions_data = pyemma.coordinates.load(files, features=torsions_feat)\n",
        "labels = ['backbone\\ntorsions']\n",
        "\n",
        "positions_feat = pyemma.coordinates.featurizer(pdb)\n",
        "positions_feat.add_selection(positions_feat.select_Backbone())\n",
        "positions_data = pyemma.coordinates.load(files, features=positions_feat)\n",
        "labels += ['backbone atom\\npositions']\n",
        "\n",
        "distances_feat = pyemma.coordinates.featurizer(pdb)\n",
        "distances_feat.add_distances(\n",
        "    distances_feat.pairs(distances_feat.select_Backbone(), excluded_neighbors=2), periodic=False)\n",
        "distances_data = pyemma.coordinates.load(files, features=distances_feat)\n",
        "labels += ['backbone atom\\ndistances']"
      ],
      "metadata": {
        "id": "3TKKtjAO6bSo"
      },
      "execution_count": 28,
      "outputs": []
    },
    {
      "cell_type": "code",
      "source": [
        "def score_cv(data, dim, lag, number_of_splits=10, validation_fraction=0.5):\n",
        "#compute a cross validated vamp 2 score\n",
        "    # we temporarily suppress very short-lived progress bars\n",
        "    with contexts.settings(show_progress_bars=False):\n",
        "        nval = int(len(data) * validation_fraction)\n",
        "        scores = np.zeros(number_of_splits)\n",
        "        for n in range(number_of_splits):\n",
        "            ival = np.random.choice(len(data), size=nval, replace=False)\n",
        "            vamp = pyemma.coordinates.vamp(\n",
        "                [d for i, d in enumerate(data) if i not in ival], lag=lag, dim=dim)\n",
        "            scores[n] = vamp.score([d for i, d in enumerate(data) if i in ival])\n",
        "    return scores\n",
        "\n",
        "def find_max_vamp_score(data_sets, labels, dims, lags):\n",
        "    max_score = -float('inf')\n",
        "    best_property = None\n",
        "    best_lag = None\n",
        "\n",
        "    for property_data, property_label in zip(data_sets, labels):\n",
        "        for lag in lags:\n",
        "            scores = score_cv(property_data, lag=lag, dim=dims[property_label])\n",
        "            mean_score = scores.mean()\n",
        "            if mean_score > max_score:\n",
        "                max_score = mean_score\n",
        "                best_property = property_label\n",
        "                best_lag = lag\n",
        "\n",
        "    return best_property, best_lag, max_score"
      ],
      "metadata": {
        "id": "hsUvzUT8ZI1q"
      },
      "execution_count": 11,
      "outputs": []
    },
    {
      "cell_type": "code",
      "source": [
        "dim = 1\n",
        "\n",
        "fig, axes = plt.subplots(1, 3, figsize=(12, 3), sharey=True)\n",
        "for ax, lag in zip(axes.flat, [2, 5, 7]):\n",
        "    torsions_scores = score_cv(torsions_data, lag=lag, dim=dim)\n",
        "    scores = [torsions_scores.mean()]\n",
        "    errors = [torsions_scores.std()]\n",
        "    positions_scores = score_cv(positions_data, lag=lag, dim=dim)\n",
        "    scores += [positions_scores.mean()]\n",
        "    errors += [positions_scores.std()]\n",
        "    distances_scores = score_cv(distances_data, lag=lag, dim=dim)\n",
        "    scores += [distances_scores.mean()]\n",
        "    errors += [distances_scores.std()]\n",
        "    ax.bar(labels, scores, yerr=errors, color=['C0', 'C1', 'C2'])\n",
        "    ax.set_title(r'lag time $\\tau$={:.1f}ns'.format(lag * 0.1))\n",
        "    if lag == 5:\n",
        "        # save for later\n",
        "        vamp_bars_plot = dict(\n",
        "            labels=labels, scores=scores, errors=errors, dim=dim, lag=lag)\n",
        "axes[0].set_ylabel('VAMP2 score')\n",
        "fig.tight_layout()"
      ],
      "metadata": {
        "id": "fCX65OF4AdPb",
        "outputId": "7f0cad5f-09a7-4091-ed42-8642d5ff9486",
        "colab": {
          "base_uri": "https://localhost:8080/",
          "height": 305
        }
      },
      "execution_count": 12,
      "outputs": [
        {
          "output_type": "display_data",
          "data": {
            "text/plain": [
              "<Figure size 1200x300 with 3 Axes>"
            ],
            "image/png": "[encoded data removed]"
          },
          "metadata": {}
        }
      ]
    },
    {
      "cell_type": "markdown",
      "source": [
        "Trying with different lag times and dimensions"
      ],
      "metadata": {
        "id": "51vc6zTYN4Vc"
      }
    },
    {
      "cell_type": "code",
      "source": [
        "dims = {'backbone torsions': 10, 'backbone atom positions': 10, 'backbone atom distances': 10}\n",
        "labels_prime = ['backbone torsions', 'backbone atom positions', 'backbone atom distances']\n",
        "lags = [2,5,7]\n",
        "best_property, best_lag, max_score = find_max_vamp_score(\n",
        "    [torsions_data, positions_data, distances_data],\n",
        "    labels_prime,\n",
        "    dims,\n",
        "    lags\n",
        ")\n",
        "\n",
        "print(\"Property that descrbes the data best:\", best_property)\n",
        "print(\"Lag time of the highest score:\", best_lag)\n",
        "print(\"Highest VAMP2 score:\", max_score)\n",
        "\n",
        "# Determine the dataset based on the best property label\n",
        "if best_property == 'backbone torsions':\n",
        "  data = torsions_data\n",
        "elif best_property == 'backbone atom positions':\n",
        "  data = positions_data\n",
        "elif best_property == 'backbone atom distances':\n",
        "  data = distances_data\n",
        "else:\n",
        "  raise ValueError(\"Unknown property label: {}\".format(best_property))\n",
        ""
      ],
      "metadata": {
        "colab": {
          "base_uri": "https://localhost:8080/"
        },
        "id": "p9qYSVtnwTVH",
        "outputId": "ccb46c2a-9231-4a46-dc2e-d0f45c0bb5fb"
      },
      "execution_count": 13,
      "outputs": [
        {
          "output_type": "stream",
          "name": "stdout",
          "text": [
            "Property that descrbes the data best: backbone atom positions\n",
            "Lag time of the highest score: 2\n",
            "Highest VAMP2 score: 11.000000000002201\n"
          ]
        }
      ]
    },
    {
      "cell_type": "code",
      "source": [
        "lags = [1,2,5,10,20,25]\n",
        "#dims = [1] #rn only for 1 dimension until I get the timestamped frames of trajectory, just fine the best lag time\n",
        "dims = [i + 1 for i in range(10)]\n",
        "\n",
        "fig, ax = plt.subplots()\n",
        "for i, lag in enumerate(lags):\n",
        "    scores_ = []\n",
        "    for dim in dims:\n",
        "        print(\"Computing VAMP score for dim={}, lag={}\".format(dim, lag))\n",
        "        score = score_cv(data, dim, lag)\n",
        "        scores_.append(score)\n",
        "    scores_ = np.array(scores_)\n",
        "\n",
        "    scores = np.mean(scores_, axis=1)\n",
        "    errors = np.std(scores_, axis=1, ddof=1)\n",
        "    color = 'C{}'.format(i)\n",
        "    ax.fill_between(dims, scores - errors, scores + errors, alpha=0.3, facecolor=color)\n",
        "    ax.plot(dims, scores, 'o', color=color, label='lag={:.1f}ns'.format(lag * 0.1),alpha=0.5)\n",
        "ax.legend()\n",
        "ax.set_xlabel('number of dimensions')\n",
        "ax.set_ylabel('VAMP2 score')\n",
        "fig.tight_layout()\n"
      ],
      "metadata": {
        "colab": {
          "base_uri": "https://localhost:8080/",
          "height": 1000
        },
        "id": "4zHJAFz3Ntg1",
        "outputId": "720396c2-a311-478b-950d-f3f943391049"
      },
      "execution_count": 14,
      "outputs": [
        {
          "output_type": "stream",
          "name": "stdout",
          "text": [
            "Computing VAMP score for dim=1, lag=1\n",
            "Computing VAMP score for dim=2, lag=1\n",
            "Computing VAMP score for dim=3, lag=1\n",
            "Computing VAMP score for dim=4, lag=1\n",
            "Computing VAMP score for dim=5, lag=1\n",
            "Computing VAMP score for dim=6, lag=1\n",
            "Computing VAMP score for dim=7, lag=1\n",
            "Computing VAMP score for dim=8, lag=1\n",
            "Computing VAMP score for dim=9, lag=1\n",
            "Computing VAMP score for dim=10, lag=1\n",
            "Computing VAMP score for dim=1, lag=2\n",
            "Computing VAMP score for dim=2, lag=2\n",
            "Computing VAMP score for dim=3, lag=2\n",
            "Computing VAMP score for dim=4, lag=2\n",
            "Computing VAMP score for dim=5, lag=2\n",
            "Computing VAMP score for dim=6, lag=2\n",
            "Computing VAMP score for dim=7, lag=2\n",
            "Computing VAMP score for dim=8, lag=2\n",
            "Computing VAMP score for dim=9, lag=2\n",
            "Computing VAMP score for dim=10, lag=2\n",
            "Computing VAMP score for dim=1, lag=5\n",
            "Computing VAMP score for dim=2, lag=5\n",
            "Computing VAMP score for dim=3, lag=5\n",
            "Computing VAMP score for dim=4, lag=5\n",
            "Computing VAMP score for dim=5, lag=5\n",
            "Computing VAMP score for dim=6, lag=5\n",
            "Computing VAMP score for dim=7, lag=5\n",
            "Computing VAMP score for dim=8, lag=5\n",
            "Computing VAMP score for dim=9, lag=5\n",
            "Computing VAMP score for dim=10, lag=5\n",
            "Computing VAMP score for dim=1, lag=10\n",
            "Computing VAMP score for dim=2, lag=10\n",
            "Computing VAMP score for dim=3, lag=10\n",
            "Computing VAMP score for dim=4, lag=10\n",
            "Computing VAMP score for dim=5, lag=10\n",
            "Computing VAMP score for dim=6, lag=10\n",
            "Computing VAMP score for dim=7, lag=10\n",
            "Computing VAMP score for dim=8, lag=10\n",
            "Computing VAMP score for dim=9, lag=10\n",
            "Computing VAMP score for dim=10, lag=10\n",
            "Computing VAMP score for dim=1, lag=20\n",
            "Computing VAMP score for dim=2, lag=20\n",
            "Computing VAMP score for dim=3, lag=20\n",
            "Computing VAMP score for dim=4, lag=20\n",
            "Computing VAMP score for dim=5, lag=20\n",
            "Computing VAMP score for dim=6, lag=20\n",
            "Computing VAMP score for dim=7, lag=20\n",
            "Computing VAMP score for dim=8, lag=20\n",
            "Computing VAMP score for dim=9, lag=20\n",
            "Computing VAMP score for dim=10, lag=20\n",
            "Computing VAMP score for dim=1, lag=25\n",
            "Computing VAMP score for dim=2, lag=25\n",
            "Computing VAMP score for dim=3, lag=25\n",
            "Computing VAMP score for dim=4, lag=25\n",
            "Computing VAMP score for dim=5, lag=25\n",
            "Computing VAMP score for dim=6, lag=25\n",
            "Computing VAMP score for dim=7, lag=25\n",
            "Computing VAMP score for dim=8, lag=25\n",
            "Computing VAMP score for dim=9, lag=25\n",
            "Computing VAMP score for dim=10, lag=25\n"
          ]
        },
        {
          "output_type": "display_data",
          "data": {
            "text/plain": [
              "<Figure size 640x480 with 1 Axes>"
            ],
            "image/png": "[encoded data removed]"
          },
          "metadata": {}
        }
      ]
    },
    {
      "cell_type": "code",
      "source": [
        "tica = pyemma.coordinates.tica(data, lag=best_lag)\n",
        "tica_output = tica.get_output()\n",
        "tica_concatenated = np.concatenate(tica_output)\n",
        "len(tica_concatenated)"
      ],
      "metadata": {
        "colab": {
          "base_uri": "https://localhost:8080/",
          "height": 34,
          "referenced_widgets": [
            "9c925fd4c74a4eaba23e7c6d46128179",
            "95a1846e811f472c978b9818441a1300",
            "f0d48b5c6de8468fb78506e4795d9a2a",
            "5ca73d52c9be4102a9f6be147812f400",
            "eadc4f0f62ab4097a5f9132b94898d30",
            "5fc7da50065848739a06390ec84e0a45",
            "4323a0c2b1ad46a6829c31d6102d8ba3",
            "6d23bd02870448a19d4709ced9658ad2",
            "519d3679feb24ead815418b623d0ac10",
            "925de4dcfd0f441fa1bb3c7f1d5837fe",
            "822ade3f5be747f1941acef9793cab0f",
            "1b9c7002297c47b9845f3fb20d813b8e",
            "25a354518d004ad5834e922f654f4d56",
            "cb921f7756ca479bba990c1cb85a86bc",
            "a2a632f0c8ba42cc96a0ecf33275926d",
            "4e94900a3d434b1793aeb59502dd415c",
            "b5c2c9a8fe2b4f7f9341d78742bb22e1",
            "0e9b831b76ce4939b27f6739a200e4ed",
            "d2e966ae5c8e4cb3bdfa0afa49e5ebfa",
            "3569208e008c4fe5821f035817cd8e23",
            "5add075902724870b96dbdeeeda04aff",
            "43372ea1e819403aacc64b0c901d0f5b"
          ]
        },
        "id": "KopSW1nL8Got",
        "outputId": "80360e88-ece4-499c-803a-5de6679588a9"
      },
      "execution_count": 29,
      "outputs": [
        {
          "output_type": "display_data",
          "data": {
            "text/plain": [
              "calculate covariances:   0%|          | 0/12 [00:00<?, ?it/s]"
            ],
            "application/vnd.jupyter.widget-view+json": {
              "version_major": 2,
              "version_minor": 0,
              "model_id": "9c925fd4c74a4eaba23e7c6d46128179"
            }
          },
          "metadata": {
            "application/vnd.jupyter.widget-view+json": {
              "colab": {
                "custom_widget_manager": {
                  "url": "https://ssl.gstatic.com/colaboratory-static/widgets/colab-cdn-widget-manager/2b70e893a8ba7c0f/manager.min.js"
                }
              }
            }
          }
        },
        {
          "output_type": "display_data",
          "data": {
            "text/plain": [
              "getting output of TICA:   0%|          | 0/12 [00:00<?, ?it/s]"
            ],
            "application/vnd.jupyter.widget-view+json": {
              "version_major": 2,
              "version_minor": 0,
              "model_id": "43372ea1e819403aacc64b0c901d0f5b"
            }
          },
          "metadata": {
            "application/vnd.jupyter.widget-view+json": {
              "colab": {
                "custom_widget_manager": {
                  "url": "https://ssl.gstatic.com/colaboratory-static/widgets/colab-cdn-widget-manager/2b70e893a8ba7c0f/manager.min.js"
                }
              }
            }
          }
        },
        {
          "output_type": "execute_result",
          "data": {
            "text/plain": [
              "432"
            ]
          },
          "metadata": {},
          "execution_count": 29
        }
      ]
    },
    {
      "cell_type": "code",
      "source": [
        "fig, axes = plt.subplots(1, 2, figsize=(10, 4))\n",
        "pyemma.plots.plot_feature_histograms(\n",
        "    tica_concatenated,\n",
        "    ax=axes[0],\n",
        "    #feature_labels=['IC1', 'IC2'], #fix this\n",
        "    ylog=True)\n",
        "pyemma.plots.plot_density(*tica_concatenated[:, :2].T, ax=axes[1], logscale=True)\n",
        "axes[1].set_xlabel('IC 1')\n",
        "axes[1].set_ylabel('IC 2')\n",
        "fig.tight_layout()\n"
      ],
      "metadata": {
        "colab": {
          "base_uri": "https://localhost:8080/",
          "height": 407
        },
        "id": "z5gMFkz-CRMR",
        "outputId": "f528162d-5528-4505-adf7-67141991c039"
      },
      "execution_count": 32,
      "outputs": [
        {
          "output_type": "display_data",
          "data": {
            "text/plain": [
              "<Figure size 1000x400 with 3 Axes>"
            ],
            "image/png": "[encoded data removed]"
          },
          "metadata": {}
        }
      ]
    },
    {
      "cell_type": "code",
      "source": [
        "fig, axes = plt.subplots(4, 1, figsize=(12, 5), sharex=True)\n",
        "x = 0.1 * np.arange(tica_output[0].shape[0])\n",
        "for i, (ax, tic) in enumerate(zip(axes.flat, tica_output[0].T)):\n",
        "    ax.plot(x, tic)\n",
        "    ax.set_ylabel('IC {}'.format(i + 1))\n",
        "axes[-1].set_xlabel('time / ns')\n",
        "fig.tight_layout()"
      ],
      "metadata": {
        "colab": {
          "base_uri": "https://localhost:8080/",
          "height": 501
        },
        "id": "2aaCelfmDJ0X",
        "outputId": "edb3942b-c5a2-4c7a-93cd-a5659a447e38"
      },
      "execution_count": 33,
      "outputs": [
        {
          "output_type": "display_data",
          "data": {
            "text/plain": [
              "<Figure size 1200x500 with 4 Axes>"
            ],
            "image/png": "[encoded data removed]"
          },
          "metadata": {}
        }
      ]
    },
    {
      "cell_type": "code",
      "source": [
        "feat = pyemma.coordinates.featurizer(pdb)\n",
        "feat.add_backbone_torsions(periodic=False)\n",
        "data = pyemma.coordinates.load(files, features=feat)\n",
        "print(\"data len:\",len(data))\n",
        "print(\"data shape:\",np.shape(data))\n",
        "data_concatenated = np.concatenate(data)\n",
        "print(\"data_concat len:\",len(data_concatenated))\n",
        "print(\"data_concat shape:\", np.shape(data_concatenated))\n",
        "# Check the number of dimensions in the data\n",
        "num_dimensions = data_concatenated.shape[1]\n",
        "print(\"num dimensions\",num_dimensions)\n",
        "\n",
        "# Define feature labels corresponding to each dimension\n",
        "feature_labels = ['$\\Phi$', '$\\Psi$'] * (num_dimensions // 2)\n",
        "\n",
        "\n",
        "# Ensure that the length of feature_labels matches the number of dimensions\n",
        "if len(feature_labels) != num_dimensions:\n",
        "    # Adjust the feature labels to match the number of dimensions\n",
        "    feature_labels = ['$\\Phi$', '$\\Psi$'] * num_dimensions\n",
        "print(\"Len feature labels\", len(feature_labels))\n"
      ],
      "metadata": {
        "id": "F4hNIbZa2aOO",
        "outputId": "ec31f326-5777-482e-ccbf-4f5d9499e974",
        "colab": {
          "base_uri": "https://localhost:8080/"
        }
      },
      "execution_count": 82,
      "outputs": [
        {
          "output_type": "stream",
          "name": "stdout",
          "text": [
            "data len: 2\n",
            "data shape: (2,)\n",
            "data_concat len: 1134\n",
            "data_concat shape: (1134, 24)\n",
            "num dimensions 24\n",
            "Len feature labels 24\n"
          ]
        }
      ]
    },
    {
      "cell_type": "code",
      "source": [
        "cluster_kmeans = pyemma.coordinates.cluster_kmeans(data, k=100, max_iter=50, stride=5)\n",
        "cluster_regspace = pyemma.coordinates.cluster_regspace(data, dmin=0.3)\n",
        "\n",
        "fig, axes = plt.subplots(1, 2, figsize=(10, 4), sharex=True, sharey=True)\n",
        "for ax, cls, title in zip(axes.flat, [cluster_kmeans, cluster_regspace], [\"Clustering k-means\", \"Clustering Regspace\"]):\n",
        "    pyemma.plots.plot_density(cls.clustercenters[:, 0], cls.clustercenters[:, 1], ax=ax, cbar=False, alpha=0.1, logscale=True)\n",
        "    ax.scatter(cls.clustercenters[:, 0], cls.clustercenters[:, 1], s=15, c='C1')\n",
        "    ax.set_xlabel('$\\Phi$')\n",
        "    ax.set_ylabel('$\\Psi$')\n",
        "    ax.set_title(title)\n",
        "fig.tight_layout()\n"
      ],
      "metadata": {
        "id": "VqYXvRr-g-Ki",
        "outputId": "ab778569-ac81-4093-fb41-6cb537e0a129",
        "colab": {
          "base_uri": "https://localhost:8080/",
          "height": 407,
          "referenced_widgets": [
            "207891b4413544debc3c186c4ee0bc48",
            "38f01b64d7fe48b68c7995125f651e1d",
            "dad22161d5434405a164def47fb08bb7",
            "c6f0a4e70ff04f1d87fb0be49f88f049",
            "27fc7240423e436e8db9004570c675fc",
            "c5a51cb4f7e949c186d77271dbb23e6a",
            "69b0a431a41c48ccb410d5bce1923d32",
            "6e745d00827d4cbdaafae9a3a5709c17",
            "1ae6e933ad7c4abaabe21bdd18d71e49",
            "343aebaa92fa41df97f48698d02b78f3",
            "c2c3486d197d42a492530ff3eb0c7d0c",
            "54b44b931ec54b66b0ae8125dce551e5",
            "3a1d7a88e96743b4bcc5ba286f7665bb",
            "cc87d1e9ce4344b7b2135f3c5cbaebef",
            "09fa8a0393914443bdbac82314c0dc87",
            "76461a694efb4ad2bff684e7f1bf2004",
            "175186ecc7d0432e8ba8c160eb52ef28",
            "f4cc684efa934daa8bb1d77de1728ad8",
            "44f33f5104754e5995bf99f7e40eb8a2",
            "40a835ec352b4417824de5854a502dd3",
            "c3d577f0055a48b6bcb987d0ecc9b093",
            "f22646e572ee4b1c971f4d21e847e2a2"
          ]
        }
      },
      "execution_count": 81,
      "outputs": [
        {
          "output_type": "display_data",
          "data": {
            "text/plain": [
              "initialize kmeans++ centers:   0%|          | 0/100 [00:00<?, ?it/s]"
            ],
            "application/vnd.jupyter.widget-view+json": {
              "version_major": 2,
              "version_minor": 0,
              "model_id": "207891b4413544debc3c186c4ee0bc48"
            }
          },
          "metadata": {
            "application/vnd.jupyter.widget-view+json": {
              "colab": {
                "custom_widget_manager": {
                  "url": "https://ssl.gstatic.com/colaboratory-static/widgets/colab-cdn-widget-manager/2b70e893a8ba7c0f/manager.min.js"
                }
              }
            }
          }
        },
        {
          "output_type": "display_data",
          "data": {
            "text/plain": [
              "kmeans iterations:   0%|          | 0/50 [00:00<?, ?it/s]"
            ],
            "application/vnd.jupyter.widget-view+json": {
              "version_major": 2,
              "version_minor": 0,
              "model_id": "54b44b931ec54b66b0ae8125dce551e5"
            }
          },
          "metadata": {
            "application/vnd.jupyter.widget-view+json": {
              "colab": {
                "custom_widget_manager": {
                  "url": "https://ssl.gstatic.com/colaboratory-static/widgets/colab-cdn-widget-manager/2b70e893a8ba7c0f/manager.min.js"
                }
              }
            }
          }
        },
        {
          "output_type": "display_data",
          "data": {
            "text/plain": [
              "<Figure size 1000x400 with 2 Axes>"
            ],
            "image/png": "[encoded data removed]"
          },
          "metadata": {}
        }
      ]
    },
    {
      "cell_type": "code",
      "source": [
        "cluster = cluster_kmeans\n",
        "its = pyemma.msm.its(\n",
        "    cluster.dtrajs, lags=[1, 2, 3, 5, 7, 10], nits=3, errors='bayes')\n",
        "\n",
        "# Plot feature histograms\n",
        "fig, axes = plt.subplots(1, 3, figsize=(12, 3))\n",
        "pyemma.plots.plot_feature_histograms(data_concatenated, feature_labels=feature_labels, ax=axes[0])\n",
        "pyemma.plots.plot_density(data_concatenated[:, 0], data_concatenated[:, 1], ax=axes[1], cbar=False, alpha=0.1)\n",
        "axes[1].scatter(cluster.clustercenters[:, 0], cluster.clustercenters[:, 1], s=15, c='C1')\n",
        "axes[1].set_xlabel('$\\Phi$')\n",
        "axes[1].set_ylabel('$\\Psi$')\n",
        "axes[1].set_xlim(-4, 4)\n",
        "axes[1].set_ylim(-4, 4)\n",
        "axes[1].set_aspect('equal')\n",
        "pyemma.plots.plot_implied_timescales(its, ylog=False, ax=axes[2])\n",
        "fig.tight_layout()\n"
      ],
      "metadata": {
        "id": "VpYCaHMV2QI7",
        "outputId": "c3967698-4a2f-4bb0-beff-1d6f77ae0003",
        "colab": {
          "base_uri": "https://localhost:8080/",
          "height": 327,
          "referenced_widgets": [
            "c2dc218b4f1e40eeb596e7d4da53e7bb",
            "a97999a6ee404602989530871b239158",
            "db92d42e75ba4fba8f6c09cac29fc50c",
            "7f3c78750095410e8672e7aab72048e3",
            "44e4138b683c494db939c0d6876c3d24",
            "77dd75270357479f9f484bd109cb4c7a",
            "0f148674c06d4d65badc2b1dd2ff6356",
            "fa43690f1b3b48eebbba5df32354fb19",
            "961cda4a741b4ac081b5b00b35771fec",
            "3b04d3d449d74d108d5f84622cc22b84",
            "071a24e6333f4191a3b0174861f78da9"
          ]
        }
      },
      "execution_count": 84,
      "outputs": [
        {
          "output_type": "display_data",
          "data": {
            "text/plain": [
              "estimating BayesianMSM:   0%|          | 0/6 [00:00<?, ?it/s]"
            ],
            "application/vnd.jupyter.widget-view+json": {
              "version_major": 2,
              "version_minor": 0,
              "model_id": "c2dc218b4f1e40eeb596e7d4da53e7bb"
            }
          },
          "metadata": {
            "application/vnd.jupyter.widget-view+json": {
              "colab": {
                "custom_widget_manager": {
                  "url": "https://ssl.gstatic.com/colaboratory-static/widgets/colab-cdn-widget-manager/2b70e893a8ba7c0f/manager.min.js"
                }
              }
            }
          }
        },
        {
          "output_type": "display_data",
          "data": {
            "text/plain": [
              "<Figure size 1200x300 with 3 Axes>"
            ],
            "image/png": "[encoded data removed]"
          },
          "metadata": {}
        }
      ]
    },
    {
      "cell_type": "markdown",
      "source": [
        "Regspace seems to make better clusters. But the kmeans lag times look better. Maybe another clustering algorithm should be implemented"
      ],
      "metadata": {
        "id": "j1NnLg1m7hAD"
      }
    },
    {
      "cell_type": "markdown",
      "source": [
        "This part is just for testing"
      ],
      "metadata": {
        "id": "9IXmSbd2U9xv"
      }
    },
    {
      "cell_type": "code",
      "source": [
        "pdb_1= mdshare.fetch('pentapeptide-impl-solv.pdb', working_directory='data')\n",
        "files_1 = mdshare.fetch('pentapeptide-*-500ns-impl-solv.xtc', working_directory='data')\n",
        "\n",
        "#files_1 = ['lb6-filtered_01.lammpstrj','lb6-filtered_02.lammpstrj','lb6-filtered_12.lammpstrj']\n",
        "torsions_feat_1 = pyemma.coordinates.featurizer(pdb_1)\n",
        "torsions_feat_1.add_backbone_torsions(cossin=True, periodic=False)\n",
        "torsions_data_1 = pyemma.coordinates.load(files_1, features=torsions_feat_1)\n",
        "labels_1 = ['backbone\\ntorsions']\n",
        "\n",
        "positions_feat_1 = pyemma.coordinates.featurizer(pdb_1)\n",
        "positions_feat_1.add_selection(positions_feat_1.select_Backbone())\n",
        "positions_data_1 = pyemma.coordinates.load(files_1, features=positions_feat_1)\n",
        "labels_1 += ['backbone atom\\npositions']\n",
        "\n",
        "distances_feat_1 = pyemma.coordinates.featurizer(pdb_1)\n",
        "distances_feat_1.add_distances(\n",
        "    distances_feat_1.pairs(distances_feat_1.select_Backbone(), excluded_neighbors=2), periodic=False)\n",
        "distances_data_1 = pyemma.coordinates.load(files_1, features=distances_feat_1)\n",
        "labels_1 += ['backbone atom\\ndistances']"
      ],
      "metadata": {
        "id": "SYDDqI9X1E2C"
      },
      "execution_count": null,
      "outputs": []
    },
    {
      "cell_type": "code",
      "source": [
        "files_1[0]\n",
        "files_1[2]"
      ],
      "metadata": {
        "id": "vRldKC20Z8pT"
      },
      "execution_count": null,
      "outputs": []
    },
    {
      "cell_type": "code",
      "source": [
        "def compare_files(file1, file2):\n",
        "    with open(file1, 'r') as f1, open(file2, 'r') as f2:\n",
        "        # Read the contents of the files\n",
        "        content1 = f1.read()\n",
        "        content2 = f2.read()\n",
        "\n",
        "        # Compare the contents\n",
        "        if content1 == content2:\n",
        "            print(\"The contents of the files are the same.\")\n",
        "        else:\n",
        "            print(\"The contents of the files are different.\")\n",
        "\n",
        "# Specify the paths to the lammpstrj files\n",
        "file1_path = files_1[0]\n",
        "file2_path = files_1[2]\n",
        "\n",
        "# Call the function to compare the files\n",
        "compare_files(file1_path, file2_path)\n"
      ],
      "metadata": {
        "id": "bVPZnHWkEkw1"
      },
      "execution_count": null,
      "outputs": []
    },
    {
      "cell_type": "code",
      "source": [
        "dim = 2\n",
        "\n",
        "fig, axes = plt.subplots(1, 3, figsize=(12, 3), sharey=True)\n",
        "for ax, lag in zip(axes.flat, [5, 10]):\n",
        "    torsions_scores_1 = score_cv(torsions_data_1, lag=lag, dim=dim)\n",
        "    scores_1 = [torsions_scores_1.mean()]\n",
        "    errors_1 = [torsions_scores_1.std()]\n",
        "    positions_scores_1 = score_cv(positions_data_1, lag=lag, dim=dim)\n",
        "    scores_1 += [positions_scores_1.mean()]\n",
        "    errors_1 += [positions_scores_1.std()]\n",
        "    distances_scores_1 = score_cv(distances_data_1, lag=lag, dim=dim)\n",
        "    scores_1 += [distances_scores_1.mean()]\n",
        "    errors_1 += [distances_scores_1.std()]\n",
        "    ax.bar(labels_1, scores_1, yerr=errors_1, color=['C0', 'C1', 'C2'])\n",
        "    ax.set_title(r'lag time $\\tau$={:.1f}ns'.format(lag * 0.1))\n",
        "    if lag == 5:\n",
        "        # save for later\n",
        "        vamp_bars_plot_1 = dict(\n",
        "            labels=labels_1, scores=scores_1, errors=errors_1, dim=dim, lag=lag)\n",
        "axes[0].set_ylabel('VAMP2 score')\n",
        "fig.tight_layout()\n"
      ],
      "metadata": {
        "id": "bcfT1FNESIIG"
      },
      "execution_count": null,
      "outputs": []
    },
    {
      "cell_type": "code",
      "source": [
        "lags = [1, 2, 5, 10, 20]\n",
        "dims_1 = [i + 1 for i in range(10)]\n",
        "\n",
        "fig, ax = plt.subplots()\n",
        "for i, lag in enumerate(lags):\n",
        "    scores_1 = np.array([score_cv(torsions_data_1, dim, lag)\n",
        "                        for dim in dims_1])\n",
        "    scores_1 = np.mean(scores_1, axis=1)\n",
        "    errors_1 = np.std(scores_1, axis=1, ddof=1)\n",
        "    color = 'C{}'.format(i)\n",
        "    ax.fill_between(dims_1, scores_1 - errors_1, scores_1 + errors_1, alpha=0.3, facecolor=color)\n",
        "    ax.plot(dims_1, scores_1, '--o', color=color, label='lag={:.1f}ns'.format(lag * 0.1))\n",
        "ax.legend()\n",
        "ax.set_xlabel('number of dimensions')\n",
        "ax.set_ylabel('VAMP2 score')\n",
        "fig.tight_layout()\n"
      ],
      "metadata": {
        "id": "KbdRzGgbSvlr"
      },
      "execution_count": null,
      "outputs": []
    },
    {
      "cell_type": "code",
      "source": [
        "pyemma.plots.plot_feature_histograms(files, feature_labels=['$x$', '$y$']);"
      ],
      "metadata": {
        "id": "-GBRzMd_qyXl"
      },
      "execution_count": null,
      "outputs": []
    },
    {
      "cell_type": "code",
      "source": [
        "warnings.resetwarnings()\n",
        "#widgets don't work on google colab"
      ],
      "metadata": {
        "id": "jRftxBG_0w03"
      },
      "execution_count": null,
      "outputs": []
    },
    {
      "cell_type": "code",
      "source": [
        "# Create an NGLview widget to display the PDB file - should tis display here? cuz it's not doing it\n",
        "view = nglview.show_file(pdb)\n",
        "#view.add_representation('cartoon')\n",
        "#view.center()\n",
        "#view\n",
        "\n",
        "view = nglview.NGLWidget()\n",
        "view.add_pdbid(pdb)\n",
        "view.add_representation('cartoon')\n",
        "view.center()\n",
        "view\n",
        "\n",
        "# 2nd cell\n",
        "view._js(\"console.log(this.model.views)\")"
      ],
      "metadata": {
        "id": "IdLmRDNY5_z5"
      },
      "execution_count": null,
      "outputs": []
    },
    {
      "cell_type": "code",
      "source": [
        "traj = mdtraj.load(pdb)\n",
        "\n",
        "# Create the widget\n",
        "widget = nglview.show_mdtraj(traj)\n",
        "widget.add_ball_and_stick()\n",
        "\n",
        "# Display the widget\n",
        "display(widget)\n",
        "\n",
        "# Define a function to stop spinning and close the widget\n",
        "def stop_spin():\n",
        "    widget.player.spin = False\n",
        "    widget.close()\n",
        "\n",
        "# Set a timer to stop spinning and close the widget after 30 seconds\n",
        "Timer(30, stop_spin).start()\n"
      ],
      "metadata": {
        "id": "FJ1fRF4_WgrC"
      },
      "execution_count": null,
      "outputs": []
    },
    {
      "cell_type": "code",
      "source": [
        "# # Parse the PDB file using BioPython's PDBParser\n",
        "# parser = PDBParser()\n",
        "# structure = parser.get_structure('my_structure', '/content/lb6-filtered.pdb')\n",
        "\n",
        "# # Prepare coordinates for PyEmma\n",
        "# coordinates = []\n",
        "# for model in structure:\n",
        "#     for chain in model:\n",
        "#         for residue in chain:\n",
        "#             for atom in residue:\n",
        "#                 coordinates.append(atom.get_coord())\n",
        "\n",
        "# # Convert coordinates to PyEmma's format (assuming 3D coordinates)\n",
        "# coordinates = [list(atom_coord) for atom_coord in coordinates]\n",
        "\n",
        "\n",
        "# # Perform PyEmma analysis (example: PCA)\n",
        "# #pca = pyemma.coordinates.pca(coordinates)\n"
      ],
      "metadata": {
        "id": "fLUY1Nz-UFGL"
      },
      "execution_count": null,
      "outputs": []
    },
    {
      "cell_type": "code",
      "source": [
        "# # Define the file path for saving the coordinates\n",
        "# txt_file = '/content/coordinates.txt'\n",
        "\n",
        "\n",
        "# # Write coordinates to a text file\n",
        "# with open(txt_file, 'w') as file:\n",
        "#     for coord in coordinates:\n",
        "#         file.write(','.join(map(str, coord)) + '\\n')\n"
      ],
      "metadata": {
        "id": "cqvPfn9rSN6Q"
      },
      "execution_count": null,
      "outputs": []
    },
    {
      "cell_type": "code",
      "source": [],
      "metadata": {
        "id": "8NP3ekd3jhBT"
      },
      "execution_count": null,
      "outputs": []
    }
  ]
}