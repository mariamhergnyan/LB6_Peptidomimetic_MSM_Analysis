{
  "nbformat": 4,
  "nbformat_minor": 0,
  "metadata": {
    "colab": {
      "provenance": [],
      "authorship_tag": "ABX9TyOz1kyaSxNlyb208ueuRqFw",
      "include_colab_link": true
    },
    "kernelspec": {
      "name": "python3",
      "display_name": "Python 3"
    },
    "language_info": {
      "name": "python"
    },
    "widgets": {
      "application/vnd.jupyter.widget-state+json": {
        "54637d89cfb6499aa00f1cf409f2c7cb": {
          "model_module": "nglview-js-widgets",
          "model_name": "NGLModel",
          "model_module_version": "3.0.8",
          "state": {
            "_camera_orientation": [],
            "_camera_str": "orthographic",
            "_dom_classes": [],
            "_gui_theme": null,
            "_ibtn_fullscreen": "IPY_MODEL_bae414057d044e47b7020d0276528b80",
            "_igui": null,
            "_iplayer": "IPY_MODEL_64cf298ac72f4ecda30625692979b4f1",
            "_model_module": "nglview-js-widgets",
            "_model_module_version": "3.0.8",
            "_model_name": "NGLModel",
            "_ngl_color_dict": {},
            "_ngl_coordinate_resource": {},
            "_ngl_full_stage_parameters": {},
            "_ngl_msg_archive": [
              {
                "target": "Stage",
                "type": "call_method",
                "methodName": "loadFile",
                "reconstruc_color_scheme": false,
                "args": [
                  {
                    "type": "path",
                    "data": "lb6-filtered.pdb",
                    "binary": false
                  }
                ],
                "kwargs": {
                  "defaultRepresentation": true,
                  "ext": "pdb"
                }
              },
              {
                "component_index": 0,
                "target": "compList",
                "type": "call_method",
                "methodName": "addRepresentation",
                "reconstruc_color_scheme": false,
                "args": [
                  "cartoon"
                ],
                "kwargs": {
                  "sele": "all"
                }
              }
            ],
            "_ngl_original_stage_parameters": {},
            "_ngl_repr_dict": {},
            "_ngl_serialize": false,
            "_ngl_version": "",
            "_ngl_view_id": [],
            "_player_dict": {},
            "_scene_position": {},
            "_scene_rotation": {},
            "_synced_model_ids": [],
            "_synced_repr_model_ids": [],
            "_view_count": null,
            "_view_height": "",
            "_view_module": "nglview-js-widgets",
            "_view_module_version": "3.0.8",
            "_view_name": "NGLView",
            "_view_width": "",
            "background": "white",
            "frame": 0,
            "gui_style": null,
            "layout": "IPY_MODEL_9f3c22dfcfd94c249ef438253f142170",
            "max_frame": 0,
            "n_components": 0,
            "picked": {}
          }
        },
        "13205aed3a6741149499552b9fcb7dc1": {
          "model_module": "@jupyter-widgets/controls",
          "model_name": "PlayModel",
          "model_module_version": "1.5.0",
          "state": {
            "_dom_classes": [],
            "_model_module": "@jupyter-widgets/controls",
            "_model_module_version": "1.5.0",
            "_model_name": "PlayModel",
            "_playing": false,
            "_repeat": false,
            "_view_count": null,
            "_view_module": "@jupyter-widgets/controls",
            "_view_module_version": "1.5.0",
            "_view_name": "PlayView",
            "description": "",
            "description_tooltip": null,
            "disabled": false,
            "interval": 100,
            "layout": "IPY_MODEL_b888496c9fbb44c1975c7b3737a53c8b",
            "max": 0,
            "min": 0,
            "show_repeat": true,
            "step": 1,
            "style": "IPY_MODEL_c1dd42131b294c2e8fb9ffa656bf2168",
            "value": 0
          }
        },
        "c1389e3566344661a8cc70ea7bd65d39": {
          "model_module": "@jupyter-widgets/controls",
          "model_name": "IntSliderModel",
          "model_module_version": "1.5.0",
          "state": {
            "_dom_classes": [],
            "_model_module": "@jupyter-widgets/controls",
            "_model_module_version": "1.5.0",
            "_model_name": "IntSliderModel",
            "_view_count": null,
            "_view_module": "@jupyter-widgets/controls",
            "_view_module_version": "1.5.0",
            "_view_name": "IntSliderView",
            "continuous_update": true,
            "description": "",
            "description_tooltip": null,
            "disabled": false,
            "layout": "IPY_MODEL_2a303ca6c29346c6b63c50f7db5fe24f",
            "max": 0,
            "min": 0,
            "orientation": "horizontal",
            "readout": true,
            "readout_format": "d",
            "step": 1,
            "style": "IPY_MODEL_2522dd68db9c42778e3443a045cb4eab",
            "value": 0
          }
        },
        "b888496c9fbb44c1975c7b3737a53c8b": {
          "model_module": "@jupyter-widgets/base",
          "model_name": "LayoutModel",
          "model_module_version": "1.2.0",
          "state": {
            "_model_module": "@jupyter-widgets/base",
            "_model_module_version": "1.2.0",
            "_model_name": "LayoutModel",
            "_view_count": null,
            "_view_module": "@jupyter-widgets/base",
            "_view_module_version": "1.2.0",
            "_view_name": "LayoutView",
            "align_content": null,
            "align_items": null,
            "align_self": null,
            "border": null,
            "bottom": null,
            "display": null,
            "flex": null,
            "flex_flow": null,
            "grid_area": null,
            "grid_auto_columns": null,
            "grid_auto_flow": null,
            "grid_auto_rows": null,
            "grid_column": null,
            "grid_gap": null,
            "grid_row": null,
            "grid_template_areas": null,
            "grid_template_columns": null,
            "grid_template_rows": null,
            "height": null,
            "justify_content": null,
            "justify_items": null,
            "left": null,
            "margin": null,
            "max_height": null,
            "max_width": null,
            "min_height": null,
            "min_width": null,
            "object_fit": null,
            "object_position": null,
            "order": null,
            "overflow": null,
            "overflow_x": null,
            "overflow_y": null,
            "padding": null,
            "right": null,
            "top": null,
            "visibility": null,
            "width": null
          }
        },
        "c1dd42131b294c2e8fb9ffa656bf2168": {
          "model_module": "@jupyter-widgets/controls",
          "model_name": "DescriptionStyleModel",
          "model_module_version": "1.5.0",
          "state": {
            "_model_module": "@jupyter-widgets/controls",
            "_model_module_version": "1.5.0",
            "_model_name": "DescriptionStyleModel",
            "_view_count": null,
            "_view_module": "@jupyter-widgets/base",
            "_view_module_version": "1.2.0",
            "_view_name": "StyleView",
            "description_width": ""
          }
        },
        "2a303ca6c29346c6b63c50f7db5fe24f": {
          "model_module": "@jupyter-widgets/base",
          "model_name": "LayoutModel",
          "model_module_version": "1.2.0",
          "state": {
            "_model_module": "@jupyter-widgets/base",
            "_model_module_version": "1.2.0",
            "_model_name": "LayoutModel",
            "_view_count": null,
            "_view_module": "@jupyter-widgets/base",
            "_view_module_version": "1.2.0",
            "_view_name": "LayoutView",
            "align_content": null,
            "align_items": null,
            "align_self": null,
            "border": null,
            "bottom": null,
            "display": null,
            "flex": null,
            "flex_flow": null,
            "grid_area": null,
            "grid_auto_columns": null,
            "grid_auto_flow": null,
            "grid_auto_rows": null,
            "grid_column": null,
            "grid_gap": null,
            "grid_row": null,
            "grid_template_areas": null,
            "grid_template_columns": null,
            "grid_template_rows": null,
            "height": null,
            "justify_content": null,
            "justify_items": null,
            "left": null,
            "margin": null,
            "max_height": null,
            "max_width": null,
            "min_height": null,
            "min_width": null,
            "object_fit": null,
            "object_position": null,
            "order": null,
            "overflow": null,
            "overflow_x": null,
            "overflow_y": null,
            "padding": null,
            "right": null,
            "top": null,
            "visibility": null,
            "width": null
          }
        },
        "2522dd68db9c42778e3443a045cb4eab": {
          "model_module": "@jupyter-widgets/controls",
          "model_name": "SliderStyleModel",
          "model_module_version": "1.5.0",
          "state": {
            "_model_module": "@jupyter-widgets/controls",
            "_model_module_version": "1.5.0",
            "_model_name": "SliderStyleModel",
            "_view_count": null,
            "_view_module": "@jupyter-widgets/base",
            "_view_module_version": "1.2.0",
            "_view_name": "StyleView",
            "description_width": "",
            "handle_color": null
          }
        }
      }
    }
  },
  "cells": [
    {
      "cell_type": "markdown",
      "metadata": {
        "id": "view-in-github",
        "colab_type": "text"
      },
      "source": [
        "<a href=\"https://colab.research.google.com/github/mariamhergnyan/Molecular_Simulations_exam/blob/main/Analysis.ipynb\" target=\"_parent\"><img src=\"https://colab.research.google.com/assets/colab-badge.svg\" alt=\"Open In Colab\"/></a>"
      ]
    },
    {
      "cell_type": "markdown",
      "source": [
        "Run these before working."
      ],
      "metadata": {
        "id": "3bnRk1fiW9K_"
      }
    },
    {
      "cell_type": "code",
      "source": [
        "from google.colab import output\n",
        "output.disable_custom_widget_manager()"
      ],
      "metadata": {
        "id": "lifacpDQTL7f"
      },
      "execution_count": 32,
      "outputs": []
    },
    {
      "cell_type": "code",
      "execution_count": 21,
      "metadata": {
        "id": "7Xr2aOSET3a-"
      },
      "outputs": [],
      "source": [
        "!pip install pyemma > /dev/null\n",
        "!pip install mdshare > /dev/null"
      ]
    },
    {
      "cell_type": "code",
      "source": [
        "! pip install nglview > /dev/null"
      ],
      "metadata": {
        "colab": {
          "base_uri": "https://localhost:8080/"
        },
        "id": "LjGvxuqlQosW",
        "outputId": "0970da62-bea1-4c90-afb2-0032f63b511e"
      },
      "execution_count": 22,
      "outputs": [
        {
          "output_type": "stream",
          "name": "stdout",
          "text": [
            "\u001b[31mERROR: Could not find a version that satisfies the requirement threading (from versions: none)\u001b[0m\u001b[31m\n",
            "\u001b[0m\u001b[31mERROR: No matching distribution found for threading\u001b[0m\u001b[31m\n",
            "\u001b[0m"
          ]
        }
      ]
    },
    {
      "cell_type": "code",
      "source": [
        "! pip install biopython > /dev/null"
      ],
      "metadata": {
        "id": "xT6n8TKxUJc8"
      },
      "execution_count": 23,
      "outputs": []
    },
    {
      "cell_type": "code",
      "source": [
        "%matplotlib inline\n",
        "import matplotlib.pyplot as plt\n",
        "import numpy as np\n",
        "import mdshare\n",
        "import pyemma\n",
        "# for visualization of molecular structures:\n",
        "import nglview as nv\n",
        "import mdtraj\n",
        "from threading import Timer\n",
        "from nglview.player import TrajectoryPlayer\n",
        "from Bio.PDB import PDBParser"
      ],
      "metadata": {
        "id": "6ByLxILgT7dC"
      },
      "execution_count": 15,
      "outputs": []
    },
    {
      "cell_type": "code",
      "source": [
        "#mdshare.fetch is used for fetching from their server.\n",
        "#In my case I have it locally, so it just should be the path"
      ],
      "metadata": {
        "id": "gMEx2mBddICp"
      },
      "execution_count": null,
      "outputs": []
    },
    {
      "cell_type": "code",
      "source": [
        "pdb = '/content/lb6-filtered.pdb'\n",
        "files = '/content/lb6-filtered.xtc'\n",
        "\n",
        "# Create an NGLview widget to display the PDB file\n",
        "view = nv.show_file(pdb)\n",
        "view.add_representation('cartoon')\n",
        "view.center()\n",
        "view\n"
      ],
      "metadata": {
        "colab": {
          "base_uri": "https://localhost:8080/",
          "height": 17,
          "referenced_widgets": [
            "54637d89cfb6499aa00f1cf409f2c7cb",
            "13205aed3a6741149499552b9fcb7dc1",
            "c1389e3566344661a8cc70ea7bd65d39",
            "b888496c9fbb44c1975c7b3737a53c8b",
            "c1dd42131b294c2e8fb9ffa656bf2168",
            "2a303ca6c29346c6b63c50f7db5fe24f",
            "2522dd68db9c42778e3443a045cb4eab"
          ]
        },
        "id": "NckKgkWRR5gZ",
        "outputId": "9a9d100d-fdb0-4483-e268-73f29c3c42b7"
      },
      "execution_count": 31,
      "outputs": [
        {
          "output_type": "display_data",
          "data": {
            "text/plain": [
              "NGLWidget()"
            ],
            "application/vnd.jupyter.widget-view+json": {
              "version_major": 2,
              "version_minor": 0,
              "model_id": "54637d89cfb6499aa00f1cf409f2c7cb"
            }
          },
          "metadata": {}
        }
      ]
    },
    {
      "cell_type": "code",
      "source": [
        "# Parse the PDB file using BioPython's PDBParser\n",
        "parser = PDBParser()\n",
        "structure = parser.get_structure('my_structure', '/content/lb6-filtered.pdb')\n",
        "\n",
        "# Prepare coordinates for PyEmma\n",
        "coordinates = []\n",
        "for model in structure:\n",
        "    for chain in model:\n",
        "        for residue in chain:\n",
        "            for atom in residue:\n",
        "                coordinates.append(atom.get_coord())\n",
        "\n",
        "# Convert coordinates to PyEmma's format (assuming 3D coordinates)\n",
        "coordinates = [list(atom_coord) for atom_coord in coordinates]\n",
        "\n",
        "\n",
        "# Perform PyEmma analysis (example: PCA)\n",
        "#pca = pyemma.coordinates.pca(coordinates)\n"
      ],
      "metadata": {
        "id": "fLUY1Nz-UFGL"
      },
      "execution_count": 18,
      "outputs": []
    },
    {
      "cell_type": "code",
      "source": [
        "# Define the file path for saving the coordinates\n",
        "txt_file = '/content/coordinates.txt'\n",
        "\n",
        "\n",
        "# Write coordinates to a text file\n",
        "with open(txt_file, 'w') as file:\n",
        "    for coord in coordinates:\n",
        "        file.write(','.join(map(str, coord)) + '\\n')\n"
      ],
      "metadata": {
        "id": "cqvPfn9rSN6Q"
      },
      "execution_count": 20,
      "outputs": []
    },
    {
      "cell_type": "code",
      "source": [
        "torsions_feat = pyemma.coordinates.featurizer(pdb)\n",
        "torsions_feat.add_backbone_torsions(cossin=True, periodic=False)\n",
        "torsions_data = pyemma.coordinates.load(files, features=torsions_feat)\n",
        "labels = ['backbone\\ntorsions']\n",
        "\n",
        "positions_feat = pyemma.coordinates.featurizer(pdb)\n",
        "positions_feat.add_selection(positions_feat.select_Backbone())\n",
        "positions_data = pyemma.coordinates.load(files, features=positions_feat)\n",
        "labels += ['backbone atom\\npositions']\n",
        "\n",
        "distances_feat = pyemma.coordinates.featurizer(pdb)\n",
        "distances_feat.add_distances(\n",
        "    distances_feat.pairs(distances_feat.select_Backbone(), excluded_neighbors=2), periodic=False)\n",
        "distances_data = pyemma.coordinates.load(files, features=distances_feat)\n",
        "labels += ['backbone atom\\ndistances']"
      ],
      "metadata": {
        "id": "6AzquWMdTUQi"
      },
      "execution_count": 34,
      "outputs": []
    },
    {
      "cell_type": "code",
      "source": [],
      "metadata": {
        "id": "hsUvzUT8ZI1q"
      },
      "execution_count": null,
      "outputs": []
    }
  ]
}