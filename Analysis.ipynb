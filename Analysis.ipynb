{
  "nbformat": 4,
  "nbformat_minor": 0,
  "metadata": {
    "colab": {
      "provenance": [],
      "authorship_tag": "ABX9TyOlLpvjILqMrKB1owfGqKaB",
      "include_colab_link": true
    },
    "kernelspec": {
      "name": "python3",
      "display_name": "Python 3"
    },
    "language_info": {
      "name": "python"
    },
    "widgets": {
      "application/vnd.jupyter.widget-state+json": {
        "9e0310a6ab0140fdae47733227d9c0a0": {
          "model_module": "nglview-js-widgets",
          "model_name": "ColormakerRegistryModel",
          "model_module_version": "3.1.0",
          "state": {
            "_dom_classes": [],
            "_model_module": "nglview-js-widgets",
            "_model_module_version": "3.1.0",
            "_model_name": "ColormakerRegistryModel",
            "_msg_ar": [],
            "_msg_q": [],
            "_ready": false,
            "_view_count": null,
            "_view_module": "nglview-js-widgets",
            "_view_module_version": "3.1.0",
            "_view_name": "ColormakerRegistryView",
            "layout": "IPY_MODEL_c69d4c83c0604c7b9503fa658227d173",
            "tabbable": null,
            "tooltip": null
          }
        },
        "5d83c240217f4fb0b1b28bfd23c80861": {
          "model_module": "@jupyter-widgets/controls",
          "model_name": "HBoxModel",
          "model_module_version": "2.0.0",
          "state": {
            "_dom_classes": [],
            "_model_module": "@jupyter-widgets/controls",
            "_model_module_version": "2.0.0",
            "_model_name": "HBoxModel",
            "_view_count": null,
            "_view_module": "@jupyter-widgets/controls",
            "_view_module_version": "2.0.0",
            "_view_name": "HBoxView",
            "box_style": "",
            "children": [
              "IPY_MODEL_38adb34570974047ad438024005e1580",
              "IPY_MODEL_aef966d9f2914b7694709f11bcae2221",
              "IPY_MODEL_e2085d9ad7de4217b4c6c5bb9188e4c3"
            ],
            "layout": "IPY_MODEL_fb3ca6ab2a984208b87277a360e7fcc5",
            "tabbable": null,
            "tooltip": null
          }
        },
        "38adb34570974047ad438024005e1580": {
          "model_module": "@jupyter-widgets/controls",
          "model_name": "HTMLModel",
          "model_module_version": "2.0.0",
          "state": {
            "_dom_classes": [],
            "_model_module": "@jupyter-widgets/controls",
            "_model_module_version": "2.0.0",
            "_model_name": "HTMLModel",
            "_view_count": null,
            "_view_module": "@jupyter-widgets/controls",
            "_view_module_version": "2.0.0",
            "_view_name": "HTMLView",
            "description": "",
            "description_allow_html": false,
            "layout": "IPY_MODEL_e5b9d014a5e245f4aee346b049b87936",
            "placeholder": "​",
            "style": "IPY_MODEL_6b578fd4f6324644b1d8ee9d3e591b66",
            "tabbable": null,
            "tooltip": null,
            "value": "100%"
          }
        },
        "aef966d9f2914b7694709f11bcae2221": {
          "model_module": "@jupyter-widgets/controls",
          "model_name": "FloatProgressModel",
          "model_module_version": "2.0.0",
          "state": {
            "_dom_classes": [],
            "_model_module": "@jupyter-widgets/controls",
            "_model_module_version": "2.0.0",
            "_model_name": "FloatProgressModel",
            "_view_count": null,
            "_view_module": "@jupyter-widgets/controls",
            "_view_module_version": "2.0.0",
            "_view_name": "ProgressView",
            "bar_style": "",
            "description": "",
            "description_allow_html": false,
            "layout": "IPY_MODEL_9e2bc8d4309f40c08837e1173ecb04e5",
            "max": 100,
            "min": 0,
            "orientation": "horizontal",
            "style": "IPY_MODEL_5333b85a17b641c6915598a7b70472d3",
            "tabbable": null,
            "tooltip": null,
            "value": 100
          }
        },
        "e2085d9ad7de4217b4c6c5bb9188e4c3": {
          "model_module": "@jupyter-widgets/controls",
          "model_name": "HTMLModel",
          "model_module_version": "2.0.0",
          "state": {
            "_dom_classes": [],
            "_model_module": "@jupyter-widgets/controls",
            "_model_module_version": "2.0.0",
            "_model_name": "HTMLModel",
            "_view_count": null,
            "_view_module": "@jupyter-widgets/controls",
            "_view_module_version": "2.0.0",
            "_view_name": "HTMLView",
            "description": "",
            "description_allow_html": false,
            "layout": "IPY_MODEL_ffa3335d1f2f4bbbbdb09d5730c5d9db",
            "placeholder": "​",
            "style": "IPY_MODEL_d397c0ca87b64f0b8d96b20a1ab5c7b3",
            "tabbable": null,
            "tooltip": null,
            "value": " 100/100 [00:00&lt;00:00, 1071.74it/s]"
          }
        },
        "fb3ca6ab2a984208b87277a360e7fcc5": {
          "model_module": "@jupyter-widgets/base",
          "model_name": "LayoutModel",
          "model_module_version": "2.0.0",
          "state": {
            "_model_module": "@jupyter-widgets/base",
            "_model_module_version": "2.0.0",
            "_model_name": "LayoutModel",
            "_view_count": null,
            "_view_module": "@jupyter-widgets/base",
            "_view_module_version": "2.0.0",
            "_view_name": "LayoutView",
            "align_content": null,
            "align_items": null,
            "align_self": null,
            "border_bottom": null,
            "border_left": null,
            "border_right": null,
            "border_top": null,
            "bottom": null,
            "display": "inline-flex",
            "flex": null,
            "flex_flow": "row wrap",
            "grid_area": null,
            "grid_auto_columns": null,
            "grid_auto_flow": null,
            "grid_auto_rows": null,
            "grid_column": null,
            "grid_gap": null,
            "grid_row": null,
            "grid_template_areas": null,
            "grid_template_columns": null,
            "grid_template_rows": null,
            "height": null,
            "justify_content": null,
            "justify_items": null,
            "left": null,
            "margin": null,
            "max_height": null,
            "max_width": null,
            "min_height": null,
            "min_width": null,
            "object_fit": null,
            "object_position": null,
            "order": null,
            "overflow": null,
            "padding": null,
            "right": null,
            "top": null,
            "visibility": "hidden",
            "width": "100%"
          }
        },
        "e5b9d014a5e245f4aee346b049b87936": {
          "model_module": "@jupyter-widgets/base",
          "model_name": "LayoutModel",
          "model_module_version": "2.0.0",
          "state": {
            "_model_module": "@jupyter-widgets/base",
            "_model_module_version": "2.0.0",
            "_model_name": "LayoutModel",
            "_view_count": null,
            "_view_module": "@jupyter-widgets/base",
            "_view_module_version": "2.0.0",
            "_view_name": "LayoutView",
            "align_content": null,
            "align_items": null,
            "align_self": null,
            "border_bottom": null,
            "border_left": null,
            "border_right": null,
            "border_top": null,
            "bottom": null,
            "display": null,
            "flex": null,
            "flex_flow": null,
            "grid_area": null,
            "grid_auto_columns": null,
            "grid_auto_flow": null,
            "grid_auto_rows": null,
            "grid_column": null,
            "grid_gap": null,
            "grid_row": null,
            "grid_template_areas": null,
            "grid_template_columns": null,
            "grid_template_rows": null,
            "height": null,
            "justify_content": null,
            "justify_items": null,
            "left": null,
            "margin": null,
            "max_height": null,
            "max_width": null,
            "min_height": null,
            "min_width": null,
            "object_fit": null,
            "object_position": null,
            "order": null,
            "overflow": null,
            "padding": null,
            "right": null,
            "top": null,
            "visibility": null,
            "width": null
          }
        },
        "6b578fd4f6324644b1d8ee9d3e591b66": {
          "model_module": "@jupyter-widgets/controls",
          "model_name": "HTMLStyleModel",
          "model_module_version": "2.0.0",
          "state": {
            "_model_module": "@jupyter-widgets/controls",
            "_model_module_version": "2.0.0",
            "_model_name": "HTMLStyleModel",
            "_view_count": null,
            "_view_module": "@jupyter-widgets/base",
            "_view_module_version": "2.0.0",
            "_view_name": "StyleView",
            "background": null,
            "description_width": "",
            "font_size": null,
            "text_color": null
          }
        },
        "9e2bc8d4309f40c08837e1173ecb04e5": {
          "model_module": "@jupyter-widgets/base",
          "model_name": "LayoutModel",
          "model_module_version": "2.0.0",
          "state": {
            "_model_module": "@jupyter-widgets/base",
            "_model_module_version": "2.0.0",
            "_model_name": "LayoutModel",
            "_view_count": null,
            "_view_module": "@jupyter-widgets/base",
            "_view_module_version": "2.0.0",
            "_view_name": "LayoutView",
            "align_content": null,
            "align_items": null,
            "align_self": null,
            "border_bottom": null,
            "border_left": null,
            "border_right": null,
            "border_top": null,
            "bottom": null,
            "display": null,
            "flex": "2",
            "flex_flow": null,
            "grid_area": null,
            "grid_auto_columns": null,
            "grid_auto_flow": null,
            "grid_auto_rows": null,
            "grid_column": null,
            "grid_gap": null,
            "grid_row": null,
            "grid_template_areas": null,
            "grid_template_columns": null,
            "grid_template_rows": null,
            "height": null,
            "justify_content": null,
            "justify_items": null,
            "left": null,
            "margin": null,
            "max_height": null,
            "max_width": null,
            "min_height": null,
            "min_width": null,
            "object_fit": null,
            "object_position": null,
            "order": null,
            "overflow": null,
            "padding": null,
            "right": null,
            "top": null,
            "visibility": null,
            "width": null
          }
        },
        "5333b85a17b641c6915598a7b70472d3": {
          "model_module": "@jupyter-widgets/controls",
          "model_name": "ProgressStyleModel",
          "model_module_version": "2.0.0",
          "state": {
            "_model_module": "@jupyter-widgets/controls",
            "_model_module_version": "2.0.0",
            "_model_name": "ProgressStyleModel",
            "_view_count": null,
            "_view_module": "@jupyter-widgets/base",
            "_view_module_version": "2.0.0",
            "_view_name": "StyleView",
            "bar_color": null,
            "description_width": ""
          }
        },
        "ffa3335d1f2f4bbbbdb09d5730c5d9db": {
          "model_module": "@jupyter-widgets/base",
          "model_name": "LayoutModel",
          "model_module_version": "2.0.0",
          "state": {
            "_model_module": "@jupyter-widgets/base",
            "_model_module_version": "2.0.0",
            "_model_name": "LayoutModel",
            "_view_count": null,
            "_view_module": "@jupyter-widgets/base",
            "_view_module_version": "2.0.0",
            "_view_name": "LayoutView",
            "align_content": null,
            "align_items": null,
            "align_self": null,
            "border_bottom": null,
            "border_left": null,
            "border_right": null,
            "border_top": null,
            "bottom": null,
            "display": null,
            "flex": null,
            "flex_flow": null,
            "grid_area": null,
            "grid_auto_columns": null,
            "grid_auto_flow": null,
            "grid_auto_rows": null,
            "grid_column": null,
            "grid_gap": null,
            "grid_row": null,
            "grid_template_areas": null,
            "grid_template_columns": null,
            "grid_template_rows": null,
            "height": null,
            "justify_content": null,
            "justify_items": null,
            "left": null,
            "margin": null,
            "max_height": null,
            "max_width": null,
            "min_height": null,
            "min_width": null,
            "object_fit": null,
            "object_position": null,
            "order": null,
            "overflow": null,
            "padding": null,
            "right": null,
            "top": null,
            "visibility": null,
            "width": null
          }
        },
        "d397c0ca87b64f0b8d96b20a1ab5c7b3": {
          "model_module": "@jupyter-widgets/controls",
          "model_name": "HTMLStyleModel",
          "model_module_version": "2.0.0",
          "state": {
            "_model_module": "@jupyter-widgets/controls",
            "_model_module_version": "2.0.0",
            "_model_name": "HTMLStyleModel",
            "_view_count": null,
            "_view_module": "@jupyter-widgets/base",
            "_view_module_version": "2.0.0",
            "_view_name": "StyleView",
            "background": null,
            "description_width": "",
            "font_size": null,
            "text_color": null
          }
        },
        "8f4c6c4f7b34443cbdef8bac6d431427": {
          "model_module": "@jupyter-widgets/base",
          "model_name": "LayoutModel",
          "model_module_version": "2.0.0",
          "state": {
            "_model_module": "@jupyter-widgets/base",
            "_model_module_version": "2.0.0",
            "_model_name": "LayoutModel",
            "_view_count": null,
            "_view_module": "@jupyter-widgets/base",
            "_view_module_version": "2.0.0",
            "_view_name": "LayoutView",
            "align_content": null,
            "align_items": null,
            "align_self": null,
            "border_bottom": null,
            "border_left": null,
            "border_right": null,
            "border_top": null,
            "bottom": null,
            "display": null,
            "flex": "2",
            "flex_flow": null,
            "grid_area": null,
            "grid_auto_columns": null,
            "grid_auto_flow": null,
            "grid_auto_rows": null,
            "grid_column": null,
            "grid_gap": null,
            "grid_row": null,
            "grid_template_areas": null,
            "grid_template_columns": null,
            "grid_template_rows": null,
            "height": null,
            "justify_content": null,
            "justify_items": null,
            "left": null,
            "margin": null,
            "max_height": null,
            "max_width": null,
            "min_height": null,
            "min_width": null,
            "object_fit": null,
            "object_position": null,
            "order": null,
            "overflow": null,
            "padding": null,
            "right": null,
            "top": null,
            "visibility": null,
            "width": null
          }
        },
        "7b6fd66d1537447895f5ab80302fa614": {
          "model_module": "@jupyter-widgets/controls",
          "model_name": "ProgressStyleModel",
          "model_module_version": "2.0.0",
          "state": {
            "_model_module": "@jupyter-widgets/controls",
            "_model_module_version": "2.0.0",
            "_model_name": "ProgressStyleModel",
            "_view_count": null,
            "_view_module": "@jupyter-widgets/base",
            "_view_module_version": "2.0.0",
            "_view_name": "StyleView",
            "bar_color": null,
            "description_width": ""
          }
        },
        "55f5690a4a914a74b3c8e632c97baa82": {
          "model_module": "@jupyter-widgets/base",
          "model_name": "LayoutModel",
          "model_module_version": "2.0.0",
          "state": {
            "_model_module": "@jupyter-widgets/base",
            "_model_module_version": "2.0.0",
            "_model_name": "LayoutModel",
            "_view_count": null,
            "_view_module": "@jupyter-widgets/base",
            "_view_module_version": "2.0.0",
            "_view_name": "LayoutView",
            "align_content": null,
            "align_items": null,
            "align_self": null,
            "border_bottom": null,
            "border_left": null,
            "border_right": null,
            "border_top": null,
            "bottom": null,
            "display": null,
            "flex": null,
            "flex_flow": null,
            "grid_area": null,
            "grid_auto_columns": null,
            "grid_auto_flow": null,
            "grid_auto_rows": null,
            "grid_column": null,
            "grid_gap": null,
            "grid_row": null,
            "grid_template_areas": null,
            "grid_template_columns": null,
            "grid_template_rows": null,
            "height": null,
            "justify_content": null,
            "justify_items": null,
            "left": null,
            "margin": null,
            "max_height": null,
            "max_width": null,
            "min_height": null,
            "min_width": null,
            "object_fit": null,
            "object_position": null,
            "order": null,
            "overflow": null,
            "padding": null,
            "right": null,
            "top": null,
            "visibility": null,
            "width": null
          }
        },
        "29d936243477414ab396224e348eb531": {
          "model_module": "@jupyter-widgets/controls",
          "model_name": "HTMLStyleModel",
          "model_module_version": "2.0.0",
          "state": {
            "_model_module": "@jupyter-widgets/controls",
            "_model_module_version": "2.0.0",
            "_model_name": "HTMLStyleModel",
            "_view_count": null,
            "_view_module": "@jupyter-widgets/base",
            "_view_module_version": "2.0.0",
            "_view_name": "StyleView",
            "background": null,
            "description_width": "",
            "font_size": null,
            "text_color": null
          }
        },
        "2970125126c54c2cabb0ccaec9ace539": {
          "model_module": "@jupyter-widgets/base",
          "model_name": "LayoutModel",
          "model_module_version": "2.0.0",
          "state": {
            "_model_module": "@jupyter-widgets/base",
            "_model_module_version": "2.0.0",
            "_model_name": "LayoutModel",
            "_view_count": null,
            "_view_module": "@jupyter-widgets/base",
            "_view_module_version": "2.0.0",
            "_view_name": "LayoutView",
            "align_content": null,
            "align_items": null,
            "align_self": null,
            "border_bottom": null,
            "border_left": null,
            "border_right": null,
            "border_top": null,
            "bottom": null,
            "display": null,
            "flex": null,
            "flex_flow": null,
            "grid_area": null,
            "grid_auto_columns": null,
            "grid_auto_flow": null,
            "grid_auto_rows": null,
            "grid_column": null,
            "grid_gap": null,
            "grid_row": null,
            "grid_template_areas": null,
            "grid_template_columns": null,
            "grid_template_rows": null,
            "height": null,
            "justify_content": null,
            "justify_items": null,
            "left": null,
            "margin": null,
            "max_height": null,
            "max_width": null,
            "min_height": null,
            "min_width": null,
            "object_fit": null,
            "object_position": null,
            "order": null,
            "overflow": null,
            "padding": null,
            "right": null,
            "top": null,
            "visibility": null,
            "width": null
          }
        },
        "dd3270c8fcb04c3caf0f3bed369d71a0": {
          "model_module": "@jupyter-widgets/controls",
          "model_name": "HTMLStyleModel",
          "model_module_version": "2.0.0",
          "state": {
            "_model_module": "@jupyter-widgets/controls",
            "_model_module_version": "2.0.0",
            "_model_name": "HTMLStyleModel",
            "_view_count": null,
            "_view_module": "@jupyter-widgets/base",
            "_view_module_version": "2.0.0",
            "_view_name": "StyleView",
            "background": null,
            "description_width": "",
            "font_size": null,
            "text_color": null
          }
        },
        "63d897337d134adc89195f83d540826a": {
          "model_module": "@jupyter-widgets/controls",
          "model_name": "HTMLModel",
          "model_module_version": "2.0.0",
          "state": {
            "_dom_classes": [],
            "_model_module": "@jupyter-widgets/controls",
            "_model_module_version": "2.0.0",
            "_model_name": "HTMLModel",
            "_view_count": null,
            "_view_module": "@jupyter-widgets/controls",
            "_view_module_version": "2.0.0",
            "_view_name": "HTMLView",
            "description": "",
            "description_allow_html": false,
            "layout": "IPY_MODEL_55f5690a4a914a74b3c8e632c97baa82",
            "placeholder": "​",
            "style": "IPY_MODEL_29d936243477414ab396224e348eb531",
            "tabbable": null,
            "tooltip": null,
            "value": "100%"
          }
        },
        "8fd6c2a94a2f4e84b4e10f8fb94d83c0": {
          "model_module": "@jupyter-widgets/controls",
          "model_name": "FloatProgressModel",
          "model_module_version": "2.0.0",
          "state": {
            "_dom_classes": [],
            "_model_module": "@jupyter-widgets/controls",
            "_model_module_version": "2.0.0",
            "_model_name": "FloatProgressModel",
            "_view_count": null,
            "_view_module": "@jupyter-widgets/controls",
            "_view_module_version": "2.0.0",
            "_view_name": "ProgressView",
            "bar_style": "",
            "description": "",
            "description_allow_html": false,
            "layout": "IPY_MODEL_8f4c6c4f7b34443cbdef8bac6d431427",
            "max": 50,
            "min": 0,
            "orientation": "horizontal",
            "style": "IPY_MODEL_7b6fd66d1537447895f5ab80302fa614",
            "tabbable": null,
            "tooltip": null,
            "value": 50
          }
        },
        "89b1bbce46db49098f0c411894cca217": {
          "model_module": "@jupyter-widgets/controls",
          "model_name": "HTMLModel",
          "model_module_version": "2.0.0",
          "state": {
            "_dom_classes": [],
            "_model_module": "@jupyter-widgets/controls",
            "_model_module_version": "2.0.0",
            "_model_name": "HTMLModel",
            "_view_count": null,
            "_view_module": "@jupyter-widgets/controls",
            "_view_module_version": "2.0.0",
            "_view_name": "HTMLView",
            "description": "",
            "description_allow_html": false,
            "layout": "IPY_MODEL_2970125126c54c2cabb0ccaec9ace539",
            "placeholder": "​",
            "style": "IPY_MODEL_dd3270c8fcb04c3caf0f3bed369d71a0",
            "tabbable": null,
            "tooltip": null,
            "value": " 50/50 [00:00&lt;00:00, 700.96it/s]"
          }
        },
        "bfadde04580541d8a384cf2ff8aac1c8": {
          "model_module": "@jupyter-widgets/base",
          "model_name": "LayoutModel",
          "model_module_version": "2.0.0",
          "state": {
            "_model_module": "@jupyter-widgets/base",
            "_model_module_version": "2.0.0",
            "_model_name": "LayoutModel",
            "_view_count": null,
            "_view_module": "@jupyter-widgets/base",
            "_view_module_version": "2.0.0",
            "_view_name": "LayoutView",
            "align_content": null,
            "align_items": null,
            "align_self": null,
            "border_bottom": null,
            "border_left": null,
            "border_right": null,
            "border_top": null,
            "bottom": null,
            "display": "inline-flex",
            "flex": null,
            "flex_flow": "row wrap",
            "grid_area": null,
            "grid_auto_columns": null,
            "grid_auto_flow": null,
            "grid_auto_rows": null,
            "grid_column": null,
            "grid_gap": null,
            "grid_row": null,
            "grid_template_areas": null,
            "grid_template_columns": null,
            "grid_template_rows": null,
            "height": null,
            "justify_content": null,
            "justify_items": null,
            "left": null,
            "margin": null,
            "max_height": null,
            "max_width": null,
            "min_height": null,
            "min_width": null,
            "object_fit": null,
            "object_position": null,
            "order": null,
            "overflow": null,
            "padding": null,
            "right": null,
            "top": null,
            "visibility": "hidden",
            "width": "100%"
          }
        },
        "84e8d169b26c4554b5610941fc1182d1": {
          "model_module": "@jupyter-widgets/controls",
          "model_name": "HBoxModel",
          "model_module_version": "2.0.0",
          "state": {
            "_dom_classes": [],
            "_model_module": "@jupyter-widgets/controls",
            "_model_module_version": "2.0.0",
            "_model_name": "HBoxModel",
            "_view_count": null,
            "_view_module": "@jupyter-widgets/controls",
            "_view_module_version": "2.0.0",
            "_view_name": "HBoxView",
            "box_style": "",
            "children": [
              "IPY_MODEL_63d897337d134adc89195f83d540826a",
              "IPY_MODEL_8fd6c2a94a2f4e84b4e10f8fb94d83c0",
              "IPY_MODEL_89b1bbce46db49098f0c411894cca217"
            ],
            "layout": "IPY_MODEL_bfadde04580541d8a384cf2ff8aac1c8",
            "tabbable": null,
            "tooltip": null
          }
        },
        "84ebc71bfb0c4abe8311ab710cca118e": {
          "model_module": "@jupyter-widgets/controls",
          "model_name": "HBoxModel",
          "model_module_version": "2.0.0",
          "state": {
            "_dom_classes": [],
            "_model_module": "@jupyter-widgets/controls",
            "_model_module_version": "2.0.0",
            "_model_name": "HBoxModel",
            "_view_count": null,
            "_view_module": "@jupyter-widgets/controls",
            "_view_module_version": "2.0.0",
            "_view_name": "HBoxView",
            "box_style": "",
            "children": [
              "IPY_MODEL_9d8c5147165244ddb97100130040083c",
              "IPY_MODEL_e2d080ad22564912ae0c2f2304ca1581",
              "IPY_MODEL_af46559efb824def90cdbd2520614ab7"
            ],
            "layout": "IPY_MODEL_4f817c31eecb4e39b2b4d5b7d3f645bb",
            "tabbable": null,
            "tooltip": null
          }
        },
        "9d8c5147165244ddb97100130040083c": {
          "model_module": "@jupyter-widgets/controls",
          "model_name": "HTMLModel",
          "model_module_version": "2.0.0",
          "state": {
            "_dom_classes": [],
            "_model_module": "@jupyter-widgets/controls",
            "_model_module_version": "2.0.0",
            "_model_name": "HTMLModel",
            "_view_count": null,
            "_view_module": "@jupyter-widgets/controls",
            "_view_module_version": "2.0.0",
            "_view_name": "HTMLView",
            "description": "",
            "description_allow_html": false,
            "layout": "IPY_MODEL_62565b065c07475eac1743d9d9e46b3b",
            "placeholder": "​",
            "style": "IPY_MODEL_abe4c30297b5422b8002d58bc703cd8a",
            "tabbable": null,
            "tooltip": null,
            "value": "100%"
          }
        },
        "e2d080ad22564912ae0c2f2304ca1581": {
          "model_module": "@jupyter-widgets/controls",
          "model_name": "FloatProgressModel",
          "model_module_version": "2.0.0",
          "state": {
            "_dom_classes": [],
            "_model_module": "@jupyter-widgets/controls",
            "_model_module_version": "2.0.0",
            "_model_name": "FloatProgressModel",
            "_view_count": null,
            "_view_module": "@jupyter-widgets/controls",
            "_view_module_version": "2.0.0",
            "_view_name": "ProgressView",
            "bar_style": "",
            "description": "",
            "description_allow_html": false,
            "layout": "IPY_MODEL_098b893c0f134dbdb240a2c6e6a8f399",
            "max": 6,
            "min": 0,
            "orientation": "horizontal",
            "style": "IPY_MODEL_28ef4a55481d4f24ab16087e07796d45",
            "tabbable": null,
            "tooltip": null,
            "value": 6
          }
        },
        "af46559efb824def90cdbd2520614ab7": {
          "model_module": "@jupyter-widgets/controls",
          "model_name": "HTMLModel",
          "model_module_version": "2.0.0",
          "state": {
            "_dom_classes": [],
            "_model_module": "@jupyter-widgets/controls",
            "_model_module_version": "2.0.0",
            "_model_name": "HTMLModel",
            "_view_count": null,
            "_view_module": "@jupyter-widgets/controls",
            "_view_module_version": "2.0.0",
            "_view_name": "HTMLView",
            "description": "",
            "description_allow_html": false,
            "layout": "IPY_MODEL_71a1f4f7b69546a7bedc974147da7486",
            "placeholder": "​",
            "style": "IPY_MODEL_453f62fb464747839e6261874c0e7aaa",
            "tabbable": null,
            "tooltip": null,
            "value": " 6/6 [00:07&lt;00:00,  1.42it/s]"
          }
        },
        "4f817c31eecb4e39b2b4d5b7d3f645bb": {
          "model_module": "@jupyter-widgets/base",
          "model_name": "LayoutModel",
          "model_module_version": "2.0.0",
          "state": {
            "_model_module": "@jupyter-widgets/base",
            "_model_module_version": "2.0.0",
            "_model_name": "LayoutModel",
            "_view_count": null,
            "_view_module": "@jupyter-widgets/base",
            "_view_module_version": "2.0.0",
            "_view_name": "LayoutView",
            "align_content": null,
            "align_items": null,
            "align_self": null,
            "border_bottom": null,
            "border_left": null,
            "border_right": null,
            "border_top": null,
            "bottom": null,
            "display": "inline-flex",
            "flex": null,
            "flex_flow": "row wrap",
            "grid_area": null,
            "grid_auto_columns": null,
            "grid_auto_flow": null,
            "grid_auto_rows": null,
            "grid_column": null,
            "grid_gap": null,
            "grid_row": null,
            "grid_template_areas": null,
            "grid_template_columns": null,
            "grid_template_rows": null,
            "height": null,
            "justify_content": null,
            "justify_items": null,
            "left": null,
            "margin": null,
            "max_height": null,
            "max_width": null,
            "min_height": null,
            "min_width": null,
            "object_fit": null,
            "object_position": null,
            "order": null,
            "overflow": null,
            "padding": null,
            "right": null,
            "top": null,
            "visibility": "hidden",
            "width": "100%"
          }
        },
        "62565b065c07475eac1743d9d9e46b3b": {
          "model_module": "@jupyter-widgets/base",
          "model_name": "LayoutModel",
          "model_module_version": "2.0.0",
          "state": {
            "_model_module": "@jupyter-widgets/base",
            "_model_module_version": "2.0.0",
            "_model_name": "LayoutModel",
            "_view_count": null,
            "_view_module": "@jupyter-widgets/base",
            "_view_module_version": "2.0.0",
            "_view_name": "LayoutView",
            "align_content": null,
            "align_items": null,
            "align_self": null,
            "border_bottom": null,
            "border_left": null,
            "border_right": null,
            "border_top": null,
            "bottom": null,
            "display": null,
            "flex": null,
            "flex_flow": null,
            "grid_area": null,
            "grid_auto_columns": null,
            "grid_auto_flow": null,
            "grid_auto_rows": null,
            "grid_column": null,
            "grid_gap": null,
            "grid_row": null,
            "grid_template_areas": null,
            "grid_template_columns": null,
            "grid_template_rows": null,
            "height": null,
            "justify_content": null,
            "justify_items": null,
            "left": null,
            "margin": null,
            "max_height": null,
            "max_width": null,
            "min_height": null,
            "min_width": null,
            "object_fit": null,
            "object_position": null,
            "order": null,
            "overflow": null,
            "padding": null,
            "right": null,
            "top": null,
            "visibility": null,
            "width": null
          }
        },
        "abe4c30297b5422b8002d58bc703cd8a": {
          "model_module": "@jupyter-widgets/controls",
          "model_name": "HTMLStyleModel",
          "model_module_version": "2.0.0",
          "state": {
            "_model_module": "@jupyter-widgets/controls",
            "_model_module_version": "2.0.0",
            "_model_name": "HTMLStyleModel",
            "_view_count": null,
            "_view_module": "@jupyter-widgets/base",
            "_view_module_version": "2.0.0",
            "_view_name": "StyleView",
            "background": null,
            "description_width": "",
            "font_size": null,
            "text_color": null
          }
        },
        "098b893c0f134dbdb240a2c6e6a8f399": {
          "model_module": "@jupyter-widgets/base",
          "model_name": "LayoutModel",
          "model_module_version": "2.0.0",
          "state": {
            "_model_module": "@jupyter-widgets/base",
            "_model_module_version": "2.0.0",
            "_model_name": "LayoutModel",
            "_view_count": null,
            "_view_module": "@jupyter-widgets/base",
            "_view_module_version": "2.0.0",
            "_view_name": "LayoutView",
            "align_content": null,
            "align_items": null,
            "align_self": null,
            "border_bottom": null,
            "border_left": null,
            "border_right": null,
            "border_top": null,
            "bottom": null,
            "display": null,
            "flex": "2",
            "flex_flow": null,
            "grid_area": null,
            "grid_auto_columns": null,
            "grid_auto_flow": null,
            "grid_auto_rows": null,
            "grid_column": null,
            "grid_gap": null,
            "grid_row": null,
            "grid_template_areas": null,
            "grid_template_columns": null,
            "grid_template_rows": null,
            "height": null,
            "justify_content": null,
            "justify_items": null,
            "left": null,
            "margin": null,
            "max_height": null,
            "max_width": null,
            "min_height": null,
            "min_width": null,
            "object_fit": null,
            "object_position": null,
            "order": null,
            "overflow": null,
            "padding": null,
            "right": null,
            "top": null,
            "visibility": null,
            "width": null
          }
        },
        "28ef4a55481d4f24ab16087e07796d45": {
          "model_module": "@jupyter-widgets/controls",
          "model_name": "ProgressStyleModel",
          "model_module_version": "2.0.0",
          "state": {
            "_model_module": "@jupyter-widgets/controls",
            "_model_module_version": "2.0.0",
            "_model_name": "ProgressStyleModel",
            "_view_count": null,
            "_view_module": "@jupyter-widgets/base",
            "_view_module_version": "2.0.0",
            "_view_name": "StyleView",
            "bar_color": null,
            "description_width": ""
          }
        },
        "71a1f4f7b69546a7bedc974147da7486": {
          "model_module": "@jupyter-widgets/base",
          "model_name": "LayoutModel",
          "model_module_version": "2.0.0",
          "state": {
            "_model_module": "@jupyter-widgets/base",
            "_model_module_version": "2.0.0",
            "_model_name": "LayoutModel",
            "_view_count": null,
            "_view_module": "@jupyter-widgets/base",
            "_view_module_version": "2.0.0",
            "_view_name": "LayoutView",
            "align_content": null,
            "align_items": null,
            "align_self": null,
            "border_bottom": null,
            "border_left": null,
            "border_right": null,
            "border_top": null,
            "bottom": null,
            "display": null,
            "flex": null,
            "flex_flow": null,
            "grid_area": null,
            "grid_auto_columns": null,
            "grid_auto_flow": null,
            "grid_auto_rows": null,
            "grid_column": null,
            "grid_gap": null,
            "grid_row": null,
            "grid_template_areas": null,
            "grid_template_columns": null,
            "grid_template_rows": null,
            "height": null,
            "justify_content": null,
            "justify_items": null,
            "left": null,
            "margin": null,
            "max_height": null,
            "max_width": null,
            "min_height": null,
            "min_width": null,
            "object_fit": null,
            "object_position": null,
            "order": null,
            "overflow": null,
            "padding": null,
            "right": null,
            "top": null,
            "visibility": null,
            "width": null
          }
        },
        "453f62fb464747839e6261874c0e7aaa": {
          "model_module": "@jupyter-widgets/controls",
          "model_name": "HTMLStyleModel",
          "model_module_version": "2.0.0",
          "state": {
            "_model_module": "@jupyter-widgets/controls",
            "_model_module_version": "2.0.0",
            "_model_name": "HTMLStyleModel",
            "_view_count": null,
            "_view_module": "@jupyter-widgets/base",
            "_view_module_version": "2.0.0",
            "_view_name": "StyleView",
            "background": null,
            "description_width": "",
            "font_size": null,
            "text_color": null
          }
        },
        "c607175e98ab4cd6b33df1a1cc33d582": {
          "model_module": "@jupyter-widgets/controls",
          "model_name": "HBoxModel",
          "model_module_version": "2.0.0",
          "state": {
            "_dom_classes": [],
            "_model_module": "@jupyter-widgets/controls",
            "_model_module_version": "2.0.0",
            "_model_name": "HBoxModel",
            "_view_count": null,
            "_view_module": "@jupyter-widgets/controls",
            "_view_module_version": "2.0.0",
            "_view_name": "HBoxView",
            "box_style": "",
            "children": [
              "IPY_MODEL_ba74a20386eb4e38a9afc8200414a95d",
              "IPY_MODEL_9400e5ecf9b2451e8d444562bde51204",
              "IPY_MODEL_c649ccb9a9d449a29bce323db1744a83"
            ],
            "layout": "IPY_MODEL_be31fb55eb1148878cd877bc5d466036",
            "tabbable": null,
            "tooltip": null
          }
        },
        "ba74a20386eb4e38a9afc8200414a95d": {
          "model_module": "@jupyter-widgets/controls",
          "model_name": "HTMLModel",
          "model_module_version": "2.0.0",
          "state": {
            "_dom_classes": [],
            "_model_module": "@jupyter-widgets/controls",
            "_model_module_version": "2.0.0",
            "_model_name": "HTMLModel",
            "_view_count": null,
            "_view_module": "@jupyter-widgets/controls",
            "_view_module_version": "2.0.0",
            "_view_name": "HTMLView",
            "description": "",
            "description_allow_html": false,
            "layout": "IPY_MODEL_94d6039725c6472ba7393780885ce205",
            "placeholder": "​",
            "style": "IPY_MODEL_9dd4282d82884f809a9ab44f97328454",
            "tabbable": null,
            "tooltip": null,
            "value": "100%"
          }
        },
        "9400e5ecf9b2451e8d444562bde51204": {
          "model_module": "@jupyter-widgets/controls",
          "model_name": "FloatProgressModel",
          "model_module_version": "2.0.0",
          "state": {
            "_dom_classes": [],
            "_model_module": "@jupyter-widgets/controls",
            "_model_module_version": "2.0.0",
            "_model_name": "FloatProgressModel",
            "_view_count": null,
            "_view_module": "@jupyter-widgets/controls",
            "_view_module_version": "2.0.0",
            "_view_name": "ProgressView",
            "bar_style": "",
            "description": "",
            "description_allow_html": false,
            "layout": "IPY_MODEL_9b84dad4b7014e2e8effbf71efe93374",
            "max": 25,
            "min": 0,
            "orientation": "horizontal",
            "style": "IPY_MODEL_119c138359d54e1187960a9f46c63f6b",
            "tabbable": null,
            "tooltip": null,
            "value": 25
          }
        },
        "c649ccb9a9d449a29bce323db1744a83": {
          "model_module": "@jupyter-widgets/controls",
          "model_name": "HTMLModel",
          "model_module_version": "2.0.0",
          "state": {
            "_dom_classes": [],
            "_model_module": "@jupyter-widgets/controls",
            "_model_module_version": "2.0.0",
            "_model_name": "HTMLModel",
            "_view_count": null,
            "_view_module": "@jupyter-widgets/controls",
            "_view_module_version": "2.0.0",
            "_view_name": "HTMLView",
            "description": "",
            "description_allow_html": false,
            "layout": "IPY_MODEL_cce9f566a6ca4c5bad1ca313b678f94f",
            "placeholder": "​",
            "style": "IPY_MODEL_32ac140b3775454a8f9f7597b87ecf69",
            "tabbable": null,
            "tooltip": null,
            "value": " 25/25 [00:00&lt;00:00, 104.55it/s]"
          }
        },
        "be31fb55eb1148878cd877bc5d466036": {
          "model_module": "@jupyter-widgets/base",
          "model_name": "LayoutModel",
          "model_module_version": "2.0.0",
          "state": {
            "_model_module": "@jupyter-widgets/base",
            "_model_module_version": "2.0.0",
            "_model_name": "LayoutModel",
            "_view_count": null,
            "_view_module": "@jupyter-widgets/base",
            "_view_module_version": "2.0.0",
            "_view_name": "LayoutView",
            "align_content": null,
            "align_items": null,
            "align_self": null,
            "border_bottom": null,
            "border_left": null,
            "border_right": null,
            "border_top": null,
            "bottom": null,
            "display": "inline-flex",
            "flex": null,
            "flex_flow": "row wrap",
            "grid_area": null,
            "grid_auto_columns": null,
            "grid_auto_flow": null,
            "grid_auto_rows": null,
            "grid_column": null,
            "grid_gap": null,
            "grid_row": null,
            "grid_template_areas": null,
            "grid_template_columns": null,
            "grid_template_rows": null,
            "height": null,
            "justify_content": null,
            "justify_items": null,
            "left": null,
            "margin": null,
            "max_height": null,
            "max_width": null,
            "min_height": null,
            "min_width": null,
            "object_fit": null,
            "object_position": null,
            "order": null,
            "overflow": null,
            "padding": null,
            "right": null,
            "top": null,
            "visibility": "hidden",
            "width": "100%"
          }
        },
        "94d6039725c6472ba7393780885ce205": {
          "model_module": "@jupyter-widgets/base",
          "model_name": "LayoutModel",
          "model_module_version": "2.0.0",
          "state": {
            "_model_module": "@jupyter-widgets/base",
            "_model_module_version": "2.0.0",
            "_model_name": "LayoutModel",
            "_view_count": null,
            "_view_module": "@jupyter-widgets/base",
            "_view_module_version": "2.0.0",
            "_view_name": "LayoutView",
            "align_content": null,
            "align_items": null,
            "align_self": null,
            "border_bottom": null,
            "border_left": null,
            "border_right": null,
            "border_top": null,
            "bottom": null,
            "display": null,
            "flex": null,
            "flex_flow": null,
            "grid_area": null,
            "grid_auto_columns": null,
            "grid_auto_flow": null,
            "grid_auto_rows": null,
            "grid_column": null,
            "grid_gap": null,
            "grid_row": null,
            "grid_template_areas": null,
            "grid_template_columns": null,
            "grid_template_rows": null,
            "height": null,
            "justify_content": null,
            "justify_items": null,
            "left": null,
            "margin": null,
            "max_height": null,
            "max_width": null,
            "min_height": null,
            "min_width": null,
            "object_fit": null,
            "object_position": null,
            "order": null,
            "overflow": null,
            "padding": null,
            "right": null,
            "top": null,
            "visibility": null,
            "width": null
          }
        },
        "9dd4282d82884f809a9ab44f97328454": {
          "model_module": "@jupyter-widgets/controls",
          "model_name": "HTMLStyleModel",
          "model_module_version": "2.0.0",
          "state": {
            "_model_module": "@jupyter-widgets/controls",
            "_model_module_version": "2.0.0",
            "_model_name": "HTMLStyleModel",
            "_view_count": null,
            "_view_module": "@jupyter-widgets/base",
            "_view_module_version": "2.0.0",
            "_view_name": "StyleView",
            "background": null,
            "description_width": "",
            "font_size": null,
            "text_color": null
          }
        },
        "9b84dad4b7014e2e8effbf71efe93374": {
          "model_module": "@jupyter-widgets/base",
          "model_name": "LayoutModel",
          "model_module_version": "2.0.0",
          "state": {
            "_model_module": "@jupyter-widgets/base",
            "_model_module_version": "2.0.0",
            "_model_name": "LayoutModel",
            "_view_count": null,
            "_view_module": "@jupyter-widgets/base",
            "_view_module_version": "2.0.0",
            "_view_name": "LayoutView",
            "align_content": null,
            "align_items": null,
            "align_self": null,
            "border_bottom": null,
            "border_left": null,
            "border_right": null,
            "border_top": null,
            "bottom": null,
            "display": null,
            "flex": "2",
            "flex_flow": null,
            "grid_area": null,
            "grid_auto_columns": null,
            "grid_auto_flow": null,
            "grid_auto_rows": null,
            "grid_column": null,
            "grid_gap": null,
            "grid_row": null,
            "grid_template_areas": null,
            "grid_template_columns": null,
            "grid_template_rows": null,
            "height": null,
            "justify_content": null,
            "justify_items": null,
            "left": null,
            "margin": null,
            "max_height": null,
            "max_width": null,
            "min_height": null,
            "min_width": null,
            "object_fit": null,
            "object_position": null,
            "order": null,
            "overflow": null,
            "padding": null,
            "right": null,
            "top": null,
            "visibility": null,
            "width": null
          }
        },
        "119c138359d54e1187960a9f46c63f6b": {
          "model_module": "@jupyter-widgets/controls",
          "model_name": "ProgressStyleModel",
          "model_module_version": "2.0.0",
          "state": {
            "_model_module": "@jupyter-widgets/controls",
            "_model_module_version": "2.0.0",
            "_model_name": "ProgressStyleModel",
            "_view_count": null,
            "_view_module": "@jupyter-widgets/base",
            "_view_module_version": "2.0.0",
            "_view_name": "StyleView",
            "bar_color": null,
            "description_width": ""
          }
        },
        "cce9f566a6ca4c5bad1ca313b678f94f": {
          "model_module": "@jupyter-widgets/base",
          "model_name": "LayoutModel",
          "model_module_version": "2.0.0",
          "state": {
            "_model_module": "@jupyter-widgets/base",
            "_model_module_version": "2.0.0",
            "_model_name": "LayoutModel",
            "_view_count": null,
            "_view_module": "@jupyter-widgets/base",
            "_view_module_version": "2.0.0",
            "_view_name": "LayoutView",
            "align_content": null,
            "align_items": null,
            "align_self": null,
            "border_bottom": null,
            "border_left": null,
            "border_right": null,
            "border_top": null,
            "bottom": null,
            "display": null,
            "flex": null,
            "flex_flow": null,
            "grid_area": null,
            "grid_auto_columns": null,
            "grid_auto_flow": null,
            "grid_auto_rows": null,
            "grid_column": null,
            "grid_gap": null,
            "grid_row": null,
            "grid_template_areas": null,
            "grid_template_columns": null,
            "grid_template_rows": null,
            "height": null,
            "justify_content": null,
            "justify_items": null,
            "left": null,
            "margin": null,
            "max_height": null,
            "max_width": null,
            "min_height": null,
            "min_width": null,
            "object_fit": null,
            "object_position": null,
            "order": null,
            "overflow": null,
            "padding": null,
            "right": null,
            "top": null,
            "visibility": null,
            "width": null
          }
        },
        "32ac140b3775454a8f9f7597b87ecf69": {
          "model_module": "@jupyter-widgets/controls",
          "model_name": "HTMLStyleModel",
          "model_module_version": "2.0.0",
          "state": {
            "_model_module": "@jupyter-widgets/controls",
            "_model_module_version": "2.0.0",
            "_model_name": "HTMLStyleModel",
            "_view_count": null,
            "_view_module": "@jupyter-widgets/base",
            "_view_module_version": "2.0.0",
            "_view_name": "StyleView",
            "background": null,
            "description_width": "",
            "font_size": null,
            "text_color": null
          }
        },
        "528286c1b29f4229bea981887d249e10": {
          "model_module": "@jupyter-widgets/base",
          "model_name": "LayoutModel",
          "model_module_version": "2.0.0",
          "state": {
            "_model_module": "@jupyter-widgets/base",
            "_model_module_version": "2.0.0",
            "_model_name": "LayoutModel",
            "_view_count": null,
            "_view_module": "@jupyter-widgets/base",
            "_view_module_version": "2.0.0",
            "_view_name": "LayoutView",
            "align_content": null,
            "align_items": null,
            "align_self": null,
            "border_bottom": null,
            "border_left": null,
            "border_right": null,
            "border_top": null,
            "bottom": null,
            "display": null,
            "flex": "2",
            "flex_flow": null,
            "grid_area": null,
            "grid_auto_columns": null,
            "grid_auto_flow": null,
            "grid_auto_rows": null,
            "grid_column": null,
            "grid_gap": null,
            "grid_row": null,
            "grid_template_areas": null,
            "grid_template_columns": null,
            "grid_template_rows": null,
            "height": null,
            "justify_content": null,
            "justify_items": null,
            "left": null,
            "margin": null,
            "max_height": null,
            "max_width": null,
            "min_height": null,
            "min_width": null,
            "object_fit": null,
            "object_position": null,
            "order": null,
            "overflow": null,
            "padding": null,
            "right": null,
            "top": null,
            "visibility": null,
            "width": null
          }
        },
        "dcedaab0a8884ab9aff9ab277f7c0b4d": {
          "model_module": "@jupyter-widgets/controls",
          "model_name": "ProgressStyleModel",
          "model_module_version": "2.0.0",
          "state": {
            "_model_module": "@jupyter-widgets/controls",
            "_model_module_version": "2.0.0",
            "_model_name": "ProgressStyleModel",
            "_view_count": null,
            "_view_module": "@jupyter-widgets/base",
            "_view_module_version": "2.0.0",
            "_view_name": "StyleView",
            "bar_color": null,
            "description_width": ""
          }
        },
        "ccecd902ad6a42edb6bbe09e46932170": {
          "model_module": "@jupyter-widgets/base",
          "model_name": "LayoutModel",
          "model_module_version": "2.0.0",
          "state": {
            "_model_module": "@jupyter-widgets/base",
            "_model_module_version": "2.0.0",
            "_model_name": "LayoutModel",
            "_view_count": null,
            "_view_module": "@jupyter-widgets/base",
            "_view_module_version": "2.0.0",
            "_view_name": "LayoutView",
            "align_content": null,
            "align_items": null,
            "align_self": null,
            "border_bottom": null,
            "border_left": null,
            "border_right": null,
            "border_top": null,
            "bottom": null,
            "display": null,
            "flex": null,
            "flex_flow": null,
            "grid_area": null,
            "grid_auto_columns": null,
            "grid_auto_flow": null,
            "grid_auto_rows": null,
            "grid_column": null,
            "grid_gap": null,
            "grid_row": null,
            "grid_template_areas": null,
            "grid_template_columns": null,
            "grid_template_rows": null,
            "height": null,
            "justify_content": null,
            "justify_items": null,
            "left": null,
            "margin": null,
            "max_height": null,
            "max_width": null,
            "min_height": null,
            "min_width": null,
            "object_fit": null,
            "object_position": null,
            "order": null,
            "overflow": null,
            "padding": null,
            "right": null,
            "top": null,
            "visibility": null,
            "width": null
          }
        },
        "f40a8ce493784d09bc5fdd27e9d6f260": {
          "model_module": "@jupyter-widgets/controls",
          "model_name": "HTMLStyleModel",
          "model_module_version": "2.0.0",
          "state": {
            "_model_module": "@jupyter-widgets/controls",
            "_model_module_version": "2.0.0",
            "_model_name": "HTMLStyleModel",
            "_view_count": null,
            "_view_module": "@jupyter-widgets/base",
            "_view_module_version": "2.0.0",
            "_view_name": "StyleView",
            "background": null,
            "description_width": "",
            "font_size": null,
            "text_color": null
          }
        },
        "dfb6caefaf964a929dccc29c5483448f": {
          "model_module": "@jupyter-widgets/base",
          "model_name": "LayoutModel",
          "model_module_version": "2.0.0",
          "state": {
            "_model_module": "@jupyter-widgets/base",
            "_model_module_version": "2.0.0",
            "_model_name": "LayoutModel",
            "_view_count": null,
            "_view_module": "@jupyter-widgets/base",
            "_view_module_version": "2.0.0",
            "_view_name": "LayoutView",
            "align_content": null,
            "align_items": null,
            "align_self": null,
            "border_bottom": null,
            "border_left": null,
            "border_right": null,
            "border_top": null,
            "bottom": null,
            "display": null,
            "flex": null,
            "flex_flow": null,
            "grid_area": null,
            "grid_auto_columns": null,
            "grid_auto_flow": null,
            "grid_auto_rows": null,
            "grid_column": null,
            "grid_gap": null,
            "grid_row": null,
            "grid_template_areas": null,
            "grid_template_columns": null,
            "grid_template_rows": null,
            "height": null,
            "justify_content": null,
            "justify_items": null,
            "left": null,
            "margin": null,
            "max_height": null,
            "max_width": null,
            "min_height": null,
            "min_width": null,
            "object_fit": null,
            "object_position": null,
            "order": null,
            "overflow": null,
            "padding": null,
            "right": null,
            "top": null,
            "visibility": null,
            "width": null
          }
        },
        "fb8391177ba24de8b088e333e2b8a5b8": {
          "model_module": "@jupyter-widgets/controls",
          "model_name": "HTMLStyleModel",
          "model_module_version": "2.0.0",
          "state": {
            "_model_module": "@jupyter-widgets/controls",
            "_model_module_version": "2.0.0",
            "_model_name": "HTMLStyleModel",
            "_view_count": null,
            "_view_module": "@jupyter-widgets/base",
            "_view_module_version": "2.0.0",
            "_view_name": "StyleView",
            "background": null,
            "description_width": "",
            "font_size": null,
            "text_color": null
          }
        },
        "6270c76a4b184aea996c333a2cbc3051": {
          "model_module": "@jupyter-widgets/controls",
          "model_name": "HTMLModel",
          "model_module_version": "2.0.0",
          "state": {
            "_dom_classes": [],
            "_model_module": "@jupyter-widgets/controls",
            "_model_module_version": "2.0.0",
            "_model_name": "HTMLModel",
            "_view_count": null,
            "_view_module": "@jupyter-widgets/controls",
            "_view_module_version": "2.0.0",
            "_view_name": "HTMLView",
            "description": "",
            "description_allow_html": false,
            "layout": "IPY_MODEL_ccecd902ad6a42edb6bbe09e46932170",
            "placeholder": "​",
            "style": "IPY_MODEL_f40a8ce493784d09bc5fdd27e9d6f260",
            "tabbable": null,
            "tooltip": null,
            "value": "100%"
          }
        },
        "90811fe5c87441acac0ba31237b515a3": {
          "model_module": "@jupyter-widgets/controls",
          "model_name": "FloatProgressModel",
          "model_module_version": "2.0.0",
          "state": {
            "_dom_classes": [],
            "_model_module": "@jupyter-widgets/controls",
            "_model_module_version": "2.0.0",
            "_model_name": "FloatProgressModel",
            "_view_count": null,
            "_view_module": "@jupyter-widgets/controls",
            "_view_module_version": "2.0.0",
            "_view_name": "ProgressView",
            "bar_style": "",
            "description": "",
            "description_allow_html": false,
            "layout": "IPY_MODEL_528286c1b29f4229bea981887d249e10",
            "max": 25,
            "min": 0,
            "orientation": "horizontal",
            "style": "IPY_MODEL_dcedaab0a8884ab9aff9ab277f7c0b4d",
            "tabbable": null,
            "tooltip": null,
            "value": 25
          }
        },
        "8d4429c9575d46349a353b2d2746d35e": {
          "model_module": "@jupyter-widgets/controls",
          "model_name": "HTMLModel",
          "model_module_version": "2.0.0",
          "state": {
            "_dom_classes": [],
            "_model_module": "@jupyter-widgets/controls",
            "_model_module_version": "2.0.0",
            "_model_name": "HTMLModel",
            "_view_count": null,
            "_view_module": "@jupyter-widgets/controls",
            "_view_module_version": "2.0.0",
            "_view_name": "HTMLView",
            "description": "",
            "description_allow_html": false,
            "layout": "IPY_MODEL_dfb6caefaf964a929dccc29c5483448f",
            "placeholder": "​",
            "style": "IPY_MODEL_fb8391177ba24de8b088e333e2b8a5b8",
            "tabbable": null,
            "tooltip": null,
            "value": " 25/25 [00:01&lt;00:00, 15.75it/s]"
          }
        },
        "78c94ac200e44530be2314abc7191925": {
          "model_module": "@jupyter-widgets/base",
          "model_name": "LayoutModel",
          "model_module_version": "2.0.0",
          "state": {
            "_model_module": "@jupyter-widgets/base",
            "_model_module_version": "2.0.0",
            "_model_name": "LayoutModel",
            "_view_count": null,
            "_view_module": "@jupyter-widgets/base",
            "_view_module_version": "2.0.0",
            "_view_name": "LayoutView",
            "align_content": null,
            "align_items": null,
            "align_self": null,
            "border_bottom": null,
            "border_left": null,
            "border_right": null,
            "border_top": null,
            "bottom": null,
            "display": "inline-flex",
            "flex": null,
            "flex_flow": "row wrap",
            "grid_area": null,
            "grid_auto_columns": null,
            "grid_auto_flow": null,
            "grid_auto_rows": null,
            "grid_column": null,
            "grid_gap": null,
            "grid_row": null,
            "grid_template_areas": null,
            "grid_template_columns": null,
            "grid_template_rows": null,
            "height": null,
            "justify_content": null,
            "justify_items": null,
            "left": null,
            "margin": null,
            "max_height": null,
            "max_width": null,
            "min_height": null,
            "min_width": null,
            "object_fit": null,
            "object_position": null,
            "order": null,
            "overflow": null,
            "padding": null,
            "right": null,
            "top": null,
            "visibility": "hidden",
            "width": "100%"
          }
        },
        "9d712cdfbeb347b5889ec6a98ccd0ab8": {
          "model_module": "@jupyter-widgets/controls",
          "model_name": "HBoxModel",
          "model_module_version": "2.0.0",
          "state": {
            "_dom_classes": [],
            "_model_module": "@jupyter-widgets/controls",
            "_model_module_version": "2.0.0",
            "_model_name": "HBoxModel",
            "_view_count": null,
            "_view_module": "@jupyter-widgets/controls",
            "_view_module_version": "2.0.0",
            "_view_name": "HBoxView",
            "box_style": "",
            "children": [
              "IPY_MODEL_6270c76a4b184aea996c333a2cbc3051",
              "IPY_MODEL_90811fe5c87441acac0ba31237b515a3",
              "IPY_MODEL_8d4429c9575d46349a353b2d2746d35e"
            ],
            "layout": "IPY_MODEL_78c94ac200e44530be2314abc7191925",
            "tabbable": null,
            "tooltip": null
          }
        },
        "96fbdf1b35944f6e937fbc2460f55691": {
          "model_module": "@jupyter-widgets/base",
          "model_name": "LayoutModel",
          "model_module_version": "2.0.0",
          "state": {
            "_model_module": "@jupyter-widgets/base",
            "_model_module_version": "2.0.0",
            "_model_name": "LayoutModel",
            "_view_count": null,
            "_view_module": "@jupyter-widgets/base",
            "_view_module_version": "2.0.0",
            "_view_name": "LayoutView",
            "align_content": null,
            "align_items": null,
            "align_self": null,
            "border_bottom": null,
            "border_left": null,
            "border_right": null,
            "border_top": null,
            "bottom": null,
            "display": null,
            "flex": "2",
            "flex_flow": null,
            "grid_area": null,
            "grid_auto_columns": null,
            "grid_auto_flow": null,
            "grid_auto_rows": null,
            "grid_column": null,
            "grid_gap": null,
            "grid_row": null,
            "grid_template_areas": null,
            "grid_template_columns": null,
            "grid_template_rows": null,
            "height": null,
            "justify_content": null,
            "justify_items": null,
            "left": null,
            "margin": null,
            "max_height": null,
            "max_width": null,
            "min_height": null,
            "min_width": null,
            "object_fit": null,
            "object_position": null,
            "order": null,
            "overflow": null,
            "padding": null,
            "right": null,
            "top": null,
            "visibility": null,
            "width": null
          }
        },
        "78a1094f7d9441e28c8d0b5973db3ee7": {
          "model_module": "@jupyter-widgets/controls",
          "model_name": "ProgressStyleModel",
          "model_module_version": "2.0.0",
          "state": {
            "_model_module": "@jupyter-widgets/controls",
            "_model_module_version": "2.0.0",
            "_model_name": "ProgressStyleModel",
            "_view_count": null,
            "_view_module": "@jupyter-widgets/base",
            "_view_module_version": "2.0.0",
            "_view_name": "StyleView",
            "bar_color": null,
            "description_width": ""
          }
        },
        "d37db66496ff404c88da61e38618951c": {
          "model_module": "@jupyter-widgets/base",
          "model_name": "LayoutModel",
          "model_module_version": "2.0.0",
          "state": {
            "_model_module": "@jupyter-widgets/base",
            "_model_module_version": "2.0.0",
            "_model_name": "LayoutModel",
            "_view_count": null,
            "_view_module": "@jupyter-widgets/base",
            "_view_module_version": "2.0.0",
            "_view_name": "LayoutView",
            "align_content": null,
            "align_items": null,
            "align_self": null,
            "border_bottom": null,
            "border_left": null,
            "border_right": null,
            "border_top": null,
            "bottom": null,
            "display": null,
            "flex": null,
            "flex_flow": null,
            "grid_area": null,
            "grid_auto_columns": null,
            "grid_auto_flow": null,
            "grid_auto_rows": null,
            "grid_column": null,
            "grid_gap": null,
            "grid_row": null,
            "grid_template_areas": null,
            "grid_template_columns": null,
            "grid_template_rows": null,
            "height": null,
            "justify_content": null,
            "justify_items": null,
            "left": null,
            "margin": null,
            "max_height": null,
            "max_width": null,
            "min_height": null,
            "min_width": null,
            "object_fit": null,
            "object_position": null,
            "order": null,
            "overflow": null,
            "padding": null,
            "right": null,
            "top": null,
            "visibility": null,
            "width": null
          }
        },
        "d8fb39c359844c3fbe9d062ad9d04f45": {
          "model_module": "@jupyter-widgets/controls",
          "model_name": "HTMLStyleModel",
          "model_module_version": "2.0.0",
          "state": {
            "_model_module": "@jupyter-widgets/controls",
            "_model_module_version": "2.0.0",
            "_model_name": "HTMLStyleModel",
            "_view_count": null,
            "_view_module": "@jupyter-widgets/base",
            "_view_module_version": "2.0.0",
            "_view_name": "StyleView",
            "background": null,
            "description_width": "",
            "font_size": null,
            "text_color": null
          }
        },
        "2328e42924544cd4b393433276d5f1a8": {
          "model_module": "@jupyter-widgets/base",
          "model_name": "LayoutModel",
          "model_module_version": "2.0.0",
          "state": {
            "_model_module": "@jupyter-widgets/base",
            "_model_module_version": "2.0.0",
            "_model_name": "LayoutModel",
            "_view_count": null,
            "_view_module": "@jupyter-widgets/base",
            "_view_module_version": "2.0.0",
            "_view_name": "LayoutView",
            "align_content": null,
            "align_items": null,
            "align_self": null,
            "border_bottom": null,
            "border_left": null,
            "border_right": null,
            "border_top": null,
            "bottom": null,
            "display": null,
            "flex": null,
            "flex_flow": null,
            "grid_area": null,
            "grid_auto_columns": null,
            "grid_auto_flow": null,
            "grid_auto_rows": null,
            "grid_column": null,
            "grid_gap": null,
            "grid_row": null,
            "grid_template_areas": null,
            "grid_template_columns": null,
            "grid_template_rows": null,
            "height": null,
            "justify_content": null,
            "justify_items": null,
            "left": null,
            "margin": null,
            "max_height": null,
            "max_width": null,
            "min_height": null,
            "min_width": null,
            "object_fit": null,
            "object_position": null,
            "order": null,
            "overflow": null,
            "padding": null,
            "right": null,
            "top": null,
            "visibility": null,
            "width": null
          }
        },
        "4b5ac0eccb194f3b9e988811bd3c9947": {
          "model_module": "@jupyter-widgets/controls",
          "model_name": "HTMLStyleModel",
          "model_module_version": "2.0.0",
          "state": {
            "_model_module": "@jupyter-widgets/controls",
            "_model_module_version": "2.0.0",
            "_model_name": "HTMLStyleModel",
            "_view_count": null,
            "_view_module": "@jupyter-widgets/base",
            "_view_module_version": "2.0.0",
            "_view_name": "StyleView",
            "background": null,
            "description_width": "",
            "font_size": null,
            "text_color": null
          }
        },
        "6bc257deb4d641d8934c5c6636117e19": {
          "model_module": "@jupyter-widgets/controls",
          "model_name": "HTMLModel",
          "model_module_version": "2.0.0",
          "state": {
            "_dom_classes": [],
            "_model_module": "@jupyter-widgets/controls",
            "_model_module_version": "2.0.0",
            "_model_name": "HTMLModel",
            "_view_count": null,
            "_view_module": "@jupyter-widgets/controls",
            "_view_module_version": "2.0.0",
            "_view_name": "HTMLView",
            "description": "",
            "description_allow_html": false,
            "layout": "IPY_MODEL_d37db66496ff404c88da61e38618951c",
            "placeholder": "​",
            "style": "IPY_MODEL_d8fb39c359844c3fbe9d062ad9d04f45",
            "tabbable": null,
            "tooltip": null,
            "value": "100%"
          }
        },
        "b7c0c9b84a1641eb8eb657854fbc0326": {
          "model_module": "@jupyter-widgets/controls",
          "model_name": "FloatProgressModel",
          "model_module_version": "2.0.0",
          "state": {
            "_dom_classes": [],
            "_model_module": "@jupyter-widgets/controls",
            "_model_module_version": "2.0.0",
            "_model_name": "FloatProgressModel",
            "_view_count": null,
            "_view_module": "@jupyter-widgets/controls",
            "_view_module_version": "2.0.0",
            "_view_name": "ProgressView",
            "bar_style": "",
            "description": "",
            "description_allow_html": false,
            "layout": "IPY_MODEL_96fbdf1b35944f6e937fbc2460f55691",
            "max": 25,
            "min": 0,
            "orientation": "horizontal",
            "style": "IPY_MODEL_78a1094f7d9441e28c8d0b5973db3ee7",
            "tabbable": null,
            "tooltip": null,
            "value": 25
          }
        },
        "c70703f2ba9a4f0ba44c1f78de96c699": {
          "model_module": "@jupyter-widgets/controls",
          "model_name": "HTMLModel",
          "model_module_version": "2.0.0",
          "state": {
            "_dom_classes": [],
            "_model_module": "@jupyter-widgets/controls",
            "_model_module_version": "2.0.0",
            "_model_name": "HTMLModel",
            "_view_count": null,
            "_view_module": "@jupyter-widgets/controls",
            "_view_module_version": "2.0.0",
            "_view_name": "HTMLView",
            "description": "",
            "description_allow_html": false,
            "layout": "IPY_MODEL_2328e42924544cd4b393433276d5f1a8",
            "placeholder": "​",
            "style": "IPY_MODEL_4b5ac0eccb194f3b9e988811bd3c9947",
            "tabbable": null,
            "tooltip": null,
            "value": " 25/25 [00:00&lt;00:00, 261.00it/s]"
          }
        },
        "1ce107fe2de743a7a38609b54fc04669": {
          "model_module": "@jupyter-widgets/base",
          "model_name": "LayoutModel",
          "model_module_version": "2.0.0",
          "state": {
            "_model_module": "@jupyter-widgets/base",
            "_model_module_version": "2.0.0",
            "_model_name": "LayoutModel",
            "_view_count": null,
            "_view_module": "@jupyter-widgets/base",
            "_view_module_version": "2.0.0",
            "_view_name": "LayoutView",
            "align_content": null,
            "align_items": null,
            "align_self": null,
            "border_bottom": null,
            "border_left": null,
            "border_right": null,
            "border_top": null,
            "bottom": null,
            "display": "inline-flex",
            "flex": null,
            "flex_flow": "row wrap",
            "grid_area": null,
            "grid_auto_columns": null,
            "grid_auto_flow": null,
            "grid_auto_rows": null,
            "grid_column": null,
            "grid_gap": null,
            "grid_row": null,
            "grid_template_areas": null,
            "grid_template_columns": null,
            "grid_template_rows": null,
            "height": null,
            "justify_content": null,
            "justify_items": null,
            "left": null,
            "margin": null,
            "max_height": null,
            "max_width": null,
            "min_height": null,
            "min_width": null,
            "object_fit": null,
            "object_position": null,
            "order": null,
            "overflow": null,
            "padding": null,
            "right": null,
            "top": null,
            "visibility": "hidden",
            "width": "100%"
          }
        },
        "97ba776c81eb44b8a8a075f83f75c1a3": {
          "model_module": "@jupyter-widgets/controls",
          "model_name": "HBoxModel",
          "model_module_version": "2.0.0",
          "state": {
            "_dom_classes": [],
            "_model_module": "@jupyter-widgets/controls",
            "_model_module_version": "2.0.0",
            "_model_name": "HBoxModel",
            "_view_count": null,
            "_view_module": "@jupyter-widgets/controls",
            "_view_module_version": "2.0.0",
            "_view_name": "HBoxView",
            "box_style": "",
            "children": [
              "IPY_MODEL_6bc257deb4d641d8934c5c6636117e19",
              "IPY_MODEL_b7c0c9b84a1641eb8eb657854fbc0326",
              "IPY_MODEL_c70703f2ba9a4f0ba44c1f78de96c699"
            ],
            "layout": "IPY_MODEL_1ce107fe2de743a7a38609b54fc04669",
            "tabbable": null,
            "tooltip": null
          }
        },
        "f7126c076b0a4a9d9ce084606a74d613": {
          "model_module": "@jupyter-widgets/base",
          "model_name": "LayoutModel",
          "model_module_version": "2.0.0",
          "state": {
            "_model_module": "@jupyter-widgets/base",
            "_model_module_version": "2.0.0",
            "_model_name": "LayoutModel",
            "_view_count": null,
            "_view_module": "@jupyter-widgets/base",
            "_view_module_version": "2.0.0",
            "_view_name": "LayoutView",
            "align_content": null,
            "align_items": null,
            "align_self": null,
            "border_bottom": null,
            "border_left": null,
            "border_right": null,
            "border_top": null,
            "bottom": null,
            "display": null,
            "flex": "2",
            "flex_flow": null,
            "grid_area": null,
            "grid_auto_columns": null,
            "grid_auto_flow": null,
            "grid_auto_rows": null,
            "grid_column": null,
            "grid_gap": null,
            "grid_row": null,
            "grid_template_areas": null,
            "grid_template_columns": null,
            "grid_template_rows": null,
            "height": null,
            "justify_content": null,
            "justify_items": null,
            "left": null,
            "margin": null,
            "max_height": null,
            "max_width": null,
            "min_height": null,
            "min_width": null,
            "object_fit": null,
            "object_position": null,
            "order": null,
            "overflow": null,
            "padding": null,
            "right": null,
            "top": null,
            "visibility": null,
            "width": null
          }
        },
        "e0589868e09748199efb86032a46ad2b": {
          "model_module": "@jupyter-widgets/controls",
          "model_name": "ProgressStyleModel",
          "model_module_version": "2.0.0",
          "state": {
            "_model_module": "@jupyter-widgets/controls",
            "_model_module_version": "2.0.0",
            "_model_name": "ProgressStyleModel",
            "_view_count": null,
            "_view_module": "@jupyter-widgets/base",
            "_view_module_version": "2.0.0",
            "_view_name": "StyleView",
            "bar_color": null,
            "description_width": ""
          }
        },
        "96ffdae59a8c45318058d842f0b4976e": {
          "model_module": "@jupyter-widgets/base",
          "model_name": "LayoutModel",
          "model_module_version": "2.0.0",
          "state": {
            "_model_module": "@jupyter-widgets/base",
            "_model_module_version": "2.0.0",
            "_model_name": "LayoutModel",
            "_view_count": null,
            "_view_module": "@jupyter-widgets/base",
            "_view_module_version": "2.0.0",
            "_view_name": "LayoutView",
            "align_content": null,
            "align_items": null,
            "align_self": null,
            "border_bottom": null,
            "border_left": null,
            "border_right": null,
            "border_top": null,
            "bottom": null,
            "display": null,
            "flex": null,
            "flex_flow": null,
            "grid_area": null,
            "grid_auto_columns": null,
            "grid_auto_flow": null,
            "grid_auto_rows": null,
            "grid_column": null,
            "grid_gap": null,
            "grid_row": null,
            "grid_template_areas": null,
            "grid_template_columns": null,
            "grid_template_rows": null,
            "height": null,
            "justify_content": null,
            "justify_items": null,
            "left": null,
            "margin": null,
            "max_height": null,
            "max_width": null,
            "min_height": null,
            "min_width": null,
            "object_fit": null,
            "object_position": null,
            "order": null,
            "overflow": null,
            "padding": null,
            "right": null,
            "top": null,
            "visibility": null,
            "width": null
          }
        },
        "6c5d7a3799a2472594ba4bbcef42b61a": {
          "model_module": "@jupyter-widgets/controls",
          "model_name": "HTMLStyleModel",
          "model_module_version": "2.0.0",
          "state": {
            "_model_module": "@jupyter-widgets/controls",
            "_model_module_version": "2.0.0",
            "_model_name": "HTMLStyleModel",
            "_view_count": null,
            "_view_module": "@jupyter-widgets/base",
            "_view_module_version": "2.0.0",
            "_view_name": "StyleView",
            "background": null,
            "description_width": "",
            "font_size": null,
            "text_color": null
          }
        },
        "63d28e615cc449f782856cd7cb0a53c0": {
          "model_module": "@jupyter-widgets/base",
          "model_name": "LayoutModel",
          "model_module_version": "2.0.0",
          "state": {
            "_model_module": "@jupyter-widgets/base",
            "_model_module_version": "2.0.0",
            "_model_name": "LayoutModel",
            "_view_count": null,
            "_view_module": "@jupyter-widgets/base",
            "_view_module_version": "2.0.0",
            "_view_name": "LayoutView",
            "align_content": null,
            "align_items": null,
            "align_self": null,
            "border_bottom": null,
            "border_left": null,
            "border_right": null,
            "border_top": null,
            "bottom": null,
            "display": null,
            "flex": null,
            "flex_flow": null,
            "grid_area": null,
            "grid_auto_columns": null,
            "grid_auto_flow": null,
            "grid_auto_rows": null,
            "grid_column": null,
            "grid_gap": null,
            "grid_row": null,
            "grid_template_areas": null,
            "grid_template_columns": null,
            "grid_template_rows": null,
            "height": null,
            "justify_content": null,
            "justify_items": null,
            "left": null,
            "margin": null,
            "max_height": null,
            "max_width": null,
            "min_height": null,
            "min_width": null,
            "object_fit": null,
            "object_position": null,
            "order": null,
            "overflow": null,
            "padding": null,
            "right": null,
            "top": null,
            "visibility": null,
            "width": null
          }
        },
        "da9067cd88224306af57dfecea25d7d0": {
          "model_module": "@jupyter-widgets/controls",
          "model_name": "HTMLStyleModel",
          "model_module_version": "2.0.0",
          "state": {
            "_model_module": "@jupyter-widgets/controls",
            "_model_module_version": "2.0.0",
            "_model_name": "HTMLStyleModel",
            "_view_count": null,
            "_view_module": "@jupyter-widgets/base",
            "_view_module_version": "2.0.0",
            "_view_name": "StyleView",
            "background": null,
            "description_width": "",
            "font_size": null,
            "text_color": null
          }
        },
        "7cd13bbc08d54b0cbe7b34d3fa19c1f9": {
          "model_module": "@jupyter-widgets/controls",
          "model_name": "HTMLModel",
          "model_module_version": "2.0.0",
          "state": {
            "_dom_classes": [],
            "_model_module": "@jupyter-widgets/controls",
            "_model_module_version": "2.0.0",
            "_model_name": "HTMLModel",
            "_view_count": null,
            "_view_module": "@jupyter-widgets/controls",
            "_view_module_version": "2.0.0",
            "_view_name": "HTMLView",
            "description": "",
            "description_allow_html": false,
            "layout": "IPY_MODEL_96ffdae59a8c45318058d842f0b4976e",
            "placeholder": "​",
            "style": "IPY_MODEL_6c5d7a3799a2472594ba4bbcef42b61a",
            "tabbable": null,
            "tooltip": null,
            "value": "100%"
          }
        },
        "6a57a327ffd043a3ab3a9bf137dcedc8": {
          "model_module": "@jupyter-widgets/controls",
          "model_name": "FloatProgressModel",
          "model_module_version": "2.0.0",
          "state": {
            "_dom_classes": [],
            "_model_module": "@jupyter-widgets/controls",
            "_model_module_version": "2.0.0",
            "_model_name": "FloatProgressModel",
            "_view_count": null,
            "_view_module": "@jupyter-widgets/controls",
            "_view_module_version": "2.0.0",
            "_view_name": "ProgressView",
            "bar_style": "",
            "description": "",
            "description_allow_html": false,
            "layout": "IPY_MODEL_f7126c076b0a4a9d9ce084606a74d613",
            "max": 25,
            "min": 0,
            "orientation": "horizontal",
            "style": "IPY_MODEL_e0589868e09748199efb86032a46ad2b",
            "tabbable": null,
            "tooltip": null,
            "value": 25
          }
        },
        "199aa72586b84e948369e6e8a73620a3": {
          "model_module": "@jupyter-widgets/controls",
          "model_name": "HTMLModel",
          "model_module_version": "2.0.0",
          "state": {
            "_dom_classes": [],
            "_model_module": "@jupyter-widgets/controls",
            "_model_module_version": "2.0.0",
            "_model_name": "HTMLModel",
            "_view_count": null,
            "_view_module": "@jupyter-widgets/controls",
            "_view_module_version": "2.0.0",
            "_view_name": "HTMLView",
            "description": "",
            "description_allow_html": false,
            "layout": "IPY_MODEL_63d28e615cc449f782856cd7cb0a53c0",
            "placeholder": "​",
            "style": "IPY_MODEL_da9067cd88224306af57dfecea25d7d0",
            "tabbable": null,
            "tooltip": null,
            "value": " 25/25 [00:01&lt;00:00, 16.19it/s]"
          }
        },
        "12ece9cde4a4414ab9112e016b3ed847": {
          "model_module": "@jupyter-widgets/base",
          "model_name": "LayoutModel",
          "model_module_version": "2.0.0",
          "state": {
            "_model_module": "@jupyter-widgets/base",
            "_model_module_version": "2.0.0",
            "_model_name": "LayoutModel",
            "_view_count": null,
            "_view_module": "@jupyter-widgets/base",
            "_view_module_version": "2.0.0",
            "_view_name": "LayoutView",
            "align_content": null,
            "align_items": null,
            "align_self": null,
            "border_bottom": null,
            "border_left": null,
            "border_right": null,
            "border_top": null,
            "bottom": null,
            "display": "inline-flex",
            "flex": null,
            "flex_flow": "row wrap",
            "grid_area": null,
            "grid_auto_columns": null,
            "grid_auto_flow": null,
            "grid_auto_rows": null,
            "grid_column": null,
            "grid_gap": null,
            "grid_row": null,
            "grid_template_areas": null,
            "grid_template_columns": null,
            "grid_template_rows": null,
            "height": null,
            "justify_content": null,
            "justify_items": null,
            "left": null,
            "margin": null,
            "max_height": null,
            "max_width": null,
            "min_height": null,
            "min_width": null,
            "object_fit": null,
            "object_position": null,
            "order": null,
            "overflow": null,
            "padding": null,
            "right": null,
            "top": null,
            "visibility": "hidden",
            "width": "100%"
          }
        },
        "38624beadd184214ad91e424cea4d205": {
          "model_module": "@jupyter-widgets/controls",
          "model_name": "HBoxModel",
          "model_module_version": "2.0.0",
          "state": {
            "_dom_classes": [],
            "_model_module": "@jupyter-widgets/controls",
            "_model_module_version": "2.0.0",
            "_model_name": "HBoxModel",
            "_view_count": null,
            "_view_module": "@jupyter-widgets/controls",
            "_view_module_version": "2.0.0",
            "_view_name": "HBoxView",
            "box_style": "",
            "children": [
              "IPY_MODEL_7cd13bbc08d54b0cbe7b34d3fa19c1f9",
              "IPY_MODEL_6a57a327ffd043a3ab3a9bf137dcedc8",
              "IPY_MODEL_199aa72586b84e948369e6e8a73620a3"
            ],
            "layout": "IPY_MODEL_12ece9cde4a4414ab9112e016b3ed847",
            "tabbable": null,
            "tooltip": null
          }
        },
        "c10f685e1ec14de89b56dda2f49ef5d3": {
          "model_module": "@jupyter-widgets/base",
          "model_name": "LayoutModel",
          "model_module_version": "2.0.0",
          "state": {
            "_model_module": "@jupyter-widgets/base",
            "_model_module_version": "2.0.0",
            "_model_name": "LayoutModel",
            "_view_count": null,
            "_view_module": "@jupyter-widgets/base",
            "_view_module_version": "2.0.0",
            "_view_name": "LayoutView",
            "align_content": null,
            "align_items": null,
            "align_self": null,
            "border_bottom": null,
            "border_left": null,
            "border_right": null,
            "border_top": null,
            "bottom": null,
            "display": null,
            "flex": "2",
            "flex_flow": null,
            "grid_area": null,
            "grid_auto_columns": null,
            "grid_auto_flow": null,
            "grid_auto_rows": null,
            "grid_column": null,
            "grid_gap": null,
            "grid_row": null,
            "grid_template_areas": null,
            "grid_template_columns": null,
            "grid_template_rows": null,
            "height": null,
            "justify_content": null,
            "justify_items": null,
            "left": null,
            "margin": null,
            "max_height": null,
            "max_width": null,
            "min_height": null,
            "min_width": null,
            "object_fit": null,
            "object_position": null,
            "order": null,
            "overflow": null,
            "padding": null,
            "right": null,
            "top": null,
            "visibility": null,
            "width": null
          }
        },
        "4ab7e93153f7498285981db609f45fbf": {
          "model_module": "@jupyter-widgets/controls",
          "model_name": "ProgressStyleModel",
          "model_module_version": "2.0.0",
          "state": {
            "_model_module": "@jupyter-widgets/controls",
            "_model_module_version": "2.0.0",
            "_model_name": "ProgressStyleModel",
            "_view_count": null,
            "_view_module": "@jupyter-widgets/base",
            "_view_module_version": "2.0.0",
            "_view_name": "StyleView",
            "bar_color": null,
            "description_width": ""
          }
        },
        "5ba614cb13d04a9384f55525e4029a4a": {
          "model_module": "@jupyter-widgets/base",
          "model_name": "LayoutModel",
          "model_module_version": "2.0.0",
          "state": {
            "_model_module": "@jupyter-widgets/base",
            "_model_module_version": "2.0.0",
            "_model_name": "LayoutModel",
            "_view_count": null,
            "_view_module": "@jupyter-widgets/base",
            "_view_module_version": "2.0.0",
            "_view_name": "LayoutView",
            "align_content": null,
            "align_items": null,
            "align_self": null,
            "border_bottom": null,
            "border_left": null,
            "border_right": null,
            "border_top": null,
            "bottom": null,
            "display": null,
            "flex": null,
            "flex_flow": null,
            "grid_area": null,
            "grid_auto_columns": null,
            "grid_auto_flow": null,
            "grid_auto_rows": null,
            "grid_column": null,
            "grid_gap": null,
            "grid_row": null,
            "grid_template_areas": null,
            "grid_template_columns": null,
            "grid_template_rows": null,
            "height": null,
            "justify_content": null,
            "justify_items": null,
            "left": null,
            "margin": null,
            "max_height": null,
            "max_width": null,
            "min_height": null,
            "min_width": null,
            "object_fit": null,
            "object_position": null,
            "order": null,
            "overflow": null,
            "padding": null,
            "right": null,
            "top": null,
            "visibility": null,
            "width": null
          }
        },
        "713f951c8f9148a482a0f48eda569ba3": {
          "model_module": "@jupyter-widgets/controls",
          "model_name": "HTMLStyleModel",
          "model_module_version": "2.0.0",
          "state": {
            "_model_module": "@jupyter-widgets/controls",
            "_model_module_version": "2.0.0",
            "_model_name": "HTMLStyleModel",
            "_view_count": null,
            "_view_module": "@jupyter-widgets/base",
            "_view_module_version": "2.0.0",
            "_view_name": "StyleView",
            "background": null,
            "description_width": "",
            "font_size": null,
            "text_color": null
          }
        },
        "c773b550180b4c84917bf6d3184cd2de": {
          "model_module": "@jupyter-widgets/base",
          "model_name": "LayoutModel",
          "model_module_version": "2.0.0",
          "state": {
            "_model_module": "@jupyter-widgets/base",
            "_model_module_version": "2.0.0",
            "_model_name": "LayoutModel",
            "_view_count": null,
            "_view_module": "@jupyter-widgets/base",
            "_view_module_version": "2.0.0",
            "_view_name": "LayoutView",
            "align_content": null,
            "align_items": null,
            "align_self": null,
            "border_bottom": null,
            "border_left": null,
            "border_right": null,
            "border_top": null,
            "bottom": null,
            "display": null,
            "flex": null,
            "flex_flow": null,
            "grid_area": null,
            "grid_auto_columns": null,
            "grid_auto_flow": null,
            "grid_auto_rows": null,
            "grid_column": null,
            "grid_gap": null,
            "grid_row": null,
            "grid_template_areas": null,
            "grid_template_columns": null,
            "grid_template_rows": null,
            "height": null,
            "justify_content": null,
            "justify_items": null,
            "left": null,
            "margin": null,
            "max_height": null,
            "max_width": null,
            "min_height": null,
            "min_width": null,
            "object_fit": null,
            "object_position": null,
            "order": null,
            "overflow": null,
            "padding": null,
            "right": null,
            "top": null,
            "visibility": null,
            "width": null
          }
        },
        "438dd0c5866144ee8c01ae8d072631f2": {
          "model_module": "@jupyter-widgets/controls",
          "model_name": "HTMLStyleModel",
          "model_module_version": "2.0.0",
          "state": {
            "_model_module": "@jupyter-widgets/controls",
            "_model_module_version": "2.0.0",
            "_model_name": "HTMLStyleModel",
            "_view_count": null,
            "_view_module": "@jupyter-widgets/base",
            "_view_module_version": "2.0.0",
            "_view_name": "StyleView",
            "background": null,
            "description_width": "",
            "font_size": null,
            "text_color": null
          }
        },
        "18f58319110a46c698823e187bc18b51": {
          "model_module": "@jupyter-widgets/controls",
          "model_name": "HTMLModel",
          "model_module_version": "2.0.0",
          "state": {
            "_dom_classes": [],
            "_model_module": "@jupyter-widgets/controls",
            "_model_module_version": "2.0.0",
            "_model_name": "HTMLModel",
            "_view_count": null,
            "_view_module": "@jupyter-widgets/controls",
            "_view_module_version": "2.0.0",
            "_view_name": "HTMLView",
            "description": "",
            "description_allow_html": false,
            "layout": "IPY_MODEL_5ba614cb13d04a9384f55525e4029a4a",
            "placeholder": "​",
            "style": "IPY_MODEL_713f951c8f9148a482a0f48eda569ba3",
            "tabbable": null,
            "tooltip": null,
            "value": "100%"
          }
        },
        "485c094ccc7a4614b7d013185c1505f1": {
          "model_module": "@jupyter-widgets/controls",
          "model_name": "FloatProgressModel",
          "model_module_version": "2.0.0",
          "state": {
            "_dom_classes": [],
            "_model_module": "@jupyter-widgets/controls",
            "_model_module_version": "2.0.0",
            "_model_name": "FloatProgressModel",
            "_view_count": null,
            "_view_module": "@jupyter-widgets/controls",
            "_view_module_version": "2.0.0",
            "_view_name": "ProgressView",
            "bar_style": "",
            "description": "",
            "description_allow_html": false,
            "layout": "IPY_MODEL_c10f685e1ec14de89b56dda2f49ef5d3",
            "max": 25,
            "min": 0,
            "orientation": "horizontal",
            "style": "IPY_MODEL_4ab7e93153f7498285981db609f45fbf",
            "tabbable": null,
            "tooltip": null,
            "value": 25
          }
        },
        "bcffe0cd4b6f4d0fb8f95ae71e621ca7": {
          "model_module": "@jupyter-widgets/controls",
          "model_name": "HTMLModel",
          "model_module_version": "2.0.0",
          "state": {
            "_dom_classes": [],
            "_model_module": "@jupyter-widgets/controls",
            "_model_module_version": "2.0.0",
            "_model_name": "HTMLModel",
            "_view_count": null,
            "_view_module": "@jupyter-widgets/controls",
            "_view_module_version": "2.0.0",
            "_view_name": "HTMLView",
            "description": "",
            "description_allow_html": false,
            "layout": "IPY_MODEL_c773b550180b4c84917bf6d3184cd2de",
            "placeholder": "​",
            "style": "IPY_MODEL_438dd0c5866144ee8c01ae8d072631f2",
            "tabbable": null,
            "tooltip": null,
            "value": " 25/25 [00:00&lt;00:00, 348.50it/s]"
          }
        },
        "ddc4b8c388424727ba4a7c889364c65e": {
          "model_module": "@jupyter-widgets/base",
          "model_name": "LayoutModel",
          "model_module_version": "2.0.0",
          "state": {
            "_model_module": "@jupyter-widgets/base",
            "_model_module_version": "2.0.0",
            "_model_name": "LayoutModel",
            "_view_count": null,
            "_view_module": "@jupyter-widgets/base",
            "_view_module_version": "2.0.0",
            "_view_name": "LayoutView",
            "align_content": null,
            "align_items": null,
            "align_self": null,
            "border_bottom": null,
            "border_left": null,
            "border_right": null,
            "border_top": null,
            "bottom": null,
            "display": "inline-flex",
            "flex": null,
            "flex_flow": "row wrap",
            "grid_area": null,
            "grid_auto_columns": null,
            "grid_auto_flow": null,
            "grid_auto_rows": null,
            "grid_column": null,
            "grid_gap": null,
            "grid_row": null,
            "grid_template_areas": null,
            "grid_template_columns": null,
            "grid_template_rows": null,
            "height": null,
            "justify_content": null,
            "justify_items": null,
            "left": null,
            "margin": null,
            "max_height": null,
            "max_width": null,
            "min_height": null,
            "min_width": null,
            "object_fit": null,
            "object_position": null,
            "order": null,
            "overflow": null,
            "padding": null,
            "right": null,
            "top": null,
            "visibility": "hidden",
            "width": "100%"
          }
        },
        "558b7c98563a4b2496e41911533a84d7": {
          "model_module": "@jupyter-widgets/controls",
          "model_name": "HBoxModel",
          "model_module_version": "2.0.0",
          "state": {
            "_dom_classes": [],
            "_model_module": "@jupyter-widgets/controls",
            "_model_module_version": "2.0.0",
            "_model_name": "HBoxModel",
            "_view_count": null,
            "_view_module": "@jupyter-widgets/controls",
            "_view_module_version": "2.0.0",
            "_view_name": "HBoxView",
            "box_style": "",
            "children": [
              "IPY_MODEL_18f58319110a46c698823e187bc18b51",
              "IPY_MODEL_485c094ccc7a4614b7d013185c1505f1",
              "IPY_MODEL_bcffe0cd4b6f4d0fb8f95ae71e621ca7"
            ],
            "layout": "IPY_MODEL_ddc4b8c388424727ba4a7c889364c65e",
            "tabbable": null,
            "tooltip": null
          }
        },
        "e0f9eed601df43ae9d451fd918d004d7": {
          "model_module": "@jupyter-widgets/base",
          "model_name": "LayoutModel",
          "model_module_version": "2.0.0",
          "state": {
            "_model_module": "@jupyter-widgets/base",
            "_model_module_version": "2.0.0",
            "_model_name": "LayoutModel",
            "_view_count": null,
            "_view_module": "@jupyter-widgets/base",
            "_view_module_version": "2.0.0",
            "_view_name": "LayoutView",
            "align_content": null,
            "align_items": null,
            "align_self": null,
            "border_bottom": null,
            "border_left": null,
            "border_right": null,
            "border_top": null,
            "bottom": null,
            "display": null,
            "flex": "2",
            "flex_flow": null,
            "grid_area": null,
            "grid_auto_columns": null,
            "grid_auto_flow": null,
            "grid_auto_rows": null,
            "grid_column": null,
            "grid_gap": null,
            "grid_row": null,
            "grid_template_areas": null,
            "grid_template_columns": null,
            "grid_template_rows": null,
            "height": null,
            "justify_content": null,
            "justify_items": null,
            "left": null,
            "margin": null,
            "max_height": null,
            "max_width": null,
            "min_height": null,
            "min_width": null,
            "object_fit": null,
            "object_position": null,
            "order": null,
            "overflow": null,
            "padding": null,
            "right": null,
            "top": null,
            "visibility": null,
            "width": null
          }
        },
        "8fa8ace968fe43a298a247d163233aa3": {
          "model_module": "@jupyter-widgets/controls",
          "model_name": "ProgressStyleModel",
          "model_module_version": "2.0.0",
          "state": {
            "_model_module": "@jupyter-widgets/controls",
            "_model_module_version": "2.0.0",
            "_model_name": "ProgressStyleModel",
            "_view_count": null,
            "_view_module": "@jupyter-widgets/base",
            "_view_module_version": "2.0.0",
            "_view_name": "StyleView",
            "bar_color": null,
            "description_width": ""
          }
        },
        "684c93c506c5411bb2f0b5778e9182df": {
          "model_module": "@jupyter-widgets/base",
          "model_name": "LayoutModel",
          "model_module_version": "2.0.0",
          "state": {
            "_model_module": "@jupyter-widgets/base",
            "_model_module_version": "2.0.0",
            "_model_name": "LayoutModel",
            "_view_count": null,
            "_view_module": "@jupyter-widgets/base",
            "_view_module_version": "2.0.0",
            "_view_name": "LayoutView",
            "align_content": null,
            "align_items": null,
            "align_self": null,
            "border_bottom": null,
            "border_left": null,
            "border_right": null,
            "border_top": null,
            "bottom": null,
            "display": null,
            "flex": null,
            "flex_flow": null,
            "grid_area": null,
            "grid_auto_columns": null,
            "grid_auto_flow": null,
            "grid_auto_rows": null,
            "grid_column": null,
            "grid_gap": null,
            "grid_row": null,
            "grid_template_areas": null,
            "grid_template_columns": null,
            "grid_template_rows": null,
            "height": null,
            "justify_content": null,
            "justify_items": null,
            "left": null,
            "margin": null,
            "max_height": null,
            "max_width": null,
            "min_height": null,
            "min_width": null,
            "object_fit": null,
            "object_position": null,
            "order": null,
            "overflow": null,
            "padding": null,
            "right": null,
            "top": null,
            "visibility": null,
            "width": null
          }
        },
        "9914aa1772014fd695f47c3bb62891b7": {
          "model_module": "@jupyter-widgets/controls",
          "model_name": "HTMLStyleModel",
          "model_module_version": "2.0.0",
          "state": {
            "_model_module": "@jupyter-widgets/controls",
            "_model_module_version": "2.0.0",
            "_model_name": "HTMLStyleModel",
            "_view_count": null,
            "_view_module": "@jupyter-widgets/base",
            "_view_module_version": "2.0.0",
            "_view_name": "StyleView",
            "background": null,
            "description_width": "",
            "font_size": null,
            "text_color": null
          }
        },
        "85a5beb6b179470aa2113d4244e2e7b7": {
          "model_module": "@jupyter-widgets/base",
          "model_name": "LayoutModel",
          "model_module_version": "2.0.0",
          "state": {
            "_model_module": "@jupyter-widgets/base",
            "_model_module_version": "2.0.0",
            "_model_name": "LayoutModel",
            "_view_count": null,
            "_view_module": "@jupyter-widgets/base",
            "_view_module_version": "2.0.0",
            "_view_name": "LayoutView",
            "align_content": null,
            "align_items": null,
            "align_self": null,
            "border_bottom": null,
            "border_left": null,
            "border_right": null,
            "border_top": null,
            "bottom": null,
            "display": null,
            "flex": null,
            "flex_flow": null,
            "grid_area": null,
            "grid_auto_columns": null,
            "grid_auto_flow": null,
            "grid_auto_rows": null,
            "grid_column": null,
            "grid_gap": null,
            "grid_row": null,
            "grid_template_areas": null,
            "grid_template_columns": null,
            "grid_template_rows": null,
            "height": null,
            "justify_content": null,
            "justify_items": null,
            "left": null,
            "margin": null,
            "max_height": null,
            "max_width": null,
            "min_height": null,
            "min_width": null,
            "object_fit": null,
            "object_position": null,
            "order": null,
            "overflow": null,
            "padding": null,
            "right": null,
            "top": null,
            "visibility": null,
            "width": null
          }
        },
        "44e66bd84b25418a959ba5597c4cea94": {
          "model_module": "@jupyter-widgets/controls",
          "model_name": "HTMLStyleModel",
          "model_module_version": "2.0.0",
          "state": {
            "_model_module": "@jupyter-widgets/controls",
            "_model_module_version": "2.0.0",
            "_model_name": "HTMLStyleModel",
            "_view_count": null,
            "_view_module": "@jupyter-widgets/base",
            "_view_module_version": "2.0.0",
            "_view_name": "StyleView",
            "background": null,
            "description_width": "",
            "font_size": null,
            "text_color": null
          }
        },
        "6739830a55bb40299e33441141cc0417": {
          "model_module": "@jupyter-widgets/controls",
          "model_name": "HTMLModel",
          "model_module_version": "2.0.0",
          "state": {
            "_dom_classes": [],
            "_model_module": "@jupyter-widgets/controls",
            "_model_module_version": "2.0.0",
            "_model_name": "HTMLModel",
            "_view_count": null,
            "_view_module": "@jupyter-widgets/controls",
            "_view_module_version": "2.0.0",
            "_view_name": "HTMLView",
            "description": "",
            "description_allow_html": false,
            "layout": "IPY_MODEL_684c93c506c5411bb2f0b5778e9182df",
            "placeholder": "​",
            "style": "IPY_MODEL_9914aa1772014fd695f47c3bb62891b7",
            "tabbable": null,
            "tooltip": null,
            "value": "100%"
          }
        },
        "e054d7bdc2d247f5b192de76e3cd913c": {
          "model_module": "@jupyter-widgets/controls",
          "model_name": "FloatProgressModel",
          "model_module_version": "2.0.0",
          "state": {
            "_dom_classes": [],
            "_model_module": "@jupyter-widgets/controls",
            "_model_module_version": "2.0.0",
            "_model_name": "FloatProgressModel",
            "_view_count": null,
            "_view_module": "@jupyter-widgets/controls",
            "_view_module_version": "2.0.0",
            "_view_name": "ProgressView",
            "bar_style": "",
            "description": "",
            "description_allow_html": false,
            "layout": "IPY_MODEL_e0f9eed601df43ae9d451fd918d004d7",
            "max": 25,
            "min": 0,
            "orientation": "horizontal",
            "style": "IPY_MODEL_8fa8ace968fe43a298a247d163233aa3",
            "tabbable": null,
            "tooltip": null,
            "value": 25
          }
        },
        "fb49907cb148469d84fb76e338471a20": {
          "model_module": "@jupyter-widgets/controls",
          "model_name": "HTMLModel",
          "model_module_version": "2.0.0",
          "state": {
            "_dom_classes": [],
            "_model_module": "@jupyter-widgets/controls",
            "_model_module_version": "2.0.0",
            "_model_name": "HTMLModel",
            "_view_count": null,
            "_view_module": "@jupyter-widgets/controls",
            "_view_module_version": "2.0.0",
            "_view_name": "HTMLView",
            "description": "",
            "description_allow_html": false,
            "layout": "IPY_MODEL_85a5beb6b179470aa2113d4244e2e7b7",
            "placeholder": "​",
            "style": "IPY_MODEL_44e66bd84b25418a959ba5597c4cea94",
            "tabbable": null,
            "tooltip": null,
            "value": " 25/25 [00:01&lt;00:00, 15.75it/s]"
          }
        },
        "117b8f52d99a4b68bcd19b246b8c52a9": {
          "model_module": "@jupyter-widgets/base",
          "model_name": "LayoutModel",
          "model_module_version": "2.0.0",
          "state": {
            "_model_module": "@jupyter-widgets/base",
            "_model_module_version": "2.0.0",
            "_model_name": "LayoutModel",
            "_view_count": null,
            "_view_module": "@jupyter-widgets/base",
            "_view_module_version": "2.0.0",
            "_view_name": "LayoutView",
            "align_content": null,
            "align_items": null,
            "align_self": null,
            "border_bottom": null,
            "border_left": null,
            "border_right": null,
            "border_top": null,
            "bottom": null,
            "display": "inline-flex",
            "flex": null,
            "flex_flow": "row wrap",
            "grid_area": null,
            "grid_auto_columns": null,
            "grid_auto_flow": null,
            "grid_auto_rows": null,
            "grid_column": null,
            "grid_gap": null,
            "grid_row": null,
            "grid_template_areas": null,
            "grid_template_columns": null,
            "grid_template_rows": null,
            "height": null,
            "justify_content": null,
            "justify_items": null,
            "left": null,
            "margin": null,
            "max_height": null,
            "max_width": null,
            "min_height": null,
            "min_width": null,
            "object_fit": null,
            "object_position": null,
            "order": null,
            "overflow": null,
            "padding": null,
            "right": null,
            "top": null,
            "visibility": "hidden",
            "width": "100%"
          }
        },
        "c736145982d340c4a09242dae10ff761": {
          "model_module": "@jupyter-widgets/controls",
          "model_name": "HBoxModel",
          "model_module_version": "2.0.0",
          "state": {
            "_dom_classes": [],
            "_model_module": "@jupyter-widgets/controls",
            "_model_module_version": "2.0.0",
            "_model_name": "HBoxModel",
            "_view_count": null,
            "_view_module": "@jupyter-widgets/controls",
            "_view_module_version": "2.0.0",
            "_view_name": "HBoxView",
            "box_style": "",
            "children": [
              "IPY_MODEL_6739830a55bb40299e33441141cc0417",
              "IPY_MODEL_e054d7bdc2d247f5b192de76e3cd913c",
              "IPY_MODEL_fb49907cb148469d84fb76e338471a20"
            ],
            "layout": "IPY_MODEL_117b8f52d99a4b68bcd19b246b8c52a9",
            "tabbable": null,
            "tooltip": null
          }
        }
      }
    }
  },
  "cells": [
    {
      "cell_type": "markdown",
      "metadata": {
        "id": "view-in-github",
        "colab_type": "text"
      },
      "source": [
        "<a href=\"https://colab.research.google.com/github/mariamhergnyan/Molecular_Simulations_exam/blob/main/Analysis.ipynb\" target=\"_parent\"><img src=\"https://colab.research.google.com/assets/colab-badge.svg\" alt=\"Open In Colab\"/></a>"
      ]
    },
    {
      "cell_type": "markdown",
      "source": [
        "Run these before working."
      ],
      "metadata": {
        "id": "3bnRk1fiW9K_"
      }
    },
    {
      "cell_type": "code",
      "source": [
        "!pip install notebook==6.5.5  > /dev/null"
      ],
      "metadata": {
        "id": "OWShMQgLXbJC"
      },
      "execution_count": 1,
      "outputs": []
    },
    {
      "cell_type": "code",
      "source": [
        "!pip install ipywidgets > /dev/null"
      ],
      "metadata": {
        "id": "kJ7CeW35bpRE"
      },
      "execution_count": 2,
      "outputs": []
    },
    {
      "cell_type": "code",
      "execution_count": 3,
      "metadata": {
        "id": "7Xr2aOSET3a-",
        "colab": {
          "base_uri": "https://localhost:8080/"
        },
        "outputId": "561b66ce-7b89-422e-d1c2-9324906336e3"
      },
      "outputs": [
        {
          "output_type": "stream",
          "name": "stdout",
          "text": [
            "\u001b[33mWARNING: Retrying (Retry(total=4, connect=None, read=None, redirect=None, status=None)) after connection broken by 'ProtocolError('Connection aborted.', RemoteDisconnected('Remote end closed connection without response'))': /simple/mdtraj/\u001b[0m\u001b[33m\n",
            "\u001b[0m"
          ]
        }
      ],
      "source": [
        "!pip install pyemma > /dev/null\n",
        "!pip install mdshare > /dev/null\n",
        "#4 minutes"
      ]
    },
    {
      "cell_type": "code",
      "source": [
        "!pip install nglview > /dev/null"
      ],
      "metadata": {
        "colab": {
          "base_uri": "https://localhost:8080/"
        },
        "id": "LjGvxuqlQosW",
        "outputId": "3f52c3d7-5c41-4850-bd2c-822ebccb5bd4"
      },
      "execution_count": 4,
      "outputs": [
        {
          "output_type": "stream",
          "name": "stdout",
          "text": [
            "\u001b[31mERROR: pip's dependency resolver does not currently take into account all the packages that are installed. This behaviour is the source of the following dependency conflicts.\n",
            "google-colab 1.0.0 requires notebook==6.5.5, but you have notebook 7.0.8 which is incompatible.\u001b[0m\u001b[31m\n",
            "\u001b[0m"
          ]
        }
      ]
    },
    {
      "cell_type": "code",
      "source": [
        "!pip install biopython > /dev/null"
      ],
      "metadata": {
        "id": "xT6n8TKxUJc8"
      },
      "execution_count": 5,
      "outputs": []
    },
    {
      "cell_type": "code",
      "source": [
        "from google.colab import output\n",
        "output.enable_custom_widget_manager()"
      ],
      "metadata": {
        "id": "gm9f1qi45n3L"
      },
      "execution_count": 6,
      "outputs": []
    },
    {
      "cell_type": "markdown",
      "source": [
        "Support for third party widgets will remain active for the duration of the session. To disable support:"
      ],
      "metadata": {
        "id": "qN46Iuya5n3P"
      }
    },
    {
      "cell_type": "code",
      "source": [
        "%matplotlib inline\n",
        "import os\n",
        "import shutil\n",
        "import matplotlib.pyplot as plt\n",
        "import numpy as np\n",
        "import mdshare\n",
        "import pyemma\n",
        "# for visualization of molecular structures:\n",
        "import nglview\n",
        "import mdtraj\n",
        "from threading import Timer\n",
        "from nglview.player import TrajectoryPlayer\n",
        "from Bio.PDB import PDBParser\n",
        "import pyemma.util.contexts as contexts\n",
        "\n",
        "from IPython.display import display\n",
        "from threading import Timer\n",
        "from google.colab import widgets\n",
        "import ipywidgets\n",
        "import warnings\n",
        "\n",
        "# Suppress all warnings\n",
        "warnings.filterwarnings(\"ignore\")"
      ],
      "metadata": {
        "id": "6ByLxILgT7dC",
        "colab": {
          "base_uri": "https://localhost:8080/",
          "height": 17,
          "referenced_widgets": [
            "9e0310a6ab0140fdae47733227d9c0a0"
          ]
        },
        "outputId": "e70a028c-f0a5-440f-dd0c-865c5eef4008"
      },
      "execution_count": 7,
      "outputs": [
        {
          "output_type": "display_data",
          "data": {
            "text/plain": [],
            "application/vnd.jupyter.widget-view+json": {
              "version_major": 2,
              "version_minor": 0,
              "model_id": "9e0310a6ab0140fdae47733227d9c0a0"
            }
          },
          "metadata": {
            "application/vnd.jupyter.widget-view+json": {
              "colab": {
                "custom_widget_manager": {
                  "url": "https://ssl.gstatic.com/colaboratory-static/widgets/colab-cdn-widget-manager/2b70e893a8ba7c0f/manager.min.js"
                }
              }
            }
          }
        }
      ]
    },
    {
      "cell_type": "code",
      "source": [
        "#mdshare.fetch is used for fetching from their server.\n",
        "#In my case I have it locally, so it just should be the path"
      ],
      "metadata": {
        "id": "gMEx2mBddICp"
      },
      "execution_count": 8,
      "outputs": []
    },
    {
      "cell_type": "code",
      "source": [
        "pdb = '/content/lb6-filtered.pdb'\n",
        "#traj\n",
        "#files = '/content/lb6-filtered.xtc'\n",
        "folder_path = '/content/New_timestamped'\n",
        "\n",
        "files_and_dirs = os.listdir(folder_path)\n",
        "\n",
        "#Remove the checkpoint directory if it exists\n",
        "for item in files_and_dirs:\n",
        "    if item == '.ipynb_checkpoints':\n",
        "        checkpoint_path = os.path.join(folder_path, item)\n",
        "        shutil.rmtree(checkpoint_path)\n",
        "\n",
        "files = os.listdir(folder_path)\n",
        "#final paths to the files\n",
        "files = [os.path.join(folder_path, file) for file in os.listdir(folder_path)]"
      ],
      "metadata": {
        "id": "NckKgkWRR5gZ"
      },
      "execution_count": 9,
      "outputs": []
    },
    {
      "cell_type": "code",
      "source": [
        "files"
      ],
      "metadata": {
        "colab": {
          "base_uri": "https://localhost:8080/"
        },
        "id": "dlnO1XRY11rq",
        "outputId": "768fadf1-f0b5-440c-a2c2-834971db91b9"
      },
      "execution_count": 10,
      "outputs": [
        {
          "output_type": "execute_result",
          "data": {
            "text/plain": [
              "['/content/New_timestamped/10_strd.lammpstrj',\n",
              " '/content/New_timestamped/15_strd.lammpstrj']"
            ]
          },
          "metadata": {},
          "execution_count": 10
        }
      ]
    },
    {
      "cell_type": "markdown",
      "source": [
        "#Feature selection\n",
        "Since we don't know which features describe the best the molecule, we do feature selecting with VAMP(Variational Approach for Markov Proceess). We utilize the VAMP2 score which shows the kinetic variance. The minimum VAMP2 score is 1. The higher the score, the better the given feature describes the molecule. Here we only do the selection based on the features of the backbone and not the side chains."
      ],
      "metadata": {
        "id": "wEOp_yEvMrGz"
      }
    },
    {
      "cell_type": "code",
      "source": [
        "torsions_feat = pyemma.coordinates.featurizer(pdb)\n",
        "torsions_feat.add_backbone_torsions(cossin=True, periodic=False)\n",
        "torsions_data = pyemma.coordinates.load(files, features=torsions_feat)\n",
        "labels = ['backbone\\ntorsions']\n",
        "\n",
        "positions_feat = pyemma.coordinates.featurizer(pdb)\n",
        "positions_feat.add_selection(positions_feat.select_Backbone())\n",
        "positions_data = pyemma.coordinates.load(files, features=positions_feat)\n",
        "labels += ['backbone atom\\npositions']\n",
        "\n",
        "distances_feat = pyemma.coordinates.featurizer(pdb)\n",
        "distances_feat.add_distances(\n",
        "    distances_feat.pairs(distances_feat.select_Backbone(), excluded_neighbors=2), periodic=False)\n",
        "distances_data = pyemma.coordinates.load(files, features=distances_feat)\n",
        "labels += ['backbone atom\\ndistances']"
      ],
      "metadata": {
        "id": "3TKKtjAO6bSo"
      },
      "execution_count": 11,
      "outputs": []
    },
    {
      "cell_type": "code",
      "source": [
        "def score_cv(data, dim, lag, number_of_splits=10, validation_fraction=0.5):\n",
        "#compute a cross validated vamp 2 score\n",
        "    # we temporarily suppress very short-lived progress bars\n",
        "    with contexts.settings(show_progress_bars=False):\n",
        "        nval = int(len(data) * validation_fraction)\n",
        "        scores = np.zeros(number_of_splits)\n",
        "        for n in range(number_of_splits):\n",
        "            ival = np.random.choice(len(data), size=nval, replace=False)\n",
        "            vamp = pyemma.coordinates.vamp(\n",
        "                [d for i, d in enumerate(data) if i not in ival], lag=lag, dim=dim)\n",
        "            scores[n] = vamp.score([d for i, d in enumerate(data) if i in ival])\n",
        "    return scores\n",
        "\n",
        "def find_max_vamp_score(data_sets, labels, dims, lags):\n",
        "    max_score = -float('inf')\n",
        "    best_property = None\n",
        "    best_lag = None\n",
        "\n",
        "    for property_data, property_label in zip(data_sets, labels):\n",
        "        for lag in lags:\n",
        "            scores = score_cv(property_data, lag=lag, dim=dims[property_label])\n",
        "            mean_score = scores.mean()\n",
        "            if mean_score > max_score:\n",
        "                max_score = mean_score\n",
        "                best_property = property_label\n",
        "                best_lag = lag\n",
        "\n",
        "    return best_property, best_lag, max_score"
      ],
      "metadata": {
        "id": "hsUvzUT8ZI1q"
      },
      "execution_count": 12,
      "outputs": []
    },
    {
      "cell_type": "code",
      "source": [
        "dim = 1\n",
        "\n",
        "fig, axes = plt.subplots(1, 3, figsize=(12, 3), sharey=True)\n",
        "for ax, lag in zip(axes.flat, [2, 5, 7]):\n",
        "    torsions_scores = score_cv(torsions_data, lag=lag, dim=dim)\n",
        "    scores = [torsions_scores.mean()]\n",
        "    errors = [torsions_scores.std()]\n",
        "    positions_scores = score_cv(positions_data, lag=lag, dim=dim)\n",
        "    scores += [positions_scores.mean()]\n",
        "    errors += [positions_scores.std()]\n",
        "    distances_scores = score_cv(distances_data, lag=lag, dim=dim)\n",
        "    scores += [distances_scores.mean()]\n",
        "    errors += [distances_scores.std()]\n",
        "    ax.bar(labels, scores, yerr=errors, color=['C0', 'C1', 'C2'])\n",
        "    ax.set_title(r'lag time $\\tau$={:.1f}ns'.format(lag * 0.1))\n",
        "    if lag == 5:\n",
        "        # save for later\n",
        "        vamp_bars_plot = dict(\n",
        "            labels=labels, scores=scores, errors=errors, dim=dim, lag=lag)\n",
        "axes[0].set_ylabel('VAMP2 score')\n",
        "fig.tight_layout()"
      ],
      "metadata": {
        "id": "fCX65OF4AdPb",
        "outputId": "bb38ca7c-c9f8-4d26-8f3b-98bf21140cf0",
        "colab": {
          "base_uri": "https://localhost:8080/",
          "height": 303
        }
      },
      "execution_count": 13,
      "outputs": [
        {
          "output_type": "display_data",
          "data": {
            "text/plain": [
              "<Figure size 1200x300 with 3 Axes>"
            ],
            "image/png": "[encoded data removed]"
          },
          "metadata": {}
        }
      ]
    },
    {
      "cell_type": "markdown",
      "source": [
        "Trying with different lag times and dimensions"
      ],
      "metadata": {
        "id": "51vc6zTYN4Vc"
      }
    },
    {
      "cell_type": "code",
      "source": [
        "dims = {'backbone torsions': 10, 'backbone atom positions': 10, 'backbone atom distances': 10}\n",
        "labels_prime = ['backbone torsions', 'backbone atom positions', 'backbone atom distances']\n",
        "lags = [2,5,7]\n",
        "best_property, best_lag, max_score = find_max_vamp_score(\n",
        "    [torsions_data, positions_data, distances_data],\n",
        "    labels_prime,\n",
        "    dims,\n",
        "    lags\n",
        ")\n",
        "\n",
        "print(\"Property that descrbes the data best:\", best_property)\n",
        "print(\"Lag time of the highest score:\", best_lag)\n",
        "print(\"Highest VAMP2 score:\", max_score)\n",
        "\n",
        "# Determine the dataset based on the best property label\n",
        "if best_property == 'backbone torsions':\n",
        "  data = torsions_data\n",
        "elif best_property == 'backbone atom positions':\n",
        "  data = positions_data\n",
        "elif best_property == 'backbone atom distances':\n",
        "  data = distances_data\n",
        "else:\n",
        "  raise ValueError(\"Unknown property label: {}\".format(best_property))\n",
        ""
      ],
      "metadata": {
        "colab": {
          "base_uri": "https://localhost:8080/"
        },
        "id": "p9qYSVtnwTVH",
        "outputId": "7b413fdd-154f-4189-99d4-f70684aa927b"
      },
      "execution_count": 14,
      "outputs": [
        {
          "output_type": "stream",
          "name": "stdout",
          "text": [
            "Property that descrbes the data best: backbone torsions\n",
            "Lag time of the highest score: 5\n",
            "Highest VAMP2 score: 3.5829224901214487\n"
          ]
        }
      ]
    },
    {
      "cell_type": "code",
      "source": [
        "lags = [1,2,5,10,20,25]\n",
        "#dims = [1] #rn only for 1 dimension until I get the timestamped frames of trajectory, just fine the best lag time\n",
        "dims = [i + 1 for i in range(10)]\n",
        "\n",
        "fig, ax = plt.subplots()\n",
        "for i, lag in enumerate(lags):\n",
        "    scores_ = []\n",
        "    for dim in dims:\n",
        "        print(\"Computing VAMP score for dim={}, lag={}\".format(dim, lag))\n",
        "        score = score_cv(data, dim, lag)\n",
        "        scores_.append(score)\n",
        "    scores_ = np.array(scores_)\n",
        "\n",
        "    scores = np.mean(scores_, axis=1)\n",
        "    errors = np.std(scores_, axis=1, ddof=1)\n",
        "    color = 'C{}'.format(i)\n",
        "    ax.fill_between(dims, scores - errors, scores + errors, alpha=0.3, facecolor=color)\n",
        "    ax.plot(dims, scores, '--o', color=color, label='lag={:.1f}ns'.format(lag * 0.1))\n",
        "ax.legend()\n",
        "ax.set_xlabel('number of dimensions')\n",
        "ax.set_ylabel('VAMP2 score')\n",
        "fig.tight_layout()\n"
      ],
      "metadata": {
        "colab": {
          "base_uri": "https://localhost:8080/",
          "height": 1000
        },
        "id": "4zHJAFz3Ntg1",
        "outputId": "390a8a88-08ec-404c-f223-91f21aff11fb"
      },
      "execution_count": 27,
      "outputs": [
        {
          "output_type": "stream",
          "name": "stdout",
          "text": [
            "Computing VAMP score for dim=1, lag=1\n",
            "Computing VAMP score for dim=2, lag=1\n",
            "Computing VAMP score for dim=3, lag=1\n",
            "Computing VAMP score for dim=4, lag=1\n",
            "Computing VAMP score for dim=5, lag=1\n",
            "Computing VAMP score for dim=6, lag=1\n",
            "Computing VAMP score for dim=7, lag=1\n",
            "Computing VAMP score for dim=8, lag=1\n",
            "Computing VAMP score for dim=9, lag=1\n",
            "Computing VAMP score for dim=10, lag=1\n",
            "Computing VAMP score for dim=1, lag=2\n",
            "Computing VAMP score for dim=2, lag=2\n",
            "Computing VAMP score for dim=3, lag=2\n",
            "Computing VAMP score for dim=4, lag=2\n",
            "Computing VAMP score for dim=5, lag=2\n",
            "Computing VAMP score for dim=6, lag=2\n",
            "Computing VAMP score for dim=7, lag=2\n",
            "Computing VAMP score for dim=8, lag=2\n",
            "Computing VAMP score for dim=9, lag=2\n",
            "Computing VAMP score for dim=10, lag=2\n",
            "Computing VAMP score for dim=1, lag=5\n",
            "Computing VAMP score for dim=2, lag=5\n",
            "Computing VAMP score for dim=3, lag=5\n",
            "Computing VAMP score for dim=4, lag=5\n",
            "Computing VAMP score for dim=5, lag=5\n",
            "Computing VAMP score for dim=6, lag=5\n",
            "Computing VAMP score for dim=7, lag=5\n",
            "Computing VAMP score for dim=8, lag=5\n",
            "Computing VAMP score for dim=9, lag=5\n",
            "Computing VAMP score for dim=10, lag=5\n",
            "Computing VAMP score for dim=1, lag=10\n",
            "Computing VAMP score for dim=2, lag=10\n",
            "Computing VAMP score for dim=3, lag=10\n",
            "Computing VAMP score for dim=4, lag=10\n",
            "Computing VAMP score for dim=5, lag=10\n",
            "Computing VAMP score for dim=6, lag=10\n",
            "Computing VAMP score for dim=7, lag=10\n",
            "Computing VAMP score for dim=8, lag=10\n",
            "Computing VAMP score for dim=9, lag=10\n",
            "Computing VAMP score for dim=10, lag=10\n",
            "Computing VAMP score for dim=1, lag=20\n",
            "Computing VAMP score for dim=2, lag=20\n",
            "Computing VAMP score for dim=3, lag=20\n",
            "Computing VAMP score for dim=4, lag=20\n",
            "Computing VAMP score for dim=5, lag=20\n",
            "Computing VAMP score for dim=6, lag=20\n",
            "Computing VAMP score for dim=7, lag=20\n",
            "Computing VAMP score for dim=8, lag=20\n",
            "Computing VAMP score for dim=9, lag=20\n",
            "Computing VAMP score for dim=10, lag=20\n",
            "Computing VAMP score for dim=1, lag=25\n",
            "Computing VAMP score for dim=2, lag=25\n",
            "Computing VAMP score for dim=3, lag=25\n",
            "Computing VAMP score for dim=4, lag=25\n",
            "Computing VAMP score for dim=5, lag=25\n",
            "Computing VAMP score for dim=6, lag=25\n",
            "Computing VAMP score for dim=7, lag=25\n",
            "Computing VAMP score for dim=8, lag=25\n",
            "Computing VAMP score for dim=9, lag=25\n",
            "Computing VAMP score for dim=10, lag=25\n"
          ]
        },
        {
          "output_type": "display_data",
          "data": {
            "text/plain": [
              "<Figure size 640x480 with 1 Axes>"
            ],
            "image/png": "[encoded data removed]"
          },
          "metadata": {}
        }
      ]
    },
    {
      "cell_type": "code",
      "source": [
        "tica = pyemma.coordinates.tica(data, lag=best_lag)\n",
        "tica_output = tica.get_output()\n",
        "tica_concatenated = np.concatenate(tica_output)\n",
        "len(tica_concatenated)"
      ],
      "metadata": {
        "colab": {
          "base_uri": "https://localhost:8080/"
        },
        "id": "KopSW1nL8Got",
        "outputId": "a4695aee-e69f-4dce-e112-b30416ad235b"
      },
      "execution_count": 16,
      "outputs": [
        {
          "output_type": "execute_result",
          "data": {
            "text/plain": [
              "1134"
            ]
          },
          "metadata": {},
          "execution_count": 16
        }
      ]
    },
    {
      "cell_type": "code",
      "source": [
        "fig, axes = plt.subplots(1, 2, figsize=(10, 4))\n",
        "pyemma.plots.plot_feature_histograms(\n",
        "    tica_concatenated,\n",
        "    ax=axes[0],\n",
        "    #feature_labels=['IC1', 'IC2'], #fix this\n",
        "    ylog=True)\n",
        "pyemma.plots.plot_density(*tica_concatenated[:, :2].T, ax=axes[1], logscale=True)\n",
        "axes[1].set_xlabel('IC 1')\n",
        "axes[1].set_ylabel('IC 2')\n",
        "fig.tight_layout()\n"
      ],
      "metadata": {
        "colab": {
          "base_uri": "https://localhost:8080/",
          "height": 407
        },
        "id": "z5gMFkz-CRMR",
        "outputId": "bbac5aa5-b47b-48a8-f268-35951dad685d"
      },
      "execution_count": 17,
      "outputs": [
        {
          "output_type": "display_data",
          "data": {
            "text/plain": [
              "<Figure size 1000x400 with 3 Axes>"
            ],
            "image/png": "[encoded data removed]"
          },
          "metadata": {}
        }
      ]
    },
    {
      "cell_type": "code",
      "source": [
        "fig, axes = plt.subplots(4, 1, figsize=(12, 5), sharex=True)\n",
        "x = 0.1 * np.arange(tica_output[0].shape[0])\n",
        "for i, (ax, tic) in enumerate(zip(axes.flat, tica_output[0].T)):\n",
        "    ax.plot(x, tic)\n",
        "    ax.set_ylabel('IC {}'.format(i + 1))\n",
        "axes[-1].set_xlabel('time / ns')\n",
        "fig.tight_layout()"
      ],
      "metadata": {
        "colab": {
          "base_uri": "https://localhost:8080/",
          "height": 501
        },
        "id": "2aaCelfmDJ0X",
        "outputId": "be0c6160-89c3-436f-9b96-77e0eed6af4b"
      },
      "execution_count": 18,
      "outputs": [
        {
          "output_type": "display_data",
          "data": {
            "text/plain": [
              "<Figure size 1200x500 with 4 Axes>"
            ],
            "image/png": "[encoded data removed]"
          },
          "metadata": {}
        }
      ]
    },
    {
      "cell_type": "code",
      "source": [
        "feat = pyemma.coordinates.featurizer(pdb)\n",
        "feat.add_backbone_torsions(periodic=False)\n",
        "data = pyemma.coordinates.load(files, features=feat)\n",
        "print(\"data len:\",len(data))\n",
        "print(\"data shape:\",np.shape(data))\n",
        "data_concatenated = np.concatenate(data)\n",
        "print(\"data_concat len:\",len(data_concatenated))\n",
        "print(\"data_concat shape:\", np.shape(data_concatenated))\n",
        "# Check the number of dimensions in the data\n",
        "num_dimensions = data_concatenated.shape[1]\n",
        "print(\"num dimensions\",num_dimensions)\n",
        "\n",
        "# Define feature labels corresponding to each dimension\n",
        "feature_labels = ['$\\Phi$', '$\\Psi$'] * (num_dimensions // 2)\n",
        "\n",
        "\n",
        "# Ensure that the length of feature_labels matches the number of dimensions\n",
        "if len(feature_labels) != num_dimensions:\n",
        "    # Adjust the feature labels to match the number of dimensions\n",
        "    feature_labels = ['$\\Phi$', '$\\Psi$'] * num_dimensions\n",
        "print(\"Len feature labels\", len(feature_labels))\n"
      ],
      "metadata": {
        "colab": {
          "base_uri": "https://localhost:8080/"
        },
        "id": "F4hNIbZa2aOO",
        "outputId": "e62733fe-f980-41ee-f691-84261f617b27"
      },
      "execution_count": 19,
      "outputs": [
        {
          "output_type": "stream",
          "name": "stdout",
          "text": [
            "data len: 2\n",
            "data shape: (2,)\n",
            "data_concat len: 1134\n",
            "data_concat shape: (1134, 24)\n",
            "num dimensions 24\n",
            "Len feature labels 24\n"
          ]
        }
      ]
    },
    {
      "cell_type": "code",
      "source": [
        "cluster_kmeans = pyemma.coordinates.cluster_kmeans(data, k=100, max_iter=50, stride=5)\n",
        "cluster_regspace = pyemma.coordinates.cluster_regspace(data, dmin=0.3)\n",
        "\n",
        "fig, axes = plt.subplots(1, 2, figsize=(10, 4), sharex=True, sharey=True)\n",
        "for ax, cls, title in zip(axes.flat, [cluster_kmeans, cluster_regspace], [\"Clustering k-means\", \"Clustering Regspace\"]):\n",
        "    pyemma.plots.plot_density(cls.clustercenters[:, 0], cls.clustercenters[:, 1], ax=ax, cbar=False, alpha=0.1, logscale=True)\n",
        "    ax.scatter(cls.clustercenters[:, 0], cls.clustercenters[:, 1], s=15, c='C1')\n",
        "    ax.set_xlabel('$\\Phi$')\n",
        "    ax.set_ylabel('$\\Psi$')\n",
        "    ax.set_title(title)\n",
        "fig.tight_layout()\n"
      ],
      "metadata": {
        "colab": {
          "base_uri": "https://localhost:8080/",
          "height": 407,
          "referenced_widgets": [
            "5d83c240217f4fb0b1b28bfd23c80861",
            "38adb34570974047ad438024005e1580",
            "aef966d9f2914b7694709f11bcae2221",
            "e2085d9ad7de4217b4c6c5bb9188e4c3",
            "fb3ca6ab2a984208b87277a360e7fcc5",
            "e5b9d014a5e245f4aee346b049b87936",
            "6b578fd4f6324644b1d8ee9d3e591b66",
            "9e2bc8d4309f40c08837e1173ecb04e5",
            "5333b85a17b641c6915598a7b70472d3",
            "ffa3335d1f2f4bbbbdb09d5730c5d9db",
            "d397c0ca87b64f0b8d96b20a1ab5c7b3",
            "8f4c6c4f7b34443cbdef8bac6d431427",
            "7b6fd66d1537447895f5ab80302fa614",
            "55f5690a4a914a74b3c8e632c97baa82",
            "29d936243477414ab396224e348eb531",
            "2970125126c54c2cabb0ccaec9ace539",
            "dd3270c8fcb04c3caf0f3bed369d71a0",
            "63d897337d134adc89195f83d540826a",
            "8fd6c2a94a2f4e84b4e10f8fb94d83c0",
            "89b1bbce46db49098f0c411894cca217",
            "bfadde04580541d8a384cf2ff8aac1c8",
            "84e8d169b26c4554b5610941fc1182d1"
          ]
        },
        "id": "VqYXvRr-g-Ki",
        "outputId": "3bc1b456-ab40-48cd-875d-d5a1dff49bcd"
      },
      "execution_count": 20,
      "outputs": [
        {
          "output_type": "display_data",
          "data": {
            "text/plain": [
              "initialize kmeans++ centers:   0%|          | 0/100 [00:00<?, ?it/s]"
            ],
            "application/vnd.jupyter.widget-view+json": {
              "version_major": 2,
              "version_minor": 0,
              "model_id": "5d83c240217f4fb0b1b28bfd23c80861"
            }
          },
          "metadata": {
            "application/vnd.jupyter.widget-view+json": {
              "colab": {
                "custom_widget_manager": {
                  "url": "https://ssl.gstatic.com/colaboratory-static/widgets/colab-cdn-widget-manager/2b70e893a8ba7c0f/manager.min.js"
                }
              }
            }
          }
        },
        {
          "output_type": "display_data",
          "data": {
            "text/plain": [
              "kmeans iterations:   0%|          | 0/50 [00:00<?, ?it/s]"
            ],
            "application/vnd.jupyter.widget-view+json": {
              "version_major": 2,
              "version_minor": 0,
              "model_id": "84e8d169b26c4554b5610941fc1182d1"
            }
          },
          "metadata": {
            "application/vnd.jupyter.widget-view+json": {
              "colab": {
                "custom_widget_manager": {
                  "url": "https://ssl.gstatic.com/colaboratory-static/widgets/colab-cdn-widget-manager/2b70e893a8ba7c0f/manager.min.js"
                }
              }
            }
          }
        },
        {
          "output_type": "display_data",
          "data": {
            "text/plain": [
              "<Figure size 1000x400 with 2 Axes>"
            ],
            "image/png": "[encoded data removed]"
          },
          "metadata": {}
        }
      ]
    },
    {
      "cell_type": "code",
      "source": [
        "cluster = cluster_kmeans\n",
        "its = pyemma.msm.its(\n",
        "    cluster.dtrajs, lags=[1, 2, 3, 5, 7, 10], nits=3, errors='bayes')\n",
        "\n",
        "# Plot feature histograms\n",
        "fig, axes = plt.subplots(1, 3, figsize=(12, 3))\n",
        "pyemma.plots.plot_feature_histograms(data_concatenated, feature_labels=feature_labels, ax=axes[0])\n",
        "pyemma.plots.plot_density(data_concatenated[:, 0], data_concatenated[:, 1], ax=axes[1], cbar=False, alpha=0.1)\n",
        "axes[1].scatter(cluster.clustercenters[:, 0], cluster.clustercenters[:, 1], s=15, c='C1')\n",
        "axes[1].set_xlabel('$\\Phi$')\n",
        "axes[1].set_ylabel('$\\Psi$')\n",
        "axes[1].set_xlim(-4, 4)\n",
        "axes[1].set_ylim(-4, 4)\n",
        "axes[1].set_aspect('equal')\n",
        "pyemma.plots.plot_implied_timescales(its, ylog=False, ax=axes[2])\n",
        "fig.tight_layout()\n"
      ],
      "metadata": {
        "colab": {
          "base_uri": "https://localhost:8080/",
          "height": 304,
          "referenced_widgets": [
            "84ebc71bfb0c4abe8311ab710cca118e",
            "9d8c5147165244ddb97100130040083c",
            "e2d080ad22564912ae0c2f2304ca1581",
            "af46559efb824def90cdbd2520614ab7",
            "4f817c31eecb4e39b2b4d5b7d3f645bb",
            "62565b065c07475eac1743d9d9e46b3b",
            "abe4c30297b5422b8002d58bc703cd8a",
            "098b893c0f134dbdb240a2c6e6a8f399",
            "28ef4a55481d4f24ab16087e07796d45",
            "71a1f4f7b69546a7bedc974147da7486",
            "453f62fb464747839e6261874c0e7aaa"
          ]
        },
        "id": "VpYCaHMV2QI7",
        "outputId": "082876e9-8ae3-4fff-aeb8-a81896993950"
      },
      "execution_count": 28,
      "outputs": [
        {
          "output_type": "display_data",
          "data": {
            "text/plain": [
              "estimating BayesianMSM:   0%|          | 0/6 [00:00<?, ?it/s]"
            ],
            "application/vnd.jupyter.widget-view+json": {
              "version_major": 2,
              "version_minor": 0,
              "model_id": "84ebc71bfb0c4abe8311ab710cca118e"
            }
          },
          "metadata": {
            "application/vnd.jupyter.widget-view+json": {
              "colab": {
                "custom_widget_manager": {
                  "url": "https://ssl.gstatic.com/colaboratory-static/widgets/colab-cdn-widget-manager/2b70e893a8ba7c0f/manager.min.js"
                }
              }
            }
          }
        },
        {
          "output_type": "display_data",
          "data": {
            "text/plain": [
              "<Figure size 1200x300 with 3 Axes>"
            ],
            "image/png": "[encoded data removed]"
          },
          "metadata": {}
        }
      ]
    },
    {
      "cell_type": "markdown",
      "source": [
        "Regspace seems to make better clusters. But the kmeans lag times look better. Maybe another clustering algorithm should be implemented"
      ],
      "metadata": {
        "id": "j1NnLg1m7hAD"
      }
    },
    {
      "cell_type": "markdown",
      "source": [
        "This part is just for testing"
      ],
      "metadata": {
        "id": "9IXmSbd2U9xv"
      }
    },
    {
      "cell_type": "code",
      "source": [
        "pdb_1= mdshare.fetch('pentapeptide-impl-solv.pdb', working_directory='data')\n",
        "files_1 = mdshare.fetch('pentapeptide-*-500ns-impl-solv.xtc', working_directory='data')\n",
        "\n",
        "#files_1 = ['lb6-filtered_01.lammpstrj','lb6-filtered_02.lammpstrj','lb6-filtered_12.lammpstrj']\n",
        "torsions_feat_1 = pyemma.coordinates.featurizer(pdb_1)\n",
        "torsions_feat_1.add_backbone_torsions(cossin=True, periodic=False)\n",
        "torsions_data_1 = pyemma.coordinates.load(files_1, features=torsions_feat_1)\n",
        "labels_1 = ['backbone\\ntorsions']\n",
        "\n",
        "positions_feat_1 = pyemma.coordinates.featurizer(pdb_1)\n",
        "positions_feat_1.add_selection(positions_feat_1.select_Backbone())\n",
        "positions_data_1 = pyemma.coordinates.load(files_1, features=positions_feat_1)\n",
        "labels_1 += ['backbone atom\\npositions']\n",
        "\n",
        "distances_feat_1 = pyemma.coordinates.featurizer(pdb_1)\n",
        "distances_feat_1.add_distances(\n",
        "    distances_feat_1.pairs(distances_feat_1.select_Backbone(), excluded_neighbors=2), periodic=False)\n",
        "distances_data_1 = pyemma.coordinates.load(files_1, features=distances_feat_1)\n",
        "labels_1 += ['backbone atom\\ndistances']"
      ],
      "metadata": {
        "colab": {
          "base_uri": "https://localhost:8080/",
          "height": 17,
          "referenced_widgets": [
            "c607175e98ab4cd6b33df1a1cc33d582",
            "ba74a20386eb4e38a9afc8200414a95d",
            "9400e5ecf9b2451e8d444562bde51204",
            "c649ccb9a9d449a29bce323db1744a83",
            "be31fb55eb1148878cd877bc5d466036",
            "94d6039725c6472ba7393780885ce205",
            "9dd4282d82884f809a9ab44f97328454",
            "9b84dad4b7014e2e8effbf71efe93374",
            "119c138359d54e1187960a9f46c63f6b",
            "cce9f566a6ca4c5bad1ca313b678f94f",
            "32ac140b3775454a8f9f7597b87ecf69",
            "528286c1b29f4229bea981887d249e10",
            "dcedaab0a8884ab9aff9ab277f7c0b4d",
            "ccecd902ad6a42edb6bbe09e46932170",
            "f40a8ce493784d09bc5fdd27e9d6f260",
            "dfb6caefaf964a929dccc29c5483448f",
            "fb8391177ba24de8b088e333e2b8a5b8",
            "6270c76a4b184aea996c333a2cbc3051",
            "90811fe5c87441acac0ba31237b515a3",
            "8d4429c9575d46349a353b2d2746d35e",
            "78c94ac200e44530be2314abc7191925",
            "9d712cdfbeb347b5889ec6a98ccd0ab8",
            "96fbdf1b35944f6e937fbc2460f55691",
            "78a1094f7d9441e28c8d0b5973db3ee7",
            "d37db66496ff404c88da61e38618951c",
            "d8fb39c359844c3fbe9d062ad9d04f45",
            "2328e42924544cd4b393433276d5f1a8",
            "4b5ac0eccb194f3b9e988811bd3c9947",
            "6bc257deb4d641d8934c5c6636117e19",
            "b7c0c9b84a1641eb8eb657854fbc0326",
            "c70703f2ba9a4f0ba44c1f78de96c699",
            "1ce107fe2de743a7a38609b54fc04669",
            "97ba776c81eb44b8a8a075f83f75c1a3",
            "f7126c076b0a4a9d9ce084606a74d613",
            "e0589868e09748199efb86032a46ad2b",
            "96ffdae59a8c45318058d842f0b4976e",
            "6c5d7a3799a2472594ba4bbcef42b61a",
            "63d28e615cc449f782856cd7cb0a53c0",
            "da9067cd88224306af57dfecea25d7d0",
            "7cd13bbc08d54b0cbe7b34d3fa19c1f9",
            "6a57a327ffd043a3ab3a9bf137dcedc8",
            "199aa72586b84e948369e6e8a73620a3",
            "12ece9cde4a4414ab9112e016b3ed847",
            "38624beadd184214ad91e424cea4d205",
            "c10f685e1ec14de89b56dda2f49ef5d3",
            "4ab7e93153f7498285981db609f45fbf",
            "5ba614cb13d04a9384f55525e4029a4a",
            "713f951c8f9148a482a0f48eda569ba3",
            "c773b550180b4c84917bf6d3184cd2de",
            "438dd0c5866144ee8c01ae8d072631f2",
            "18f58319110a46c698823e187bc18b51",
            "485c094ccc7a4614b7d013185c1505f1",
            "bcffe0cd4b6f4d0fb8f95ae71e621ca7",
            "ddc4b8c388424727ba4a7c889364c65e",
            "558b7c98563a4b2496e41911533a84d7",
            "e0f9eed601df43ae9d451fd918d004d7",
            "8fa8ace968fe43a298a247d163233aa3",
            "684c93c506c5411bb2f0b5778e9182df",
            "9914aa1772014fd695f47c3bb62891b7",
            "85a5beb6b179470aa2113d4244e2e7b7",
            "44e66bd84b25418a959ba5597c4cea94",
            "6739830a55bb40299e33441141cc0417",
            "e054d7bdc2d247f5b192de76e3cd913c",
            "fb49907cb148469d84fb76e338471a20",
            "117b8f52d99a4b68bcd19b246b8c52a9",
            "c736145982d340c4a09242dae10ff761"
          ]
        },
        "id": "SYDDqI9X1E2C",
        "outputId": "c57f040c-b81a-4ffc-f0f9-cb461c6f383c"
      },
      "execution_count": 22,
      "outputs": [
        {
          "output_type": "display_data",
          "data": {
            "text/plain": [
              "Obtaining file info:   0%|          | 0/25 [00:00<?, ?it/s]"
            ],
            "application/vnd.jupyter.widget-view+json": {
              "version_major": 2,
              "version_minor": 0,
              "model_id": "c607175e98ab4cd6b33df1a1cc33d582"
            }
          },
          "metadata": {
            "application/vnd.jupyter.widget-view+json": {
              "colab": {
                "custom_widget_manager": {
                  "url": "https://ssl.gstatic.com/colaboratory-static/widgets/colab-cdn-widget-manager/2b70e893a8ba7c0f/manager.min.js"
                }
              }
            }
          }
        },
        {
          "output_type": "display_data",
          "data": {
            "text/plain": [
              "getting output of FeatureReader:   0%|          | 0/25 [00:00<?, ?it/s]"
            ],
            "application/vnd.jupyter.widget-view+json": {
              "version_major": 2,
              "version_minor": 0,
              "model_id": "9d712cdfbeb347b5889ec6a98ccd0ab8"
            }
          },
          "metadata": {
            "application/vnd.jupyter.widget-view+json": {
              "colab": {
                "custom_widget_manager": {
                  "url": "https://ssl.gstatic.com/colaboratory-static/widgets/colab-cdn-widget-manager/2b70e893a8ba7c0f/manager.min.js"
                }
              }
            }
          }
        },
        {
          "output_type": "display_data",
          "data": {
            "text/plain": [
              "Obtaining file info:   0%|          | 0/25 [00:00<?, ?it/s]"
            ],
            "application/vnd.jupyter.widget-view+json": {
              "version_major": 2,
              "version_minor": 0,
              "model_id": "97ba776c81eb44b8a8a075f83f75c1a3"
            }
          },
          "metadata": {
            "application/vnd.jupyter.widget-view+json": {
              "colab": {
                "custom_widget_manager": {
                  "url": "https://ssl.gstatic.com/colaboratory-static/widgets/colab-cdn-widget-manager/2b70e893a8ba7c0f/manager.min.js"
                }
              }
            }
          }
        },
        {
          "output_type": "display_data",
          "data": {
            "text/plain": [
              "getting output of FeatureReader:   0%|          | 0/25 [00:00<?, ?it/s]"
            ],
            "application/vnd.jupyter.widget-view+json": {
              "version_major": 2,
              "version_minor": 0,
              "model_id": "38624beadd184214ad91e424cea4d205"
            }
          },
          "metadata": {
            "application/vnd.jupyter.widget-view+json": {
              "colab": {
                "custom_widget_manager": {
                  "url": "https://ssl.gstatic.com/colaboratory-static/widgets/colab-cdn-widget-manager/2b70e893a8ba7c0f/manager.min.js"
                }
              }
            }
          }
        },
        {
          "output_type": "display_data",
          "data": {
            "text/plain": [
              "Obtaining file info:   0%|          | 0/25 [00:00<?, ?it/s]"
            ],
            "application/vnd.jupyter.widget-view+json": {
              "version_major": 2,
              "version_minor": 0,
              "model_id": "558b7c98563a4b2496e41911533a84d7"
            }
          },
          "metadata": {
            "application/vnd.jupyter.widget-view+json": {
              "colab": {
                "custom_widget_manager": {
                  "url": "https://ssl.gstatic.com/colaboratory-static/widgets/colab-cdn-widget-manager/2b70e893a8ba7c0f/manager.min.js"
                }
              }
            }
          }
        },
        {
          "output_type": "display_data",
          "data": {
            "text/plain": [
              "getting output of FeatureReader:   0%|          | 0/25 [00:00<?, ?it/s]"
            ],
            "application/vnd.jupyter.widget-view+json": {
              "version_major": 2,
              "version_minor": 0,
              "model_id": "c736145982d340c4a09242dae10ff761"
            }
          },
          "metadata": {
            "application/vnd.jupyter.widget-view+json": {
              "colab": {
                "custom_widget_manager": {
                  "url": "https://ssl.gstatic.com/colaboratory-static/widgets/colab-cdn-widget-manager/2b70e893a8ba7c0f/manager.min.js"
                }
              }
            }
          }
        }
      ]
    },
    {
      "cell_type": "code",
      "source": [
        "files_1[0]\n",
        "files_1[2]"
      ],
      "metadata": {
        "colab": {
          "base_uri": "https://localhost:8080/",
          "height": 35
        },
        "id": "vRldKC20Z8pT",
        "outputId": "03240817-daea-4291-dcd9-ecfd55d1a431"
      },
      "execution_count": 23,
      "outputs": [
        {
          "output_type": "execute_result",
          "data": {
            "text/plain": [
              "'data/pentapeptide-02-500ns-impl-solv.xtc'"
            ],
            "application/vnd.google.colaboratory.intrinsic+json": {
              "type": "string"
            }
          },
          "metadata": {},
          "execution_count": 23
        }
      ]
    },
    {
      "cell_type": "code",
      "source": [
        "def compare_files(file1, file2):\n",
        "    with open(file1, 'r') as f1, open(file2, 'r') as f2:\n",
        "        # Read the contents of the files\n",
        "        content1 = f1.read()\n",
        "        content2 = f2.read()\n",
        "\n",
        "        # Compare the contents\n",
        "        if content1 == content2:\n",
        "            print(\"The contents of the files are the same.\")\n",
        "        else:\n",
        "            print(\"The contents of the files are different.\")\n",
        "\n",
        "# Specify the paths to the lammpstrj files\n",
        "file1_path = files_1[0]\n",
        "file2_path = files_1[2]\n",
        "\n",
        "# Call the function to compare the files\n",
        "compare_files(file1_path, file2_path)\n"
      ],
      "metadata": {
        "colab": {
          "base_uri": "https://localhost:8080/",
          "height": 357
        },
        "id": "bVPZnHWkEkw1",
        "outputId": "60e42a31-d311-4110-ac89-ab6f5cbba015"
      },
      "execution_count": 24,
      "outputs": [
        {
          "output_type": "error",
          "ename": "UnicodeDecodeError",
          "evalue": "'utf-8' codec can't decode byte 0xcb in position 3: invalid continuation byte",
          "traceback": [
            "\u001b[0;31m---------------------------------------------------------------------------\u001b[0m",
            "\u001b[0;31mUnicodeDecodeError\u001b[0m                        Traceback (most recent call last)",
            "\u001b[0;32m<ipython-input-24-9e03d55532a8>\u001b[0m in \u001b[0;36m<cell line: 18>\u001b[0;34m()\u001b[0m\n\u001b[1;32m     16\u001b[0m \u001b[0;34m\u001b[0m\u001b[0m\n\u001b[1;32m     17\u001b[0m \u001b[0;31m# Call the function to compare the files\u001b[0m\u001b[0;34m\u001b[0m\u001b[0;34m\u001b[0m\u001b[0m\n\u001b[0;32m---> 18\u001b[0;31m \u001b[0mcompare_files\u001b[0m\u001b[0;34m(\u001b[0m\u001b[0mfile1_path\u001b[0m\u001b[0;34m,\u001b[0m \u001b[0mfile2_path\u001b[0m\u001b[0;34m)\u001b[0m\u001b[0;34m\u001b[0m\u001b[0;34m\u001b[0m\u001b[0m\n\u001b[0m",
            "\u001b[0;32m<ipython-input-24-9e03d55532a8>\u001b[0m in \u001b[0;36mcompare_files\u001b[0;34m(file1, file2)\u001b[0m\n\u001b[1;32m      2\u001b[0m     \u001b[0;32mwith\u001b[0m \u001b[0mopen\u001b[0m\u001b[0;34m(\u001b[0m\u001b[0mfile1\u001b[0m\u001b[0;34m,\u001b[0m \u001b[0;34m'r'\u001b[0m\u001b[0;34m)\u001b[0m \u001b[0;32mas\u001b[0m \u001b[0mf1\u001b[0m\u001b[0;34m,\u001b[0m \u001b[0mopen\u001b[0m\u001b[0;34m(\u001b[0m\u001b[0mfile2\u001b[0m\u001b[0;34m,\u001b[0m \u001b[0;34m'r'\u001b[0m\u001b[0;34m)\u001b[0m \u001b[0;32mas\u001b[0m \u001b[0mf2\u001b[0m\u001b[0;34m:\u001b[0m\u001b[0;34m\u001b[0m\u001b[0;34m\u001b[0m\u001b[0m\n\u001b[1;32m      3\u001b[0m         \u001b[0;31m# Read the contents of the files\u001b[0m\u001b[0;34m\u001b[0m\u001b[0;34m\u001b[0m\u001b[0m\n\u001b[0;32m----> 4\u001b[0;31m         \u001b[0mcontent1\u001b[0m \u001b[0;34m=\u001b[0m \u001b[0mf1\u001b[0m\u001b[0;34m.\u001b[0m\u001b[0mread\u001b[0m\u001b[0;34m(\u001b[0m\u001b[0;34m)\u001b[0m\u001b[0;34m\u001b[0m\u001b[0;34m\u001b[0m\u001b[0m\n\u001b[0m\u001b[1;32m      5\u001b[0m         \u001b[0mcontent2\u001b[0m \u001b[0;34m=\u001b[0m \u001b[0mf2\u001b[0m\u001b[0;34m.\u001b[0m\u001b[0mread\u001b[0m\u001b[0;34m(\u001b[0m\u001b[0;34m)\u001b[0m\u001b[0;34m\u001b[0m\u001b[0;34m\u001b[0m\u001b[0m\n\u001b[1;32m      6\u001b[0m \u001b[0;34m\u001b[0m\u001b[0m\n",
            "\u001b[0;32m/usr/lib/python3.10/codecs.py\u001b[0m in \u001b[0;36mdecode\u001b[0;34m(self, input, final)\u001b[0m\n\u001b[1;32m    320\u001b[0m         \u001b[0;31m# decode input (taking the buffer into account)\u001b[0m\u001b[0;34m\u001b[0m\u001b[0;34m\u001b[0m\u001b[0m\n\u001b[1;32m    321\u001b[0m         \u001b[0mdata\u001b[0m \u001b[0;34m=\u001b[0m \u001b[0mself\u001b[0m\u001b[0;34m.\u001b[0m\u001b[0mbuffer\u001b[0m \u001b[0;34m+\u001b[0m \u001b[0minput\u001b[0m\u001b[0;34m\u001b[0m\u001b[0;34m\u001b[0m\u001b[0m\n\u001b[0;32m--> 322\u001b[0;31m         \u001b[0;34m(\u001b[0m\u001b[0mresult\u001b[0m\u001b[0;34m,\u001b[0m \u001b[0mconsumed\u001b[0m\u001b[0;34m)\u001b[0m \u001b[0;34m=\u001b[0m \u001b[0mself\u001b[0m\u001b[0;34m.\u001b[0m\u001b[0m_buffer_decode\u001b[0m\u001b[0;34m(\u001b[0m\u001b[0mdata\u001b[0m\u001b[0;34m,\u001b[0m \u001b[0mself\u001b[0m\u001b[0;34m.\u001b[0m\u001b[0merrors\u001b[0m\u001b[0;34m,\u001b[0m \u001b[0mfinal\u001b[0m\u001b[0;34m)\u001b[0m\u001b[0;34m\u001b[0m\u001b[0;34m\u001b[0m\u001b[0m\n\u001b[0m\u001b[1;32m    323\u001b[0m         \u001b[0;31m# keep undecoded input until the next call\u001b[0m\u001b[0;34m\u001b[0m\u001b[0;34m\u001b[0m\u001b[0m\n\u001b[1;32m    324\u001b[0m         \u001b[0mself\u001b[0m\u001b[0;34m.\u001b[0m\u001b[0mbuffer\u001b[0m \u001b[0;34m=\u001b[0m \u001b[0mdata\u001b[0m\u001b[0;34m[\u001b[0m\u001b[0mconsumed\u001b[0m\u001b[0;34m:\u001b[0m\u001b[0;34m]\u001b[0m\u001b[0;34m\u001b[0m\u001b[0;34m\u001b[0m\u001b[0m\n",
            "\u001b[0;31mUnicodeDecodeError\u001b[0m: 'utf-8' codec can't decode byte 0xcb in position 3: invalid continuation byte"
          ]
        }
      ]
    },
    {
      "cell_type": "code",
      "source": [
        "dim = 2\n",
        "\n",
        "fig, axes = plt.subplots(1, 3, figsize=(12, 3), sharey=True)\n",
        "for ax, lag in zip(axes.flat, [5, 10]):\n",
        "    torsions_scores_1 = score_cv(torsions_data_1, lag=lag, dim=dim)\n",
        "    scores_1 = [torsions_scores_1.mean()]\n",
        "    errors_1 = [torsions_scores_1.std()]\n",
        "    positions_scores_1 = score_cv(positions_data_1, lag=lag, dim=dim)\n",
        "    scores_1 += [positions_scores_1.mean()]\n",
        "    errors_1 += [positions_scores_1.std()]\n",
        "    distances_scores_1 = score_cv(distances_data_1, lag=lag, dim=dim)\n",
        "    scores_1 += [distances_scores_1.mean()]\n",
        "    errors_1 += [distances_scores_1.std()]\n",
        "    ax.bar(labels_1, scores_1, yerr=errors_1, color=['C0', 'C1', 'C2'])\n",
        "    ax.set_title(r'lag time $\\tau$={:.1f}ns'.format(lag * 0.1))\n",
        "    if lag == 5:\n",
        "        # save for later\n",
        "        vamp_bars_plot_1 = dict(\n",
        "            labels=labels_1, scores=scores_1, errors=errors_1, dim=dim, lag=lag)\n",
        "axes[0].set_ylabel('VAMP2 score')\n",
        "fig.tight_layout()\n"
      ],
      "metadata": {
        "id": "bcfT1FNESIIG"
      },
      "execution_count": null,
      "outputs": []
    },
    {
      "cell_type": "code",
      "source": [
        "lags = [1, 2, 5, 10, 20]\n",
        "dims_1 = [i + 1 for i in range(10)]\n",
        "\n",
        "fig, ax = plt.subplots()\n",
        "for i, lag in enumerate(lags):\n",
        "    scores_1 = np.array([score_cv(torsions_data_1, dim, lag)\n",
        "                        for dim in dims_1])\n",
        "    scores_1 = np.mean(scores_1, axis=1)\n",
        "    errors_1 = np.std(scores_1, axis=1, ddof=1)\n",
        "    color = 'C{}'.format(i)\n",
        "    ax.fill_between(dims_1, scores_1 - errors_1, scores_1 + errors_1, alpha=0.3, facecolor=color)\n",
        "    ax.plot(dims_1, scores_1, '--o', color=color, label='lag={:.1f}ns'.format(lag * 0.1))\n",
        "ax.legend()\n",
        "ax.set_xlabel('number of dimensions')\n",
        "ax.set_ylabel('VAMP2 score')\n",
        "fig.tight_layout()\n"
      ],
      "metadata": {
        "id": "KbdRzGgbSvlr"
      },
      "execution_count": null,
      "outputs": []
    },
    {
      "cell_type": "code",
      "source": [
        "pyemma.plots.plot_feature_histograms(files, feature_labels=['$x$', '$y$']);"
      ],
      "metadata": {
        "id": "-GBRzMd_qyXl"
      },
      "execution_count": null,
      "outputs": []
    },
    {
      "cell_type": "code",
      "source": [
        "warnings.resetwarnings()\n",
        "#widgets don't work on google colab"
      ],
      "metadata": {
        "id": "jRftxBG_0w03"
      },
      "execution_count": null,
      "outputs": []
    },
    {
      "cell_type": "code",
      "source": [
        "# Create an NGLview widget to display the PDB file - should tis display here? cuz it's not doing it\n",
        "view = nglview.show_file(pdb)\n",
        "#view.add_representation('cartoon')\n",
        "#view.center()\n",
        "#view\n",
        "\n",
        "view = nglview.NGLWidget()\n",
        "view.add_pdbid(pdb)\n",
        "view.add_representation('cartoon')\n",
        "view.center()\n",
        "view\n",
        "\n",
        "# 2nd cell\n",
        "view._js(\"console.log(this.model.views)\")"
      ],
      "metadata": {
        "id": "IdLmRDNY5_z5"
      },
      "execution_count": null,
      "outputs": []
    },
    {
      "cell_type": "code",
      "source": [
        "traj = mdtraj.load(pdb)\n",
        "\n",
        "# Create the widget\n",
        "widget = nglview.show_mdtraj(traj)\n",
        "widget.add_ball_and_stick()\n",
        "\n",
        "# Display the widget\n",
        "display(widget)\n",
        "\n",
        "# Define a function to stop spinning and close the widget\n",
        "def stop_spin():\n",
        "    widget.player.spin = False\n",
        "    widget.close()\n",
        "\n",
        "# Set a timer to stop spinning and close the widget after 30 seconds\n",
        "Timer(30, stop_spin).start()\n"
      ],
      "metadata": {
        "id": "FJ1fRF4_WgrC"
      },
      "execution_count": null,
      "outputs": []
    },
    {
      "cell_type": "code",
      "source": [
        "# # Parse the PDB file using BioPython's PDBParser\n",
        "# parser = PDBParser()\n",
        "# structure = parser.get_structure('my_structure', '/content/lb6-filtered.pdb')\n",
        "\n",
        "# # Prepare coordinates for PyEmma\n",
        "# coordinates = []\n",
        "# for model in structure:\n",
        "#     for chain in model:\n",
        "#         for residue in chain:\n",
        "#             for atom in residue:\n",
        "#                 coordinates.append(atom.get_coord())\n",
        "\n",
        "# # Convert coordinates to PyEmma's format (assuming 3D coordinates)\n",
        "# coordinates = [list(atom_coord) for atom_coord in coordinates]\n",
        "\n",
        "\n",
        "# # Perform PyEmma analysis (example: PCA)\n",
        "# #pca = pyemma.coordinates.pca(coordinates)\n"
      ],
      "metadata": {
        "id": "fLUY1Nz-UFGL"
      },
      "execution_count": null,
      "outputs": []
    },
    {
      "cell_type": "code",
      "source": [
        "# # Define the file path for saving the coordinates\n",
        "# txt_file = '/content/coordinates.txt'\n",
        "\n",
        "\n",
        "# # Write coordinates to a text file\n",
        "# with open(txt_file, 'w') as file:\n",
        "#     for coord in coordinates:\n",
        "#         file.write(','.join(map(str, coord)) + '\\n')\n"
      ],
      "metadata": {
        "id": "cqvPfn9rSN6Q"
      },
      "execution_count": null,
      "outputs": []
    },
    {
      "cell_type": "code",
      "source": [],
      "metadata": {
        "id": "8NP3ekd3jhBT"
      },
      "execution_count": null,
      "outputs": []
    }
  ]
}