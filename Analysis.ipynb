{
  "nbformat": 4,
  "nbformat_minor": 0,
  "metadata": {
    "colab": {
      "provenance": [],
      "gpuType": "T4",
      "authorship_tag": "ABX9TyOVrQy8CiwbGQ/nWEyEqcbD",
      "include_colab_link": true
    },
    "kernelspec": {
      "name": "python3",
      "display_name": "Python 3"
    },
    "language_info": {
      "name": "python"
    },
    "widgets": {
      "application/vnd.jupyter.widget-state+json": {
        "d778d3fa2aba46acb498b20ae5742363": {
          "model_module": "nglview-js-widgets",
          "model_name": "ColormakerRegistryModel",
          "model_module_version": "3.1.0",
          "state": {
            "_dom_classes": [],
            "_model_module": "nglview-js-widgets",
            "_model_module_version": "3.1.0",
            "_model_name": "ColormakerRegistryModel",
            "_msg_ar": [],
            "_msg_q": [],
            "_ready": false,
            "_view_count": null,
            "_view_module": "nglview-js-widgets",
            "_view_module_version": "3.1.0",
            "_view_name": "ColormakerRegistryView",
            "layout": "IPY_MODEL_28d8731c420244deada4585fea536752",
            "tabbable": null,
            "tooltip": null
          }
        }
      }
    },
    "accelerator": "GPU"
  },
  "cells": [
    {
      "cell_type": "markdown",
      "metadata": {
        "id": "view-in-github",
        "colab_type": "text"
      },
      "source": [
        "<a href=\"https://colab.research.google.com/github/mariamhergnyan/Molecular_Simulations_exam/blob/main/Analysis.ipynb\" target=\"_parent\"><img src=\"https://colab.research.google.com/assets/colab-badge.svg\" alt=\"Open In Colab\"/></a>"
      ]
    },
    {
      "cell_type": "markdown",
      "source": [
        "Run these before working."
      ],
      "metadata": {
        "id": "3bnRk1fiW9K_"
      }
    },
    {
      "cell_type": "code",
      "source": [
        "!pip install notebook==6.5.5  > /dev/null"
      ],
      "metadata": {
        "id": "OWShMQgLXbJC"
      },
      "execution_count": 1,
      "outputs": []
    },
    {
      "cell_type": "code",
      "source": [
        "!pip install ipywidgets > /dev/null"
      ],
      "metadata": {
        "id": "kJ7CeW35bpRE"
      },
      "execution_count": 2,
      "outputs": []
    },
    {
      "cell_type": "code",
      "execution_count": 3,
      "metadata": {
        "id": "7Xr2aOSET3a-"
      },
      "outputs": [],
      "source": [
        "!pip install pyemma > /dev/null\n",
        "!pip install mdshare > /dev/null\n",
        "#4 minutes"
      ]
    },
    {
      "cell_type": "code",
      "source": [
        "!pip install nglview > /dev/null"
      ],
      "metadata": {
        "colab": {
          "base_uri": "https://localhost:8080/"
        },
        "id": "LjGvxuqlQosW",
        "outputId": "6ae21241-32f7-4fb2-d250-9aab49d2bd81"
      },
      "execution_count": 4,
      "outputs": [
        {
          "output_type": "stream",
          "name": "stdout",
          "text": [
            "\u001b[31mERROR: pip's dependency resolver does not currently take into account all the packages that are installed. This behaviour is the source of the following dependency conflicts.\n",
            "google-colab 1.0.0 requires notebook==6.5.5, but you have notebook 7.0.7 which is incompatible.\u001b[0m\u001b[31m\n",
            "\u001b[0m"
          ]
        }
      ]
    },
    {
      "cell_type": "code",
      "source": [
        "!pip install biopython > /dev/null"
      ],
      "metadata": {
        "id": "xT6n8TKxUJc8"
      },
      "execution_count": 5,
      "outputs": []
    },
    {
      "cell_type": "code",
      "source": [
        "from google.colab import output\n",
        "output.enable_custom_widget_manager()"
      ],
      "metadata": {
        "id": "gm9f1qi45n3L"
      },
      "execution_count": 6,
      "outputs": []
    },
    {
      "cell_type": "markdown",
      "source": [
        "Support for third party widgets will remain active for the duration of the session. To disable support:"
      ],
      "metadata": {
        "id": "qN46Iuya5n3P"
      }
    },
    {
      "cell_type": "code",
      "source": [
        "%matplotlib inline\n",
        "import matplotlib.pyplot as plt\n",
        "import numpy as np\n",
        "import mdshare\n",
        "import pyemma\n",
        "# for visualization of molecular structures:\n",
        "import nglview\n",
        "import mdtraj\n",
        "from threading import Timer\n",
        "from nglview.player import TrajectoryPlayer\n",
        "from Bio.PDB import PDBParser\n",
        "import pyemma.util.contexts as contexts\n",
        "\n",
        "from IPython.display import display\n",
        "from threading import Timer\n",
        "from google.colab import widgets\n",
        "import ipywidgets\n",
        "import warnings\n",
        "\n",
        "# Suppress all warnings\n",
        "warnings.filterwarnings(\"ignore\")"
      ],
      "metadata": {
        "id": "6ByLxILgT7dC",
        "colab": {
          "base_uri": "https://localhost:8080/",
          "height": 17,
          "referenced_widgets": [
            "d778d3fa2aba46acb498b20ae5742363"
          ]
        },
        "outputId": "83b3cb48-67be-4fbc-e4f8-73524b3e0142"
      },
      "execution_count": 7,
      "outputs": [
        {
          "output_type": "display_data",
          "data": {
            "text/plain": [],
            "application/vnd.jupyter.widget-view+json": {
              "version_major": 2,
              "version_minor": 0,
              "model_id": "d778d3fa2aba46acb498b20ae5742363"
            }
          },
          "metadata": {
            "application/vnd.jupyter.widget-view+json": {
              "colab": {
                "custom_widget_manager": {
                  "url": "https://ssl.gstatic.com/colaboratory-static/widgets/colab-cdn-widget-manager/2b70e893a8ba7c0f/manager.min.js"
                }
              }
            }
          }
        }
      ]
    },
    {
      "cell_type": "code",
      "source": [
        "#mdshare.fetch is used for fetching from their server.\n",
        "#In my case I have it locally, so it just should be the path"
      ],
      "metadata": {
        "id": "gMEx2mBddICp"
      },
      "execution_count": 8,
      "outputs": []
    },
    {
      "cell_type": "code",
      "source": [
        "pdb = '/content/lb6-filtered.pdb'\n",
        "files = '/content/lb6-filtered.xtc'\n"
      ],
      "metadata": {
        "id": "NckKgkWRR5gZ"
      },
      "execution_count": 9,
      "outputs": []
    },
    {
      "cell_type": "markdown",
      "source": [
        "#Feature selection\n",
        "Since we don't know which features describe the best the molecule, we do feature selecting with VAMP(Variational Approach for Markov Proceess). We utilize the VAMP2 score which shows the kinetic variance. The minimum VAMP2 score is 1. The higher the score, the better the given feature describes the molecule. Here we only do the selection based on the features of the backbone and not the side chains."
      ],
      "metadata": {
        "id": "wEOp_yEvMrGz"
      }
    },
    {
      "cell_type": "code",
      "source": [
        "torsions_feat = pyemma.coordinates.featurizer(pdb)\n",
        "torsions_feat.add_backbone_torsions(cossin=True, periodic=False)\n",
        "torsions_data = pyemma.coordinates.load(files, features=torsions_feat)\n",
        "labels = ['backbone\\ntorsions']\n",
        "\n",
        "positions_feat = pyemma.coordinates.featurizer(pdb)\n",
        "positions_feat.add_selection(positions_feat.select_Backbone())\n",
        "positions_data = pyemma.coordinates.load(files, features=positions_feat)\n",
        "labels += ['backbone atom\\npositions']\n",
        "\n",
        "distances_feat = pyemma.coordinates.featurizer(pdb)\n",
        "distances_feat.add_distances(\n",
        "    distances_feat.pairs(distances_feat.select_Backbone(), excluded_neighbors=2), periodic=False)\n",
        "distances_data = pyemma.coordinates.load(files, features=distances_feat)\n",
        "labels += ['backbone atom\\ndistances']"
      ],
      "metadata": {
        "id": "3TKKtjAO6bSo"
      },
      "execution_count": 10,
      "outputs": []
    },
    {
      "cell_type": "code",
      "source": [
        "print(torsions_data.shape)"
      ],
      "metadata": {
        "id": "mq5JqhKZmf4a",
        "outputId": "c3eb97e2-89d6-4d8a-eb1b-0063be30965f",
        "colab": {
          "base_uri": "https://localhost:8080/"
        }
      },
      "execution_count": 21,
      "outputs": [
        {
          "output_type": "stream",
          "name": "stdout",
          "text": [
            "(10836, 48)\n"
          ]
        }
      ]
    },
    {
      "cell_type": "code",
      "source": [
        "def score_cv(data, dim, lag, number_of_splits=10, validation_fraction=0.5):\n",
        "#compute a cross validated vamp 2 score\n",
        "    # we temporarily suppress very short-lived progress bars\n",
        "    with contexts.settings(show_progress_bars=False):\n",
        "        nval = int(len(data) * validation_fraction)\n",
        "        scores = np.zeros(number_of_splits)\n",
        "        for n in range(number_of_splits):\n",
        "            ival = np.random.choice(len(data), size=nval, replace=False)\n",
        "            vamp = pyemma.coordinates.vamp(\n",
        "                [d for i, d in enumerate(data) if i not in ival], lag=lag, dim=dim)\n",
        "            scores[n] = vamp.score([d for i, d in enumerate(data) if i in ival])\n",
        "    return scores"
      ],
      "metadata": {
        "id": "hsUvzUT8ZI1q"
      },
      "execution_count": 11,
      "outputs": []
    },
    {
      "cell_type": "code",
      "source": [
        "dim = 1\n",
        "\n",
        "fig, axes = plt.subplots(1, 3, figsize=(12, 3), sharey=True)\n",
        "for ax, lag in zip(axes.flat, [5, 10, 20]):\n",
        "    torsions_scores = score_cv(torsions_data, lag=lag, dim=dim)\n",
        "    scores = [torsions_scores.mean()]\n",
        "    errors = [torsions_scores.std()]\n",
        "    positions_scores = score_cv(positions_data, lag=lag, dim=dim)\n",
        "    scores += [positions_scores.mean()]\n",
        "    errors += [positions_scores.std()]\n",
        "    distances_scores = score_cv(distances_data, lag=lag, dim=dim)\n",
        "    scores += [distances_scores.mean()]\n",
        "    errors += [distances_scores.std()]\n",
        "    ax.bar(labels, scores, yerr=errors, color=['C0', 'C1', 'C2'])\n",
        "    ax.set_title(r'lag time $\\tau$={:.1f}ns'.format(lag * 0.1))\n",
        "    if lag == 5:\n",
        "        # save for later\n",
        "        vamp_bars_plot = dict(\n",
        "            labels=labels, scores=scores, errors=errors, dim=dim, lag=lag)\n",
        "axes[0].set_ylabel('VAMP2 score')\n",
        "fig.tight_layout()"
      ],
      "metadata": {
        "id": "fCX65OF4AdPb",
        "outputId": "2c8c8c47-cd9c-49e9-bd0c-ae16ee03b6ab",
        "colab": {
          "base_uri": "https://localhost:8080/",
          "height": 297
        }
      },
      "execution_count": 23,
      "outputs": [
        {
          "output_type": "display_data",
          "data": {
            "text/plain": [
              "<Figure size 1200x300 with 3 Axes>"
            ],
            "image/png": "[encoded data removed]"
          },
          "metadata": {}
        }
      ]
    },
    {
      "cell_type": "markdown",
      "source": [
        "Trying with different lag times and dimensions"
      ],
      "metadata": {
        "id": "51vc6zTYN4Vc"
      }
    },
    {
      "cell_type": "code",
      "source": [
        "lags = [1, 2, 5, 10, 20]\n",
        "#dims = [1]\n",
        "dims = [i + 1 for i in range(10)]\n",
        "\n",
        "fig, ax = plt.subplots()\n",
        "for i, lag in enumerate(lags):\n",
        "    scores_ = []\n",
        "    for dim in dims:\n",
        "        print(\"Computing VAMP score for dim={}, lag={}\".format(dim, lag))\n",
        "        score = score_cv(torsions_data, dim, lag)\n",
        "        scores_.append(score)\n",
        "    scores_ = np.array(scores_)\n",
        "\n",
        "    scores = np.mean(scores_, axis=1)\n",
        "    errors = np.std(scores_, axis=1, ddof=1)\n",
        "    color = 'C{}'.format(i)\n",
        "    ax.fill_between(dims, scores - errors, scores + errors, alpha=0.3, facecolor=color)\n",
        "    ax.plot(dims, scores, '--o', color=color, label='lag={:.1f}ns'.format(lag * 0.1))\n",
        "ax.legend()\n",
        "ax.set_xlabel('number of dimensions')\n",
        "ax.set_ylabel('VAMP2 score')\n",
        "fig.tight_layout()\n"
      ],
      "metadata": {
        "colab": {
          "base_uri": "https://localhost:8080/",
          "height": 879
        },
        "id": "4zHJAFz3Ntg1",
        "outputId": "d86fabb5-e893-4419-d882-f330562b6361"
      },
      "execution_count": 28,
      "outputs": [
        {
          "output_type": "stream",
          "name": "stdout",
          "text": [
            "Computing VAMP score for dim=1, lag=1\n",
            "Computing VAMP score for dim=2, lag=1\n"
          ]
        },
        {
          "output_type": "error",
          "ename": "RuntimeError",
          "evalue": "requested more output dimensions (2) than dimension of input data (1)",
          "traceback": [
            "\u001b[0;31m---------------------------------------------------------------------------\u001b[0m",
            "\u001b[0;31mRuntimeError\u001b[0m                              Traceback (most recent call last)",
            "\u001b[0;32m<ipython-input-28-367732ea9826>\u001b[0m in \u001b[0;36m<cell line: 6>\u001b[0;34m()\u001b[0m\n\u001b[1;32m      8\u001b[0m     \u001b[0;32mfor\u001b[0m \u001b[0mdim\u001b[0m \u001b[0;32min\u001b[0m \u001b[0mdims\u001b[0m\u001b[0;34m:\u001b[0m\u001b[0;34m\u001b[0m\u001b[0;34m\u001b[0m\u001b[0m\n\u001b[1;32m      9\u001b[0m         \u001b[0mprint\u001b[0m\u001b[0;34m(\u001b[0m\u001b[0;34m\"Computing VAMP score for dim={}, lag={}\"\u001b[0m\u001b[0;34m.\u001b[0m\u001b[0mformat\u001b[0m\u001b[0;34m(\u001b[0m\u001b[0mdim\u001b[0m\u001b[0;34m,\u001b[0m \u001b[0mlag\u001b[0m\u001b[0;34m)\u001b[0m\u001b[0;34m)\u001b[0m\u001b[0;34m\u001b[0m\u001b[0;34m\u001b[0m\u001b[0m\n\u001b[0;32m---> 10\u001b[0;31m         \u001b[0mscore\u001b[0m \u001b[0;34m=\u001b[0m \u001b[0mscore_cv\u001b[0m\u001b[0;34m(\u001b[0m\u001b[0mtorsions_data\u001b[0m\u001b[0;34m,\u001b[0m \u001b[0mdim\u001b[0m\u001b[0;34m,\u001b[0m \u001b[0mlag\u001b[0m\u001b[0;34m)\u001b[0m\u001b[0;34m\u001b[0m\u001b[0;34m\u001b[0m\u001b[0m\n\u001b[0m\u001b[1;32m     11\u001b[0m         \u001b[0mscores_\u001b[0m\u001b[0;34m.\u001b[0m\u001b[0mappend\u001b[0m\u001b[0;34m(\u001b[0m\u001b[0mscore\u001b[0m\u001b[0;34m)\u001b[0m\u001b[0;34m\u001b[0m\u001b[0;34m\u001b[0m\u001b[0m\n\u001b[1;32m     12\u001b[0m     \u001b[0mscores_\u001b[0m \u001b[0;34m=\u001b[0m \u001b[0mnp\u001b[0m\u001b[0;34m.\u001b[0m\u001b[0marray\u001b[0m\u001b[0;34m(\u001b[0m\u001b[0mscores_\u001b[0m\u001b[0;34m)\u001b[0m\u001b[0;34m\u001b[0m\u001b[0;34m\u001b[0m\u001b[0m\n",
            "\u001b[0;32m<ipython-input-11-d16244e13510>\u001b[0m in \u001b[0;36mscore_cv\u001b[0;34m(data, dim, lag, number_of_splits, validation_fraction)\u001b[0m\n\u001b[1;32m      7\u001b[0m         \u001b[0;32mfor\u001b[0m \u001b[0mn\u001b[0m \u001b[0;32min\u001b[0m \u001b[0mrange\u001b[0m\u001b[0;34m(\u001b[0m\u001b[0mnumber_of_splits\u001b[0m\u001b[0;34m)\u001b[0m\u001b[0;34m:\u001b[0m\u001b[0;34m\u001b[0m\u001b[0;34m\u001b[0m\u001b[0m\n\u001b[1;32m      8\u001b[0m             \u001b[0mival\u001b[0m \u001b[0;34m=\u001b[0m \u001b[0mnp\u001b[0m\u001b[0;34m.\u001b[0m\u001b[0mrandom\u001b[0m\u001b[0;34m.\u001b[0m\u001b[0mchoice\u001b[0m\u001b[0;34m(\u001b[0m\u001b[0mlen\u001b[0m\u001b[0;34m(\u001b[0m\u001b[0mdata\u001b[0m\u001b[0;34m)\u001b[0m\u001b[0;34m,\u001b[0m \u001b[0msize\u001b[0m\u001b[0;34m=\u001b[0m\u001b[0mnval\u001b[0m\u001b[0;34m,\u001b[0m \u001b[0mreplace\u001b[0m\u001b[0;34m=\u001b[0m\u001b[0;32mFalse\u001b[0m\u001b[0;34m)\u001b[0m\u001b[0;34m\u001b[0m\u001b[0;34m\u001b[0m\u001b[0m\n\u001b[0;32m----> 9\u001b[0;31m             vamp = pyemma.coordinates.vamp(\n\u001b[0m\u001b[1;32m     10\u001b[0m                 [d for i, d in enumerate(data) if i not in ival], lag=lag, dim=dim)\n\u001b[1;32m     11\u001b[0m             \u001b[0mscores\u001b[0m\u001b[0;34m[\u001b[0m\u001b[0mn\u001b[0m\u001b[0;34m]\u001b[0m \u001b[0;34m=\u001b[0m \u001b[0mvamp\u001b[0m\u001b[0;34m.\u001b[0m\u001b[0mscore\u001b[0m\u001b[0;34m(\u001b[0m\u001b[0;34m[\u001b[0m\u001b[0md\u001b[0m \u001b[0;32mfor\u001b[0m \u001b[0mi\u001b[0m\u001b[0;34m,\u001b[0m \u001b[0md\u001b[0m \u001b[0;32min\u001b[0m \u001b[0menumerate\u001b[0m\u001b[0;34m(\u001b[0m\u001b[0mdata\u001b[0m\u001b[0;34m)\u001b[0m \u001b[0;32mif\u001b[0m \u001b[0mi\u001b[0m \u001b[0;32min\u001b[0m \u001b[0mival\u001b[0m\u001b[0;34m]\u001b[0m\u001b[0;34m)\u001b[0m\u001b[0;34m\u001b[0m\u001b[0;34m\u001b[0m\u001b[0m\n",
            "\u001b[0;32m<decorator-gen-129>\u001b[0m in \u001b[0;36mvamp\u001b[0;34m(data, lag, dim, scaling, right, ncov_max, stride, skip, chunksize)\u001b[0m\n",
            "\u001b[0;32m/usr/local/lib/python3.10/dist-packages/pyemma/util/annotators.py\u001b[0m in \u001b[0;36m_deprecated\u001b[0;34m(func, *args, **kw)\u001b[0m\n\u001b[1;32m    216\u001b[0m             \u001b[0mlineno\u001b[0m\u001b[0;34m=\u001b[0m\u001b[0mlineno\u001b[0m\u001b[0;34m\u001b[0m\u001b[0;34m\u001b[0m\u001b[0m\n\u001b[1;32m    217\u001b[0m         )\n\u001b[0;32m--> 218\u001b[0;31m         \u001b[0;32mreturn\u001b[0m \u001b[0mfunc\u001b[0m\u001b[0;34m(\u001b[0m\u001b[0;34m*\u001b[0m\u001b[0margs\u001b[0m\u001b[0;34m,\u001b[0m \u001b[0;34m**\u001b[0m\u001b[0mkw\u001b[0m\u001b[0;34m)\u001b[0m\u001b[0;34m\u001b[0m\u001b[0;34m\u001b[0m\u001b[0m\n\u001b[0m\u001b[1;32m    219\u001b[0m \u001b[0;34m\u001b[0m\u001b[0m\n\u001b[1;32m    220\u001b[0m     \u001b[0;31m# add deprecation notice to func docstring:\u001b[0m\u001b[0;34m\u001b[0m\u001b[0;34m\u001b[0m\u001b[0m\n",
            "\u001b[0;32m/usr/local/lib/python3.10/dist-packages/pyemma/coordinates/api.py\u001b[0m in \u001b[0;36mvamp\u001b[0;34m(data, lag, dim, scaling, right, ncov_max, stride, skip, chunksize)\u001b[0m\n\u001b[1;32m   1438\u001b[0m     \u001b[0mres\u001b[0m \u001b[0;34m=\u001b[0m \u001b[0mVAMP\u001b[0m\u001b[0;34m(\u001b[0m\u001b[0mlag\u001b[0m\u001b[0;34m,\u001b[0m \u001b[0mdim\u001b[0m\u001b[0;34m=\u001b[0m\u001b[0mdim\u001b[0m\u001b[0;34m,\u001b[0m \u001b[0mscaling\u001b[0m\u001b[0;34m=\u001b[0m\u001b[0mscaling\u001b[0m\u001b[0;34m,\u001b[0m \u001b[0mright\u001b[0m\u001b[0;34m=\u001b[0m\u001b[0mright\u001b[0m\u001b[0;34m,\u001b[0m \u001b[0mskip\u001b[0m\u001b[0;34m=\u001b[0m\u001b[0mskip\u001b[0m\u001b[0;34m,\u001b[0m \u001b[0mncov_max\u001b[0m\u001b[0;34m=\u001b[0m\u001b[0mncov_max\u001b[0m\u001b[0;34m)\u001b[0m\u001b[0;34m\u001b[0m\u001b[0;34m\u001b[0m\u001b[0m\n\u001b[1;32m   1439\u001b[0m     \u001b[0;32mif\u001b[0m \u001b[0mdata\u001b[0m \u001b[0;32mis\u001b[0m \u001b[0;32mnot\u001b[0m \u001b[0;32mNone\u001b[0m\u001b[0;34m:\u001b[0m\u001b[0;34m\u001b[0m\u001b[0;34m\u001b[0m\u001b[0m\n\u001b[0;32m-> 1440\u001b[0;31m         \u001b[0mres\u001b[0m\u001b[0;34m.\u001b[0m\u001b[0mestimate\u001b[0m\u001b[0;34m(\u001b[0m\u001b[0mdata\u001b[0m\u001b[0;34m,\u001b[0m \u001b[0mstride\u001b[0m\u001b[0;34m=\u001b[0m\u001b[0mstride\u001b[0m\u001b[0;34m,\u001b[0m \u001b[0mchunksize\u001b[0m\u001b[0;34m=\u001b[0m\u001b[0mchunksize\u001b[0m\u001b[0;34m)\u001b[0m\u001b[0;34m\u001b[0m\u001b[0;34m\u001b[0m\u001b[0m\n\u001b[0m\u001b[1;32m   1441\u001b[0m     \u001b[0;32melse\u001b[0m\u001b[0;34m:\u001b[0m\u001b[0;34m\u001b[0m\u001b[0;34m\u001b[0m\u001b[0m\n\u001b[1;32m   1442\u001b[0m         \u001b[0mres\u001b[0m\u001b[0;34m.\u001b[0m\u001b[0mchunksize\u001b[0m \u001b[0;34m=\u001b[0m \u001b[0mchunksize\u001b[0m\u001b[0;34m\u001b[0m\u001b[0;34m\u001b[0m\u001b[0m\n",
            "\u001b[0;32m/usr/local/lib/python3.10/dist-packages/pyemma/coordinates/data/_base/transformer.py\u001b[0m in \u001b[0;36mestimate\u001b[0;34m(self, X, **kwargs)\u001b[0m\n\u001b[1;32m    213\u001b[0m     \u001b[0;34m\"\"\" Basis class for pipelined Transformers, which perform also estimation. \"\"\"\u001b[0m\u001b[0;34m\u001b[0m\u001b[0;34m\u001b[0m\u001b[0m\n\u001b[1;32m    214\u001b[0m     \u001b[0;32mdef\u001b[0m \u001b[0mestimate\u001b[0m\u001b[0;34m(\u001b[0m\u001b[0mself\u001b[0m\u001b[0;34m,\u001b[0m \u001b[0mX\u001b[0m\u001b[0;34m,\u001b[0m \u001b[0;34m**\u001b[0m\u001b[0mkwargs\u001b[0m\u001b[0;34m)\u001b[0m\u001b[0;34m:\u001b[0m\u001b[0;34m\u001b[0m\u001b[0;34m\u001b[0m\u001b[0m\n\u001b[0;32m--> 215\u001b[0;31m         \u001b[0msuper\u001b[0m\u001b[0;34m(\u001b[0m\u001b[0mStreamingEstimationTransformer\u001b[0m\u001b[0;34m,\u001b[0m \u001b[0mself\u001b[0m\u001b[0;34m)\u001b[0m\u001b[0;34m.\u001b[0m\u001b[0mestimate\u001b[0m\u001b[0;34m(\u001b[0m\u001b[0mX\u001b[0m\u001b[0;34m,\u001b[0m \u001b[0;34m**\u001b[0m\u001b[0mkwargs\u001b[0m\u001b[0;34m)\u001b[0m\u001b[0;34m\u001b[0m\u001b[0;34m\u001b[0m\u001b[0m\n\u001b[0m\u001b[1;32m    216\u001b[0m         \u001b[0;31m# we perform the mapping to memory exactly here, because a StreamingEstimator on its own\u001b[0m\u001b[0;34m\u001b[0m\u001b[0;34m\u001b[0m\u001b[0m\n\u001b[1;32m    217\u001b[0m         \u001b[0;31m# has not output to be mapped. Only the combination of Estimation/Transforming has this feature.\u001b[0m\u001b[0;34m\u001b[0m\u001b[0;34m\u001b[0m\u001b[0m\n",
            "\u001b[0;32m/usr/local/lib/python3.10/dist-packages/pyemma/coordinates/data/_base/streaming_estimator.py\u001b[0m in \u001b[0;36mestimate\u001b[0;34m(self, X, chunksize, **kwargs)\u001b[0m\n\u001b[1;32m     42\u001b[0m         \u001b[0;31m# run estimation\u001b[0m\u001b[0;34m\u001b[0m\u001b[0;34m\u001b[0m\u001b[0m\n\u001b[1;32m     43\u001b[0m         \u001b[0;32mtry\u001b[0m\u001b[0;34m:\u001b[0m\u001b[0;34m\u001b[0m\u001b[0;34m\u001b[0m\u001b[0m\n\u001b[0;32m---> 44\u001b[0;31m             \u001b[0msuper\u001b[0m\u001b[0;34m(\u001b[0m\u001b[0mStreamingEstimator\u001b[0m\u001b[0;34m,\u001b[0m \u001b[0mself\u001b[0m\u001b[0;34m)\u001b[0m\u001b[0;34m.\u001b[0m\u001b[0mestimate\u001b[0m\u001b[0;34m(\u001b[0m\u001b[0mX\u001b[0m\u001b[0;34m,\u001b[0m \u001b[0;34m**\u001b[0m\u001b[0mkwargs\u001b[0m\u001b[0;34m)\u001b[0m\u001b[0;34m\u001b[0m\u001b[0;34m\u001b[0m\u001b[0m\n\u001b[0m\u001b[1;32m     45\u001b[0m         \u001b[0;32mexcept\u001b[0m \u001b[0mNotConvergedWarning\u001b[0m \u001b[0;32mas\u001b[0m \u001b[0mncw\u001b[0m\u001b[0;34m:\u001b[0m\u001b[0;34m\u001b[0m\u001b[0;34m\u001b[0m\u001b[0m\n\u001b[1;32m     46\u001b[0m             self.logger.info(\n",
            "\u001b[0;32m/usr/local/lib/python3.10/dist-packages/pyemma/_base/estimator.py\u001b[0m in \u001b[0;36mestimate\u001b[0;34m(self, X, **params)\u001b[0m\n\u001b[1;32m    416\u001b[0m         \u001b[0;32mif\u001b[0m \u001b[0mparams\u001b[0m\u001b[0;34m:\u001b[0m\u001b[0;34m\u001b[0m\u001b[0;34m\u001b[0m\u001b[0m\n\u001b[1;32m    417\u001b[0m             \u001b[0mself\u001b[0m\u001b[0;34m.\u001b[0m\u001b[0mset_params\u001b[0m\u001b[0;34m(\u001b[0m\u001b[0;34m**\u001b[0m\u001b[0mparams\u001b[0m\u001b[0;34m)\u001b[0m\u001b[0;34m\u001b[0m\u001b[0;34m\u001b[0m\u001b[0m\n\u001b[0;32m--> 418\u001b[0;31m         \u001b[0mself\u001b[0m\u001b[0;34m.\u001b[0m\u001b[0m_model\u001b[0m \u001b[0;34m=\u001b[0m \u001b[0mself\u001b[0m\u001b[0;34m.\u001b[0m\u001b[0m_estimate\u001b[0m\u001b[0;34m(\u001b[0m\u001b[0mX\u001b[0m\u001b[0;34m)\u001b[0m\u001b[0;34m\u001b[0m\u001b[0;34m\u001b[0m\u001b[0m\n\u001b[0m\u001b[1;32m    419\u001b[0m         \u001b[0;31m# ensure _estimate returned something\u001b[0m\u001b[0;34m\u001b[0m\u001b[0;34m\u001b[0m\u001b[0m\n\u001b[1;32m    420\u001b[0m         \u001b[0;32massert\u001b[0m \u001b[0mself\u001b[0m\u001b[0;34m.\u001b[0m\u001b[0m_model\u001b[0m \u001b[0;32mis\u001b[0m \u001b[0;32mnot\u001b[0m \u001b[0;32mNone\u001b[0m\u001b[0;34m\u001b[0m\u001b[0;34m\u001b[0m\u001b[0m\n",
            "\u001b[0;32m/usr/local/lib/python3.10/dist-packages/pyemma/coordinates/transform/vamp.py\u001b[0m in \u001b[0;36m_estimate\u001b[0;34m(self, iterable, **kw)\u001b[0m\n\u001b[1;32m    607\u001b[0m \u001b[0;34m\u001b[0m\u001b[0m\n\u001b[1;32m    608\u001b[0m         \u001b[0;32mif\u001b[0m \u001b[0misinstance\u001b[0m\u001b[0;34m(\u001b[0m\u001b[0mself\u001b[0m\u001b[0;34m.\u001b[0m\u001b[0mdim\u001b[0m\u001b[0;34m,\u001b[0m \u001b[0mint\u001b[0m\u001b[0;34m)\u001b[0m \u001b[0;32mand\u001b[0m \u001b[0;32mnot\u001b[0m \u001b[0mself\u001b[0m\u001b[0;34m.\u001b[0m\u001b[0mdim\u001b[0m \u001b[0;34m<=\u001b[0m \u001b[0mindim\u001b[0m\u001b[0;34m:\u001b[0m\u001b[0;34m\u001b[0m\u001b[0;34m\u001b[0m\u001b[0m\n\u001b[0;32m--> 609\u001b[0;31m             raise RuntimeError(\"requested more output dimensions (%i) than dimension\"\n\u001b[0m\u001b[1;32m    610\u001b[0m                                \" of input data (%i)\" % (self.dim, indim))\n\u001b[1;32m    611\u001b[0m \u001b[0;34m\u001b[0m\u001b[0m\n",
            "\u001b[0;31mRuntimeError\u001b[0m: requested more output dimensions (2) than dimension of input data (1)"
          ]
        },
        {
          "output_type": "display_data",
          "data": {
            "text/plain": [
              "<Figure size 640x480 with 1 Axes>"
            ],
            "image/png": "[encoded data removed]"
          },
          "metadata": {}
        }
      ]
    },
    {
      "cell_type": "code",
      "source": [
        "pdb_1= mdshare.fetch('pentapeptide-impl-solv.pdb', working_directory='data')\n",
        "files_1 = mdshare.fetch('pentapeptide-*-500ns-impl-solv.xtc', working_directory='data')\n",
        "print(pdb_1)\n",
        "print(files_1)\n",
        "\n"
      ],
      "metadata": {
        "id": "SYDDqI9X1E2C",
        "outputId": "ec952acb-5b02-4fca-a0c0-c06b37737fbb",
        "colab": {
          "base_uri": "https://localhost:8080/"
        }
      },
      "execution_count": 30,
      "outputs": [
        {
          "output_type": "stream",
          "name": "stdout",
          "text": [
            "data/pentapeptide-impl-solv.pdb\n",
            "['data/pentapeptide-00-500ns-impl-solv.xtc', 'data/pentapeptide-01-500ns-impl-solv.xtc', 'data/pentapeptide-02-500ns-impl-solv.xtc', 'data/pentapeptide-03-500ns-impl-solv.xtc', 'data/pentapeptide-04-500ns-impl-solv.xtc', 'data/pentapeptide-05-500ns-impl-solv.xtc', 'data/pentapeptide-06-500ns-impl-solv.xtc', 'data/pentapeptide-07-500ns-impl-solv.xtc', 'data/pentapeptide-08-500ns-impl-solv.xtc', 'data/pentapeptide-09-500ns-impl-solv.xtc', 'data/pentapeptide-10-500ns-impl-solv.xtc', 'data/pentapeptide-11-500ns-impl-solv.xtc', 'data/pentapeptide-12-500ns-impl-solv.xtc', 'data/pentapeptide-13-500ns-impl-solv.xtc', 'data/pentapeptide-14-500ns-impl-solv.xtc', 'data/pentapeptide-15-500ns-impl-solv.xtc', 'data/pentapeptide-16-500ns-impl-solv.xtc', 'data/pentapeptide-17-500ns-impl-solv.xtc', 'data/pentapeptide-18-500ns-impl-solv.xtc', 'data/pentapeptide-19-500ns-impl-solv.xtc', 'data/pentapeptide-20-500ns-impl-solv.xtc', 'data/pentapeptide-21-500ns-impl-solv.xtc', 'data/pentapeptide-22-500ns-impl-solv.xtc', 'data/pentapeptide-23-500ns-impl-solv.xtc', 'data/pentapeptide-24-500ns-impl-solv.xtc']\n"
          ]
        }
      ]
    },
    {
      "cell_type": "code",
      "source": [
        "pyemma.plots.plot_feature_histograms(files, feature_labels=['$x$', '$y$']);"
      ],
      "metadata": {
        "id": "-GBRzMd_qyXl",
        "outputId": "776e7e7f-04c1-41ef-cd0c-f3a07ccef5e6",
        "colab": {
          "base_uri": "https://localhost:8080/",
          "height": 315
        }
      },
      "execution_count": 26,
      "outputs": [
        {
          "output_type": "error",
          "ename": "ValueError",
          "evalue": "Input data hast to be a numpy array. Did you concatenate your data?",
          "traceback": [
            "\u001b[0;31m---------------------------------------------------------------------------\u001b[0m",
            "\u001b[0;31mValueError\u001b[0m                                Traceback (most recent call last)",
            "\u001b[0;32m<ipython-input-26-6b45471290c3>\u001b[0m in \u001b[0;36m<cell line: 1>\u001b[0;34m()\u001b[0m\n\u001b[0;32m----> 1\u001b[0;31m \u001b[0mpyemma\u001b[0m\u001b[0;34m.\u001b[0m\u001b[0mplots\u001b[0m\u001b[0;34m.\u001b[0m\u001b[0mplot_feature_histograms\u001b[0m\u001b[0;34m(\u001b[0m\u001b[0mfiles\u001b[0m\u001b[0;34m,\u001b[0m \u001b[0mfeature_labels\u001b[0m\u001b[0;34m=\u001b[0m\u001b[0;34m[\u001b[0m\u001b[0;34m'$x$'\u001b[0m\u001b[0;34m,\u001b[0m \u001b[0;34m'$y$'\u001b[0m\u001b[0;34m]\u001b[0m\u001b[0;34m)\u001b[0m\u001b[0;34m;\u001b[0m\u001b[0;34m\u001b[0m\u001b[0;34m\u001b[0m\u001b[0m\n\u001b[0m",
            "\u001b[0;32m/usr/local/lib/python3.10/dist-packages/pyemma/plots/plots1d.py\u001b[0m in \u001b[0;36mplot_feature_histograms\u001b[0;34m(xyzall, feature_labels, ax, ylog, outfile, n_bins, ignore_dim_warning, **kwargs)\u001b[0m\n\u001b[1;32m     61\u001b[0m \u001b[0;34m\u001b[0m\u001b[0m\n\u001b[1;32m     62\u001b[0m     \u001b[0;32mif\u001b[0m \u001b[0;32mnot\u001b[0m \u001b[0misinstance\u001b[0m\u001b[0;34m(\u001b[0m\u001b[0mxyzall\u001b[0m\u001b[0;34m,\u001b[0m \u001b[0m_np\u001b[0m\u001b[0;34m.\u001b[0m\u001b[0mndarray\u001b[0m\u001b[0;34m)\u001b[0m\u001b[0;34m:\u001b[0m\u001b[0;34m\u001b[0m\u001b[0;34m\u001b[0m\u001b[0m\n\u001b[0;32m---> 63\u001b[0;31m         \u001b[0;32mraise\u001b[0m \u001b[0mValueError\u001b[0m\u001b[0;34m(\u001b[0m\u001b[0;34m'Input data hast to be a numpy array. Did you concatenate your data?'\u001b[0m\u001b[0;34m)\u001b[0m\u001b[0;34m\u001b[0m\u001b[0;34m\u001b[0m\u001b[0m\n\u001b[0m\u001b[1;32m     64\u001b[0m \u001b[0;34m\u001b[0m\u001b[0m\n\u001b[1;32m     65\u001b[0m     \u001b[0;32mif\u001b[0m \u001b[0mxyzall\u001b[0m\u001b[0;34m.\u001b[0m\u001b[0mshape\u001b[0m\u001b[0;34m[\u001b[0m\u001b[0;36m1\u001b[0m\u001b[0;34m]\u001b[0m \u001b[0;34m>\u001b[0m \u001b[0;36m50\u001b[0m \u001b[0;32mand\u001b[0m \u001b[0;32mnot\u001b[0m \u001b[0mignore_dim_warning\u001b[0m\u001b[0;34m:\u001b[0m\u001b[0;34m\u001b[0m\u001b[0;34m\u001b[0m\u001b[0m\n",
            "\u001b[0;31mValueError\u001b[0m: Input data hast to be a numpy array. Did you concatenate your data?"
          ]
        }
      ]
    },
    {
      "cell_type": "code",
      "source": [
        "warnings.resetwarnings()\n",
        "#widgets don't work on google colab"
      ],
      "metadata": {
        "id": "jRftxBG_0w03"
      },
      "execution_count": null,
      "outputs": []
    },
    {
      "cell_type": "code",
      "source": [
        "# Create an NGLview widget to display the PDB file - should tis display here? cuz it's not doing it\n",
        "view = nglview.show_file(pdb)\n",
        "#view.add_representation('cartoon')\n",
        "#view.center()\n",
        "#view\n",
        "\n",
        "view = nglview.NGLWidget()\n",
        "view.add_pdbid(pdb)\n",
        "view.add_representation('cartoon')\n",
        "view.center()\n",
        "view\n",
        "\n",
        "# 2nd cell\n",
        "view._js(\"console.log(this.model.views)\")"
      ],
      "metadata": {
        "id": "IdLmRDNY5_z5"
      },
      "execution_count": null,
      "outputs": []
    },
    {
      "cell_type": "code",
      "source": [
        "traj = mdtraj.load(pdb)\n",
        "\n",
        "# Create the widget\n",
        "widget = nglview.show_mdtraj(traj)\n",
        "widget.add_ball_and_stick()\n",
        "\n",
        "# Display the widget\n",
        "display(widget)\n",
        "\n",
        "# Define a function to stop spinning and close the widget\n",
        "def stop_spin():\n",
        "    widget.player.spin = False\n",
        "    widget.close()\n",
        "\n",
        "# Set a timer to stop spinning and close the widget after 30 seconds\n",
        "Timer(30, stop_spin).start()\n"
      ],
      "metadata": {
        "id": "FJ1fRF4_WgrC"
      },
      "execution_count": null,
      "outputs": []
    },
    {
      "cell_type": "code",
      "source": [
        "# # Parse the PDB file using BioPython's PDBParser\n",
        "# parser = PDBParser()\n",
        "# structure = parser.get_structure('my_structure', '/content/lb6-filtered.pdb')\n",
        "\n",
        "# # Prepare coordinates for PyEmma\n",
        "# coordinates = []\n",
        "# for model in structure:\n",
        "#     for chain in model:\n",
        "#         for residue in chain:\n",
        "#             for atom in residue:\n",
        "#                 coordinates.append(atom.get_coord())\n",
        "\n",
        "# # Convert coordinates to PyEmma's format (assuming 3D coordinates)\n",
        "# coordinates = [list(atom_coord) for atom_coord in coordinates]\n",
        "\n",
        "\n",
        "# # Perform PyEmma analysis (example: PCA)\n",
        "# #pca = pyemma.coordinates.pca(coordinates)\n"
      ],
      "metadata": {
        "id": "fLUY1Nz-UFGL"
      },
      "execution_count": null,
      "outputs": []
    },
    {
      "cell_type": "code",
      "source": [
        "# # Define the file path for saving the coordinates\n",
        "# txt_file = '/content/coordinates.txt'\n",
        "\n",
        "\n",
        "# # Write coordinates to a text file\n",
        "# with open(txt_file, 'w') as file:\n",
        "#     for coord in coordinates:\n",
        "#         file.write(','.join(map(str, coord)) + '\\n')\n"
      ],
      "metadata": {
        "id": "cqvPfn9rSN6Q"
      },
      "execution_count": null,
      "outputs": []
    },
    {
      "cell_type": "code",
      "source": [],
      "metadata": {
        "id": "8NP3ekd3jhBT"
      },
      "execution_count": null,
      "outputs": []
    }
  ]
}